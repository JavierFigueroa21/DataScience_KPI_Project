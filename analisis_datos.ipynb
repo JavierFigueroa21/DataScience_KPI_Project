{
    "cells": [
        {
            "cell_type": "markdown",
            "metadata": {
                "cell_id": "17252b536c194e60bc7d87d9979163a8",
                "deepnote_cell_type": "text-cell-h1",
                "formattedRanges": []
            },
            "source": [
                "# Definición del proyecto de datos"
            ]
        },
        {
            "cell_type": "markdown",
            "metadata": {
                "cell_id": "2a0e71bb74cd4026b45b049a3da0f84b",
                "deepnote_cell_type": "text-cell-p",
                "formattedRanges": []
            },
            "source": [
                "Todo este proyecto tiene su base en la obtención de ciertos insights a partir de 3 bases de datos, las cuales tiene como cobertura geográfica el estado de los ángeles de estados unidos, es decir, es un proyecto donde en particular se estudiara las relaciones entre las diferentes bases de datos donde la región a estudiar son los ángeles."
            ]
        },
        {
            "cell_type": "markdown",
            "metadata": {
                "cell_id": "c787190f938a4dddaac1621d280d7ce6",
                "deepnote_cell_type": "text-cell-bullet",
                "formattedRanges": []
            },
            "source": [
                "- Crimen"
            ]
        },
        {
            "cell_type": "markdown",
            "metadata": {
                "cell_id": "35b60fc7455f47d5bddc29c9f4889e5b",
                "deepnote_cell_type": "text-cell-bullet",
                "formattedRanges": []
            },
            "source": [
                "- Negocios"
            ]
        },
        {
            "cell_type": "markdown",
            "metadata": {
                "cell_id": "de59602052d04f66b15f5ee44e2d5923",
                "deepnote_cell_type": "text-cell-bullet",
                "formattedRanges": []
            },
            "source": [
                "- Vivienda"
            ]
        },
        {
            "cell_type": "markdown",
            "metadata": {
                "cell_id": "3576f90373164823ba52a7c4b84f91c0",
                "deepnote_cell_type": "text-cell-p",
                "formattedRanges": []
            },
            "source": [
                "El contexto, es simple, trabajamos para el gobierno como alcalde de la ciudad y por tanto, las decisiones que se tomen, deberán de ser tomadas con una perspectiva meramente política, por ello es que los objetivos de este análisis deben de centrarse en la obtención de accionables claros a partir de las relaciones e interacciones encontradas en las bases de datos."
            ]
        },
        {
            "cell_type": "markdown",
            "metadata": {
                "cell_id": "3dd59676562642b68742d3693a9fadc4",
                "deepnote_cell_type": "text-cell-p",
                "formattedRanges": []
            },
            "source": [
                "Los ángeles se dividen en 114 vecindarios, sobre los cuales se deberán de realizar el análisis, es decir, la investigación es a nivel de vecindarios. Por tanto, un punto relevante es evaluar la granularidad de la información en las bases de datos así como preguntas de la siguiente naturaleza"
            ]
        },
        {
            "cell_type": "markdown",
            "metadata": {
                "cell_id": "46c27ce2d7f544f3a4ab3d705df0b1f1",
                "deepnote_cell_type": "text-cell-p",
                "formattedRanges": []
            },
            "source": [
                "¿Qué vecindarios tienen una mayor tasa de muerte de negocios?, ¿se relaciona con la tasa de crimen?\n",
                "¿Qué vecindarios tienen la mayor tasa de crimen?, ¿necesitan mayor atención policial?\n",
                "¿Está esto afectando a los precios de las propiedades?  "
            ]
        },
        {
            "cell_type": "code",
            "execution_count": 1,
            "metadata": {
                "cell_id": "033b584453da418e80c51eaf9b282d92",
                "deepnote_cell_type": "code",
                "execution_context_id": "4504afec-f325-4981-940b-0fa5b2171a69",
                "execution_millis": 1393,
                "execution_start": 1744998429381,
                "source_hash": "980ea35a"
            },
            "outputs": [],
            "source": [
                "import pandas as pd \n",
                "import numpy as np\n",
                "\n",
                "import matplotlib.pyplot as plt\n",
                "import seaborn as sns\n",
                "\n",
                "import geopandas as gpd                # Manejo de datos geoespaciales :contentReference[oaicite:8]{index=8}\n",
                "from shapely.geometry import Point     # Construcción de geometrías puntuales :contentReference[oaicite:9]{index=9}\n",
                "\n",
                "import requests\n",
                "import io\n",
                "from http.client import IncompleteRead\n",
                "\n",
                "import statsmodels.api as sm"
            ]
        },
        {
            "cell_type": "code",
            "execution_count": 2,
            "metadata": {
                "cell_id": "fae12b6b73284805886b62d82726a6d4",
                "deepnote_cell_type": "code",
                "execution_context_id": "4504afec-f325-4981-940b-0fa5b2171a69",
                "execution_millis": 0,
                "execution_start": 1744998430821,
                "source_hash": "a3803a3e"
            },
            "outputs": [],
            "source": [
                "sns.set_style(\"darkgrid\")\n",
                "pd.options.display.float_format = \"{:,.2f}\".format"
            ]
        },
        {
            "cell_type": "code",
            "execution_count": 3,
            "metadata": {
                "cell_id": "8dd6744e1138470cab4ccaf207a00ddc",
                "deepnote_cell_type": "code",
                "execution_context_id": "4504afec-f325-4981-940b-0fa5b2171a69",
                "execution_millis": 1,
                "execution_start": 1744998430871,
                "source_hash": "19be3a8a"
            },
            "outputs": [],
            "source": [
                "# URLs de descarga\n",
                "crime_url    = \"https://data.lacity.org/api/views/2nrs-mtv8/rows.csv?accessType=DOWNLOAD\"      # Crimen 2020–Presente :contentReference[oaicite:10]{index=10}\n",
                "business_url = \"https://data.lacity.org/api/views/r4uk-afju/rows.csv?accessType=DOWNLOAD\"     # Listado de negocios :contentReference[oaicite:11]{index=11}\n",
                "zhvi_url     = \"~/work/Neighborhood_zhvi.csv\"\n",
                "zhvi_url     = \"./resources/Neighborhood_zhvi.csv\"# ZHVI mensual por vecindario :contentReference[oaicite:12]{index=12}\n",
                "areas_url    = \"https://geohub.lacity.org/datasets/691805703915458da4b35d8088f29501_0.geojson\" # Área por vecindario :contentReference[oaicite:13]{index=13}\n",
                "bounds_url   = \"https://geohub.lacity.org/datasets/d6c55385a0e749519f238b77135eafac_0.geojson\" # Límites de vecindario :contentReference[oaicite:14]{index=14}\n",
                "census_url   = \"https://data.lacity.org/api/views/nwj3-ufba/rows.csv?accessType=DOWNLOAD\"      # Censo 2010 por consejo :contentReference[oaicite:15]{index=15}\n"
            ]
        },
        {
            "cell_type": "code",
            "execution_count": 4,
            "metadata": {
                "cell_id": "d9273a2e02fe4c719bb96296c793d002",
                "deepnote_cell_type": "code",
                "execution_context_id": "c9616cb0-3936-43bb-afe1-51ac390bd7d3",
                "execution_millis": 5,
                "execution_start": 1744997052268,
                "source_hash": "cc0cccfc"
            },
            "outputs": [],
            "source": [
                "def fetch_csv_stream(url: str, timeout: int = 60) -> io.StringIO:\n",
                "    \"\"\"\n",
                "    Descarga un CSV por streaming.  \n",
                "    En caso de IncompleteRead, reutiliza los bytes parciales descargados.\n",
                "    \"\"\"\n",
                "    try:\n",
                "        resp = requests.get(url, stream=True, timeout=timeout)\n",
                "        resp.raise_for_status()\n",
                "        # Leer todo el texto (posible IncompleteRead aquí)\n",
                "        text = resp.text\n",
                "    except IncompleteRead as e:\n",
                "        # e.partial es un bytes con lo descargado antes de la excepción\n",
                "        print('Incompleto:', e.partial)\n",
                "        text = e.partial.decode('utf-8', errors='replace')\n",
                "    return io.StringIO(text)"
            ]
        },
        {
            "cell_type": "markdown",
            "metadata": {
                "cell_id": "081f210ccafb4a39b3d7f3c9157c0e19",
                "deepnote_cell_type": "text-cell-h1",
                "formattedRanges": []
            },
            "source": [
                "# Crimen"
            ]
        },
        {
            "cell_type": "markdown",
            "metadata": {
                "cell_id": "c06c328692824d38866219eca86d4c3f",
                "deepnote_cell_type": "text-cell-h2",
                "formattedRanges": []
            },
            "source": [
                "## Definición de requerimientos de datos"
            ]
        },
        {
            "cell_type": "markdown",
            "metadata": {
                "cell_id": "906972df9c01455b920da911419319e8",
                "deepnote_cell_type": "text-cell-p",
                "formattedRanges": []
            },
            "source": [
                "El primer paso para abordar el tratamiento de los datos que corresponden al crimen es comenzar por la definición de los requerimientos de datos. Este paso, se abordarán los temas relacionados con las fuentes, variables y objetivos de negocio para el análisis, estableciendo criterios de calidad y formatos esperados "
            ]
        },
        {
            "cell_type": "markdown",
            "metadata": {
                "cell_id": "cb9d540640f14fd38dddb540ea05d2d0",
                "deepnote_cell_type": "markdown"
            },
            "source": [
                "| Campo             | Descripción                                                                                                 |\n",
                "|-------------------|-------------------------------------------------------------------------------------------------------------|\n",
                "| **DR_NO**         | Número de expediente, formado por 2 dígitos de año + código de área + dígitos secuenciales                  |\n",
                "| **Date Rptd**     | Fecha en la que se reportó el incidente al LAPD (MM/DD/YYYY)                                                |\n",
                "| **DATE OCC**      | Fecha en que ocurrió el incidente (MM/DD/YYYY)                                                              |\n",
                "| **TIME OCC**      | Hora de ocurrencia, en formato militar (24 h)                                                               |\n",
                "| **AREA**          | Código de área (1–21) que identifica la estación comunitaria                                                |\n",
                "| **AREA NAME**     | Nombre de la estación (“77th Street”, “Central”, etc.)                                                      |\n",
                "| **Rpt Dist No**   | Número de distrito, subdivisión numérica dentro de cada área para análisis estadístico                       |\n",
                "| **Part 1‑2**      | Indica si el delito es UCR Part I (crímenes más graves) o Part II                                            |\n",
                "| **Crm Cd**        | Código de delito, código numérico principal asignado al incidente                                             |\n",
                "| **Crm Cd Desc**   | Descripción textual del delito (`Crm Cd`)                                                                    |\n",
                "| **MOCodes**       | Modus operandi: lista de códigos que describen comportamientos del sospechoso                                 |\n",
                "| **Vict Age**      | Edad de la víctima, en años                                                                                  |\n",
                "| **Vict Sex**      | Sexo de la víctima: M=Masculino, F=Femenino, X=Desconocido                                                   |\n",
                "| **Vict Descent**  | Ascendencia/etnicidad de la víctima (H=Hispano, B=Negro, W=Blanco, A=Asiático, etc.)                         |\n",
                "| **Premis Cd**     | Código de la ubicación (tipo de inmueble, vehículo o lugar)                                                  |\n",
                "| **Premise Desc**  | Descripción de la ubicación (`Premis Cd`)                                                                    |\n",
                "| **Weapon Used Cd**| Código del arma o instrumento utilizado                                                                       |\n",
                "| **Weapon Desc**   | Descripción del arma (`Weapon Used Cd`)                                                                      |\n",
                "| **Status**        | Estado del caso (p. ej. IC=In Commission, CA=Cleared by Arrest, etc.)                                         |\n",
                "| **Status Desc**   | Descripción del código de estado (`Status`)                                                                  |\n",
                "| **Crm Cd 1**      | Delito principal (más grave) del incidente                                                                   |\n",
                "| **Crm Cd 2**      | Delito secundario 1 (si aplica)                                                                              |\n",
                "| **Crm Cd 3**      | Delito secundario 2 (si aplica)                                                                              |\n",
                "| **Crm Cd 4**      | Delito secundario 3 (si aplica)                                                                              |\n",
                "| **LOCATION**      | Ubicación aproximada (número de manzana redondeado al centenar más cercano)                                  |\n",
                "| **Cross Street**  | Calle transversal más cercana al punto de `LOCATION`                                                         |\n",
                "| **LAT**           | Latitud en coordenadas geográficas (WGS 84) del punto del incidente                                           |\n",
                "| **LON**           | Longitud en coordenadas geográficas (WGS 84) del punto del incidente                                          |\n"
            ]
        },
        {
            "cell_type": "code",
            "execution_count": 5,
            "metadata": {
                "cell_id": "7d0ef8c159f5482d94dcabae944d73b3",
                "deepnote_cell_type": "code",
                "execution_context_id": "c9616cb0-3936-43bb-afe1-51ac390bd7d3",
                "execution_millis": 52271,
                "execution_start": 1744997052330,
                "source_hash": "704d75f3"
            },
            "outputs": [],
            "source": [
                "crime_buffer = fetch_csv_stream(crime_url)\n",
                "\n",
                "raw_df = pd.read_csv(crime_buffer, low_memory=False) \n",
                "\n",
                "del crime_buffer"
            ]
        },
        {
            "cell_type": "code",
            "execution_count": 6,
            "metadata": {
                "cell_id": "9ab6e4ff2cf0452eaf55a38ca7cf44e0",
                "deepnote_cell_type": "code",
                "execution_context_id": "c9616cb0-3936-43bb-afe1-51ac390bd7d3",
                "execution_millis": 1,
                "execution_start": 1744997104650,
                "source_hash": "7185e462"
            },
            "outputs": [
                {
                    "name": "stdout",
                    "output_type": "stream",
                    "text": [
                        "['DR_NO', 'Date Rptd', 'DATE OCC', 'TIME OCC', 'AREA', 'AREA NAME', 'Rpt Dist No', 'Part 1-2', 'Crm Cd', 'Crm Cd Desc', 'Mocodes', 'Vict Age', 'Vict Sex', 'Vict Descent', 'Premis Cd', 'Premis Desc', 'Weapon Used Cd', 'Weapon Desc', 'Status', 'Status Desc', 'Crm Cd 1', 'Crm Cd 2', 'Crm Cd 3', 'Crm Cd 4', 'LOCATION', 'Cross Street', 'LAT', 'LON']\n"
                    ]
                }
            ],
            "source": [
                "raw_df.columns = raw_df.columns.str.strip()\n",
                "\n",
                "# Mostrar las primeras columnas para verificar nombres exactos\n",
                "print(raw_df.columns.tolist())"
            ]
        },
        {
            "cell_type": "code",
            "execution_count": 7,
            "metadata": {
                "cell_id": "2d082d88dfe84a59b45766e19cfd00b3",
                "deepnote_cell_type": "code",
                "execution_context_id": "c9616cb0-3936-43bb-afe1-51ac390bd7d3",
                "execution_millis": 758,
                "execution_start": 1744997104717,
                "source_hash": "ace2ab84"
            },
            "outputs": [
                {
                    "name": "stdout",
                    "output_type": "stream",
                    "text": [
                        "<class 'pandas.core.frame.DataFrame'>\n",
                        "RangeIndex: 1005199 entries, 0 to 1005198\n",
                        "Data columns (total 28 columns):\n",
                        " #   Column          Non-Null Count    Dtype  \n",
                        "---  ------          --------------    -----  \n",
                        " 0   DR_NO           1005199 non-null  int64  \n",
                        " 1   Date Rptd       1005199 non-null  object \n",
                        " 2   DATE OCC        1005199 non-null  object \n",
                        " 3   TIME OCC        1005199 non-null  int64  \n",
                        " 4   AREA            1005199 non-null  int64  \n",
                        " 5   AREA NAME       1005199 non-null  object \n",
                        " 6   Rpt Dist No     1005199 non-null  int64  \n",
                        " 7   Part 1-2        1005199 non-null  int64  \n",
                        " 8   Crm Cd          1005199 non-null  int64  \n",
                        " 9   Crm Cd Desc     1005199 non-null  object \n",
                        " 10  Mocodes         853440 non-null   object \n",
                        " 11  Vict Age        1005199 non-null  int64  \n",
                        " 12  Vict Sex        860418 non-null   object \n",
                        " 13  Vict Descent    860406 non-null   object \n",
                        " 14  Premis Cd       1005183 non-null  float64\n",
                        " 15  Premis Desc     1004611 non-null  object \n",
                        " 16  Weapon Used Cd  327282 non-null   float64\n",
                        " 17  Weapon Desc     327282 non-null   object \n",
                        " 18  Status          1005198 non-null  object \n",
                        " 19  Status Desc     1005199 non-null  object \n",
                        " 20  Crm Cd 1        1005188 non-null  float64\n",
                        " 21  Crm Cd 2        69159 non-null    float64\n",
                        " 22  Crm Cd 3        2314 non-null     float64\n",
                        " 23  Crm Cd 4        64 non-null       float64\n",
                        " 24  LOCATION        1005199 non-null  object \n",
                        " 25  Cross Street    154244 non-null   object \n",
                        " 26  LAT             1005199 non-null  float64\n",
                        " 27  LON             1005199 non-null  float64\n",
                        "dtypes: float64(8), int64(7), object(13)\n",
                        "memory usage: 214.7+ MB\n"
                    ]
                }
            ],
            "source": [
                "raw_df.info()"
            ]
        },
        {
            "cell_type": "code",
            "execution_count": 8,
            "metadata": {
                "cell_id": "34aeabcd52d547ecb56b2ccdfc80059b",
                "deepnote_cell_type": "code",
                "execution_context_id": "c9616cb0-3936-43bb-afe1-51ac390bd7d3",
                "execution_millis": 10,
                "execution_start": 1744997105529,
                "source_hash": "fa365dac"
            },
            "outputs": [
                {
                    "data": {
                        "application/vnd.deepnote.dataframe.v3+json": {
                            "column_count": 28,
                            "columns": [
                                {
                                    "dtype": "int64",
                                    "name": "DR_NO",
                                    "stats": {
                                        "histogram": [
                                            {
                                                "bin_end": 191325853.3,
                                                "bin_start": 190326475,
                                                "count": 1
                                            },
                                            {
                                                "bin_end": 192325231.6,
                                                "bin_start": 191325853.3,
                                                "count": 0
                                            },
                                            {
                                                "bin_end": 193324609.9,
                                                "bin_start": 192325231.6,
                                                "count": 0
                                            },
                                            {
                                                "bin_end": 194323988.2,
                                                "bin_start": 193324609.9,
                                                "count": 0
                                            },
                                            {
                                                "bin_end": 195323366.5,
                                                "bin_start": 194323988.2,
                                                "count": 0
                                            },
                                            {
                                                "bin_end": 196322744.8,
                                                "bin_start": 195323366.5,
                                                "count": 0
                                            },
                                            {
                                                "bin_end": 197322123.1,
                                                "bin_start": 196322744.8,
                                                "count": 0
                                            },
                                            {
                                                "bin_end": 198321501.4,
                                                "bin_start": 197322123.1,
                                                "count": 0
                                            },
                                            {
                                                "bin_end": 199320879.7,
                                                "bin_start": 198321501.4,
                                                "count": 0
                                            },
                                            {
                                                "bin_end": 200320258,
                                                "bin_start": 199320879.7,
                                                "count": 2
                                            }
                                        ],
                                        "max": "200320258",
                                        "min": "190326475",
                                        "nan_count": 0,
                                        "unique_count": 3
                                    }
                                },
                                {
                                    "dtype": "object",
                                    "name": "Date Rptd",
                                    "stats": {
                                        "categories": [
                                            {
                                                "count": 1,
                                                "name": "03/01/2020 12:00:00 AM"
                                            },
                                            {
                                                "count": 1,
                                                "name": "02/09/2020 12:00:00 AM"
                                            },
                                            {
                                                "count": 1,
                                                "name": "11/11/2020 12:00:00 AM"
                                            }
                                        ],
                                        "nan_count": 0,
                                        "unique_count": 3
                                    }
                                },
                                {
                                    "dtype": "object",
                                    "name": "DATE OCC",
                                    "stats": {
                                        "categories": [
                                            {
                                                "count": 1,
                                                "name": "03/01/2020 12:00:00 AM"
                                            },
                                            {
                                                "count": 1,
                                                "name": "02/08/2020 12:00:00 AM"
                                            },
                                            {
                                                "count": 1,
                                                "name": "11/04/2020 12:00:00 AM"
                                            }
                                        ],
                                        "nan_count": 0,
                                        "unique_count": 3
                                    }
                                },
                                {
                                    "dtype": "int64",
                                    "name": "TIME OCC",
                                    "stats": {
                                        "histogram": [
                                            {
                                                "bin_end": 1743,
                                                "bin_start": 1700,
                                                "count": 1
                                            },
                                            {
                                                "bin_end": 1786,
                                                "bin_start": 1743,
                                                "count": 0
                                            },
                                            {
                                                "bin_end": 1829,
                                                "bin_start": 1786,
                                                "count": 1
                                            },
                                            {
                                                "bin_end": 1872,
                                                "bin_start": 1829,
                                                "count": 0
                                            },
                                            {
                                                "bin_end": 1915,
                                                "bin_start": 1872,
                                                "count": 0
                                            },
                                            {
                                                "bin_end": 1958,
                                                "bin_start": 1915,
                                                "count": 0
                                            },
                                            {
                                                "bin_end": 2001,
                                                "bin_start": 1958,
                                                "count": 0
                                            },
                                            {
                                                "bin_end": 2044,
                                                "bin_start": 2001,
                                                "count": 0
                                            },
                                            {
                                                "bin_end": 2087,
                                                "bin_start": 2044,
                                                "count": 0
                                            },
                                            {
                                                "bin_end": 2130,
                                                "bin_start": 2087,
                                                "count": 1
                                            }
                                        ],
                                        "max": "2130",
                                        "min": "1700",
                                        "nan_count": 0,
                                        "unique_count": 3
                                    }
                                },
                                {
                                    "dtype": "int64",
                                    "name": "AREA",
                                    "stats": {
                                        "histogram": [
                                            {
                                                "bin_end": 1.6,
                                                "bin_start": 1,
                                                "count": 1
                                            },
                                            {
                                                "bin_end": 2.2,
                                                "bin_start": 1.6,
                                                "count": 0
                                            },
                                            {
                                                "bin_end": 2.8,
                                                "bin_start": 2.2,
                                                "count": 0
                                            },
                                            {
                                                "bin_end": 3.4,
                                                "bin_start": 2.8,
                                                "count": 1
                                            },
                                            {
                                                "bin_end": 4,
                                                "bin_start": 3.4,
                                                "count": 0
                                            },
                                            {
                                                "bin_end": 4.6,
                                                "bin_start": 4,
                                                "count": 0
                                            },
                                            {
                                                "bin_end": 5.2,
                                                "bin_start": 4.6,
                                                "count": 0
                                            },
                                            {
                                                "bin_end": 5.8,
                                                "bin_start": 5.2,
                                                "count": 0
                                            },
                                            {
                                                "bin_end": 6.3999999999999995,
                                                "bin_start": 5.8,
                                                "count": 0
                                            },
                                            {
                                                "bin_end": 7,
                                                "bin_start": 6.3999999999999995,
                                                "count": 1
                                            }
                                        ],
                                        "max": "7",
                                        "min": "1",
                                        "nan_count": 0,
                                        "unique_count": 3
                                    }
                                },
                                {
                                    "dtype": "object",
                                    "name": "AREA NAME",
                                    "stats": {
                                        "categories": [
                                            {
                                                "count": 1,
                                                "name": "Wilshire"
                                            },
                                            {
                                                "count": 1,
                                                "name": "Central"
                                            },
                                            {
                                                "count": 1,
                                                "name": "Southwest"
                                            }
                                        ],
                                        "nan_count": 0,
                                        "unique_count": 3
                                    }
                                },
                                {
                                    "dtype": "int64",
                                    "name": "Rpt Dist No",
                                    "stats": {
                                        "histogram": [
                                            {
                                                "bin_end": 242.2,
                                                "bin_start": 182,
                                                "count": 1
                                            },
                                            {
                                                "bin_end": 302.4,
                                                "bin_start": 242.2,
                                                "count": 0
                                            },
                                            {
                                                "bin_end": 362.6,
                                                "bin_start": 302.4,
                                                "count": 1
                                            },
                                            {
                                                "bin_end": 422.8,
                                                "bin_start": 362.6,
                                                "count": 0
                                            },
                                            {
                                                "bin_end": 483,
                                                "bin_start": 422.8,
                                                "count": 0
                                            },
                                            {
                                                "bin_end": 543.2,
                                                "bin_start": 483,
                                                "count": 0
                                            },
                                            {
                                                "bin_end": 603.4000000000001,
                                                "bin_start": 543.2,
                                                "count": 0
                                            },
                                            {
                                                "bin_end": 663.6,
                                                "bin_start": 603.4000000000001,
                                                "count": 0
                                            },
                                            {
                                                "bin_end": 723.8000000000001,
                                                "bin_start": 663.6,
                                                "count": 0
                                            },
                                            {
                                                "bin_end": 784,
                                                "bin_start": 723.8000000000001,
                                                "count": 1
                                            }
                                        ],
                                        "max": "784",
                                        "min": "182",
                                        "nan_count": 0,
                                        "unique_count": 3
                                    }
                                },
                                {
                                    "dtype": "int64",
                                    "name": "Part 1-2",
                                    "stats": {
                                        "histogram": [
                                            {
                                                "bin_end": 0.6,
                                                "bin_start": 0.5,
                                                "count": 0
                                            },
                                            {
                                                "bin_end": 0.7,
                                                "bin_start": 0.6,
                                                "count": 0
                                            },
                                            {
                                                "bin_end": 0.8,
                                                "bin_start": 0.7,
                                                "count": 0
                                            },
                                            {
                                                "bin_end": 0.9,
                                                "bin_start": 0.8,
                                                "count": 0
                                            },
                                            {
                                                "bin_end": 1,
                                                "bin_start": 0.9,
                                                "count": 0
                                            },
                                            {
                                                "bin_end": 1.1,
                                                "bin_start": 1,
                                                "count": 3
                                            },
                                            {
                                                "bin_end": 1.2000000000000002,
                                                "bin_start": 1.1,
                                                "count": 0
                                            },
                                            {
                                                "bin_end": 1.3,
                                                "bin_start": 1.2000000000000002,
                                                "count": 0
                                            },
                                            {
                                                "bin_end": 1.4,
                                                "bin_start": 1.3,
                                                "count": 0
                                            },
                                            {
                                                "bin_end": 1.5,
                                                "bin_start": 1.4,
                                                "count": 0
                                            }
                                        ],
                                        "max": "1",
                                        "min": "1",
                                        "nan_count": 0,
                                        "unique_count": 1
                                    }
                                },
                                {
                                    "dtype": "int64",
                                    "name": "Crm Cd",
                                    "stats": {
                                        "histogram": [
                                            {
                                                "bin_end": 348,
                                                "bin_start": 330,
                                                "count": 1
                                            },
                                            {
                                                "bin_end": 366,
                                                "bin_start": 348,
                                                "count": 0
                                            },
                                            {
                                                "bin_end": 384,
                                                "bin_start": 366,
                                                "count": 0
                                            },
                                            {
                                                "bin_end": 402,
                                                "bin_start": 384,
                                                "count": 0
                                            },
                                            {
                                                "bin_end": 420,
                                                "bin_start": 402,
                                                "count": 0
                                            },
                                            {
                                                "bin_end": 438,
                                                "bin_start": 420,
                                                "count": 0
                                            },
                                            {
                                                "bin_end": 456,
                                                "bin_start": 438,
                                                "count": 0
                                            },
                                            {
                                                "bin_end": 474,
                                                "bin_start": 456,
                                                "count": 0
                                            },
                                            {
                                                "bin_end": 492,
                                                "bin_start": 474,
                                                "count": 1
                                            },
                                            {
                                                "bin_end": 510,
                                                "bin_start": 492,
                                                "count": 1
                                            }
                                        ],
                                        "max": "510",
                                        "min": "330",
                                        "nan_count": 0,
                                        "unique_count": 3
                                    }
                                },
                                {
                                    "dtype": "object",
                                    "name": "Crm Cd Desc",
                                    "stats": {
                                        "categories": [
                                            {
                                                "count": 1,
                                                "name": "VEHICLE - STOLEN"
                                            },
                                            {
                                                "count": 1,
                                                "name": "BURGLARY FROM VEHICLE"
                                            },
                                            {
                                                "count": 1,
                                                "name": "BIKE - STOLEN"
                                            }
                                        ],
                                        "nan_count": 0,
                                        "unique_count": 3
                                    }
                                },
                                {
                                    "dtype": "object",
                                    "name": "Mocodes",
                                    "stats": {
                                        "categories": [
                                            {
                                                "count": 1,
                                                "name": "1822 1402 0344"
                                            },
                                            {
                                                "count": 1,
                                                "name": "0344 1251"
                                            },
                                            {
                                                "count": 1,
                                                "name": "Missing"
                                            }
                                        ],
                                        "nan_count": 1,
                                        "unique_count": 2
                                    }
                                },
                                {
                                    "dtype": "int64",
                                    "name": "Vict Age",
                                    "stats": {
                                        "histogram": [
                                            {
                                                "bin_end": 4.7,
                                                "bin_start": 0,
                                                "count": 1
                                            },
                                            {
                                                "bin_end": 9.4,
                                                "bin_start": 4.7,
                                                "count": 0
                                            },
                                            {
                                                "bin_end": 14.100000000000001,
                                                "bin_start": 9.4,
                                                "count": 0
                                            },
                                            {
                                                "bin_end": 18.8,
                                                "bin_start": 14.100000000000001,
                                                "count": 0
                                            },
                                            {
                                                "bin_end": 23.5,
                                                "bin_start": 18.8,
                                                "count": 1
                                            },
                                            {
                                                "bin_end": 28.200000000000003,
                                                "bin_start": 23.5,
                                                "count": 0
                                            },
                                            {
                                                "bin_end": 32.9,
                                                "bin_start": 28.200000000000003,
                                                "count": 0
                                            },
                                            {
                                                "bin_end": 37.6,
                                                "bin_start": 32.9,
                                                "count": 0
                                            },
                                            {
                                                "bin_end": 42.300000000000004,
                                                "bin_start": 37.6,
                                                "count": 0
                                            },
                                            {
                                                "bin_end": 47,
                                                "bin_start": 42.300000000000004,
                                                "count": 1
                                            }
                                        ],
                                        "max": "47",
                                        "min": "0",
                                        "nan_count": 0,
                                        "unique_count": 3
                                    }
                                },
                                {
                                    "dtype": "object",
                                    "name": "Vict Sex",
                                    "stats": {
                                        "categories": [
                                            {
                                                "count": 2,
                                                "name": "M"
                                            },
                                            {
                                                "count": 1,
                                                "name": "X"
                                            }
                                        ],
                                        "nan_count": 0,
                                        "unique_count": 2
                                    }
                                },
                                {
                                    "dtype": "object",
                                    "name": "Vict Descent",
                                    "stats": {
                                        "categories": [
                                            {
                                                "count": 2,
                                                "name": "O"
                                            },
                                            {
                                                "count": 1,
                                                "name": "X"
                                            }
                                        ],
                                        "nan_count": 0,
                                        "unique_count": 2
                                    }
                                },
                                {
                                    "dtype": "float64",
                                    "name": "Premis Cd",
                                    "stats": {
                                        "histogram": [
                                            {
                                                "bin_end": 141.1,
                                                "bin_start": 101,
                                                "count": 2
                                            },
                                            {
                                                "bin_end": 181.2,
                                                "bin_start": 141.1,
                                                "count": 0
                                            },
                                            {
                                                "bin_end": 221.3,
                                                "bin_start": 181.2,
                                                "count": 0
                                            },
                                            {
                                                "bin_end": 261.4,
                                                "bin_start": 221.3,
                                                "count": 0
                                            },
                                            {
                                                "bin_end": 301.5,
                                                "bin_start": 261.4,
                                                "count": 0
                                            },
                                            {
                                                "bin_end": 341.6,
                                                "bin_start": 301.5,
                                                "count": 0
                                            },
                                            {
                                                "bin_end": 381.7,
                                                "bin_start": 341.6,
                                                "count": 0
                                            },
                                            {
                                                "bin_end": 421.8,
                                                "bin_start": 381.7,
                                                "count": 0
                                            },
                                            {
                                                "bin_end": 461.90000000000003,
                                                "bin_start": 421.8,
                                                "count": 0
                                            },
                                            {
                                                "bin_end": 502,
                                                "bin_start": 461.90000000000003,
                                                "count": 1
                                            }
                                        ],
                                        "max": "502.0",
                                        "min": "101.0",
                                        "nan_count": 0,
                                        "unique_count": 3
                                    }
                                },
                                {
                                    "dtype": "object",
                                    "name": "Premis Desc",
                                    "stats": {
                                        "categories": [
                                            {
                                                "count": 1,
                                                "name": "STREET"
                                            },
                                            {
                                                "count": 1,
                                                "name": "BUS STOP/LAYOVER (ALSO QUERY 124)"
                                            },
                                            {
                                                "count": 1,
                                                "name": "MULTI-UNIT DWELLING (APARTMENT, DUPLEX, ETC)"
                                            }
                                        ],
                                        "nan_count": 0,
                                        "unique_count": 3
                                    }
                                },
                                {
                                    "dtype": "float64",
                                    "name": "Weapon Used Cd",
                                    "stats": {
                                        "histogram": [
                                            {
                                                "bin_end": 0.1,
                                                "bin_start": 0,
                                                "count": 0
                                            },
                                            {
                                                "bin_end": 0.2,
                                                "bin_start": 0.1,
                                                "count": 0
                                            },
                                            {
                                                "bin_end": 0.30000000000000004,
                                                "bin_start": 0.2,
                                                "count": 0
                                            },
                                            {
                                                "bin_end": 0.4,
                                                "bin_start": 0.30000000000000004,
                                                "count": 0
                                            },
                                            {
                                                "bin_end": 0.5,
                                                "bin_start": 0.4,
                                                "count": 0
                                            },
                                            {
                                                "bin_end": 0.6000000000000001,
                                                "bin_start": 0.5,
                                                "count": 0
                                            },
                                            {
                                                "bin_end": 0.7000000000000001,
                                                "bin_start": 0.6000000000000001,
                                                "count": 0
                                            },
                                            {
                                                "bin_end": 0.8,
                                                "bin_start": 0.7000000000000001,
                                                "count": 0
                                            },
                                            {
                                                "bin_end": 0.9,
                                                "bin_start": 0.8,
                                                "count": 0
                                            },
                                            {
                                                "bin_end": 1,
                                                "bin_start": 0.9,
                                                "count": 0
                                            }
                                        ],
                                        "max": null,
                                        "min": null,
                                        "nan_count": 3,
                                        "unique_count": 0
                                    }
                                },
                                {
                                    "dtype": "object",
                                    "name": "Weapon Desc",
                                    "stats": {
                                        "categories": [
                                            {
                                                "count": 3,
                                                "name": "Missing"
                                            }
                                        ],
                                        "nan_count": 3,
                                        "unique_count": 0
                                    }
                                },
                                {
                                    "dtype": "object",
                                    "name": "Status",
                                    "stats": {
                                        "categories": [
                                            {
                                                "count": 2,
                                                "name": "IC"
                                            },
                                            {
                                                "count": 1,
                                                "name": "AA"
                                            }
                                        ],
                                        "nan_count": 0,
                                        "unique_count": 2
                                    }
                                },
                                {
                                    "dtype": "object",
                                    "name": "Status Desc",
                                    "stats": {
                                        "categories": [
                                            {
                                                "count": 2,
                                                "name": "Invest Cont"
                                            },
                                            {
                                                "count": 1,
                                                "name": "Adult Arrest"
                                            }
                                        ],
                                        "nan_count": 0,
                                        "unique_count": 2
                                    }
                                },
                                {
                                    "dtype": "float64",
                                    "name": "Crm Cd 1",
                                    "stats": {
                                        "histogram": [
                                            {
                                                "bin_end": 348,
                                                "bin_start": 330,
                                                "count": 1
                                            },
                                            {
                                                "bin_end": 366,
                                                "bin_start": 348,
                                                "count": 0
                                            },
                                            {
                                                "bin_end": 384,
                                                "bin_start": 366,
                                                "count": 0
                                            },
                                            {
                                                "bin_end": 402,
                                                "bin_start": 384,
                                                "count": 0
                                            },
                                            {
                                                "bin_end": 420,
                                                "bin_start": 402,
                                                "count": 0
                                            },
                                            {
                                                "bin_end": 438,
                                                "bin_start": 420,
                                                "count": 0
                                            },
                                            {
                                                "bin_end": 456,
                                                "bin_start": 438,
                                                "count": 0
                                            },
                                            {
                                                "bin_end": 474,
                                                "bin_start": 456,
                                                "count": 0
                                            },
                                            {
                                                "bin_end": 492,
                                                "bin_start": 474,
                                                "count": 1
                                            },
                                            {
                                                "bin_end": 510,
                                                "bin_start": 492,
                                                "count": 1
                                            }
                                        ],
                                        "max": "510.0",
                                        "min": "330.0",
                                        "nan_count": 0,
                                        "unique_count": 3
                                    }
                                },
                                {
                                    "dtype": "float64",
                                    "name": "Crm Cd 2",
                                    "stats": {
                                        "histogram": [
                                            {
                                                "bin_end": 997.6,
                                                "bin_start": 997.5,
                                                "count": 0
                                            },
                                            {
                                                "bin_end": 997.7,
                                                "bin_start": 997.6,
                                                "count": 0
                                            },
                                            {
                                                "bin_end": 997.8,
                                                "bin_start": 997.7,
                                                "count": 0
                                            },
                                            {
                                                "bin_end": 997.9,
                                                "bin_start": 997.8,
                                                "count": 0
                                            },
                                            {
                                                "bin_end": 998,
                                                "bin_start": 997.9,
                                                "count": 0
                                            },
                                            {
                                                "bin_end": 998.1,
                                                "bin_start": 998,
                                                "count": 2
                                            },
                                            {
                                                "bin_end": 998.2,
                                                "bin_start": 998.1,
                                                "count": 0
                                            },
                                            {
                                                "bin_end": 998.3,
                                                "bin_start": 998.2,
                                                "count": 0
                                            },
                                            {
                                                "bin_end": 998.4,
                                                "bin_start": 998.3,
                                                "count": 0
                                            },
                                            {
                                                "bin_end": 998.5,
                                                "bin_start": 998.4,
                                                "count": 0
                                            }
                                        ],
                                        "max": "998.0",
                                        "min": "998.0",
                                        "nan_count": 1,
                                        "unique_count": 1
                                    }
                                },
                                {
                                    "dtype": "float64",
                                    "name": "Crm Cd 3",
                                    "stats": {
                                        "histogram": [
                                            {
                                                "bin_end": 0.1,
                                                "bin_start": 0,
                                                "count": 0
                                            },
                                            {
                                                "bin_end": 0.2,
                                                "bin_start": 0.1,
                                                "count": 0
                                            },
                                            {
                                                "bin_end": 0.30000000000000004,
                                                "bin_start": 0.2,
                                                "count": 0
                                            },
                                            {
                                                "bin_end": 0.4,
                                                "bin_start": 0.30000000000000004,
                                                "count": 0
                                            },
                                            {
                                                "bin_end": 0.5,
                                                "bin_start": 0.4,
                                                "count": 0
                                            },
                                            {
                                                "bin_end": 0.6000000000000001,
                                                "bin_start": 0.5,
                                                "count": 0
                                            },
                                            {
                                                "bin_end": 0.7000000000000001,
                                                "bin_start": 0.6000000000000001,
                                                "count": 0
                                            },
                                            {
                                                "bin_end": 0.8,
                                                "bin_start": 0.7000000000000001,
                                                "count": 0
                                            },
                                            {
                                                "bin_end": 0.9,
                                                "bin_start": 0.8,
                                                "count": 0
                                            },
                                            {
                                                "bin_end": 1,
                                                "bin_start": 0.9,
                                                "count": 0
                                            }
                                        ],
                                        "max": null,
                                        "min": null,
                                        "nan_count": 3,
                                        "unique_count": 0
                                    }
                                },
                                {
                                    "dtype": "float64",
                                    "name": "Crm Cd 4",
                                    "stats": {
                                        "histogram": [
                                            {
                                                "bin_end": 0.1,
                                                "bin_start": 0,
                                                "count": 0
                                            },
                                            {
                                                "bin_end": 0.2,
                                                "bin_start": 0.1,
                                                "count": 0
                                            },
                                            {
                                                "bin_end": 0.30000000000000004,
                                                "bin_start": 0.2,
                                                "count": 0
                                            },
                                            {
                                                "bin_end": 0.4,
                                                "bin_start": 0.30000000000000004,
                                                "count": 0
                                            },
                                            {
                                                "bin_end": 0.5,
                                                "bin_start": 0.4,
                                                "count": 0
                                            },
                                            {
                                                "bin_end": 0.6000000000000001,
                                                "bin_start": 0.5,
                                                "count": 0
                                            },
                                            {
                                                "bin_end": 0.7000000000000001,
                                                "bin_start": 0.6000000000000001,
                                                "count": 0
                                            },
                                            {
                                                "bin_end": 0.8,
                                                "bin_start": 0.7000000000000001,
                                                "count": 0
                                            },
                                            {
                                                "bin_end": 0.9,
                                                "bin_start": 0.8,
                                                "count": 0
                                            },
                                            {
                                                "bin_end": 1,
                                                "bin_start": 0.9,
                                                "count": 0
                                            }
                                        ],
                                        "max": null,
                                        "min": null,
                                        "nan_count": 3,
                                        "unique_count": 0
                                    }
                                },
                                {
                                    "dtype": "object",
                                    "name": "LOCATION",
                                    "stats": {
                                        "categories": [
                                            {
                                                "count": 1,
                                                "name": "1900 S  LONGWOOD                     AV"
                                            },
                                            {
                                                "count": 1,
                                                "name": "1000 S  FLOWER                       ST"
                                            },
                                            {
                                                "count": 1,
                                                "name": "1400 W  37TH                         ST"
                                            }
                                        ],
                                        "nan_count": 0,
                                        "unique_count": 3
                                    }
                                },
                                {
                                    "dtype": "object",
                                    "name": "Cross Street",
                                    "stats": {
                                        "categories": [
                                            {
                                                "count": 3,
                                                "name": "Missing"
                                            }
                                        ],
                                        "nan_count": 3,
                                        "unique_count": 0
                                    }
                                },
                                {
                                    "dtype": "float64",
                                    "name": "LAT",
                                    "stats": {
                                        "histogram": [
                                            {
                                                "bin_end": 34.023340000000005,
                                                "bin_start": 34.021,
                                                "count": 1
                                            },
                                            {
                                                "bin_end": 34.02568,
                                                "bin_start": 34.023340000000005,
                                                "count": 0
                                            },
                                            {
                                                "bin_end": 34.02802,
                                                "bin_start": 34.02568,
                                                "count": 0
                                            },
                                            {
                                                "bin_end": 34.03036,
                                                "bin_start": 34.02802,
                                                "count": 0
                                            },
                                            {
                                                "bin_end": 34.032700000000006,
                                                "bin_start": 34.03036,
                                                "count": 0
                                            },
                                            {
                                                "bin_end": 34.03504,
                                                "bin_start": 34.032700000000006,
                                                "count": 0
                                            },
                                            {
                                                "bin_end": 34.03738,
                                                "bin_start": 34.03504,
                                                "count": 0
                                            },
                                            {
                                                "bin_end": 34.03972,
                                                "bin_start": 34.03738,
                                                "count": 1
                                            },
                                            {
                                                "bin_end": 34.042060000000006,
                                                "bin_start": 34.03972,
                                                "count": 0
                                            },
                                            {
                                                "bin_end": 34.0444,
                                                "bin_start": 34.042060000000006,
                                                "count": 1
                                            }
                                        ],
                                        "max": "34.0444",
                                        "min": "34.021",
                                        "nan_count": 0,
                                        "unique_count": 3
                                    }
                                },
                                {
                                    "dtype": "float64",
                                    "name": "LON",
                                    "stats": {
                                        "histogram": [
                                            {
                                                "bin_end": -118.34182,
                                                "bin_start": -118.3506,
                                                "count": 1
                                            },
                                            {
                                                "bin_end": -118.33304,
                                                "bin_start": -118.34182,
                                                "count": 0
                                            },
                                            {
                                                "bin_end": -118.32426,
                                                "bin_start": -118.33304,
                                                "count": 0
                                            },
                                            {
                                                "bin_end": -118.31548,
                                                "bin_start": -118.32426,
                                                "count": 0
                                            },
                                            {
                                                "bin_end": -118.3067,
                                                "bin_start": -118.31548,
                                                "count": 0
                                            },
                                            {
                                                "bin_end": -118.29792,
                                                "bin_start": -118.3067,
                                                "count": 1
                                            },
                                            {
                                                "bin_end": -118.28914,
                                                "bin_start": -118.29792,
                                                "count": 0
                                            },
                                            {
                                                "bin_end": -118.28036,
                                                "bin_start": -118.28914,
                                                "count": 0
                                            },
                                            {
                                                "bin_end": -118.27158,
                                                "bin_start": -118.28036,
                                                "count": 0
                                            },
                                            {
                                                "bin_end": -118.2628,
                                                "bin_start": -118.27158,
                                                "count": 1
                                            }
                                        ],
                                        "max": "-118.2628",
                                        "min": "-118.3506",
                                        "nan_count": 0,
                                        "unique_count": 3
                                    }
                                },
                                {
                                    "dtype": "int64",
                                    "name": "_deepnote_index_column"
                                }
                            ],
                            "row_count": 3,
                            "rows": [
                                {
                                    "AREA": 7,
                                    "AREA NAME": "Wilshire",
                                    "Crm Cd": 510,
                                    "Crm Cd 1": 510,
                                    "Crm Cd 2": 998,
                                    "Crm Cd 3": "nan",
                                    "Crm Cd 4": "nan",
                                    "Crm Cd Desc": "VEHICLE - STOLEN",
                                    "Cross Street": "nan",
                                    "DATE OCC": "03/01/2020 12:00:00 AM",
                                    "DR_NO": 190326475,
                                    "Date Rptd": "03/01/2020 12:00:00 AM",
                                    "LAT": 34.0375,
                                    "LOCATION": "1900 S  LONGWOOD                     AV",
                                    "LON": -118.3506,
                                    "Mocodes": "nan",
                                    "Part 1-2": 1,
                                    "Premis Cd": 101,
                                    "Premis Desc": "STREET",
                                    "Rpt Dist No": 784,
                                    "Status": "AA",
                                    "Status Desc": "Adult Arrest",
                                    "TIME OCC": 2130,
                                    "Vict Age": 0,
                                    "Vict Descent": "O",
                                    "Vict Sex": "M",
                                    "Weapon Desc": "nan",
                                    "Weapon Used Cd": "nan",
                                    "_deepnote_index_column": 0
                                },
                                {
                                    "AREA": 1,
                                    "AREA NAME": "Central",
                                    "Crm Cd": 330,
                                    "Crm Cd 1": 330,
                                    "Crm Cd 2": 998,
                                    "Crm Cd 3": "nan",
                                    "Crm Cd 4": "nan",
                                    "Crm Cd Desc": "BURGLARY FROM VEHICLE",
                                    "Cross Street": "nan",
                                    "DATE OCC": "02/08/2020 12:00:00 AM",
                                    "DR_NO": 200106753,
                                    "Date Rptd": "02/09/2020 12:00:00 AM",
                                    "LAT": 34.0444,
                                    "LOCATION": "1000 S  FLOWER                       ST",
                                    "LON": -118.2628,
                                    "Mocodes": "1822 1402 0344",
                                    "Part 1-2": 1,
                                    "Premis Cd": 128,
                                    "Premis Desc": "BUS STOP/LAYOVER (ALSO QUERY 124)",
                                    "Rpt Dist No": 182,
                                    "Status": "IC",
                                    "Status Desc": "Invest Cont",
                                    "TIME OCC": 1800,
                                    "Vict Age": 47,
                                    "Vict Descent": "O",
                                    "Vict Sex": "M",
                                    "Weapon Desc": "nan",
                                    "Weapon Used Cd": "nan",
                                    "_deepnote_index_column": 1
                                },
                                {
                                    "AREA": 3,
                                    "AREA NAME": "Southwest",
                                    "Crm Cd": 480,
                                    "Crm Cd 1": 480,
                                    "Crm Cd 2": "nan",
                                    "Crm Cd 3": "nan",
                                    "Crm Cd 4": "nan",
                                    "Crm Cd Desc": "BIKE - STOLEN",
                                    "Cross Street": "nan",
                                    "DATE OCC": "11/04/2020 12:00:00 AM",
                                    "DR_NO": 200320258,
                                    "Date Rptd": "11/11/2020 12:00:00 AM",
                                    "LAT": 34.021,
                                    "LOCATION": "1400 W  37TH                         ST",
                                    "LON": -118.3002,
                                    "Mocodes": "0344 1251",
                                    "Part 1-2": 1,
                                    "Premis Cd": 502,
                                    "Premis Desc": "MULTI-UNIT DWELLING (APARTMENT, DUPLEX, ETC)",
                                    "Rpt Dist No": 356,
                                    "Status": "IC",
                                    "Status Desc": "Invest Cont",
                                    "TIME OCC": 1700,
                                    "Vict Age": 19,
                                    "Vict Descent": "X",
                                    "Vict Sex": "X",
                                    "Weapon Desc": "nan",
                                    "Weapon Used Cd": "nan",
                                    "_deepnote_index_column": 2
                                }
                            ],
                            "type": "dataframe"
                        },
                        "text/html": [
                            "<div>\n",
                            "<style scoped>\n",
                            "    .dataframe tbody tr th:only-of-type {\n",
                            "        vertical-align: middle;\n",
                            "    }\n",
                            "\n",
                            "    .dataframe tbody tr th {\n",
                            "        vertical-align: top;\n",
                            "    }\n",
                            "\n",
                            "    .dataframe thead th {\n",
                            "        text-align: right;\n",
                            "    }\n",
                            "</style>\n",
                            "<table border=\"1\" class=\"dataframe\">\n",
                            "  <thead>\n",
                            "    <tr style=\"text-align: right;\">\n",
                            "      <th></th>\n",
                            "      <th>DR_NO</th>\n",
                            "      <th>Date Rptd</th>\n",
                            "      <th>DATE OCC</th>\n",
                            "      <th>TIME OCC</th>\n",
                            "      <th>AREA</th>\n",
                            "      <th>AREA NAME</th>\n",
                            "      <th>Rpt Dist No</th>\n",
                            "      <th>Part 1-2</th>\n",
                            "      <th>Crm Cd</th>\n",
                            "      <th>Crm Cd Desc</th>\n",
                            "      <th>...</th>\n",
                            "      <th>Status</th>\n",
                            "      <th>Status Desc</th>\n",
                            "      <th>Crm Cd 1</th>\n",
                            "      <th>Crm Cd 2</th>\n",
                            "      <th>Crm Cd 3</th>\n",
                            "      <th>Crm Cd 4</th>\n",
                            "      <th>LOCATION</th>\n",
                            "      <th>Cross Street</th>\n",
                            "      <th>LAT</th>\n",
                            "      <th>LON</th>\n",
                            "    </tr>\n",
                            "  </thead>\n",
                            "  <tbody>\n",
                            "    <tr>\n",
                            "      <th>0</th>\n",
                            "      <td>190326475</td>\n",
                            "      <td>03/01/2020 12:00:00 AM</td>\n",
                            "      <td>03/01/2020 12:00:00 AM</td>\n",
                            "      <td>2130</td>\n",
                            "      <td>7</td>\n",
                            "      <td>Wilshire</td>\n",
                            "      <td>784</td>\n",
                            "      <td>1</td>\n",
                            "      <td>510</td>\n",
                            "      <td>VEHICLE - STOLEN</td>\n",
                            "      <td>...</td>\n",
                            "      <td>AA</td>\n",
                            "      <td>Adult Arrest</td>\n",
                            "      <td>510.00</td>\n",
                            "      <td>998.00</td>\n",
                            "      <td>NaN</td>\n",
                            "      <td>NaN</td>\n",
                            "      <td>1900 S  LONGWOOD                     AV</td>\n",
                            "      <td>NaN</td>\n",
                            "      <td>34.04</td>\n",
                            "      <td>-118.35</td>\n",
                            "    </tr>\n",
                            "    <tr>\n",
                            "      <th>1</th>\n",
                            "      <td>200106753</td>\n",
                            "      <td>02/09/2020 12:00:00 AM</td>\n",
                            "      <td>02/08/2020 12:00:00 AM</td>\n",
                            "      <td>1800</td>\n",
                            "      <td>1</td>\n",
                            "      <td>Central</td>\n",
                            "      <td>182</td>\n",
                            "      <td>1</td>\n",
                            "      <td>330</td>\n",
                            "      <td>BURGLARY FROM VEHICLE</td>\n",
                            "      <td>...</td>\n",
                            "      <td>IC</td>\n",
                            "      <td>Invest Cont</td>\n",
                            "      <td>330.00</td>\n",
                            "      <td>998.00</td>\n",
                            "      <td>NaN</td>\n",
                            "      <td>NaN</td>\n",
                            "      <td>1000 S  FLOWER                       ST</td>\n",
                            "      <td>NaN</td>\n",
                            "      <td>34.04</td>\n",
                            "      <td>-118.26</td>\n",
                            "    </tr>\n",
                            "    <tr>\n",
                            "      <th>2</th>\n",
                            "      <td>200320258</td>\n",
                            "      <td>11/11/2020 12:00:00 AM</td>\n",
                            "      <td>11/04/2020 12:00:00 AM</td>\n",
                            "      <td>1700</td>\n",
                            "      <td>3</td>\n",
                            "      <td>Southwest</td>\n",
                            "      <td>356</td>\n",
                            "      <td>1</td>\n",
                            "      <td>480</td>\n",
                            "      <td>BIKE - STOLEN</td>\n",
                            "      <td>...</td>\n",
                            "      <td>IC</td>\n",
                            "      <td>Invest Cont</td>\n",
                            "      <td>480.00</td>\n",
                            "      <td>NaN</td>\n",
                            "      <td>NaN</td>\n",
                            "      <td>NaN</td>\n",
                            "      <td>1400 W  37TH                         ST</td>\n",
                            "      <td>NaN</td>\n",
                            "      <td>34.02</td>\n",
                            "      <td>-118.30</td>\n",
                            "    </tr>\n",
                            "  </tbody>\n",
                            "</table>\n",
                            "<p>3 rows × 28 columns</p>\n",
                            "</div>"
                        ],
                        "text/plain": [
                            "       DR_NO               Date Rptd                DATE OCC  TIME OCC  AREA  \\\n",
                            "0  190326475  03/01/2020 12:00:00 AM  03/01/2020 12:00:00 AM      2130     7   \n",
                            "1  200106753  02/09/2020 12:00:00 AM  02/08/2020 12:00:00 AM      1800     1   \n",
                            "2  200320258  11/11/2020 12:00:00 AM  11/04/2020 12:00:00 AM      1700     3   \n",
                            "\n",
                            "   AREA NAME  Rpt Dist No  Part 1-2  Crm Cd            Crm Cd Desc  ...  \\\n",
                            "0   Wilshire          784         1     510       VEHICLE - STOLEN  ...   \n",
                            "1    Central          182         1     330  BURGLARY FROM VEHICLE  ...   \n",
                            "2  Southwest          356         1     480          BIKE - STOLEN  ...   \n",
                            "\n",
                            "  Status   Status Desc Crm Cd 1 Crm Cd 2  Crm Cd 3 Crm Cd 4  \\\n",
                            "0     AA  Adult Arrest   510.00   998.00       NaN      NaN   \n",
                            "1     IC   Invest Cont   330.00   998.00       NaN      NaN   \n",
                            "2     IC   Invest Cont   480.00      NaN       NaN      NaN   \n",
                            "\n",
                            "                                  LOCATION Cross Street   LAT     LON  \n",
                            "0  1900 S  LONGWOOD                     AV          NaN 34.04 -118.35  \n",
                            "1  1000 S  FLOWER                       ST          NaN 34.04 -118.26  \n",
                            "2  1400 W  37TH                         ST          NaN 34.02 -118.30  \n",
                            "\n",
                            "[3 rows x 28 columns]"
                        ]
                    },
                    "execution_count": 8,
                    "metadata": {},
                    "output_type": "execute_result"
                }
            ],
            "source": [
                "raw_df.head(3)"
            ]
        },
        {
            "cell_type": "code",
            "execution_count": 9,
            "metadata": {
                "cell_id": "fa51a4392f9f40329b0c171ac8e734b9",
                "deepnote_cell_type": "code",
                "execution_context_id": "c9616cb0-3936-43bb-afe1-51ac390bd7d3",
                "execution_millis": 165,
                "execution_start": 1744997105599,
                "source_hash": "11a0bfa6"
            },
            "outputs": [],
            "source": [
                "raw_df[\"Date Rptd\"] = pd.to_datetime(raw_df[\"Date Rptd\"], format=\"%m/%d/%Y %I:%M:%S %p\", errors=\"raise\")\n",
                "raw_df[\"DATE OCC\"] = pd.to_datetime(raw_df[\"DATE OCC\"], format=\"%m/%d/%Y %I:%M:%S %p\", errors=\"raise\")"
            ]
        },
        {
            "cell_type": "markdown",
            "metadata": {
                "cell_id": "d27999cec3ec411bae585fc1f54519e6",
                "deepnote_cell_type": "text-cell-h1",
                "formattedRanges": []
            },
            "source": [
                "# Negocios"
            ]
        },
        {
            "cell_type": "code",
            "execution_count": 10,
            "metadata": {
                "cell_id": "885faf5c154e437ea235ef3cbf93c8ba",
                "deepnote_cell_type": "code",
                "execution_context_id": "c9616cb0-3936-43bb-afe1-51ac390bd7d3",
                "execution_millis": 88768,
                "execution_start": 1744997105822,
                "source_hash": "6b024db9"
            },
            "outputs": [],
            "source": [
                "business_bufer = fetch_csv_stream(business_url)\n",
                "\n",
                "business_df = pd.read_csv(business_bufer, low_memory=False)\n",
                "\n",
                "del business_bufer"
            ]
        },
        {
            "cell_type": "code",
            "execution_count": 11,
            "metadata": {
                "cell_id": "2a89b89c7cbf4a0693e7ffe8e22f689b",
                "deepnote_cell_type": "code",
                "execution_context_id": "c9616cb0-3936-43bb-afe1-51ac390bd7d3",
                "execution_millis": 38,
                "execution_start": 1744997195815,
                "source_hash": "2b086425"
            },
            "outputs": [
                {
                    "name": "stdout",
                    "output_type": "stream",
                    "text": [
                        "<class 'pandas.core.frame.DataFrame'>\n",
                        "RangeIndex: 1607924 entries, 0 to 1607923\n",
                        "Data columns (total 16 columns):\n",
                        " #   Column                     Non-Null Count    Dtype  \n",
                        "---  ------                     --------------    -----  \n",
                        " 0   LOCATION ACCOUNT #         1607924 non-null  object \n",
                        " 1   BUSINESS NAME              1607924 non-null  object \n",
                        " 2   DBA NAME                   246256 non-null   object \n",
                        " 3   STREET ADDRESS             1607822 non-null  object \n",
                        " 4   CITY                       1607814 non-null  object \n",
                        " 5   ZIP CODE                   1607924 non-null  object \n",
                        " 6   LOCATION DESCRIPTION       1607801 non-null  object \n",
                        " 7   MAILING ADDRESS            369932 non-null   object \n",
                        " 8   MAILING CITY               369944 non-null   object \n",
                        " 9   MAILING ZIP CODE           369813 non-null   object \n",
                        " 10  NAICS                      628889 non-null   float64\n",
                        " 11  PRIMARY NAICS DESCRIPTION  628889 non-null   object \n",
                        " 12  COUNCIL DISTRICT           1607924 non-null  int64  \n",
                        " 13  LOCATION START DATE        1606366 non-null  object \n",
                        " 14  LOCATION END DATE          1010611 non-null  object \n",
                        " 15  LOCATION                   669732 non-null   object \n",
                        "dtypes: float64(1), int64(1), object(14)\n",
                        "memory usage: 196.3+ MB\n"
                    ]
                }
            ],
            "source": [
                "business_df.columns = business_df.columns.str.strip()\n",
                "\n",
                "business_df.info()"
            ]
        },
        {
            "cell_type": "code",
            "execution_count": 12,
            "metadata": {
                "cell_id": "17bc820526134a3dbc6ecc132f347d7c",
                "deepnote_cell_type": "code",
                "execution_context_id": "c9616cb0-3936-43bb-afe1-51ac390bd7d3",
                "execution_millis": 363,
                "execution_start": 1744997195940,
                "source_hash": "7359d10"
            },
            "outputs": [],
            "source": [
                "business_df[\"LOCATION START DATE\"] = pd.to_datetime(business_df[\"LOCATION START DATE\"], format=\"%m/%d/%Y\", errors='coerce')\n",
                "business_df[\"LOCATION END DATE\"] = pd.to_datetime(business_df[\"LOCATION END DATE\"], format=\"%m/%d/%Y\", errors='coerce')"
            ]
        },
        {
            "cell_type": "code",
            "execution_count": 13,
            "metadata": {
                "cell_id": "5b79ddc1b22a43f6ae35b8465eee3aab",
                "deepnote_cell_type": "code",
                "execution_context_id": "c9616cb0-3936-43bb-afe1-51ac390bd7d3",
                "execution_millis": 6,
                "execution_start": 1744997196370,
                "source_hash": "23867fe4"
            },
            "outputs": [
                {
                    "data": {
                        "application/vnd.deepnote.dataframe.v3+json": {
                            "column_count": 16,
                            "columns": [
                                {
                                    "dtype": "object",
                                    "name": "LOCATION ACCOUNT #",
                                    "stats": {
                                        "categories": [
                                            {
                                                "count": 1,
                                                "name": "0003217523-0001-2"
                                            },
                                            {
                                                "count": 1,
                                                "name": "0003211603-0001-0"
                                            },
                                            {
                                                "count": 1,
                                                "name": "0003249387-0001-0"
                                            }
                                        ],
                                        "nan_count": 0,
                                        "unique_count": 3
                                    }
                                },
                                {
                                    "dtype": "object",
                                    "name": "BUSINESS NAME",
                                    "stats": {
                                        "categories": [
                                            {
                                                "count": 1,
                                                "name": "MARIA OFELIA NUNEZ"
                                            },
                                            {
                                                "count": 1,
                                                "name": "ONE STOP HOLISTIC HEALTH LLC"
                                            },
                                            {
                                                "count": 1,
                                                "name": "CHOE SHOW, LLC"
                                            }
                                        ],
                                        "nan_count": 0,
                                        "unique_count": 3
                                    }
                                },
                                {
                                    "dtype": "object",
                                    "name": "DBA NAME",
                                    "stats": {
                                        "categories": [
                                            {
                                                "count": 1,
                                                "name": "LA CAMPANA HARDWARE"
                                            },
                                            {
                                                "count": 2,
                                                "name": "Missing"
                                            }
                                        ],
                                        "nan_count": 2,
                                        "unique_count": 1
                                    }
                                },
                                {
                                    "dtype": "object",
                                    "name": "STREET ADDRESS",
                                    "stats": {
                                        "categories": [
                                            {
                                                "count": 1,
                                                "name": "1017 W 88TH STREET"
                                            },
                                            {
                                                "count": 1,
                                                "name": "1506 W MANCHESTER AVENUE"
                                            },
                                            {
                                                "count": 1,
                                                "name": "711 S GRAMERCY PLACE"
                                            }
                                        ],
                                        "nan_count": 0,
                                        "unique_count": 3
                                    }
                                },
                                {
                                    "dtype": "object",
                                    "name": "CITY",
                                    "stats": {
                                        "categories": [
                                            {
                                                "count": 3,
                                                "name": "LOS ANGELES"
                                            }
                                        ],
                                        "nan_count": 0,
                                        "unique_count": 1
                                    }
                                },
                                {
                                    "dtype": "object",
                                    "name": "ZIP CODE",
                                    "stats": {
                                        "categories": [
                                            {
                                                "count": 1,
                                                "name": "90044-2119"
                                            },
                                            {
                                                "count": 1,
                                                "name": "90047-5424"
                                            },
                                            {
                                                "count": 1,
                                                "name": "90005-3166"
                                            }
                                        ],
                                        "nan_count": 0,
                                        "unique_count": 3
                                    }
                                },
                                {
                                    "dtype": "object",
                                    "name": "LOCATION DESCRIPTION",
                                    "stats": {
                                        "categories": [
                                            {
                                                "count": 1,
                                                "name": "1017 88TH 90044"
                                            },
                                            {
                                                "count": 1,
                                                "name": "1506 MANCHESTER 90047"
                                            },
                                            {
                                                "count": 1,
                                                "name": "711 GRAMERCY 90005"
                                            }
                                        ],
                                        "nan_count": 0,
                                        "unique_count": 3
                                    }
                                },
                                {
                                    "dtype": "object",
                                    "name": "MAILING ADDRESS",
                                    "stats": {
                                        "categories": [
                                            {
                                                "count": 1,
                                                "name": "1017 W 88TH STREET"
                                            },
                                            {
                                                "count": 1,
                                                "name": "1506 W MANCHESTER AVENUE"
                                            },
                                            {
                                                "count": 1,
                                                "name": "711 S GRAMERCY PLACE"
                                            }
                                        ],
                                        "nan_count": 0,
                                        "unique_count": 3
                                    }
                                },
                                {
                                    "dtype": "object",
                                    "name": "MAILING CITY",
                                    "stats": {
                                        "categories": [
                                            {
                                                "count": 3,
                                                "name": "LOS ANGELES"
                                            }
                                        ],
                                        "nan_count": 0,
                                        "unique_count": 1
                                    }
                                },
                                {
                                    "dtype": "object",
                                    "name": "MAILING ZIP CODE",
                                    "stats": {
                                        "categories": [
                                            {
                                                "count": 1,
                                                "name": "90044-2119"
                                            },
                                            {
                                                "count": 1,
                                                "name": "90047-5424"
                                            },
                                            {
                                                "count": 1,
                                                "name": "90005-3166"
                                            }
                                        ],
                                        "nan_count": 0,
                                        "unique_count": 3
                                    }
                                },
                                {
                                    "dtype": "float64",
                                    "name": "NAICS",
                                    "stats": {
                                        "histogram": [
                                            {
                                                "bin_end": 444129.6,
                                                "bin_start": 444129.5,
                                                "count": 0
                                            },
                                            {
                                                "bin_end": 444129.7,
                                                "bin_start": 444129.6,
                                                "count": 0
                                            },
                                            {
                                                "bin_end": 444129.8,
                                                "bin_start": 444129.7,
                                                "count": 0
                                            },
                                            {
                                                "bin_end": 444129.9,
                                                "bin_start": 444129.8,
                                                "count": 0
                                            },
                                            {
                                                "bin_end": 444130,
                                                "bin_start": 444129.9,
                                                "count": 0
                                            },
                                            {
                                                "bin_end": 444130.1,
                                                "bin_start": 444130,
                                                "count": 1
                                            },
                                            {
                                                "bin_end": 444130.2,
                                                "bin_start": 444130.1,
                                                "count": 0
                                            },
                                            {
                                                "bin_end": 444130.3,
                                                "bin_start": 444130.2,
                                                "count": 0
                                            },
                                            {
                                                "bin_end": 444130.4,
                                                "bin_start": 444130.3,
                                                "count": 0
                                            },
                                            {
                                                "bin_end": 444130.5,
                                                "bin_start": 444130.4,
                                                "count": 0
                                            }
                                        ],
                                        "max": "444130.0",
                                        "min": "444130.0",
                                        "nan_count": 2,
                                        "unique_count": 1
                                    }
                                },
                                {
                                    "dtype": "object",
                                    "name": "PRIMARY NAICS DESCRIPTION",
                                    "stats": {
                                        "categories": [
                                            {
                                                "count": 1,
                                                "name": "Hardware stores"
                                            },
                                            {
                                                "count": 2,
                                                "name": "Missing"
                                            }
                                        ],
                                        "nan_count": 2,
                                        "unique_count": 1
                                    }
                                },
                                {
                                    "dtype": "int64",
                                    "name": "COUNCIL DISTRICT",
                                    "stats": {
                                        "histogram": [
                                            {
                                                "bin_end": 0.8,
                                                "bin_start": 0,
                                                "count": 1
                                            },
                                            {
                                                "bin_end": 1.6,
                                                "bin_start": 0.8,
                                                "count": 0
                                            },
                                            {
                                                "bin_end": 2.4000000000000004,
                                                "bin_start": 1.6,
                                                "count": 0
                                            },
                                            {
                                                "bin_end": 3.2,
                                                "bin_start": 2.4000000000000004,
                                                "count": 0
                                            },
                                            {
                                                "bin_end": 4,
                                                "bin_start": 3.2,
                                                "count": 0
                                            },
                                            {
                                                "bin_end": 4.800000000000001,
                                                "bin_start": 4,
                                                "count": 0
                                            },
                                            {
                                                "bin_end": 5.6000000000000005,
                                                "bin_start": 4.800000000000001,
                                                "count": 1
                                            },
                                            {
                                                "bin_end": 6.4,
                                                "bin_start": 5.6000000000000005,
                                                "count": 0
                                            },
                                            {
                                                "bin_end": 7.2,
                                                "bin_start": 6.4,
                                                "count": 0
                                            },
                                            {
                                                "bin_end": 8,
                                                "bin_start": 7.2,
                                                "count": 1
                                            }
                                        ],
                                        "max": "8",
                                        "min": "0",
                                        "nan_count": 0,
                                        "unique_count": 3
                                    }
                                },
                                {
                                    "dtype": "datetime64[ns]",
                                    "name": "LOCATION START DATE",
                                    "stats": {
                                        "histogram": [
                                            {
                                                "bin_end": 1600758720000000000,
                                                "bin_start": 1599091200000000000,
                                                "count": 1
                                            },
                                            {
                                                "bin_end": 1602426240000000000,
                                                "bin_start": 1600758720000000000,
                                                "count": 1
                                            },
                                            {
                                                "bin_end": 1604093760000000000,
                                                "bin_start": 1602426240000000000,
                                                "count": 0
                                            },
                                            {
                                                "bin_end": 1605761280000000000,
                                                "bin_start": 1604093760000000000,
                                                "count": 0
                                            },
                                            {
                                                "bin_end": 1607428800000000000,
                                                "bin_start": 1605761280000000000,
                                                "count": 0
                                            },
                                            {
                                                "bin_end": 1609096320000000000,
                                                "bin_start": 1607428800000000000,
                                                "count": 0
                                            },
                                            {
                                                "bin_end": 1610763840000000000,
                                                "bin_start": 1609096320000000000,
                                                "count": 0
                                            },
                                            {
                                                "bin_end": 1612431360000000000,
                                                "bin_start": 1610763840000000000,
                                                "count": 0
                                            },
                                            {
                                                "bin_end": 1614098880000000000,
                                                "bin_start": 1612431360000000000,
                                                "count": 0
                                            },
                                            {
                                                "bin_end": 1615766400000000000,
                                                "bin_start": 1614098880000000000,
                                                "count": 1
                                            }
                                        ],
                                        "max": "2021-03-15 00:00:00",
                                        "min": "2020-09-03 00:00:00",
                                        "nan_count": 0,
                                        "unique_count": 3
                                    }
                                },
                                {
                                    "dtype": "datetime64[ns]",
                                    "name": "LOCATION END DATE",
                                    "stats": {
                                        "histogram": [
                                            {
                                                "bin_end": 0.1,
                                                "bin_start": 0,
                                                "count": 0
                                            },
                                            {
                                                "bin_end": 0.2,
                                                "bin_start": 0.1,
                                                "count": 0
                                            },
                                            {
                                                "bin_end": 0.30000000000000004,
                                                "bin_start": 0.2,
                                                "count": 0
                                            },
                                            {
                                                "bin_end": 0.4,
                                                "bin_start": 0.30000000000000004,
                                                "count": 0
                                            },
                                            {
                                                "bin_end": 0.5,
                                                "bin_start": 0.4,
                                                "count": 0
                                            },
                                            {
                                                "bin_end": 0.6000000000000001,
                                                "bin_start": 0.5,
                                                "count": 0
                                            },
                                            {
                                                "bin_end": 0.7000000000000001,
                                                "bin_start": 0.6000000000000001,
                                                "count": 0
                                            },
                                            {
                                                "bin_end": 0.8,
                                                "bin_start": 0.7000000000000001,
                                                "count": 0
                                            },
                                            {
                                                "bin_end": 0.9,
                                                "bin_start": 0.8,
                                                "count": 0
                                            },
                                            {
                                                "bin_end": 1,
                                                "bin_start": 0.9,
                                                "count": 0
                                            }
                                        ],
                                        "max": null,
                                        "min": null,
                                        "nan_count": 3,
                                        "unique_count": 0
                                    }
                                },
                                {
                                    "dtype": "object",
                                    "name": "LOCATION",
                                    "stats": {
                                        "categories": [
                                            {
                                                "count": 1,
                                                "name": "(33.9581, -118.2926)"
                                            },
                                            {
                                                "count": 1,
                                                "name": "(33.9597, -118.3028)"
                                            },
                                            {
                                                "count": 1,
                                                "name": "(34.0594, -118.3135)"
                                            }
                                        ],
                                        "nan_count": 0,
                                        "unique_count": 3
                                    }
                                },
                                {
                                    "dtype": "int64",
                                    "name": "_deepnote_index_column"
                                }
                            ],
                            "row_count": 3,
                            "rows": [
                                {
                                    "BUSINESS NAME": "MARIA OFELIA NUNEZ",
                                    "CITY": "LOS ANGELES",
                                    "COUNCIL DISTRICT": 0,
                                    "DBA NAME": "LA CAMPANA HARDWARE",
                                    "LOCATION": "(33.9581, -118.2926)",
                                    "LOCATION ACCOUNT #": "0003217523-0001-2",
                                    "LOCATION DESCRIPTION": "1017 88TH 90044",
                                    "LOCATION END DATE": "NaT",
                                    "LOCATION START DATE": "2020-10-01 00:00:00",
                                    "MAILING ADDRESS": "1017 W 88TH STREET",
                                    "MAILING CITY": "LOS ANGELES",
                                    "MAILING ZIP CODE": "90044-2119",
                                    "NAICS": 444130,
                                    "PRIMARY NAICS DESCRIPTION": "Hardware stores",
                                    "STREET ADDRESS": "1017 W 88TH STREET",
                                    "ZIP CODE": "90044-2119",
                                    "_deepnote_index_column": 0
                                },
                                {
                                    "BUSINESS NAME": "ONE STOP HOLISTIC HEALTH LLC",
                                    "CITY": "LOS ANGELES",
                                    "COUNCIL DISTRICT": 8,
                                    "DBA NAME": "nan",
                                    "LOCATION": "(33.9597, -118.3028)",
                                    "LOCATION ACCOUNT #": "0003211603-0001-0",
                                    "LOCATION DESCRIPTION": "1506 MANCHESTER 90047",
                                    "LOCATION END DATE": "NaT",
                                    "LOCATION START DATE": "2020-09-03 00:00:00",
                                    "MAILING ADDRESS": "1506 W MANCHESTER AVENUE",
                                    "MAILING CITY": "LOS ANGELES",
                                    "MAILING ZIP CODE": "90047-5424",
                                    "NAICS": "nan",
                                    "PRIMARY NAICS DESCRIPTION": "nan",
                                    "STREET ADDRESS": "1506 W MANCHESTER AVENUE",
                                    "ZIP CODE": "90047-5424",
                                    "_deepnote_index_column": 1
                                },
                                {
                                    "BUSINESS NAME": "CHOE SHOW, LLC",
                                    "CITY": "LOS ANGELES",
                                    "COUNCIL DISTRICT": 5,
                                    "DBA NAME": "nan",
                                    "LOCATION": "(34.0594, -118.3135)",
                                    "LOCATION ACCOUNT #": "0003249387-0001-0",
                                    "LOCATION DESCRIPTION": "711 GRAMERCY 90005",
                                    "LOCATION END DATE": "NaT",
                                    "LOCATION START DATE": "2021-03-15 00:00:00",
                                    "MAILING ADDRESS": "711 S GRAMERCY PLACE",
                                    "MAILING CITY": "LOS ANGELES",
                                    "MAILING ZIP CODE": "90005-3166",
                                    "NAICS": "nan",
                                    "PRIMARY NAICS DESCRIPTION": "nan",
                                    "STREET ADDRESS": "711 S GRAMERCY PLACE",
                                    "ZIP CODE": "90005-3166",
                                    "_deepnote_index_column": 2
                                }
                            ],
                            "type": "dataframe"
                        },
                        "text/html": [
                            "<div>\n",
                            "<style scoped>\n",
                            "    .dataframe tbody tr th:only-of-type {\n",
                            "        vertical-align: middle;\n",
                            "    }\n",
                            "\n",
                            "    .dataframe tbody tr th {\n",
                            "        vertical-align: top;\n",
                            "    }\n",
                            "\n",
                            "    .dataframe thead th {\n",
                            "        text-align: right;\n",
                            "    }\n",
                            "</style>\n",
                            "<table border=\"1\" class=\"dataframe\">\n",
                            "  <thead>\n",
                            "    <tr style=\"text-align: right;\">\n",
                            "      <th></th>\n",
                            "      <th>LOCATION ACCOUNT #</th>\n",
                            "      <th>BUSINESS NAME</th>\n",
                            "      <th>DBA NAME</th>\n",
                            "      <th>STREET ADDRESS</th>\n",
                            "      <th>CITY</th>\n",
                            "      <th>ZIP CODE</th>\n",
                            "      <th>LOCATION DESCRIPTION</th>\n",
                            "      <th>MAILING ADDRESS</th>\n",
                            "      <th>MAILING CITY</th>\n",
                            "      <th>MAILING ZIP CODE</th>\n",
                            "      <th>NAICS</th>\n",
                            "      <th>PRIMARY NAICS DESCRIPTION</th>\n",
                            "      <th>COUNCIL DISTRICT</th>\n",
                            "      <th>LOCATION START DATE</th>\n",
                            "      <th>LOCATION END DATE</th>\n",
                            "      <th>LOCATION</th>\n",
                            "    </tr>\n",
                            "  </thead>\n",
                            "  <tbody>\n",
                            "    <tr>\n",
                            "      <th>0</th>\n",
                            "      <td>0003217523-0001-2</td>\n",
                            "      <td>MARIA OFELIA NUNEZ</td>\n",
                            "      <td>LA CAMPANA HARDWARE</td>\n",
                            "      <td>1017 W 88TH STREET</td>\n",
                            "      <td>LOS ANGELES</td>\n",
                            "      <td>90044-2119</td>\n",
                            "      <td>1017 88TH 90044</td>\n",
                            "      <td>1017 W 88TH STREET</td>\n",
                            "      <td>LOS ANGELES</td>\n",
                            "      <td>90044-2119</td>\n",
                            "      <td>444,130.00</td>\n",
                            "      <td>Hardware stores</td>\n",
                            "      <td>0</td>\n",
                            "      <td>2020-10-01</td>\n",
                            "      <td>NaT</td>\n",
                            "      <td>(33.9581, -118.2926)</td>\n",
                            "    </tr>\n",
                            "    <tr>\n",
                            "      <th>1</th>\n",
                            "      <td>0003211603-0001-0</td>\n",
                            "      <td>ONE STOP HOLISTIC HEALTH LLC</td>\n",
                            "      <td>NaN</td>\n",
                            "      <td>1506 W MANCHESTER AVENUE</td>\n",
                            "      <td>LOS ANGELES</td>\n",
                            "      <td>90047-5424</td>\n",
                            "      <td>1506 MANCHESTER 90047</td>\n",
                            "      <td>1506 W MANCHESTER AVENUE</td>\n",
                            "      <td>LOS ANGELES</td>\n",
                            "      <td>90047-5424</td>\n",
                            "      <td>NaN</td>\n",
                            "      <td>NaN</td>\n",
                            "      <td>8</td>\n",
                            "      <td>2020-09-03</td>\n",
                            "      <td>NaT</td>\n",
                            "      <td>(33.9597, -118.3028)</td>\n",
                            "    </tr>\n",
                            "    <tr>\n",
                            "      <th>2</th>\n",
                            "      <td>0003249387-0001-0</td>\n",
                            "      <td>CHOE SHOW, LLC</td>\n",
                            "      <td>NaN</td>\n",
                            "      <td>711 S GRAMERCY PLACE</td>\n",
                            "      <td>LOS ANGELES</td>\n",
                            "      <td>90005-3166</td>\n",
                            "      <td>711 GRAMERCY 90005</td>\n",
                            "      <td>711 S GRAMERCY PLACE</td>\n",
                            "      <td>LOS ANGELES</td>\n",
                            "      <td>90005-3166</td>\n",
                            "      <td>NaN</td>\n",
                            "      <td>NaN</td>\n",
                            "      <td>5</td>\n",
                            "      <td>2021-03-15</td>\n",
                            "      <td>NaT</td>\n",
                            "      <td>(34.0594, -118.3135)</td>\n",
                            "    </tr>\n",
                            "  </tbody>\n",
                            "</table>\n",
                            "</div>"
                        ],
                        "text/plain": [
                            "  LOCATION ACCOUNT #                 BUSINESS NAME             DBA NAME  \\\n",
                            "0  0003217523-0001-2            MARIA OFELIA NUNEZ  LA CAMPANA HARDWARE   \n",
                            "1  0003211603-0001-0  ONE STOP HOLISTIC HEALTH LLC                  NaN   \n",
                            "2  0003249387-0001-0                CHOE SHOW, LLC                  NaN   \n",
                            "\n",
                            "             STREET ADDRESS         CITY    ZIP CODE   LOCATION DESCRIPTION  \\\n",
                            "0        1017 W 88TH STREET  LOS ANGELES  90044-2119        1017 88TH 90044   \n",
                            "1  1506 W MANCHESTER AVENUE  LOS ANGELES  90047-5424  1506 MANCHESTER 90047   \n",
                            "2      711 S GRAMERCY PLACE  LOS ANGELES  90005-3166     711 GRAMERCY 90005   \n",
                            "\n",
                            "            MAILING ADDRESS MAILING CITY MAILING ZIP CODE      NAICS  \\\n",
                            "0        1017 W 88TH STREET  LOS ANGELES       90044-2119 444,130.00   \n",
                            "1  1506 W MANCHESTER AVENUE  LOS ANGELES       90047-5424        NaN   \n",
                            "2      711 S GRAMERCY PLACE  LOS ANGELES       90005-3166        NaN   \n",
                            "\n",
                            "  PRIMARY NAICS DESCRIPTION  COUNCIL DISTRICT LOCATION START DATE  \\\n",
                            "0           Hardware stores                 0          2020-10-01   \n",
                            "1                       NaN                 8          2020-09-03   \n",
                            "2                       NaN                 5          2021-03-15   \n",
                            "\n",
                            "  LOCATION END DATE              LOCATION  \n",
                            "0               NaT  (33.9581, -118.2926)  \n",
                            "1               NaT  (33.9597, -118.3028)  \n",
                            "2               NaT  (34.0594, -118.3135)  "
                        ]
                    },
                    "execution_count": 13,
                    "metadata": {},
                    "output_type": "execute_result"
                }
            ],
            "source": [
                "business_df.head(3)"
            ]
        },
        {
            "cell_type": "markdown",
            "metadata": {
                "cell_id": "ee7b6f668c2b4000a49e614fb3fc739c",
                "deepnote_cell_type": "text-cell-h1",
                "formattedRanges": []
            },
            "source": [
                "# Inmuebles"
            ]
        },
        {
            "cell_type": "markdown",
            "metadata": {
                "cell_id": "b1c9ba8a40af4760983ff979b97946d4",
                "deepnote_cell_type": "markdown"
            },
            "source": [
                "## Definición de requerimientos de datos\n",
                "\n",
                "Indice de valor de vivienda de Zollow (ZHVI): Esta es una medida del valor típico de la vivienda y de los cambios del mercado en una región y tip de vivienda determiados. Refleja el valor medio de las vivienda que se encuentra entre el percentil 36 - 65. Es disponible como medida suavizada y ajustada estacionalizada, así como en su versión cruda.\n",
                "\n",
                "\n",
                "| Campo        | Descripción                                                                                                     |\n",
                "|--------------|-----------------------------------------------------------------------------------------------------------------| \n",
                "| **RegionID**   | Identificador numérico único de la región (vecindario).                                                        |\n",
                "| **SizeRank**   | Ranking de tamaño de la región según número de viviendas o población (1 = más grande).                          |\n",
                "| **RegionName** | Nombre del vecindario (e.g., “Hollywood Hills West”).                                                           |\n",
                "| **RegionType** | Tipo de región: aquí siempre “neighborhood” (vecindario).                                                       |\n",
                "| **StateName**  | Nombre completo del estado (e.g., “California”).                                                               |\n",
                "| **State**      | Código del estado (abreviatura de dos letras, p.ej. “CA”).                                                      |\n",
                "| **City**       | Nombre de la ciudad principal (aquí siempre “Los Angeles”).                                                     |\n",
                "| **Metro**      | Nombre del área metropolitana (p.ej. “Los Angeles-Long Beach-Anaheim”).                                         |\n",
                "| **CountyName** | Nombre del condado (p.ej. “Los Angeles County”).                                                                |\n",
                "| **date**       | Fecha del dato de ZHVI, al final del mes (formato YYYY-MM-DD).                                                  |\n",
                "| **price**      | Valor típico de vivienda (ZHVI) en dólares para ese mes y vecindario, suavizado y ajustado estacionalmente.     |\n",
                "\n"
            ]
        },
        {
            "cell_type": "code",
            "execution_count": 5,
            "metadata": {
                "cell_id": "b2248a1e0a2e4a96926027eaa637a41f",
                "deepnote_cell_type": "code",
                "execution_context_id": "4504afec-f325-4981-940b-0fa5b2171a69",
                "execution_millis": 1755,
                "execution_start": 1744998444951,
                "source_hash": "4dc8e380"
            },
            "outputs": [],
            "source": [
                "zhvi_df = pd.read_csv(zhvi_url, low_memory=False)"
            ]
        },
        {
            "cell_type": "code",
            "execution_count": 6,
            "metadata": {
                "cell_id": "4b60a113c96a43659ca31db0bb8b313c",
                "deepnote_cell_type": "code",
                "execution_context_id": "4504afec-f325-4981-940b-0fa5b2171a69",
                "execution_millis": 4,
                "execution_start": 1744998449338,
                "source_hash": "f16e535"
            },
            "outputs": [
                {
                    "name": "stdout",
                    "output_type": "stream",
                    "text": [
                        "<class 'pandas.core.frame.DataFrame'>\n",
                        "RangeIndex: 21628 entries, 0 to 21627\n",
                        "Columns: 312 entries, RegionID to 2025-03-31\n",
                        "dtypes: float64(303), int64(2), object(7)\n",
                        "memory usage: 51.5+ MB\n"
                    ]
                }
            ],
            "source": [
                "zhvi_df.info()"
            ]
        },
        {
            "cell_type": "code",
            "execution_count": 40,
            "metadata": {},
            "outputs": [
                {
                    "data": {
                        "text/html": [
                            "<div>\n",
                            "<style scoped>\n",
                            "    .dataframe tbody tr th:only-of-type {\n",
                            "        vertical-align: middle;\n",
                            "    }\n",
                            "\n",
                            "    .dataframe tbody tr th {\n",
                            "        vertical-align: top;\n",
                            "    }\n",
                            "\n",
                            "    .dataframe thead th {\n",
                            "        text-align: right;\n",
                            "    }\n",
                            "</style>\n",
                            "<table border=\"1\" class=\"dataframe\">\n",
                            "  <thead>\n",
                            "    <tr style=\"text-align: right;\">\n",
                            "      <th></th>\n",
                            "      <th>RegionID</th>\n",
                            "      <th>SizeRank</th>\n",
                            "      <th>RegionName</th>\n",
                            "      <th>RegionType</th>\n",
                            "      <th>StateName</th>\n",
                            "      <th>State</th>\n",
                            "      <th>City</th>\n",
                            "      <th>Metro</th>\n",
                            "      <th>CountyName</th>\n",
                            "      <th>2000-01-31</th>\n",
                            "      <th>...</th>\n",
                            "      <th>2024-06-30</th>\n",
                            "      <th>2024-07-31</th>\n",
                            "      <th>2024-08-31</th>\n",
                            "      <th>2024-09-30</th>\n",
                            "      <th>2024-10-31</th>\n",
                            "      <th>2024-11-30</th>\n",
                            "      <th>2024-12-31</th>\n",
                            "      <th>2025-01-31</th>\n",
                            "      <th>2025-02-28</th>\n",
                            "      <th>2025-03-31</th>\n",
                            "    </tr>\n",
                            "  </thead>\n",
                            "  <tbody>\n",
                            "    <tr>\n",
                            "      <th>4</th>\n",
                            "      <td>118208</td>\n",
                            "      <td>4</td>\n",
                            "      <td>South Los Angeles</td>\n",
                            "      <td>neighborhood</td>\n",
                            "      <td>CA</td>\n",
                            "      <td>CA</td>\n",
                            "      <td>Los Angeles</td>\n",
                            "      <td>Los Angeles-Long Beach-Anaheim, CA</td>\n",
                            "      <td>Los Angeles County</td>\n",
                            "      <td>131,468.00</td>\n",
                            "      <td>...</td>\n",
                            "      <td>670,999.25</td>\n",
                            "      <td>673,646.31</td>\n",
                            "      <td>678,946.96</td>\n",
                            "      <td>685,630.61</td>\n",
                            "      <td>691,096.82</td>\n",
                            "      <td>694,881.77</td>\n",
                            "      <td>697,629.09</td>\n",
                            "      <td>696,065.29</td>\n",
                            "      <td>691,088.58</td>\n",
                            "      <td>682,069.76</td>\n",
                            "    </tr>\n",
                            "    <tr>\n",
                            "      <th>8</th>\n",
                            "      <td>268496</td>\n",
                            "      <td>8</td>\n",
                            "      <td>Southeast Los Angeles</td>\n",
                            "      <td>neighborhood</td>\n",
                            "      <td>CA</td>\n",
                            "      <td>CA</td>\n",
                            "      <td>Los Angeles</td>\n",
                            "      <td>Los Angeles-Long Beach-Anaheim, CA</td>\n",
                            "      <td>Los Angeles County</td>\n",
                            "      <td>115,164.13</td>\n",
                            "      <td>...</td>\n",
                            "      <td>596,429.79</td>\n",
                            "      <td>599,207.61</td>\n",
                            "      <td>603,319.34</td>\n",
                            "      <td>608,728.92</td>\n",
                            "      <td>613,247.05</td>\n",
                            "      <td>617,258.82</td>\n",
                            "      <td>620,176.66</td>\n",
                            "      <td>618,569.98</td>\n",
                            "      <td>612,878.16</td>\n",
                            "      <td>603,408.39</td>\n",
                            "    </tr>\n",
                            "    <tr>\n",
                            "      <th>21</th>\n",
                            "      <td>32059</td>\n",
                            "      <td>21</td>\n",
                            "      <td>Hollywood</td>\n",
                            "      <td>neighborhood</td>\n",
                            "      <td>CA</td>\n",
                            "      <td>CA</td>\n",
                            "      <td>Los Angeles</td>\n",
                            "      <td>Los Angeles-Long Beach-Anaheim, CA</td>\n",
                            "      <td>Los Angeles County</td>\n",
                            "      <td>230,073.46</td>\n",
                            "      <td>...</td>\n",
                            "      <td>977,985.55</td>\n",
                            "      <td>976,743.55</td>\n",
                            "      <td>978,381.64</td>\n",
                            "      <td>982,692.89</td>\n",
                            "      <td>983,672.88</td>\n",
                            "      <td>982,186.10</td>\n",
                            "      <td>978,676.07</td>\n",
                            "      <td>971,112.99</td>\n",
                            "      <td>962,090.07</td>\n",
                            "      <td>950,297.09</td>\n",
                            "    </tr>\n",
                            "    <tr>\n",
                            "      <th>41</th>\n",
                            "      <td>46795</td>\n",
                            "      <td>41</td>\n",
                            "      <td>North Hollywood</td>\n",
                            "      <td>neighborhood</td>\n",
                            "      <td>CA</td>\n",
                            "      <td>CA</td>\n",
                            "      <td>Los Angeles</td>\n",
                            "      <td>Los Angeles-Long Beach-Anaheim, CA</td>\n",
                            "      <td>Los Angeles County</td>\n",
                            "      <td>164,554.22</td>\n",
                            "      <td>...</td>\n",
                            "      <td>851,452.54</td>\n",
                            "      <td>855,050.71</td>\n",
                            "      <td>861,192.39</td>\n",
                            "      <td>869,556.65</td>\n",
                            "      <td>876,056.38</td>\n",
                            "      <td>880,851.50</td>\n",
                            "      <td>884,796.20</td>\n",
                            "      <td>882,428.93</td>\n",
                            "      <td>876,983.13</td>\n",
                            "      <td>868,226.44</td>\n",
                            "    </tr>\n",
                            "  </tbody>\n",
                            "</table>\n",
                            "<p>4 rows × 312 columns</p>\n",
                            "</div>"
                        ],
                        "text/plain": [
                            "    RegionID  SizeRank             RegionName    RegionType StateName State  \\\n",
                            "4     118208         4      South Los Angeles  neighborhood        CA    CA   \n",
                            "8     268496         8  Southeast Los Angeles  neighborhood        CA    CA   \n",
                            "21     32059        21              Hollywood  neighborhood        CA    CA   \n",
                            "41     46795        41        North Hollywood  neighborhood        CA    CA   \n",
                            "\n",
                            "           City                               Metro          CountyName  \\\n",
                            "4   Los Angeles  Los Angeles-Long Beach-Anaheim, CA  Los Angeles County   \n",
                            "8   Los Angeles  Los Angeles-Long Beach-Anaheim, CA  Los Angeles County   \n",
                            "21  Los Angeles  Los Angeles-Long Beach-Anaheim, CA  Los Angeles County   \n",
                            "41  Los Angeles  Los Angeles-Long Beach-Anaheim, CA  Los Angeles County   \n",
                            "\n",
                            "    2000-01-31  ...  2024-06-30  2024-07-31  2024-08-31  2024-09-30  \\\n",
                            "4   131,468.00  ...  670,999.25  673,646.31  678,946.96  685,630.61   \n",
                            "8   115,164.13  ...  596,429.79  599,207.61  603,319.34  608,728.92   \n",
                            "21  230,073.46  ...  977,985.55  976,743.55  978,381.64  982,692.89   \n",
                            "41  164,554.22  ...  851,452.54  855,050.71  861,192.39  869,556.65   \n",
                            "\n",
                            "    2024-10-31  2024-11-30  2024-12-31  2025-01-31  2025-02-28  2025-03-31  \n",
                            "4   691,096.82  694,881.77  697,629.09  696,065.29  691,088.58  682,069.76  \n",
                            "8   613,247.05  617,258.82  620,176.66  618,569.98  612,878.16  603,408.39  \n",
                            "21  983,672.88  982,186.10  978,676.07  971,112.99  962,090.07  950,297.09  \n",
                            "41  876,056.38  880,851.50  884,796.20  882,428.93  876,983.13  868,226.44  \n",
                            "\n",
                            "[4 rows x 312 columns]"
                        ]
                    },
                    "execution_count": 40,
                    "metadata": {},
                    "output_type": "execute_result"
                }
            ],
            "source": [
                "zhvi_df_angeles = zhvi_df[(zhvi_df[\"State\"] == \"CA\") & (zhvi_df[\"City\"] == \"Los Angeles\")]\n",
                "zhvi_df_angeles.head(4)"
            ]
        },
        {
            "cell_type": "code",
            "execution_count": 41,
            "metadata": {},
            "outputs": [
                {
                    "data": {
                        "text/plain": [
                            "{'RegionID': 99,\n",
                            " 'SizeRank': 99,\n",
                            " 'RegionName': 99,\n",
                            " 'RegionType': 1,\n",
                            " 'StateName': 1,\n",
                            " 'State': 1,\n",
                            " 'City': 1,\n",
                            " 'Metro': 1,\n",
                            " 'CountyName': 1}"
                        ]
                    },
                    "execution_count": 41,
                    "metadata": {},
                    "output_type": "execute_result"
                }
            ],
            "source": [
                "cat_df_angeles = zhvi_df_angeles.columns[:9]\n",
                "\n",
                "data = {cat : len(zhvi_df_angeles[cat].unique()) for cat in cat_df_angeles}\n",
                "\n",
                "data"
            ]
        },
        {
            "cell_type": "code",
            "execution_count": 45,
            "metadata": {},
            "outputs": [
                {
                    "data": {
                        "text/html": [
                            "<div>\n",
                            "<style scoped>\n",
                            "    .dataframe tbody tr th:only-of-type {\n",
                            "        vertical-align: middle;\n",
                            "    }\n",
                            "\n",
                            "    .dataframe tbody tr th {\n",
                            "        vertical-align: top;\n",
                            "    }\n",
                            "\n",
                            "    .dataframe thead th {\n",
                            "        text-align: right;\n",
                            "    }\n",
                            "</style>\n",
                            "<table border=\"1\" class=\"dataframe\">\n",
                            "  <thead>\n",
                            "    <tr style=\"text-align: right;\">\n",
                            "      <th></th>\n",
                            "      <th>RegionID</th>\n",
                            "      <th>SizeRank</th>\n",
                            "      <th>RegionName</th>\n",
                            "      <th>2000-01-31</th>\n",
                            "      <th>2000-02-29</th>\n",
                            "      <th>2000-03-31</th>\n",
                            "      <th>2000-04-30</th>\n",
                            "      <th>2000-05-31</th>\n",
                            "      <th>2000-06-30</th>\n",
                            "      <th>2000-07-31</th>\n",
                            "      <th>...</th>\n",
                            "      <th>2024-06-30</th>\n",
                            "      <th>2024-07-31</th>\n",
                            "      <th>2024-08-31</th>\n",
                            "      <th>2024-09-30</th>\n",
                            "      <th>2024-10-31</th>\n",
                            "      <th>2024-11-30</th>\n",
                            "      <th>2024-12-31</th>\n",
                            "      <th>2025-01-31</th>\n",
                            "      <th>2025-02-28</th>\n",
                            "      <th>2025-03-31</th>\n",
                            "    </tr>\n",
                            "  </thead>\n",
                            "  <tbody>\n",
                            "    <tr>\n",
                            "      <th>4</th>\n",
                            "      <td>118208</td>\n",
                            "      <td>4</td>\n",
                            "      <td>South Los Angeles</td>\n",
                            "      <td>131,468.00</td>\n",
                            "      <td>131,493.26</td>\n",
                            "      <td>131,751.27</td>\n",
                            "      <td>132,401.45</td>\n",
                            "      <td>133,341.40</td>\n",
                            "      <td>134,253.93</td>\n",
                            "      <td>135,138.93</td>\n",
                            "      <td>...</td>\n",
                            "      <td>670,999.25</td>\n",
                            "      <td>673,646.31</td>\n",
                            "      <td>678,946.96</td>\n",
                            "      <td>685,630.61</td>\n",
                            "      <td>691,096.82</td>\n",
                            "      <td>694,881.77</td>\n",
                            "      <td>697,629.09</td>\n",
                            "      <td>696,065.29</td>\n",
                            "      <td>691,088.58</td>\n",
                            "      <td>682,069.76</td>\n",
                            "    </tr>\n",
                            "    <tr>\n",
                            "      <th>8</th>\n",
                            "      <td>268496</td>\n",
                            "      <td>8</td>\n",
                            "      <td>Southeast Los Angeles</td>\n",
                            "      <td>115,164.13</td>\n",
                            "      <td>115,386.20</td>\n",
                            "      <td>115,727.94</td>\n",
                            "      <td>116,404.05</td>\n",
                            "      <td>117,196.34</td>\n",
                            "      <td>117,950.66</td>\n",
                            "      <td>118,684.52</td>\n",
                            "      <td>...</td>\n",
                            "      <td>596,429.79</td>\n",
                            "      <td>599,207.61</td>\n",
                            "      <td>603,319.34</td>\n",
                            "      <td>608,728.92</td>\n",
                            "      <td>613,247.05</td>\n",
                            "      <td>617,258.82</td>\n",
                            "      <td>620,176.66</td>\n",
                            "      <td>618,569.98</td>\n",
                            "      <td>612,878.16</td>\n",
                            "      <td>603,408.39</td>\n",
                            "    </tr>\n",
                            "    <tr>\n",
                            "      <th>21</th>\n",
                            "      <td>32059</td>\n",
                            "      <td>21</td>\n",
                            "      <td>Hollywood</td>\n",
                            "      <td>230,073.46</td>\n",
                            "      <td>231,296.47</td>\n",
                            "      <td>233,210.75</td>\n",
                            "      <td>236,519.41</td>\n",
                            "      <td>239,880.03</td>\n",
                            "      <td>242,462.72</td>\n",
                            "      <td>245,718.20</td>\n",
                            "      <td>...</td>\n",
                            "      <td>977,985.55</td>\n",
                            "      <td>976,743.55</td>\n",
                            "      <td>978,381.64</td>\n",
                            "      <td>982,692.89</td>\n",
                            "      <td>983,672.88</td>\n",
                            "      <td>982,186.10</td>\n",
                            "      <td>978,676.07</td>\n",
                            "      <td>971,112.99</td>\n",
                            "      <td>962,090.07</td>\n",
                            "      <td>950,297.09</td>\n",
                            "    </tr>\n",
                            "    <tr>\n",
                            "      <th>41</th>\n",
                            "      <td>46795</td>\n",
                            "      <td>41</td>\n",
                            "      <td>North Hollywood</td>\n",
                            "      <td>164,554.22</td>\n",
                            "      <td>165,268.11</td>\n",
                            "      <td>166,125.35</td>\n",
                            "      <td>167,912.91</td>\n",
                            "      <td>169,731.17</td>\n",
                            "      <td>171,618.41</td>\n",
                            "      <td>173,491.77</td>\n",
                            "      <td>...</td>\n",
                            "      <td>851,452.54</td>\n",
                            "      <td>855,050.71</td>\n",
                            "      <td>861,192.39</td>\n",
                            "      <td>869,556.65</td>\n",
                            "      <td>876,056.38</td>\n",
                            "      <td>880,851.50</td>\n",
                            "      <td>884,796.20</td>\n",
                            "      <td>882,428.93</td>\n",
                            "      <td>876,983.13</td>\n",
                            "      <td>868,226.44</td>\n",
                            "    </tr>\n",
                            "  </tbody>\n",
                            "</table>\n",
                            "<p>4 rows × 306 columns</p>\n",
                            "</div>"
                        ],
                        "text/plain": [
                            "    RegionID  SizeRank             RegionName  2000-01-31  2000-02-29  \\\n",
                            "4     118208         4      South Los Angeles  131,468.00  131,493.26   \n",
                            "8     268496         8  Southeast Los Angeles  115,164.13  115,386.20   \n",
                            "21     32059        21              Hollywood  230,073.46  231,296.47   \n",
                            "41     46795        41        North Hollywood  164,554.22  165,268.11   \n",
                            "\n",
                            "    2000-03-31  2000-04-30  2000-05-31  2000-06-30  2000-07-31  ...  \\\n",
                            "4   131,751.27  132,401.45  133,341.40  134,253.93  135,138.93  ...   \n",
                            "8   115,727.94  116,404.05  117,196.34  117,950.66  118,684.52  ...   \n",
                            "21  233,210.75  236,519.41  239,880.03  242,462.72  245,718.20  ...   \n",
                            "41  166,125.35  167,912.91  169,731.17  171,618.41  173,491.77  ...   \n",
                            "\n",
                            "    2024-06-30  2024-07-31  2024-08-31  2024-09-30  2024-10-31  2024-11-30  \\\n",
                            "4   670,999.25  673,646.31  678,946.96  685,630.61  691,096.82  694,881.77   \n",
                            "8   596,429.79  599,207.61  603,319.34  608,728.92  613,247.05  617,258.82   \n",
                            "21  977,985.55  976,743.55  978,381.64  982,692.89  983,672.88  982,186.10   \n",
                            "41  851,452.54  855,050.71  861,192.39  869,556.65  876,056.38  880,851.50   \n",
                            "\n",
                            "    2024-12-31  2025-01-31  2025-02-28  2025-03-31  \n",
                            "4   697,629.09  696,065.29  691,088.58  682,069.76  \n",
                            "8   620,176.66  618,569.98  612,878.16  603,408.39  \n",
                            "21  978,676.07  971,112.99  962,090.07  950,297.09  \n",
                            "41  884,796.20  882,428.93  876,983.13  868,226.44  \n",
                            "\n",
                            "[4 rows x 306 columns]"
                        ]
                    },
                    "execution_count": 45,
                    "metadata": {},
                    "output_type": "execute_result"
                }
            ],
            "source": [
                "zhvi_df_angeles = zhvi_df_angeles.drop([\"RegionType\", \"StateName\", \"State\", \"City\", \"Metro\", \"CountyName\"], axis=1)\n",
                "zhvi_df_angeles.head(4)"
            ]
        },
        {
            "cell_type": "code",
            "execution_count": 47,
            "metadata": {
                "cell_id": "3c65310874914ea485f072eeb6763bda",
                "deepnote_cell_type": "code",
                "execution_context_id": "4504afec-f325-4981-940b-0fa5b2171a69",
                "execution_millis": 1216,
                "execution_start": 1744998997891,
                "source_hash": "fe006d1b"
            },
            "outputs": [
                {
                    "name": "stdout",
                    "output_type": "stream",
                    "text": [
                        "<class 'pandas.core.frame.DataFrame'>\n",
                        "RangeIndex: 29997 entries, 0 to 29996\n",
                        "Data columns (total 5 columns):\n",
                        " #   Column      Non-Null Count  Dtype         \n",
                        "---  ------      --------------  -----         \n",
                        " 0   RegionID    29997 non-null  int64         \n",
                        " 1   SizeRank    29997 non-null  int64         \n",
                        " 2   RegionName  29997 non-null  object        \n",
                        " 3   date        29997 non-null  datetime64[ns]\n",
                        " 4   Price       29660 non-null  float64       \n",
                        "dtypes: datetime64[ns](1), float64(1), int64(2), object(1)\n",
                        "memory usage: 1.1+ MB\n"
                    ]
                }
            ],
            "source": [
                "#Obteniendo los nombres de las columnas las cuales\n",
                "columns = zhvi_df_angeles.columns[:3]\n",
                "\n",
                "#Convirtiendo el dataframe en un formato largo para el análisis de datos\n",
                "zhvi_df_angeles_long = zhvi_df_angeles.melt(id_vars=columns, var_name=\"date\", value_name=\"Price\")\n",
                "\n",
                "#Convirtiendo la columna de fecha a un formato de fecha\n",
                "zhvi_df_angeles_long[\"date\"] = pd.to_datetime(zhvi_df_angeles_long[\"date\"], errors=\"coerce\")\n",
                "\n",
                "#Presentando el dataframe\n",
                "zhvi_df_angeles_long.info()"
            ]
        },
        {
            "cell_type": "code",
            "execution_count": 48,
            "metadata": {},
            "outputs": [
                {
                    "data": {
                        "text/plain": [
                            "RegionID     0.00\n",
                            "SizeRank     0.00\n",
                            "RegionName   0.00\n",
                            "date         0.00\n",
                            "Price        0.01\n",
                            "dtype: float64"
                        ]
                    },
                    "execution_count": 48,
                    "metadata": {},
                    "output_type": "execute_result"
                }
            ],
            "source": [
                "zhvi_df_angeles_long.isnull().sum()/len(zhvi_df_angeles_long)"
            ]
        },
        {
            "cell_type": "code",
            "execution_count": null,
            "metadata": {
                "cell_id": "e03c4bc9dc3b4d088e2a02e2d22f06d5",
                "deepnote_cell_type": "code",
                "execution_context_id": "4504afec-f325-4981-940b-0fa5b2171a69",
                "execution_millis": 222,
                "execution_start": 1744999236339,
                "source_hash": "dc37194d"
            },
            "outputs": [],
            "source": [
                "zhvi_df_angeles_long[\"year\"] = zhvi_df_angeles_long[\"date\"].dt.year\n",
                "zhvi_df_angeles_long[\"month\"] = zhvi_df_angeles_long[\"date\"].dt.month"
            ]
        },
        {
            "cell_type": "markdown",
            "metadata": {
                "cell_id": "049bdb23247944a19356735ff51ecc69",
                "deepnote_cell_type": "text-cell-h3",
                "formattedRanges": []
            },
            "source": [
                "## Perfilado de los datos"
            ]
        },
        {
            "cell_type": "code",
            "execution_count": 49,
            "metadata": {
                "cell_id": "914f6a12cc714a7a9a3024474a3df03b",
                "deepnote_cell_type": "code",
                "execution_context_id": "4504afec-f325-4981-940b-0fa5b2171a69",
                "execution_millis": 550,
                "execution_start": 1744999006671,
                "source_hash": "f1a84310"
            },
            "outputs": [
                {
                    "data": {
                        "text/html": [
                            "<div>\n",
                            "<style scoped>\n",
                            "    .dataframe tbody tr th:only-of-type {\n",
                            "        vertical-align: middle;\n",
                            "    }\n",
                            "\n",
                            "    .dataframe tbody tr th {\n",
                            "        vertical-align: top;\n",
                            "    }\n",
                            "\n",
                            "    .dataframe thead th {\n",
                            "        text-align: right;\n",
                            "    }\n",
                            "</style>\n",
                            "<table border=\"1\" class=\"dataframe\">\n",
                            "  <thead>\n",
                            "    <tr style=\"text-align: right;\">\n",
                            "      <th></th>\n",
                            "      <th>RegionID</th>\n",
                            "      <th>SizeRank</th>\n",
                            "      <th>date</th>\n",
                            "      <th>Price</th>\n",
                            "    </tr>\n",
                            "  </thead>\n",
                            "  <tbody>\n",
                            "    <tr>\n",
                            "      <th>count</th>\n",
                            "      <td>29,997.00</td>\n",
                            "      <td>29,997.00</td>\n",
                            "      <td>29997</td>\n",
                            "      <td>29,660.00</td>\n",
                            "    </tr>\n",
                            "    <tr>\n",
                            "      <th>mean</th>\n",
                            "      <td>196,956.57</td>\n",
                            "      <td>1,315.70</td>\n",
                            "      <td>2012-08-30 04:35:38.613861376</td>\n",
                            "      <td>670,304.00</td>\n",
                            "    </tr>\n",
                            "    <tr>\n",
                            "      <th>min</th>\n",
                            "      <td>7,877.00</td>\n",
                            "      <td>4.00</td>\n",
                            "      <td>2000-01-31 00:00:00</td>\n",
                            "      <td>102,782.19</td>\n",
                            "    </tr>\n",
                            "    <tr>\n",
                            "      <th>25%</th>\n",
                            "      <td>41,466.00</td>\n",
                            "      <td>172.00</td>\n",
                            "      <td>2006-04-30 00:00:00</td>\n",
                            "      <td>357,933.79</td>\n",
                            "    </tr>\n",
                            "    <tr>\n",
                            "      <th>50%</th>\n",
                            "      <td>118,849.00</td>\n",
                            "      <td>389.00</td>\n",
                            "      <td>2012-08-31 00:00:00</td>\n",
                            "      <td>551,034.62</td>\n",
                            "    </tr>\n",
                            "    <tr>\n",
                            "      <th>75%</th>\n",
                            "      <td>274,049.00</td>\n",
                            "      <td>1,283.00</td>\n",
                            "      <td>2018-12-31 00:00:00</td>\n",
                            "      <td>829,798.73</td>\n",
                            "    </tr>\n",
                            "    <tr>\n",
                            "      <th>max</th>\n",
                            "      <td>787,940.00</td>\n",
                            "      <td>16,104.00</td>\n",
                            "      <td>2025-03-31 00:00:00</td>\n",
                            "      <td>4,249,986.85</td>\n",
                            "    </tr>\n",
                            "    <tr>\n",
                            "      <th>std</th>\n",
                            "      <td>173,062.18</td>\n",
                            "      <td>2,633.73</td>\n",
                            "      <td>NaN</td>\n",
                            "      <td>474,124.93</td>\n",
                            "    </tr>\n",
                            "  </tbody>\n",
                            "</table>\n",
                            "</div>"
                        ],
                        "text/plain": [
                            "        RegionID  SizeRank                           date        Price\n",
                            "count  29,997.00 29,997.00                          29997    29,660.00\n",
                            "mean  196,956.57  1,315.70  2012-08-30 04:35:38.613861376   670,304.00\n",
                            "min     7,877.00      4.00            2000-01-31 00:00:00   102,782.19\n",
                            "25%    41,466.00    172.00            2006-04-30 00:00:00   357,933.79\n",
                            "50%   118,849.00    389.00            2012-08-31 00:00:00   551,034.62\n",
                            "75%   274,049.00  1,283.00            2018-12-31 00:00:00   829,798.73\n",
                            "max   787,940.00 16,104.00            2025-03-31 00:00:00 4,249,986.85\n",
                            "std   173,062.18  2,633.73                            NaN   474,124.93"
                        ]
                    },
                    "execution_count": 49,
                    "metadata": {},
                    "output_type": "execute_result"
                }
            ],
            "source": [
                "zhvi_df_angeles_long.describe()"
            ]
        },
        {
            "cell_type": "code",
            "execution_count": 50,
            "metadata": {},
            "outputs": [
                {
                    "data": {
                        "text/plain": [
                            "np.float64(9.380194401833513)"
                        ]
                    },
                    "execution_count": 50,
                    "metadata": {},
                    "output_type": "execute_result"
                }
            ],
            "source": [
                "zhvi_df_angeles_long[\"Price\"].kurtosis()"
            ]
        },
        {
            "cell_type": "code",
            "execution_count": 51,
            "metadata": {},
            "outputs": [
                {
                    "data": {
                        "text/plain": [
                            "np.float64(2.4065381297372253)"
                        ]
                    },
                    "execution_count": 51,
                    "metadata": {},
                    "output_type": "execute_result"
                }
            ],
            "source": [
                "zhvi_df_angeles_long[\"Price\"].skew()"
            ]
        },
        {
            "cell_type": "markdown",
            "metadata": {},
            "source": [
                "Se toma el 49 y 50"
            ]
        },
        {
            "cell_type": "code",
            "execution_count": 60,
            "metadata": {},
            "outputs": [
                {
                    "data": {
                        "text/plain": [
                            "49.5"
                        ]
                    },
                    "execution_count": 60,
                    "metadata": {},
                    "output_type": "execute_result"
                }
            ],
            "source": [
                "len(zhvi_df_angeles_long[\"RegionName\"].unique())/2"
            ]
        },
        {
            "cell_type": "code",
            "execution_count": 87,
            "metadata": {},
            "outputs": [
                {
                    "data": {
                        "text/html": [
                            "<div>\n",
                            "<style scoped>\n",
                            "    .dataframe tbody tr th:only-of-type {\n",
                            "        vertical-align: middle;\n",
                            "    }\n",
                            "\n",
                            "    .dataframe tbody tr th {\n",
                            "        vertical-align: top;\n",
                            "    }\n",
                            "\n",
                            "    .dataframe thead tr th {\n",
                            "        text-align: left;\n",
                            "    }\n",
                            "\n",
                            "    .dataframe thead tr:last-of-type th {\n",
                            "        text-align: right;\n",
                            "    }\n",
                            "</style>\n",
                            "<table border=\"1\" class=\"dataframe\">\n",
                            "  <thead>\n",
                            "    <tr>\n",
                            "      <th></th>\n",
                            "      <th colspan=\"4\" halign=\"left\">Price</th>\n",
                            "    </tr>\n",
                            "    <tr>\n",
                            "      <th></th>\n",
                            "      <th>mean</th>\n",
                            "      <th>std</th>\n",
                            "      <th>min</th>\n",
                            "      <th>max</th>\n",
                            "    </tr>\n",
                            "    <tr>\n",
                            "      <th>RegionName</th>\n",
                            "      <th></th>\n",
                            "      <th></th>\n",
                            "      <th></th>\n",
                            "      <th></th>\n",
                            "    </tr>\n",
                            "  </thead>\n",
                            "  <tbody>\n",
                            "    <tr>\n",
                            "      <th>Bel Air</th>\n",
                            "      <td>2,287,136.11</td>\n",
                            "      <td>953,235.18</td>\n",
                            "      <td>967,291.34</td>\n",
                            "      <td>4,249,986.85</td>\n",
                            "    </tr>\n",
                            "    <tr>\n",
                            "      <th>Pacific Palisades</th>\n",
                            "      <td>2,037,686.99</td>\n",
                            "      <td>855,392.75</td>\n",
                            "      <td>867,298.34</td>\n",
                            "      <td>3,841,522.87</td>\n",
                            "    </tr>\n",
                            "    <tr>\n",
                            "      <th>Beverly Crest</th>\n",
                            "      <td>1,616,843.27</td>\n",
                            "      <td>717,436.99</td>\n",
                            "      <td>643,850.12</td>\n",
                            "      <td>3,085,203.31</td>\n",
                            "    </tr>\n",
                            "  </tbody>\n",
                            "</table>\n",
                            "</div>"
                        ],
                        "text/plain": [
                            "                         Price                                   \n",
                            "                          mean        std        min          max\n",
                            "RegionName                                                       \n",
                            "Bel Air           2,287,136.11 953,235.18 967,291.34 4,249,986.85\n",
                            "Pacific Palisades 2,037,686.99 855,392.75 867,298.34 3,841,522.87\n",
                            "Beverly Crest     1,616,843.27 717,436.99 643,850.12 3,085,203.31"
                        ]
                    },
                    "execution_count": 87,
                    "metadata": {},
                    "output_type": "execute_result"
                }
            ],
            "source": [
                "zhvi_groupby_angeles_min = zhvi_df_angeles_long.groupby(\"RegionName\").agg({\"Price\" : [\"mean\", \"std\", \"min\", \"max\"]}).sort_values((\"Price\", \"mean\"), ascending=False)\n",
                "\n",
                "index_min = zhvi_groupby_angeles_min.index[:3]\n",
                "\n",
                "zhvi_groupby_angeles_min.head(3)"
            ]
        },
        {
            "cell_type": "code",
            "execution_count": 88,
            "metadata": {},
            "outputs": [
                {
                    "data": {
                        "text/html": [
                            "<div>\n",
                            "<style scoped>\n",
                            "    .dataframe tbody tr th:only-of-type {\n",
                            "        vertical-align: middle;\n",
                            "    }\n",
                            "\n",
                            "    .dataframe tbody tr th {\n",
                            "        vertical-align: top;\n",
                            "    }\n",
                            "\n",
                            "    .dataframe thead tr th {\n",
                            "        text-align: left;\n",
                            "    }\n",
                            "\n",
                            "    .dataframe thead tr:last-of-type th {\n",
                            "        text-align: right;\n",
                            "    }\n",
                            "</style>\n",
                            "<table border=\"1\" class=\"dataframe\">\n",
                            "  <thead>\n",
                            "    <tr>\n",
                            "      <th></th>\n",
                            "      <th colspan=\"4\" halign=\"left\">Price</th>\n",
                            "    </tr>\n",
                            "    <tr>\n",
                            "      <th></th>\n",
                            "      <th>mean</th>\n",
                            "      <th>std</th>\n",
                            "      <th>min</th>\n",
                            "      <th>max</th>\n",
                            "    </tr>\n",
                            "    <tr>\n",
                            "      <th>RegionName</th>\n",
                            "      <th></th>\n",
                            "      <th></th>\n",
                            "      <th></th>\n",
                            "      <th></th>\n",
                            "    </tr>\n",
                            "  </thead>\n",
                            "  <tbody>\n",
                            "    <tr>\n",
                            "      <th>University Park</th>\n",
                            "      <td>557,384.36</td>\n",
                            "      <td>249,659.61</td>\n",
                            "      <td>218,743.13</td>\n",
                            "      <td>1,021,346.00</td>\n",
                            "    </tr>\n",
                            "    <tr>\n",
                            "      <th>Koreatown</th>\n",
                            "      <td>557,955.31</td>\n",
                            "      <td>194,054.32</td>\n",
                            "      <td>197,149.85</td>\n",
                            "      <td>867,035.16</td>\n",
                            "    </tr>\n",
                            "    <tr>\n",
                            "      <th>Granada Hills</th>\n",
                            "      <td>559,854.98</td>\n",
                            "      <td>206,100.52</td>\n",
                            "      <td>248,005.26</td>\n",
                            "      <td>1,029,196.36</td>\n",
                            "    </tr>\n",
                            "  </tbody>\n",
                            "</table>\n",
                            "</div>"
                        ],
                        "text/plain": [
                            "                     Price                                   \n",
                            "                      mean        std        min          max\n",
                            "RegionName                                                   \n",
                            "University Park 557,384.36 249,659.61 218,743.13 1,021,346.00\n",
                            "Koreatown       557,955.31 194,054.32 197,149.85   867,035.16\n",
                            "Granada Hills   559,854.98 206,100.52 248,005.26 1,029,196.36"
                        ]
                    },
                    "execution_count": 88,
                    "metadata": {},
                    "output_type": "execute_result"
                }
            ],
            "source": [
                "zhvi_groupby_angeles_mean = zhvi_df_angeles_long.groupby(\"RegionName\").agg({\"Price\" : [\"mean\", \"std\", \"min\", \"max\"]}).sort_values((\"Price\", \"mean\"), ascending=True)\n",
                "\n",
                "index_mean = zhvi_groupby_angeles_mean.index[48:51]\n",
                "\n",
                "zhvi_groupby_angeles_mean.iloc[48:51,:]"
            ]
        },
        {
            "cell_type": "code",
            "execution_count": 89,
            "metadata": {},
            "outputs": [
                {
                    "data": {
                        "text/html": [
                            "<div>\n",
                            "<style scoped>\n",
                            "    .dataframe tbody tr th:only-of-type {\n",
                            "        vertical-align: middle;\n",
                            "    }\n",
                            "\n",
                            "    .dataframe tbody tr th {\n",
                            "        vertical-align: top;\n",
                            "    }\n",
                            "\n",
                            "    .dataframe thead tr th {\n",
                            "        text-align: left;\n",
                            "    }\n",
                            "\n",
                            "    .dataframe thead tr:last-of-type th {\n",
                            "        text-align: right;\n",
                            "    }\n",
                            "</style>\n",
                            "<table border=\"1\" class=\"dataframe\">\n",
                            "  <thead>\n",
                            "    <tr>\n",
                            "      <th></th>\n",
                            "      <th colspan=\"4\" halign=\"left\">Price</th>\n",
                            "    </tr>\n",
                            "    <tr>\n",
                            "      <th></th>\n",
                            "      <th>mean</th>\n",
                            "      <th>std</th>\n",
                            "      <th>min</th>\n",
                            "      <th>max</th>\n",
                            "    </tr>\n",
                            "    <tr>\n",
                            "      <th>RegionName</th>\n",
                            "      <th></th>\n",
                            "      <th></th>\n",
                            "      <th></th>\n",
                            "      <th></th>\n",
                            "    </tr>\n",
                            "  </thead>\n",
                            "  <tbody>\n",
                            "    <tr>\n",
                            "      <th>Watts</th>\n",
                            "      <td>275,245.29</td>\n",
                            "      <td>150,477.43</td>\n",
                            "      <td>102,848.65</td>\n",
                            "      <td>601,812.90</td>\n",
                            "    </tr>\n",
                            "    <tr>\n",
                            "      <th>Southeast Los Angeles</th>\n",
                            "      <td>300,023.32</td>\n",
                            "      <td>152,996.16</td>\n",
                            "      <td>115,164.13</td>\n",
                            "      <td>620,176.66</td>\n",
                            "    </tr>\n",
                            "    <tr>\n",
                            "      <th>Central City</th>\n",
                            "      <td>306,644.74</td>\n",
                            "      <td>150,611.28</td>\n",
                            "      <td>119,938.63</td>\n",
                            "      <td>613,575.41</td>\n",
                            "    </tr>\n",
                            "  </tbody>\n",
                            "</table>\n",
                            "</div>"
                        ],
                        "text/plain": [
                            "                           Price                                 \n",
                            "                            mean        std        min        max\n",
                            "RegionName                                                       \n",
                            "Watts                 275,245.29 150,477.43 102,848.65 601,812.90\n",
                            "Southeast Los Angeles 300,023.32 152,996.16 115,164.13 620,176.66\n",
                            "Central City          306,644.74 150,611.28 119,938.63 613,575.41"
                        ]
                    },
                    "execution_count": 89,
                    "metadata": {},
                    "output_type": "execute_result"
                }
            ],
            "source": [
                "zhvi_groupby_angeles_max = zhvi_df_angeles_long.groupby(\"RegionName\").agg({\"Price\" : [\"mean\", \"std\", \"min\", \"max\"]}).sort_values((\"Price\", \"mean\"), ascending=True)\n",
                "\n",
                "index_max = zhvi_groupby_angeles_max.index[:3]\n",
                "\n",
                "zhvi_groupby_angeles_max.head(3)"
            ]
        },
        {
            "cell_type": "code",
            "execution_count": 91,
            "metadata": {},
            "outputs": [
                {
                    "data": {
                        "text/html": [
                            "<div>\n",
                            "<style scoped>\n",
                            "    .dataframe tbody tr th:only-of-type {\n",
                            "        vertical-align: middle;\n",
                            "    }\n",
                            "\n",
                            "    .dataframe tbody tr th {\n",
                            "        vertical-align: top;\n",
                            "    }\n",
                            "\n",
                            "    .dataframe thead th {\n",
                            "        text-align: right;\n",
                            "    }\n",
                            "</style>\n",
                            "<table border=\"1\" class=\"dataframe\">\n",
                            "  <thead>\n",
                            "    <tr style=\"text-align: right;\">\n",
                            "      <th></th>\n",
                            "      <th>RegionID</th>\n",
                            "      <th>SizeRank</th>\n",
                            "      <th>RegionName</th>\n",
                            "      <th>date</th>\n",
                            "      <th>Price</th>\n",
                            "    </tr>\n",
                            "  </thead>\n",
                            "  <tbody>\n",
                            "    <tr>\n",
                            "      <th>1</th>\n",
                            "      <td>268496</td>\n",
                            "      <td>8</td>\n",
                            "      <td>Southeast Los Angeles</td>\n",
                            "      <td>2000-01-31</td>\n",
                            "      <td>115,164.13</td>\n",
                            "    </tr>\n",
                            "    <tr>\n",
                            "      <th>13</th>\n",
                            "      <td>268236</td>\n",
                            "      <td>84</td>\n",
                            "      <td>Koreatown</td>\n",
                            "      <td>2000-01-31</td>\n",
                            "      <td>197,149.85</td>\n",
                            "    </tr>\n",
                            "    <tr>\n",
                            "      <th>19</th>\n",
                            "      <td>273197</td>\n",
                            "      <td>137</td>\n",
                            "      <td>Central City</td>\n",
                            "      <td>2000-01-31</td>\n",
                            "      <td>119,938.63</td>\n",
                            "    </tr>\n",
                            "    <tr>\n",
                            "      <th>24</th>\n",
                            "      <td>31817</td>\n",
                            "      <td>172</td>\n",
                            "      <td>Granada Hills</td>\n",
                            "      <td>2000-01-31</td>\n",
                            "      <td>248,005.26</td>\n",
                            "    </tr>\n",
                            "    <tr>\n",
                            "      <th>38</th>\n",
                            "      <td>118849</td>\n",
                            "      <td>285</td>\n",
                            "      <td>Watts</td>\n",
                            "      <td>2000-01-31</td>\n",
                            "      <td>102,848.65</td>\n",
                            "    </tr>\n",
                            "    <tr>\n",
                            "      <th>...</th>\n",
                            "      <td>...</td>\n",
                            "      <td>...</td>\n",
                            "      <td>...</td>\n",
                            "      <td>...</td>\n",
                            "      <td>...</td>\n",
                            "    </tr>\n",
                            "    <tr>\n",
                            "      <th>29936</th>\n",
                            "      <td>118849</td>\n",
                            "      <td>285</td>\n",
                            "      <td>Watts</td>\n",
                            "      <td>2025-03-31</td>\n",
                            "      <td>588,973.98</td>\n",
                            "    </tr>\n",
                            "    <tr>\n",
                            "      <th>29956</th>\n",
                            "      <td>268540</td>\n",
                            "      <td>494</td>\n",
                            "      <td>University Park</td>\n",
                            "      <td>2025-03-31</td>\n",
                            "      <td>988,209.26</td>\n",
                            "    </tr>\n",
                            "    <tr>\n",
                            "      <th>29964</th>\n",
                            "      <td>19810</td>\n",
                            "      <td>614</td>\n",
                            "      <td>Pacific Palisades</td>\n",
                            "      <td>2025-03-31</td>\n",
                            "      <td>3,644,430.87</td>\n",
                            "    </tr>\n",
                            "    <tr>\n",
                            "      <th>29977</th>\n",
                            "      <td>113749</td>\n",
                            "      <td>1670</td>\n",
                            "      <td>Beverly Crest</td>\n",
                            "      <td>2025-03-31</td>\n",
                            "      <td>2,826,861.03</td>\n",
                            "    </tr>\n",
                            "    <tr>\n",
                            "      <th>29987</th>\n",
                            "      <td>113688</td>\n",
                            "      <td>3419</td>\n",
                            "      <td>Bel Air</td>\n",
                            "      <td>2025-03-31</td>\n",
                            "      <td>3,989,310.75</td>\n",
                            "    </tr>\n",
                            "  </tbody>\n",
                            "</table>\n",
                            "<p>2727 rows × 5 columns</p>\n",
                            "</div>"
                        ],
                        "text/plain": [
                            "       RegionID  SizeRank             RegionName       date        Price\n",
                            "1        268496         8  Southeast Los Angeles 2000-01-31   115,164.13\n",
                            "13       268236        84              Koreatown 2000-01-31   197,149.85\n",
                            "19       273197       137           Central City 2000-01-31   119,938.63\n",
                            "24        31817       172          Granada Hills 2000-01-31   248,005.26\n",
                            "38       118849       285                  Watts 2000-01-31   102,848.65\n",
                            "...         ...       ...                    ...        ...          ...\n",
                            "29936    118849       285                  Watts 2025-03-31   588,973.98\n",
                            "29956    268540       494        University Park 2025-03-31   988,209.26\n",
                            "29964     19810       614      Pacific Palisades 2025-03-31 3,644,430.87\n",
                            "29977    113749      1670          Beverly Crest 2025-03-31 2,826,861.03\n",
                            "29987    113688      3419                Bel Air 2025-03-31 3,989,310.75\n",
                            "\n",
                            "[2727 rows x 5 columns]"
                        ]
                    },
                    "execution_count": 91,
                    "metadata": {},
                    "output_type": "execute_result"
                }
            ],
            "source": [
                "zhvi_df_angeles_long_muestra = zhvi_df_angeles_long[zhvi_df_angeles_long[\"RegionName\"].isin([*index_min, *index_mean, *index_max])]\n",
                "zhvi_df_angeles_long_muestra"
            ]
        },
        {
            "cell_type": "code",
            "execution_count": 92,
            "metadata": {},
            "outputs": [
                {
                    "data": {
                        "text/plain": [
                            "<Axes: xlabel='date', ylabel='Price'>"
                        ]
                    },
                    "execution_count": 92,
                    "metadata": {},
                    "output_type": "execute_result"
                },
                {
                    "data": {
                        "image/png": "[encoded data removed]",
                        "text/plain": [
                            "<Figure size 1200x600 with 1 Axes>"
                        ]
                    },
                    "metadata": {},
                    "output_type": "display_data"
                }
            ],
            "source": [
                "plt.figure(figsize=(12, 6))\n",
                "\n",
                "sns.lineplot(data=zhvi_df_angeles_long_muestra, x=\"date\", y=\"Price\", hue=\"RegionName\", palette=\"tab10\", alpha=0.5)"
            ]
        },
        {
            "cell_type": "markdown",
            "metadata": {},
            "source": [
                "## Tratamiento de datos nulos | Imputación por regresión\n",
                "\n",
                "Para el tratamiento de los datos nulos, se opta por la imputación por regresión, dado que se tiene una gran cantidad de datos y por tanto, es posible realizar un análisis de regresión para estimar los valores mas versimiles. En este sentido, el primer paso es identificar la naturaleza de los datos faltantes, "
            ]
        },
        {
            "cell_type": "code",
            "execution_count": 93,
            "metadata": {},
            "outputs": [
                {
                    "data": {
                        "text/plain": [
                            "RegionID     0.00\n",
                            "SizeRank     0.00\n",
                            "RegionName   0.00\n",
                            "date         0.00\n",
                            "Price        0.01\n",
                            "dtype: float64"
                        ]
                    },
                    "execution_count": 93,
                    "metadata": {},
                    "output_type": "execute_result"
                }
            ],
            "source": [
                "zhvi_df_angeles_long.isnull().sum()/len(zhvi_df_angeles_long)"
            ]
        },
        {
            "cell_type": "code",
            "execution_count": 95,
            "metadata": {},
            "outputs": [
                {
                    "data": {
                        "text/plain": [
                            "array(['Chinatown', 'Playa Vista'], dtype=object)"
                        ]
                    },
                    "execution_count": 95,
                    "metadata": {},
                    "output_type": "execute_result"
                }
            ],
            "source": [
                "city_with_null_values = zhvi_df_angeles_long[zhvi_df_angeles_long[\"Price\"].isnull()][\"RegionName\"].unique()\n",
                "city_with_null_values"
            ]
        },
        {
            "cell_type": "code",
            "execution_count": 96,
            "metadata": {},
            "outputs": [
                {
                    "data": {
                        "text/html": [
                            "<div>\n",
                            "<style scoped>\n",
                            "    .dataframe tbody tr th:only-of-type {\n",
                            "        vertical-align: middle;\n",
                            "    }\n",
                            "\n",
                            "    .dataframe tbody tr th {\n",
                            "        vertical-align: top;\n",
                            "    }\n",
                            "\n",
                            "    .dataframe thead th {\n",
                            "        text-align: right;\n",
                            "    }\n",
                            "</style>\n",
                            "<table border=\"1\" class=\"dataframe\">\n",
                            "  <thead>\n",
                            "    <tr style=\"text-align: right;\">\n",
                            "      <th></th>\n",
                            "      <th>RegionID</th>\n",
                            "      <th>SizeRank</th>\n",
                            "      <th>RegionName</th>\n",
                            "      <th>date</th>\n",
                            "      <th>Price</th>\n",
                            "    </tr>\n",
                            "  </thead>\n",
                            "  <tbody>\n",
                            "    <tr>\n",
                            "      <th>83</th>\n",
                            "      <td>276257</td>\n",
                            "      <td>2208</td>\n",
                            "      <td>Chinatown</td>\n",
                            "      <td>2000-01-31</td>\n",
                            "      <td>NaN</td>\n",
                            "    </tr>\n",
                            "    <tr>\n",
                            "      <th>84</th>\n",
                            "      <td>13327</td>\n",
                            "      <td>2338</td>\n",
                            "      <td>Playa Vista</td>\n",
                            "      <td>2000-01-31</td>\n",
                            "      <td>NaN</td>\n",
                            "    </tr>\n",
                            "    <tr>\n",
                            "      <th>182</th>\n",
                            "      <td>276257</td>\n",
                            "      <td>2208</td>\n",
                            "      <td>Chinatown</td>\n",
                            "      <td>2000-02-29</td>\n",
                            "      <td>NaN</td>\n",
                            "    </tr>\n",
                            "    <tr>\n",
                            "      <th>183</th>\n",
                            "      <td>13327</td>\n",
                            "      <td>2338</td>\n",
                            "      <td>Playa Vista</td>\n",
                            "      <td>2000-02-29</td>\n",
                            "      <td>NaN</td>\n",
                            "    </tr>\n",
                            "    <tr>\n",
                            "      <th>281</th>\n",
                            "      <td>276257</td>\n",
                            "      <td>2208</td>\n",
                            "      <td>Chinatown</td>\n",
                            "      <td>2000-03-31</td>\n",
                            "      <td>NaN</td>\n",
                            "    </tr>\n",
                            "    <tr>\n",
                            "      <th>...</th>\n",
                            "      <td>...</td>\n",
                            "      <td>...</td>\n",
                            "      <td>...</td>\n",
                            "      <td>...</td>\n",
                            "      <td>...</td>\n",
                            "    </tr>\n",
                            "    <tr>\n",
                            "      <th>29784</th>\n",
                            "      <td>13327</td>\n",
                            "      <td>2338</td>\n",
                            "      <td>Playa Vista</td>\n",
                            "      <td>2025-01-31</td>\n",
                            "      <td>1,382,269.75</td>\n",
                            "    </tr>\n",
                            "    <tr>\n",
                            "      <th>29882</th>\n",
                            "      <td>276257</td>\n",
                            "      <td>2208</td>\n",
                            "      <td>Chinatown</td>\n",
                            "      <td>2025-02-28</td>\n",
                            "      <td>843,262.95</td>\n",
                            "    </tr>\n",
                            "    <tr>\n",
                            "      <th>29883</th>\n",
                            "      <td>13327</td>\n",
                            "      <td>2338</td>\n",
                            "      <td>Playa Vista</td>\n",
                            "      <td>2025-02-28</td>\n",
                            "      <td>1,380,526.49</td>\n",
                            "    </tr>\n",
                            "    <tr>\n",
                            "      <th>29981</th>\n",
                            "      <td>276257</td>\n",
                            "      <td>2208</td>\n",
                            "      <td>Chinatown</td>\n",
                            "      <td>2025-03-31</td>\n",
                            "      <td>830,083.90</td>\n",
                            "    </tr>\n",
                            "    <tr>\n",
                            "      <th>29982</th>\n",
                            "      <td>13327</td>\n",
                            "      <td>2338</td>\n",
                            "      <td>Playa Vista</td>\n",
                            "      <td>2025-03-31</td>\n",
                            "      <td>1,374,660.00</td>\n",
                            "    </tr>\n",
                            "  </tbody>\n",
                            "</table>\n",
                            "<p>606 rows × 5 columns</p>\n",
                            "</div>"
                        ],
                        "text/plain": [
                            "       RegionID  SizeRank   RegionName       date        Price\n",
                            "83       276257      2208    Chinatown 2000-01-31          NaN\n",
                            "84        13327      2338  Playa Vista 2000-01-31          NaN\n",
                            "182      276257      2208    Chinatown 2000-02-29          NaN\n",
                            "183       13327      2338  Playa Vista 2000-02-29          NaN\n",
                            "281      276257      2208    Chinatown 2000-03-31          NaN\n",
                            "...         ...       ...          ...        ...          ...\n",
                            "29784     13327      2338  Playa Vista 2025-01-31 1,382,269.75\n",
                            "29882    276257      2208    Chinatown 2025-02-28   843,262.95\n",
                            "29883     13327      2338  Playa Vista 2025-02-28 1,380,526.49\n",
                            "29981    276257      2208    Chinatown 2025-03-31   830,083.90\n",
                            "29982     13327      2338  Playa Vista 2025-03-31 1,374,660.00\n",
                            "\n",
                            "[606 rows x 5 columns]"
                        ]
                    },
                    "execution_count": 96,
                    "metadata": {},
                    "output_type": "execute_result"
                }
            ],
            "source": [
                "zhvi_df_city_null_values = zhvi_df_angeles_long[zhvi_df_angeles_long[\"RegionName\"].isin([*city_with_null_values])]\n",
                "zhvi_df_city_null_values"
            ]
        },
        {
            "cell_type": "code",
            "execution_count": 100,
            "metadata": {},
            "outputs": [
                {
                    "name": "stderr",
                    "output_type": "stream",
                    "text": [
                        "/tmp/ipykernel_7539/2936462951.py:1: SettingWithCopyWarning: \n",
                        "A value is trying to be set on a copy of a slice from a DataFrame.\n",
                        "Try using .loc[row_indexer,col_indexer] = value instead\n",
                        "\n",
                        "See the caveats in the documentation: https://pandas.pydata.org/pandas-docs/stable/user_guide/indexing.html#returning-a-view-versus-a-copy\n",
                        "  zhvi_df_city_null_values[\"Year\"] = zhvi_df_city_null_values[\"date\"].dt.year\n",
                        "/tmp/ipykernel_7539/2936462951.py:2: SettingWithCopyWarning: \n",
                        "A value is trying to be set on a copy of a slice from a DataFrame.\n",
                        "Try using .loc[row_indexer,col_indexer] = value instead\n",
                        "\n",
                        "See the caveats in the documentation: https://pandas.pydata.org/pandas-docs/stable/user_guide/indexing.html#returning-a-view-versus-a-copy\n",
                        "  zhvi_df_city_null_values[\"Month\"] = zhvi_df_city_null_values[\"date\"].dt.month\n"
                    ]
                }
            ],
            "source": [
                "zhvi_df_city_null_values[\"Year\"] = zhvi_df_city_null_values[\"date\"].dt.year\n",
                "zhvi_df_city_null_values[\"Month\"] = zhvi_df_city_null_values[\"date\"].dt.month"
            ]
        },
        {
            "cell_type": "code",
            "execution_count": 101,
            "metadata": {},
            "outputs": [
                {
                    "data": {
                        "text/plain": [
                            "RegionID     0.00\n",
                            "SizeRank     0.00\n",
                            "RegionName   0.00\n",
                            "date         0.00\n",
                            "Price        0.56\n",
                            "Year         0.00\n",
                            "Month        0.00\n",
                            "dtype: float64"
                        ]
                    },
                    "execution_count": 101,
                    "metadata": {},
                    "output_type": "execute_result"
                }
            ],
            "source": [
                "zhvi_df_city_null_values.isnull().sum()/len(zhvi_df_city_null_values)"
            ]
        },
        {
            "cell_type": "code",
            "execution_count": 105,
            "metadata": {},
            "outputs": [
                {
                    "data": {
                        "text/html": [
                            "<div>\n",
                            "<style scoped>\n",
                            "    .dataframe tbody tr th:only-of-type {\n",
                            "        vertical-align: middle;\n",
                            "    }\n",
                            "\n",
                            "    .dataframe tbody tr th {\n",
                            "        vertical-align: top;\n",
                            "    }\n",
                            "\n",
                            "    .dataframe thead tr th {\n",
                            "        text-align: left;\n",
                            "    }\n",
                            "\n",
                            "    .dataframe thead tr:last-of-type th {\n",
                            "        text-align: right;\n",
                            "    }\n",
                            "</style>\n",
                            "<table border=\"1\" class=\"dataframe\">\n",
                            "  <thead>\n",
                            "    <tr>\n",
                            "      <th></th>\n",
                            "      <th colspan=\"2\" halign=\"left\">count</th>\n",
                            "      <th colspan=\"2\" halign=\"left\">mean</th>\n",
                            "    </tr>\n",
                            "    <tr>\n",
                            "      <th>RegionName</th>\n",
                            "      <th>Chinatown</th>\n",
                            "      <th>Playa Vista</th>\n",
                            "      <th>Chinatown</th>\n",
                            "      <th>Playa Vista</th>\n",
                            "    </tr>\n",
                            "    <tr>\n",
                            "      <th>Year</th>\n",
                            "      <th></th>\n",
                            "      <th></th>\n",
                            "      <th></th>\n",
                            "      <th></th>\n",
                            "    </tr>\n",
                            "  </thead>\n",
                            "  <tbody>\n",
                            "    <tr>\n",
                            "      <th>2000</th>\n",
                            "      <td>0</td>\n",
                            "      <td>0</td>\n",
                            "      <td>NaN</td>\n",
                            "      <td>NaN</td>\n",
                            "    </tr>\n",
                            "    <tr>\n",
                            "      <th>2001</th>\n",
                            "      <td>0</td>\n",
                            "      <td>0</td>\n",
                            "      <td>NaN</td>\n",
                            "      <td>NaN</td>\n",
                            "    </tr>\n",
                            "    <tr>\n",
                            "      <th>2002</th>\n",
                            "      <td>0</td>\n",
                            "      <td>0</td>\n",
                            "      <td>NaN</td>\n",
                            "      <td>NaN</td>\n",
                            "    </tr>\n",
                            "    <tr>\n",
                            "      <th>2003</th>\n",
                            "      <td>0</td>\n",
                            "      <td>0</td>\n",
                            "      <td>NaN</td>\n",
                            "      <td>NaN</td>\n",
                            "    </tr>\n",
                            "    <tr>\n",
                            "      <th>2004</th>\n",
                            "      <td>0</td>\n",
                            "      <td>0</td>\n",
                            "      <td>NaN</td>\n",
                            "      <td>NaN</td>\n",
                            "    </tr>\n",
                            "    <tr>\n",
                            "      <th>2005</th>\n",
                            "      <td>0</td>\n",
                            "      <td>0</td>\n",
                            "      <td>NaN</td>\n",
                            "      <td>NaN</td>\n",
                            "    </tr>\n",
                            "    <tr>\n",
                            "      <th>2006</th>\n",
                            "      <td>0</td>\n",
                            "      <td>0</td>\n",
                            "      <td>NaN</td>\n",
                            "      <td>NaN</td>\n",
                            "    </tr>\n",
                            "    <tr>\n",
                            "      <th>2007</th>\n",
                            "      <td>0</td>\n",
                            "      <td>0</td>\n",
                            "      <td>NaN</td>\n",
                            "      <td>NaN</td>\n",
                            "    </tr>\n",
                            "    <tr>\n",
                            "      <th>2008</th>\n",
                            "      <td>0</td>\n",
                            "      <td>12</td>\n",
                            "      <td>NaN</td>\n",
                            "      <td>717,930.56</td>\n",
                            "    </tr>\n",
                            "    <tr>\n",
                            "      <th>2009</th>\n",
                            "      <td>0</td>\n",
                            "      <td>12</td>\n",
                            "      <td>NaN</td>\n",
                            "      <td>648,563.82</td>\n",
                            "    </tr>\n",
                            "    <tr>\n",
                            "      <th>2010</th>\n",
                            "      <td>0</td>\n",
                            "      <td>12</td>\n",
                            "      <td>NaN</td>\n",
                            "      <td>629,108.19</td>\n",
                            "    </tr>\n",
                            "    <tr>\n",
                            "      <th>2011</th>\n",
                            "      <td>0</td>\n",
                            "      <td>12</td>\n",
                            "      <td>NaN</td>\n",
                            "      <td>588,470.29</td>\n",
                            "    </tr>\n",
                            "    <tr>\n",
                            "      <th>2012</th>\n",
                            "      <td>0</td>\n",
                            "      <td>12</td>\n",
                            "      <td>NaN</td>\n",
                            "      <td>574,318.26</td>\n",
                            "    </tr>\n",
                            "    <tr>\n",
                            "      <th>2013</th>\n",
                            "      <td>0</td>\n",
                            "      <td>12</td>\n",
                            "      <td>NaN</td>\n",
                            "      <td>666,609.46</td>\n",
                            "    </tr>\n",
                            "    <tr>\n",
                            "      <th>2014</th>\n",
                            "      <td>0</td>\n",
                            "      <td>12</td>\n",
                            "      <td>NaN</td>\n",
                            "      <td>766,116.35</td>\n",
                            "    </tr>\n",
                            "    <tr>\n",
                            "      <th>2015</th>\n",
                            "      <td>0</td>\n",
                            "      <td>12</td>\n",
                            "      <td>NaN</td>\n",
                            "      <td>839,635.66</td>\n",
                            "    </tr>\n",
                            "    <tr>\n",
                            "      <th>2016</th>\n",
                            "      <td>0</td>\n",
                            "      <td>12</td>\n",
                            "      <td>NaN</td>\n",
                            "      <td>915,769.96</td>\n",
                            "    </tr>\n",
                            "    <tr>\n",
                            "      <th>2017</th>\n",
                            "      <td>0</td>\n",
                            "      <td>12</td>\n",
                            "      <td>NaN</td>\n",
                            "      <td>979,618.31</td>\n",
                            "    </tr>\n",
                            "    <tr>\n",
                            "      <th>2018</th>\n",
                            "      <td>0</td>\n",
                            "      <td>12</td>\n",
                            "      <td>NaN</td>\n",
                            "      <td>1,113,044.39</td>\n",
                            "    </tr>\n",
                            "    <tr>\n",
                            "      <th>2019</th>\n",
                            "      <td>0</td>\n",
                            "      <td>12</td>\n",
                            "      <td>NaN</td>\n",
                            "      <td>1,158,868.76</td>\n",
                            "    </tr>\n",
                            "    <tr>\n",
                            "      <th>2020</th>\n",
                            "      <td>11</td>\n",
                            "      <td>12</td>\n",
                            "      <td>712,589.99</td>\n",
                            "      <td>1,142,573.86</td>\n",
                            "    </tr>\n",
                            "    <tr>\n",
                            "      <th>2021</th>\n",
                            "      <td>12</td>\n",
                            "      <td>12</td>\n",
                            "      <td>783,444.18</td>\n",
                            "      <td>1,181,657.49</td>\n",
                            "    </tr>\n",
                            "    <tr>\n",
                            "      <th>2022</th>\n",
                            "      <td>12</td>\n",
                            "      <td>12</td>\n",
                            "      <td>852,482.80</td>\n",
                            "      <td>1,303,183.59</td>\n",
                            "    </tr>\n",
                            "    <tr>\n",
                            "      <th>2023</th>\n",
                            "      <td>12</td>\n",
                            "      <td>12</td>\n",
                            "      <td>866,129.35</td>\n",
                            "      <td>1,306,765.02</td>\n",
                            "    </tr>\n",
                            "    <tr>\n",
                            "      <th>2024</th>\n",
                            "      <td>12</td>\n",
                            "      <td>12</td>\n",
                            "      <td>871,318.02</td>\n",
                            "      <td>1,366,481.11</td>\n",
                            "    </tr>\n",
                            "    <tr>\n",
                            "      <th>2025</th>\n",
                            "      <td>3</td>\n",
                            "      <td>3</td>\n",
                            "      <td>843,582.50</td>\n",
                            "      <td>1,379,152.08</td>\n",
                            "    </tr>\n",
                            "  </tbody>\n",
                            "</table>\n",
                            "</div>"
                        ],
                        "text/plain": [
                            "               count                   mean             \n",
                            "RegionName Chinatown Playa Vista  Chinatown  Playa Vista\n",
                            "Year                                                    \n",
                            "2000               0           0        NaN          NaN\n",
                            "2001               0           0        NaN          NaN\n",
                            "2002               0           0        NaN          NaN\n",
                            "2003               0           0        NaN          NaN\n",
                            "2004               0           0        NaN          NaN\n",
                            "2005               0           0        NaN          NaN\n",
                            "2006               0           0        NaN          NaN\n",
                            "2007               0           0        NaN          NaN\n",
                            "2008               0          12        NaN   717,930.56\n",
                            "2009               0          12        NaN   648,563.82\n",
                            "2010               0          12        NaN   629,108.19\n",
                            "2011               0          12        NaN   588,470.29\n",
                            "2012               0          12        NaN   574,318.26\n",
                            "2013               0          12        NaN   666,609.46\n",
                            "2014               0          12        NaN   766,116.35\n",
                            "2015               0          12        NaN   839,635.66\n",
                            "2016               0          12        NaN   915,769.96\n",
                            "2017               0          12        NaN   979,618.31\n",
                            "2018               0          12        NaN 1,113,044.39\n",
                            "2019               0          12        NaN 1,158,868.76\n",
                            "2020              11          12 712,589.99 1,142,573.86\n",
                            "2021              12          12 783,444.18 1,181,657.49\n",
                            "2022              12          12 852,482.80 1,303,183.59\n",
                            "2023              12          12 866,129.35 1,306,765.02\n",
                            "2024              12          12 871,318.02 1,366,481.11\n",
                            "2025               3           3 843,582.50 1,379,152.08"
                        ]
                    },
                    "execution_count": 105,
                    "metadata": {},
                    "output_type": "execute_result"
                }
            ],
            "source": [
                "zhvi_df_city_null_values.pivot_table(index=\"Year\", columns=\"RegionName\", values=\"Price\", aggfunc=[\"count\", \"mean\"])"
            ]
        },
        {
            "cell_type": "markdown",
            "metadata": {},
            "source": [
                "### Estimación de por regresion\n",
                "\n",
                "A través del análisis realizado por los datos de ZHVI, se ha podido observar que existen ciertos vecindarios que tienen un valor de vivienda nulo. Esto puede ser debido a que no existen datos disponibles para esos vecindarios en el periodo analizado. Por tanto, se ha decidido imputar los valores nulos a través de una regresión lineal múltiple, donde la variable dependiente es el precio de la vivienda y las variables independientes son las características de los vecindarios (tamaño, población, etc.), considerando la cercancia de los vecindarios para realizar la regresión, es decir, para ajustar el modelo no se tomaran todos los vecindarios, sino que se tomaran solo aquellos que se encuentren en un rango menor a 10 kilometros de distancia.\n",
                "\n",
                "Esto tiene el objetivo de poder aproximar con una mayor verosimilitud el valor real de la vienda en ese punto  concreto, ya que se espera que los vecindarios cercanos tengan un valor de vivienda similar. Por tanto, se espera que la regresión lineal múltiple sea capaz de predecir el valor de la vivienda en esos vecindarios nulos a partir de los datos de los vecindarios cercanos.\n",
                "\n",
                "Es por ello, que para los dos vecindarios que tiene valores se ha decidido considerar los siguientes vecindarios para la regresión lineal múltiple, para cada uno de ellos\n",
                "\n",
                "**Regiones cercanas a Chinatown**\n",
                "\n",
                "| Barrio             | Ubicación relativa a Chinatown‑LA           | Distancia aprox. (km / mi) |\n",
                "|--------------------|---------------------------------------------|----------------------------|\n",
                "| Elysian Park       | Norte                                       | 2.0 km / 1.2 mi            |\n",
                "| Lincoln Heights    | Noreste (cruzando el río L.A.)              | 2.7 km / 1.6 mi            |\n",
                "| Echo Park          | Noroeste                                    | 2.7 km / 1.7 mi            |\n",
                "| Cypress Park       | NNE (valle del río L.A.)                    | 3.4 km / 2.1 mi            |\n",
                "| Westlake           | Suroeste (MacArthur Park)                   | 4.2 km / 2.6 mi            |\n",
                "| Boyle Heights      | Sureste (al este del río L.A.)              | 4.4 km / 2.7 mi            |\n",
                "| Mount Washington   | NNE (colinas de NELA)                       | 4.5 km / 2.8 mi            |\n",
                "\n",
                "**Regiones cercanas a Playa Vista**\n",
                "\n",
                "| Barrio         | Ubicación relativa a Playa Vista       | Distancia aprox. (km / mi) |\n",
                "|----------------|----------------------------------------|----------------------------|\n",
                "| Del Rey        | Noreste inmediato                      | 1.5 km / 0.9 mi            |\n",
                "| Westchester    | Sur                                    | 2.5 km / 1.6 mi            |\n",
                "| Playa del Rey  | Suroeste (costero)                     | 3.1 km / 1.9 mi            |\n",
                "| Mar Vista      | Norte                                  | 3.5 km / 2.2 mi            |\n",
                "| Venice         | Noroeste (costero)                     | 4.3 km / 2.7 mi            |\n",
                "| Palms          | Noreste                                | 5.0 km / 3.1 mi            |\n",
                "| Sawtelle       | Norte‑noroeste                         | 7.3 km / 4.5 mi            |\n"
            ]
        },
        {
            "cell_type": "markdown",
            "metadata": {},
            "source": [
                "### Proceso de estimación"
            ]
        },
        {
            "cell_type": "code",
            "execution_count": 147,
            "metadata": {},
            "outputs": [],
            "source": [
                "barrios_cercamos_chinatown = [\"Lincoln Heights\", \"Elysia Park\", \"Echo Park\", \"Boyle Heights\", \"Cypress Park\", \"Mount Washington\", \"Westlake\"]\n",
                "\n",
                "barrios_cercamos_playa_vista = [\"Del Rey\", \"Westchester\", \"Playa del Rey\", \"Mar Vista\", \"Venice\", \"Palms\", \"Sawtelle\"]"
            ]
        },
        {
            "cell_type": "code",
            "execution_count": null,
            "metadata": {},
            "outputs": [
                {
                    "name": "stdout",
                    "output_type": "stream",
                    "text": [
                        "<class 'pandas.core.frame.DataFrame'>\n",
                        "Index: 1818 entries, 10 to 29979\n",
                        "Data columns (total 5 columns):\n",
                        " #   Column      Non-Null Count  Dtype         \n",
                        "---  ------      --------------  -----         \n",
                        " 0   RegionID    1818 non-null   int64         \n",
                        " 1   SizeRank    1818 non-null   int64         \n",
                        " 2   RegionName  1818 non-null   object        \n",
                        " 3   date        1818 non-null   datetime64[ns]\n",
                        " 4   Price       1818 non-null   float64       \n",
                        "dtypes: datetime64[ns](1), float64(1), int64(2), object(1)\n",
                        "memory usage: 85.2+ KB\n"
                    ]
                }
            ],
            "source": [
                "df_barrios_cercamos_chinatown = zhvi_df_angeles_long[zhvi_df_angeles_long[\"RegionName\"].isin(barrios_cercamos_chinatown)]\n",
                "df_barrios_cercamos_chinatown.info()"
            ]
        },
        {
            "cell_type": "code",
            "execution_count": 152,
            "metadata": {},
            "outputs": [
                {
                    "data": {
                        "text/html": [
                            "<div>\n",
                            "<style scoped>\n",
                            "    .dataframe tbody tr th:only-of-type {\n",
                            "        vertical-align: middle;\n",
                            "    }\n",
                            "\n",
                            "    .dataframe tbody tr th {\n",
                            "        vertical-align: top;\n",
                            "    }\n",
                            "\n",
                            "    .dataframe thead th {\n",
                            "        text-align: right;\n",
                            "    }\n",
                            "</style>\n",
                            "<table border=\"1\" class=\"dataframe\">\n",
                            "  <thead>\n",
                            "    <tr style=\"text-align: right;\">\n",
                            "      <th></th>\n",
                            "      <th>RegionID</th>\n",
                            "      <th>SizeRank</th>\n",
                            "      <th>date</th>\n",
                            "      <th>Price</th>\n",
                            "    </tr>\n",
                            "  </thead>\n",
                            "  <tbody>\n",
                            "    <tr>\n",
                            "      <th>count</th>\n",
                            "      <td>1,818.00</td>\n",
                            "      <td>1,818.00</td>\n",
                            "      <td>1818</td>\n",
                            "      <td>1,818.00</td>\n",
                            "    </tr>\n",
                            "    <tr>\n",
                            "      <th>mean</th>\n",
                            "      <td>193,187.67</td>\n",
                            "      <td>632.67</td>\n",
                            "      <td>2012-08-30 04:35:38.613861376</td>\n",
                            "      <td>480,410.62</td>\n",
                            "    </tr>\n",
                            "    <tr>\n",
                            "      <th>min</th>\n",
                            "      <td>113,886.00</td>\n",
                            "      <td>72.00</td>\n",
                            "      <td>2000-01-31 00:00:00</td>\n",
                            "      <td>129,138.98</td>\n",
                            "    </tr>\n",
                            "    <tr>\n",
                            "      <th>25%</th>\n",
                            "      <td>116,206.00</td>\n",
                            "      <td>93.00</td>\n",
                            "      <td>2006-04-30 00:00:00</td>\n",
                            "      <td>270,658.90</td>\n",
                            "    </tr>\n",
                            "    <tr>\n",
                            "      <th>50%</th>\n",
                            "      <td>192,438.50</td>\n",
                            "      <td>489.00</td>\n",
                            "      <td>2012-08-31 00:00:00</td>\n",
                            "      <td>423,823.75</td>\n",
                            "    </tr>\n",
                            "    <tr>\n",
                            "      <th>75%</th>\n",
                            "      <td>268,134.00</td>\n",
                            "      <td>850.00</td>\n",
                            "      <td>2018-12-31 00:00:00</td>\n",
                            "      <td>639,496.21</td>\n",
                            "    </tr>\n",
                            "    <tr>\n",
                            "      <th>max</th>\n",
                            "      <td>276,023.00</td>\n",
                            "      <td>1,803.00</td>\n",
                            "      <td>2025-03-31 00:00:00</td>\n",
                            "      <td>1,247,953.92</td>\n",
                            "    </tr>\n",
                            "    <tr>\n",
                            "      <th>std</th>\n",
                            "      <td>77,636.79</td>\n",
                            "      <td>589.48</td>\n",
                            "      <td>NaN</td>\n",
                            "      <td>259,528.80</td>\n",
                            "    </tr>\n",
                            "  </tbody>\n",
                            "</table>\n",
                            "</div>"
                        ],
                        "text/plain": [
                            "        RegionID  SizeRank                           date        Price\n",
                            "count   1,818.00  1,818.00                           1818     1,818.00\n",
                            "mean  193,187.67    632.67  2012-08-30 04:35:38.613861376   480,410.62\n",
                            "min   113,886.00     72.00            2000-01-31 00:00:00   129,138.98\n",
                            "25%   116,206.00     93.00            2006-04-30 00:00:00   270,658.90\n",
                            "50%   192,438.50    489.00            2012-08-31 00:00:00   423,823.75\n",
                            "75%   268,134.00    850.00            2018-12-31 00:00:00   639,496.21\n",
                            "max   276,023.00  1,803.00            2025-03-31 00:00:00 1,247,953.92\n",
                            "std    77,636.79    589.48                            NaN   259,528.80"
                        ]
                    },
                    "execution_count": 152,
                    "metadata": {},
                    "output_type": "execute_result"
                }
            ],
            "source": [
                "df_barrios_cercamos_chinatown.describe()"
            ]
        },
        {
            "cell_type": "code",
            "execution_count": 153,
            "metadata": {},
            "outputs": [
                {
                    "data": {
                        "text/plain": [
                            "np.float64(0.9130086426636489)"
                        ]
                    },
                    "execution_count": 153,
                    "metadata": {},
                    "output_type": "execute_result"
                }
            ],
            "source": [
                "df_barrios_cercamos_chinatown[\"Price\"].skew()"
            ]
        },
        {
            "cell_type": "code",
            "execution_count": null,
            "metadata": {},
            "outputs": [
                {
                    "data": {
                        "text/plain": [
                            "<Axes: xlabel='Price', ylabel='Density'>"
                        ]
                    },
                    "execution_count": 154,
                    "metadata": {},
                    "output_type": "execute_result"
                },
                {
                    "data": {
                        "image/png": "[encoded data removed]",
                        "text/plain": [
                            "<Figure size 640x480 with 1 Axes>"
                        ]
                    },
                    "metadata": {},
                    "output_type": "display_data"
                }
            ],
            "source": [
                "sns.kdeplot(data=df_barrios_cercamos_chinatown, x=\"Price\", fill=True, color=\"blue\", alpha=0.5)"
            ]
        },
        {
            "cell_type": "code",
            "execution_count": 155,
            "metadata": {},
            "outputs": [
                {
                    "data": {
                        "image/png": "[encoded data removed]",
                        "text/plain": [
                            "<Figure size 640x480 with 1 Axes>"
                        ]
                    },
                    "metadata": {},
                    "output_type": "display_data"
                }
            ],
            "source": [
                "sns.lineplot(data=df_barrios_cercamos_chinatown, x=\"date\", y=\"Price\", hue=\"RegionName\", palette=\"tab10\", alpha=0.5)\n",
                "plt.show()"
            ]
        },
        {
            "cell_type": "code",
            "execution_count": 156,
            "metadata": {},
            "outputs": [
                {
                    "data": {
                        "text/html": [
                            "<div>\n",
                            "<style scoped>\n",
                            "    .dataframe tbody tr th:only-of-type {\n",
                            "        vertical-align: middle;\n",
                            "    }\n",
                            "\n",
                            "    .dataframe tbody tr th {\n",
                            "        vertical-align: top;\n",
                            "    }\n",
                            "\n",
                            "    .dataframe thead th {\n",
                            "        text-align: right;\n",
                            "    }\n",
                            "</style>\n",
                            "<table border=\"1\" class=\"dataframe\">\n",
                            "  <thead>\n",
                            "    <tr style=\"text-align: right;\">\n",
                            "      <th></th>\n",
                            "      <th>RegionID</th>\n",
                            "      <th>SizeRank</th>\n",
                            "      <th>RegionName</th>\n",
                            "      <th>date</th>\n",
                            "      <th>Price</th>\n",
                            "    </tr>\n",
                            "  </thead>\n",
                            "  <tbody>\n",
                            "    <tr>\n",
                            "      <th>10</th>\n",
                            "      <td>113886</td>\n",
                            "      <td>72</td>\n",
                            "      <td>Boyle Heights</td>\n",
                            "      <td>2000-01-31</td>\n",
                            "      <td>132,213.50</td>\n",
                            "    </tr>\n",
                            "    <tr>\n",
                            "      <th>14</th>\n",
                            "      <td>276023</td>\n",
                            "      <td>93</td>\n",
                            "      <td>Westlake</td>\n",
                            "      <td>2000-01-31</td>\n",
                            "      <td>142,135.16</td>\n",
                            "    </tr>\n",
                            "    <tr>\n",
                            "      <th>49</th>\n",
                            "      <td>116206</td>\n",
                            "      <td>389</td>\n",
                            "      <td>Lincoln Heights</td>\n",
                            "      <td>2000-01-31</td>\n",
                            "      <td>129,138.98</td>\n",
                            "    </tr>\n",
                            "  </tbody>\n",
                            "</table>\n",
                            "</div>"
                        ],
                        "text/plain": [
                            "    RegionID  SizeRank       RegionName       date      Price\n",
                            "10    113886        72    Boyle Heights 2000-01-31 132,213.50\n",
                            "14    276023        93         Westlake 2000-01-31 142,135.16\n",
                            "49    116206       389  Lincoln Heights 2000-01-31 129,138.98"
                        ]
                    },
                    "execution_count": 156,
                    "metadata": {},
                    "output_type": "execute_result"
                }
            ],
            "source": [
                "df_barrios_cercamos_chinatown.head(3)"
            ]
        },
        {
            "cell_type": "code",
            "execution_count": 173,
            "metadata": {},
            "outputs": [
                {
                    "name": "stderr",
                    "output_type": "stream",
                    "text": [
                        "/tmp/ipykernel_7539/2850824140.py:2: SettingWithCopyWarning: \n",
                        "A value is trying to be set on a copy of a slice from a DataFrame.\n",
                        "Try using .loc[row_indexer,col_indexer] = value instead\n",
                        "\n",
                        "See the caveats in the documentation: https://pandas.pydata.org/pandas-docs/stable/user_guide/indexing.html#returning-a-view-versus-a-copy\n",
                        "  df_barrios_cercamos_chinatown['t'] = (df_barrios_cercamos_chinatown['date'] - df_barrios_cercamos_chinatown['date'].min()).dt.days\n"
                    ]
                },
                {
                    "ename": "ValueError",
                    "evalue": "Pandas data cast to numpy dtype of object. Check input data with np.asarray(data).",
                    "output_type": "error",
                    "traceback": [
                        "\u001b[0;31m---------------------------------------------------------------------------\u001b[0m",
                        "\u001b[0;31mValueError\u001b[0m                                Traceback (most recent call last)",
                        "Cell \u001b[0;32mIn[173], line 34\u001b[0m\n\u001b[1;32m     31\u001b[0m y \u001b[38;5;241m=\u001b[39m y\u001b[38;5;241m.\u001b[39mloc[exog\u001b[38;5;241m.\u001b[39mindex]\n\u001b[1;32m     33\u001b[0m \u001b[38;5;66;03m# Fit the model\u001b[39;00m\n\u001b[0;32m---> 34\u001b[0m model \u001b[38;5;241m=\u001b[39m \u001b[43msm\u001b[49m\u001b[38;5;241;43m.\u001b[39;49m\u001b[43mOLS\u001b[49m\u001b[43m(\u001b[49m\u001b[43my\u001b[49m\u001b[43m,\u001b[49m\u001b[43m \u001b[49m\u001b[43mexog\u001b[49m\u001b[43m)\u001b[49m\n\u001b[1;32m     35\u001b[0m result \u001b[38;5;241m=\u001b[39m model\u001b[38;5;241m.\u001b[39mfit()\n",
                        "File \u001b[0;32m~/.pyenv/versions/3.12.0/lib/python3.12/site-packages/statsmodels/regression/linear_model.py:921\u001b[0m, in \u001b[0;36mOLS.__init__\u001b[0;34m(self, endog, exog, missing, hasconst, **kwargs)\u001b[0m\n\u001b[1;32m    918\u001b[0m     msg \u001b[38;5;241m=\u001b[39m (\u001b[38;5;124m\"\u001b[39m\u001b[38;5;124mWeights are not supported in OLS and will be ignored\u001b[39m\u001b[38;5;124m\"\u001b[39m\n\u001b[1;32m    919\u001b[0m            \u001b[38;5;124m\"\u001b[39m\u001b[38;5;124mAn exception will be raised in the next version.\u001b[39m\u001b[38;5;124m\"\u001b[39m)\n\u001b[1;32m    920\u001b[0m     warnings\u001b[38;5;241m.\u001b[39mwarn(msg, ValueWarning)\n\u001b[0;32m--> 921\u001b[0m \u001b[38;5;28;43msuper\u001b[39;49m\u001b[43m(\u001b[49m\u001b[43m)\u001b[49m\u001b[38;5;241;43m.\u001b[39;49m\u001b[38;5;21;43m__init__\u001b[39;49m\u001b[43m(\u001b[49m\u001b[43mendog\u001b[49m\u001b[43m,\u001b[49m\u001b[43m \u001b[49m\u001b[43mexog\u001b[49m\u001b[43m,\u001b[49m\u001b[43m \u001b[49m\u001b[43mmissing\u001b[49m\u001b[38;5;241;43m=\u001b[39;49m\u001b[43mmissing\u001b[49m\u001b[43m,\u001b[49m\n\u001b[1;32m    922\u001b[0m \u001b[43m                          \u001b[49m\u001b[43mhasconst\u001b[49m\u001b[38;5;241;43m=\u001b[39;49m\u001b[43mhasconst\u001b[49m\u001b[43m,\u001b[49m\u001b[43m \u001b[49m\u001b[38;5;241;43m*\u001b[39;49m\u001b[38;5;241;43m*\u001b[39;49m\u001b[43mkwargs\u001b[49m\u001b[43m)\u001b[49m\n\u001b[1;32m    923\u001b[0m \u001b[38;5;28;01mif\u001b[39;00m \u001b[38;5;124m\"\u001b[39m\u001b[38;5;124mweights\u001b[39m\u001b[38;5;124m\"\u001b[39m \u001b[38;5;129;01min\u001b[39;00m \u001b[38;5;28mself\u001b[39m\u001b[38;5;241m.\u001b[39m_init_keys:\n\u001b[1;32m    924\u001b[0m     \u001b[38;5;28mself\u001b[39m\u001b[38;5;241m.\u001b[39m_init_keys\u001b[38;5;241m.\u001b[39mremove(\u001b[38;5;124m\"\u001b[39m\u001b[38;5;124mweights\u001b[39m\u001b[38;5;124m\"\u001b[39m)\n",
                        "File \u001b[0;32m~/.pyenv/versions/3.12.0/lib/python3.12/site-packages/statsmodels/regression/linear_model.py:746\u001b[0m, in \u001b[0;36mWLS.__init__\u001b[0;34m(self, endog, exog, weights, missing, hasconst, **kwargs)\u001b[0m\n\u001b[1;32m    744\u001b[0m \u001b[38;5;28;01melse\u001b[39;00m:\n\u001b[1;32m    745\u001b[0m     weights \u001b[38;5;241m=\u001b[39m weights\u001b[38;5;241m.\u001b[39msqueeze()\n\u001b[0;32m--> 746\u001b[0m \u001b[38;5;28;43msuper\u001b[39;49m\u001b[43m(\u001b[49m\u001b[43m)\u001b[49m\u001b[38;5;241;43m.\u001b[39;49m\u001b[38;5;21;43m__init__\u001b[39;49m\u001b[43m(\u001b[49m\u001b[43mendog\u001b[49m\u001b[43m,\u001b[49m\u001b[43m \u001b[49m\u001b[43mexog\u001b[49m\u001b[43m,\u001b[49m\u001b[43m \u001b[49m\u001b[43mmissing\u001b[49m\u001b[38;5;241;43m=\u001b[39;49m\u001b[43mmissing\u001b[49m\u001b[43m,\u001b[49m\n\u001b[1;32m    747\u001b[0m \u001b[43m                          \u001b[49m\u001b[43mweights\u001b[49m\u001b[38;5;241;43m=\u001b[39;49m\u001b[43mweights\u001b[49m\u001b[43m,\u001b[49m\u001b[43m \u001b[49m\u001b[43mhasconst\u001b[49m\u001b[38;5;241;43m=\u001b[39;49m\u001b[43mhasconst\u001b[49m\u001b[43m,\u001b[49m\u001b[43m \u001b[49m\u001b[38;5;241;43m*\u001b[39;49m\u001b[38;5;241;43m*\u001b[39;49m\u001b[43mkwargs\u001b[49m\u001b[43m)\u001b[49m\n\u001b[1;32m    748\u001b[0m nobs \u001b[38;5;241m=\u001b[39m \u001b[38;5;28mself\u001b[39m\u001b[38;5;241m.\u001b[39mexog\u001b[38;5;241m.\u001b[39mshape[\u001b[38;5;241m0\u001b[39m]\n\u001b[1;32m    749\u001b[0m weights \u001b[38;5;241m=\u001b[39m \u001b[38;5;28mself\u001b[39m\u001b[38;5;241m.\u001b[39mweights\n",
                        "File \u001b[0;32m~/.pyenv/versions/3.12.0/lib/python3.12/site-packages/statsmodels/regression/linear_model.py:200\u001b[0m, in \u001b[0;36mRegressionModel.__init__\u001b[0;34m(self, endog, exog, **kwargs)\u001b[0m\n\u001b[1;32m    199\u001b[0m \u001b[38;5;28;01mdef\u001b[39;00m \u001b[38;5;21m__init__\u001b[39m(\u001b[38;5;28mself\u001b[39m, endog, exog, \u001b[38;5;241m*\u001b[39m\u001b[38;5;241m*\u001b[39mkwargs):\n\u001b[0;32m--> 200\u001b[0m     \u001b[38;5;28;43msuper\u001b[39;49m\u001b[43m(\u001b[49m\u001b[43m)\u001b[49m\u001b[38;5;241;43m.\u001b[39;49m\u001b[38;5;21;43m__init__\u001b[39;49m\u001b[43m(\u001b[49m\u001b[43mendog\u001b[49m\u001b[43m,\u001b[49m\u001b[43m \u001b[49m\u001b[43mexog\u001b[49m\u001b[43m,\u001b[49m\u001b[43m \u001b[49m\u001b[38;5;241;43m*\u001b[39;49m\u001b[38;5;241;43m*\u001b[39;49m\u001b[43mkwargs\u001b[49m\u001b[43m)\u001b[49m\n\u001b[1;32m    201\u001b[0m     \u001b[38;5;28mself\u001b[39m\u001b[38;5;241m.\u001b[39mpinv_wexog: Float64Array \u001b[38;5;241m|\u001b[39m \u001b[38;5;28;01mNone\u001b[39;00m \u001b[38;5;241m=\u001b[39m \u001b[38;5;28;01mNone\u001b[39;00m\n\u001b[1;32m    202\u001b[0m     \u001b[38;5;28mself\u001b[39m\u001b[38;5;241m.\u001b[39m_data_attr\u001b[38;5;241m.\u001b[39mextend([\u001b[38;5;124m'\u001b[39m\u001b[38;5;124mpinv_wexog\u001b[39m\u001b[38;5;124m'\u001b[39m, \u001b[38;5;124m'\u001b[39m\u001b[38;5;124mwendog\u001b[39m\u001b[38;5;124m'\u001b[39m, \u001b[38;5;124m'\u001b[39m\u001b[38;5;124mwexog\u001b[39m\u001b[38;5;124m'\u001b[39m, \u001b[38;5;124m'\u001b[39m\u001b[38;5;124mweights\u001b[39m\u001b[38;5;124m'\u001b[39m])\n",
                        "File \u001b[0;32m~/.pyenv/versions/3.12.0/lib/python3.12/site-packages/statsmodels/base/model.py:270\u001b[0m, in \u001b[0;36mLikelihoodModel.__init__\u001b[0;34m(self, endog, exog, **kwargs)\u001b[0m\n\u001b[1;32m    269\u001b[0m \u001b[38;5;28;01mdef\u001b[39;00m \u001b[38;5;21m__init__\u001b[39m(\u001b[38;5;28mself\u001b[39m, endog, exog\u001b[38;5;241m=\u001b[39m\u001b[38;5;28;01mNone\u001b[39;00m, \u001b[38;5;241m*\u001b[39m\u001b[38;5;241m*\u001b[39mkwargs):\n\u001b[0;32m--> 270\u001b[0m     \u001b[38;5;28;43msuper\u001b[39;49m\u001b[43m(\u001b[49m\u001b[43m)\u001b[49m\u001b[38;5;241;43m.\u001b[39;49m\u001b[38;5;21;43m__init__\u001b[39;49m\u001b[43m(\u001b[49m\u001b[43mendog\u001b[49m\u001b[43m,\u001b[49m\u001b[43m \u001b[49m\u001b[43mexog\u001b[49m\u001b[43m,\u001b[49m\u001b[43m \u001b[49m\u001b[38;5;241;43m*\u001b[39;49m\u001b[38;5;241;43m*\u001b[39;49m\u001b[43mkwargs\u001b[49m\u001b[43m)\u001b[49m\n\u001b[1;32m    271\u001b[0m     \u001b[38;5;28mself\u001b[39m\u001b[38;5;241m.\u001b[39minitialize()\n",
                        "File \u001b[0;32m~/.pyenv/versions/3.12.0/lib/python3.12/site-packages/statsmodels/base/model.py:95\u001b[0m, in \u001b[0;36mModel.__init__\u001b[0;34m(self, endog, exog, **kwargs)\u001b[0m\n\u001b[1;32m     93\u001b[0m missing \u001b[38;5;241m=\u001b[39m kwargs\u001b[38;5;241m.\u001b[39mpop(\u001b[38;5;124m'\u001b[39m\u001b[38;5;124mmissing\u001b[39m\u001b[38;5;124m'\u001b[39m, \u001b[38;5;124m'\u001b[39m\u001b[38;5;124mnone\u001b[39m\u001b[38;5;124m'\u001b[39m)\n\u001b[1;32m     94\u001b[0m hasconst \u001b[38;5;241m=\u001b[39m kwargs\u001b[38;5;241m.\u001b[39mpop(\u001b[38;5;124m'\u001b[39m\u001b[38;5;124mhasconst\u001b[39m\u001b[38;5;124m'\u001b[39m, \u001b[38;5;28;01mNone\u001b[39;00m)\n\u001b[0;32m---> 95\u001b[0m \u001b[38;5;28mself\u001b[39m\u001b[38;5;241m.\u001b[39mdata \u001b[38;5;241m=\u001b[39m \u001b[38;5;28;43mself\u001b[39;49m\u001b[38;5;241;43m.\u001b[39;49m\u001b[43m_handle_data\u001b[49m\u001b[43m(\u001b[49m\u001b[43mendog\u001b[49m\u001b[43m,\u001b[49m\u001b[43m \u001b[49m\u001b[43mexog\u001b[49m\u001b[43m,\u001b[49m\u001b[43m \u001b[49m\u001b[43mmissing\u001b[49m\u001b[43m,\u001b[49m\u001b[43m \u001b[49m\u001b[43mhasconst\u001b[49m\u001b[43m,\u001b[49m\n\u001b[1;32m     96\u001b[0m \u001b[43m                              \u001b[49m\u001b[38;5;241;43m*\u001b[39;49m\u001b[38;5;241;43m*\u001b[39;49m\u001b[43mkwargs\u001b[49m\u001b[43m)\u001b[49m\n\u001b[1;32m     97\u001b[0m \u001b[38;5;28mself\u001b[39m\u001b[38;5;241m.\u001b[39mk_constant \u001b[38;5;241m=\u001b[39m \u001b[38;5;28mself\u001b[39m\u001b[38;5;241m.\u001b[39mdata\u001b[38;5;241m.\u001b[39mk_constant\n\u001b[1;32m     98\u001b[0m \u001b[38;5;28mself\u001b[39m\u001b[38;5;241m.\u001b[39mexog \u001b[38;5;241m=\u001b[39m \u001b[38;5;28mself\u001b[39m\u001b[38;5;241m.\u001b[39mdata\u001b[38;5;241m.\u001b[39mexog\n",
                        "File \u001b[0;32m~/.pyenv/versions/3.12.0/lib/python3.12/site-packages/statsmodels/base/model.py:135\u001b[0m, in \u001b[0;36mModel._handle_data\u001b[0;34m(self, endog, exog, missing, hasconst, **kwargs)\u001b[0m\n\u001b[1;32m    134\u001b[0m \u001b[38;5;28;01mdef\u001b[39;00m \u001b[38;5;21m_handle_data\u001b[39m(\u001b[38;5;28mself\u001b[39m, endog, exog, missing, hasconst, \u001b[38;5;241m*\u001b[39m\u001b[38;5;241m*\u001b[39mkwargs):\n\u001b[0;32m--> 135\u001b[0m     data \u001b[38;5;241m=\u001b[39m \u001b[43mhandle_data\u001b[49m\u001b[43m(\u001b[49m\u001b[43mendog\u001b[49m\u001b[43m,\u001b[49m\u001b[43m \u001b[49m\u001b[43mexog\u001b[49m\u001b[43m,\u001b[49m\u001b[43m \u001b[49m\u001b[43mmissing\u001b[49m\u001b[43m,\u001b[49m\u001b[43m \u001b[49m\u001b[43mhasconst\u001b[49m\u001b[43m,\u001b[49m\u001b[43m \u001b[49m\u001b[38;5;241;43m*\u001b[39;49m\u001b[38;5;241;43m*\u001b[39;49m\u001b[43mkwargs\u001b[49m\u001b[43m)\u001b[49m\n\u001b[1;32m    136\u001b[0m     \u001b[38;5;66;03m# kwargs arrays could have changed, easier to just attach here\u001b[39;00m\n\u001b[1;32m    137\u001b[0m     \u001b[38;5;28;01mfor\u001b[39;00m key \u001b[38;5;129;01min\u001b[39;00m kwargs:\n",
                        "File \u001b[0;32m~/.pyenv/versions/3.12.0/lib/python3.12/site-packages/statsmodels/base/data.py:675\u001b[0m, in \u001b[0;36mhandle_data\u001b[0;34m(endog, exog, missing, hasconst, **kwargs)\u001b[0m\n\u001b[1;32m    672\u001b[0m     exog \u001b[38;5;241m=\u001b[39m np\u001b[38;5;241m.\u001b[39masarray(exog)\n\u001b[1;32m    674\u001b[0m klass \u001b[38;5;241m=\u001b[39m handle_data_class_factory(endog, exog)\n\u001b[0;32m--> 675\u001b[0m \u001b[38;5;28;01mreturn\u001b[39;00m \u001b[43mklass\u001b[49m\u001b[43m(\u001b[49m\u001b[43mendog\u001b[49m\u001b[43m,\u001b[49m\u001b[43m \u001b[49m\u001b[43mexog\u001b[49m\u001b[38;5;241;43m=\u001b[39;49m\u001b[43mexog\u001b[49m\u001b[43m,\u001b[49m\u001b[43m \u001b[49m\u001b[43mmissing\u001b[49m\u001b[38;5;241;43m=\u001b[39;49m\u001b[43mmissing\u001b[49m\u001b[43m,\u001b[49m\u001b[43m \u001b[49m\u001b[43mhasconst\u001b[49m\u001b[38;5;241;43m=\u001b[39;49m\u001b[43mhasconst\u001b[49m\u001b[43m,\u001b[49m\n\u001b[1;32m    676\u001b[0m \u001b[43m             \u001b[49m\u001b[38;5;241;43m*\u001b[39;49m\u001b[38;5;241;43m*\u001b[39;49m\u001b[43mkwargs\u001b[49m\u001b[43m)\u001b[49m\n",
                        "File \u001b[0;32m~/.pyenv/versions/3.12.0/lib/python3.12/site-packages/statsmodels/base/data.py:84\u001b[0m, in \u001b[0;36mModelData.__init__\u001b[0;34m(self, endog, exog, missing, hasconst, **kwargs)\u001b[0m\n\u001b[1;32m     82\u001b[0m     \u001b[38;5;28mself\u001b[39m\u001b[38;5;241m.\u001b[39morig_endog \u001b[38;5;241m=\u001b[39m endog\n\u001b[1;32m     83\u001b[0m     \u001b[38;5;28mself\u001b[39m\u001b[38;5;241m.\u001b[39morig_exog \u001b[38;5;241m=\u001b[39m exog\n\u001b[0;32m---> 84\u001b[0m     \u001b[38;5;28mself\u001b[39m\u001b[38;5;241m.\u001b[39mendog, \u001b[38;5;28mself\u001b[39m\u001b[38;5;241m.\u001b[39mexog \u001b[38;5;241m=\u001b[39m \u001b[38;5;28;43mself\u001b[39;49m\u001b[38;5;241;43m.\u001b[39;49m\u001b[43m_convert_endog_exog\u001b[49m\u001b[43m(\u001b[49m\u001b[43mendog\u001b[49m\u001b[43m,\u001b[49m\u001b[43m \u001b[49m\u001b[43mexog\u001b[49m\u001b[43m)\u001b[49m\n\u001b[1;32m     86\u001b[0m \u001b[38;5;28mself\u001b[39m\u001b[38;5;241m.\u001b[39mconst_idx \u001b[38;5;241m=\u001b[39m \u001b[38;5;28;01mNone\u001b[39;00m\n\u001b[1;32m     87\u001b[0m \u001b[38;5;28mself\u001b[39m\u001b[38;5;241m.\u001b[39mk_constant \u001b[38;5;241m=\u001b[39m \u001b[38;5;241m0\u001b[39m\n",
                        "File \u001b[0;32m~/.pyenv/versions/3.12.0/lib/python3.12/site-packages/statsmodels/base/data.py:509\u001b[0m, in \u001b[0;36mPandasData._convert_endog_exog\u001b[0;34m(self, endog, exog)\u001b[0m\n\u001b[1;32m    507\u001b[0m exog \u001b[38;5;241m=\u001b[39m exog \u001b[38;5;28;01mif\u001b[39;00m exog \u001b[38;5;129;01mis\u001b[39;00m \u001b[38;5;28;01mNone\u001b[39;00m \u001b[38;5;28;01melse\u001b[39;00m np\u001b[38;5;241m.\u001b[39masarray(exog)\n\u001b[1;32m    508\u001b[0m \u001b[38;5;28;01mif\u001b[39;00m endog\u001b[38;5;241m.\u001b[39mdtype \u001b[38;5;241m==\u001b[39m \u001b[38;5;28mobject\u001b[39m \u001b[38;5;129;01mor\u001b[39;00m exog \u001b[38;5;129;01mis\u001b[39;00m \u001b[38;5;129;01mnot\u001b[39;00m \u001b[38;5;28;01mNone\u001b[39;00m \u001b[38;5;129;01mand\u001b[39;00m exog\u001b[38;5;241m.\u001b[39mdtype \u001b[38;5;241m==\u001b[39m \u001b[38;5;28mobject\u001b[39m:\n\u001b[0;32m--> 509\u001b[0m     \u001b[38;5;28;01mraise\u001b[39;00m \u001b[38;5;167;01mValueError\u001b[39;00m(\u001b[38;5;124m\"\u001b[39m\u001b[38;5;124mPandas data cast to numpy dtype of object. \u001b[39m\u001b[38;5;124m\"\u001b[39m\n\u001b[1;32m    510\u001b[0m                      \u001b[38;5;124m\"\u001b[39m\u001b[38;5;124mCheck input data with np.asarray(data).\u001b[39m\u001b[38;5;124m\"\u001b[39m)\n\u001b[1;32m    511\u001b[0m \u001b[38;5;28;01mreturn\u001b[39;00m \u001b[38;5;28msuper\u001b[39m()\u001b[38;5;241m.\u001b[39m_convert_endog_exog(endog, exog)\n",
                        "\u001b[0;31mValueError\u001b[0m: Pandas data cast to numpy dtype of object. Check input data with np.asarray(data)."
                    ]
                }
            ],
            "source": [
                "# Construcción del modelo\n",
                "df_barrios_cercamos_chinatown['t'] = (df_barrios_cercamos_chinatown['date'] - df_barrios_cercamos_chinatown['date'].min()).dt.days\n",
                "\n",
                "# 4. Fourier (opcional, para estacionalidad suave)\n",
                "#S = 12  # periodo anual mensual\n",
                "#df_barrios_cercamos_chinatown['sin1'] = np.sin(2 * np.pi * df_barrios_cercamos_chinatown['t'] / S)\n",
                "#df_barrios_cercamos_chinatown['cos1'] = np.cos(2 * np.pi * df_barrios_cercamos_chinatown['t'] / S)\n",
                "\n",
                "region_dummies = pd.get_dummies(df_barrios_cercamos_chinatown['RegionName'], prefix='Region', drop_first=True)\n",
                "\n",
                "# 5. Preparar matriz de regresores\n",
                "exog = pd.concat([\n",
                "    df_barrios_cercamos_chinatown[['t']], \n",
                "    region_dummies, \n",
                "#    df_barrios_cercamos_chinatown[['sin1', 'cos1']]\n",
                "], axis=1)\n",
                "\n",
                "exog= sm.add_constant(exog)\n",
                "\n",
                "# Convertir todas las columnas de exog a tipo numérico and drop rows with NaN values\n",
                "exog = exog.apply(pd.to_numeric, errors='coerce')\n",
                "\n",
                "# Ensure no NaN values in exog\n",
                "exog = exog.dropna()\n",
                "\n",
                "# Ensure no NaN values in y\n",
                "y = pd.to_numeric(df_barrios_cercamos_chinatown['Price'], errors='coerce').dropna()\n",
                "\n",
                "# Align y with exog to ensure no mismatched indices\n",
                "exog = exog.loc[y.index]\n",
                "y = y.loc[exog.index]\n",
                "\n",
                "# Fit the model\n",
                "model = sm.OLS(y, exog)\n",
                "result = model.fit()"
            ]
        },
        {
            "cell_type": "code",
            "execution_count": 172,
            "metadata": {},
            "outputs": [
                {
                    "name": "stdout",
                    "output_type": "stream",
                    "text": [
                        "<class 'pandas.core.frame.DataFrame'>\n",
                        "Index: 1818 entries, 10 to 29979\n",
                        "Data columns (total 6 columns):\n",
                        " #   Column                   Non-Null Count  Dtype\n",
                        "---  ------                   --------------  -----\n",
                        " 0   t                        1818 non-null   int64\n",
                        " 1   Region_Cypress Park      1818 non-null   bool \n",
                        " 2   Region_Echo Park         1818 non-null   bool \n",
                        " 3   Region_Lincoln Heights   1818 non-null   bool \n",
                        " 4   Region_Mount Washington  1818 non-null   bool \n",
                        " 5   Region_Westlake          1818 non-null   bool \n",
                        "dtypes: bool(5), int64(1)\n",
                        "memory usage: 37.3 KB\n"
                    ]
                }
            ],
            "source": [
                "exog.info()"
            ]
        },
        {
            "cell_type": "code",
            "execution_count": null,
            "metadata": {},
            "outputs": [],
            "source": []
        }
    ],
    "metadata": {
        "deepnote_full_width": false,
        "deepnote_notebook_id": "8cf9154fcc49412aa9bb697be66bd951",
        "kernelspec": {
            "display_name": "Python 3",
            "language": "python",
            "name": "python3"
        },
        "language_info": {
            "codemirror_mode": {
                "name": "ipython",
                "version": 3
            },
            "file_extension": ".py",
            "mimetype": "text/x-python",
            "name": "python",
            "nbconvert_exporter": "python",
            "pygments_lexer": "ipython3",
            "version": "3.12.0"
        }
    },
    "nbformat": 4,
    "nbformat_minor": 0
}
