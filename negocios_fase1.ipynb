{
    "cells": [
        {
            "cell_type": "markdown",
            "metadata": {
                "cell_id": "351c9442c8d546488a459b596ee6a340",
                "deepnote_cell_type": "text-cell-h1",
                "formattedRanges": []
            },
            "source": [
                "# Definición del proyecto de datos"
            ]
        },
        {
            "cell_type": "markdown",
            "metadata": {
                "cell_id": "449a038bf5f842ae8aee64ce029a4fc8",
                "deepnote_cell_type": "text-cell-p",
                "formattedRanges": []
            },
            "source": [
                "Todo este proyecto tiene su base en la obtención de ciertos insights a partir de 3 bases de datos, las cuales tiene como cobertura geográfica el estado de los ángeles de estados unidos, es decir, es un proyecto donde en particular se estudiara las relaciones entre las diferentes bases de datos donde la región a estudiar son los ángeles."
            ]
        },
        {
            "cell_type": "markdown",
            "metadata": {
                "cell_id": "dbf5b5230cea4a899841d7c8301a4713",
                "deepnote_cell_type": "text-cell-bullet",
                "formattedRanges": []
            },
            "source": [
                "- Crimen"
            ]
        },
        {
            "cell_type": "markdown",
            "metadata": {
                "cell_id": "2efd7289248a42ea9d8431d27e8649a9",
                "deepnote_cell_type": "text-cell-bullet",
                "formattedRanges": []
            },
            "source": [
                "- Negocios"
            ]
        },
        {
            "cell_type": "markdown",
            "metadata": {
                "cell_id": "d7fc8b4b480349849150d063f6c707c7",
                "deepnote_cell_type": "text-cell-bullet",
                "formattedRanges": []
            },
            "source": [
                "- Vivienda"
            ]
        },
        {
            "cell_type": "markdown",
            "metadata": {
                "cell_id": "63e5740b8d6344b3a9ca0ede8acde09e",
                "deepnote_cell_type": "text-cell-p",
                "formattedRanges": []
            },
            "source": [
                "El contexto, es simple, trabajamos para el gobierno como alcalde de la ciudad y por tanto, las decisiones que se tomen, deberán de ser tomadas con una perspectiva meramente política, por ello es que los objetivos de este análisis deben de centrarse en la obtención de accionables claros a partir de las relaciones e interacciones encontradas en las bases de datos."
            ]
        },
        {
            "cell_type": "markdown",
            "metadata": {
                "cell_id": "3c954262f8294c88911903c9738af373",
                "deepnote_cell_type": "text-cell-p",
                "formattedRanges": []
            },
            "source": [
                "Los ángeles se dividen en 114 vecindarios, sobre los cuales se deberán de realizar el análisis, es decir, la investigación es a nivel de vecindarios. Por tanto, un punto relevante es evaluar la granularidad de la información en las bases de datos así como preguntas de la siguiente naturaleza"
            ]
        },
        {
            "cell_type": "markdown",
            "metadata": {
                "cell_id": "95676171f31b4bdb912616ed18f2ffb5",
                "deepnote_cell_type": "text-cell-p",
                "formattedRanges": []
            },
            "source": [
                "¿Qué vecindarios tienen una mayor tasa de muerte de negocios?, ¿se relaciona con la tasa de crimen?\n",
                "¿Qué vecindarios tienen la mayor tasa de crimen?, ¿necesitan mayor atención policial?\n",
                "¿Está esto afectando a los precios de las propiedades?  "
            ]
        },
        {
            "cell_type": "code",
            "execution_count": 1,
            "metadata": {
                "cell_id": "55df2bb6d1704451b136b19664296b70",
                "deepnote_cell_type": "code",
                "execution_context_id": "9d19cb3c-9408-45b5-82e7-9cc88f556b14",
                "execution_millis": 1908,
                "execution_start": 1746049888467,
                "source_hash": "e071f5ed"
            },
            "outputs": [],
            "source": [
                "import pandas as pd \n",
                "import numpy as np\n",
                "\n",
                "import matplotlib.pyplot as plt\n",
                "import seaborn as sns\n",
                "\n",
                "import geopandas as gpd                # Manejo de datos geoespaciales :contentReference[oaicite:8]{index=8}\n",
                "from shapely.geometry import Point     # Construcción de geometrías puntuales :contentReference[oaicite:9]{index=9}\n",
                "\n",
                "import requests\n",
                "import io\n",
                "from http.client import IncompleteRead\n",
                "\n",
                "from sklearn.neighbors import BallTree\n",
                "\n",
                "import statsmodels.api as sm\n",
                "from statsmodels.stats.weightstats import ttest_ind\n",
                "from statsmodels.stats.oneway import test_scale_oneway\n",
                "from statsmodels.stats.stattools import jarque_bera\n",
                "from statsmodels.stats.nonparametric import rank_compare_2indep"
            ]
        },
        {
            "cell_type": "code",
            "execution_count": 2,
            "metadata": {
                "cell_id": "3f0036e2f2764aab90f140205d9a4084",
                "deepnote_cell_type": "code",
                "execution_context_id": "9d19cb3c-9408-45b5-82e7-9cc88f556b14",
                "execution_millis": 1,
                "execution_start": 1746049890574,
                "source_hash": "a3803a3e"
            },
            "outputs": [],
            "source": [
                "sns.set_style(\"darkgrid\")\n",
                "pd.options.display.float_format = \"{:,.2f}\".format"
            ]
        },
        {
            "cell_type": "code",
            "execution_count": 6,
            "metadata": {
                "cell_id": "7ec8a4a6cb104b8da0907f6a20a94a78",
                "deepnote_cell_type": "code",
                "execution_context_id": "9d19cb3c-9408-45b5-82e7-9cc88f556b14",
                "execution_millis": 1,
                "execution_start": 1746049890644,
                "source_hash": "967d165c"
            },
            "outputs": [],
            "source": [
                "# URLs de descarga\n",
                "business_url = \"https://data.lacity.org/api/views/r4uk-afju/rows.csv?accessType=DOWNLOAD\"     # Listado de negocios :contentReference[oaicite:11]{index=11}\n",
                "\n",
                "areas_url    = \"https://geohub.lacity.org/datasets/691805703915458da4b35d8088f29501_0.geojson\" # Área por vecindario :contentReference[oaicite:13]{index=13}\n",
                "bounds_url   = \"https://geohub.lacity.org/datasets/d6c55385a0e749519f238b77135eafac_0.geojson\" # Límites de vecindario :contentReference[oaicite:14]{index=14}\n",
                "census_url   = \"https://data.lacity.org/api/views/nwj3-ufba/rows.csv?accessType=DOWNLOAD\"      # Censo 2010 por consejo :contentReference[oaicite:15]{index=15}\n"
            ]
        },
        {
            "cell_type": "code",
            "execution_count": 4,
            "metadata": {
                "cell_id": "e644b9efe3bd4a40982cd2710c6786c0",
                "deepnote_cell_type": "code",
                "execution_context_id": "9d19cb3c-9408-45b5-82e7-9cc88f556b14",
                "execution_millis": 1,
                "execution_start": 1746049890704,
                "source_hash": "cc0cccfc"
            },
            "outputs": [],
            "source": [
                "def fetch_csv_stream(url: str, timeout: int = 60) -> io.StringIO:\n",
                "    \"\"\"\n",
                "    Descarga un CSV por streaming.  \n",
                "    En caso de IncompleteRead, reutiliza los bytes parciales descargados.\n",
                "    \"\"\"\n",
                "    try:\n",
                "        resp = requests.get(url, stream=True, timeout=timeout)\n",
                "        resp.raise_for_status()\n",
                "        # Leer todo el texto (posible IncompleteRead aquí)\n",
                "        text = resp.text\n",
                "    except IncompleteRead as e:\n",
                "        # e.partial es un bytes con lo descargado antes de la excepción\n",
                "        print('Incompleto:', e.partial)\n",
                "        text = e.partial.decode('utf-8', errors='replace')\n",
                "    return io.StringIO(text)"
            ]
        },
        {
            "cell_type": "markdown",
            "metadata": {
                "cell_id": "25060818ca5140a2916995b7210769de",
                "deepnote_cell_type": "text-cell-h1",
                "formattedRanges": []
            },
            "source": [
                "# Negocios"
            ]
        },
        {
            "cell_type": "markdown",
            "metadata": {
                "cell_id": "2ea75b5443da4cabaa55b2271b00e1b3",
                "deepnote_cell_type": "markdown"
            },
            "source": [
                "## Definición de requerimientos de datos\n",
                "\n",
                "En este caso nuestro objetivo es claro, enconetrar tendencias en la clasificación, edad, ubicación y distribución de los negocios. En esete sentido nuestro objetivo primordial es encontrar las relaciones claves entre los datos de los negocio y su ubicación o vecindario.\n",
                "\n",
                "Por ende uno de los puntos claves es la busqueda de una relación entre el negocio y su vecindario."
            ]
        },
        {
            "cell_type": "code",
            "execution_count": 5,
            "metadata": {
                "cell_id": "4c3202bd41ed41f6a9a5c61d70b3add4",
                "deepnote_cell_type": "code",
                "execution_context_id": "9d19cb3c-9408-45b5-82e7-9cc88f556b14",
                "execution_millis": 87850,
                "execution_start": 1746049911034,
                "source_hash": "d5aaa3d6"
            },
            "outputs": [],
            "source": [
                "business_bufer = fetch_csv_stream(business_url)\n",
                "\n",
                "business_df = pd.read_csv(business_bufer, low_memory=False)\n",
                "\n",
                "del business_bufer"
            ]
        },
        {
            "cell_type": "code",
            "execution_count": 7,
            "metadata": {},
            "outputs": [
                {
                    "data": {
                        "text/html": [
                            "<div>\n",
                            "<style scoped>\n",
                            "    .dataframe tbody tr th:only-of-type {\n",
                            "        vertical-align: middle;\n",
                            "    }\n",
                            "\n",
                            "    .dataframe tbody tr th {\n",
                            "        vertical-align: top;\n",
                            "    }\n",
                            "\n",
                            "    .dataframe thead th {\n",
                            "        text-align: right;\n",
                            "    }\n",
                            "</style>\n",
                            "<table border=\"1\" class=\"dataframe\">\n",
                            "  <thead>\n",
                            "    <tr style=\"text-align: right;\">\n",
                            "      <th></th>\n",
                            "      <th>LOCATION ACCOUNT #</th>\n",
                            "      <th>BUSINESS NAME</th>\n",
                            "      <th>DBA NAME</th>\n",
                            "      <th>STREET ADDRESS</th>\n",
                            "      <th>CITY</th>\n",
                            "      <th>ZIP CODE</th>\n",
                            "      <th>LOCATION DESCRIPTION</th>\n",
                            "      <th>MAILING ADDRESS</th>\n",
                            "      <th>MAILING CITY</th>\n",
                            "      <th>MAILING ZIP CODE</th>\n",
                            "      <th>NAICS</th>\n",
                            "      <th>PRIMARY NAICS DESCRIPTION</th>\n",
                            "      <th>COUNCIL DISTRICT</th>\n",
                            "      <th>LOCATION START DATE</th>\n",
                            "      <th>LOCATION END DATE</th>\n",
                            "      <th>LOCATION</th>\n",
                            "    </tr>\n",
                            "  </thead>\n",
                            "  <tbody>\n",
                            "    <tr>\n",
                            "      <th>0</th>\n",
                            "      <td>0003217523-0001-2</td>\n",
                            "      <td>MARIA OFELIA NUNEZ</td>\n",
                            "      <td>LA CAMPANA HARDWARE</td>\n",
                            "      <td>1017 W 88TH STREET</td>\n",
                            "      <td>LOS ANGELES</td>\n",
                            "      <td>90044-2119</td>\n",
                            "      <td>1017 88TH 90044</td>\n",
                            "      <td>1017 W 88TH STREET</td>\n",
                            "      <td>LOS ANGELES</td>\n",
                            "      <td>90044-2119</td>\n",
                            "      <td>444,130.00</td>\n",
                            "      <td>Hardware stores</td>\n",
                            "      <td>0</td>\n",
                            "      <td>10/01/2020</td>\n",
                            "      <td>NaN</td>\n",
                            "      <td>(33.9581, -118.2926)</td>\n",
                            "    </tr>\n",
                            "    <tr>\n",
                            "      <th>1</th>\n",
                            "      <td>0003211603-0001-0</td>\n",
                            "      <td>ONE STOP HOLISTIC HEALTH LLC</td>\n",
                            "      <td>NaN</td>\n",
                            "      <td>1506 W MANCHESTER AVENUE</td>\n",
                            "      <td>LOS ANGELES</td>\n",
                            "      <td>90047-5424</td>\n",
                            "      <td>1506 MANCHESTER 90047</td>\n",
                            "      <td>1506 W MANCHESTER AVENUE</td>\n",
                            "      <td>LOS ANGELES</td>\n",
                            "      <td>90047-5424</td>\n",
                            "      <td>NaN</td>\n",
                            "      <td>NaN</td>\n",
                            "      <td>8</td>\n",
                            "      <td>09/03/2020</td>\n",
                            "      <td>NaN</td>\n",
                            "      <td>(33.9597, -118.3028)</td>\n",
                            "    </tr>\n",
                            "    <tr>\n",
                            "      <th>2</th>\n",
                            "      <td>0003249387-0001-0</td>\n",
                            "      <td>CHOE SHOW, LLC</td>\n",
                            "      <td>NaN</td>\n",
                            "      <td>711 S GRAMERCY PLACE</td>\n",
                            "      <td>LOS ANGELES</td>\n",
                            "      <td>90005-3166</td>\n",
                            "      <td>711 GRAMERCY 90005</td>\n",
                            "      <td>711 S GRAMERCY PLACE</td>\n",
                            "      <td>LOS ANGELES</td>\n",
                            "      <td>90005-3166</td>\n",
                            "      <td>NaN</td>\n",
                            "      <td>NaN</td>\n",
                            "      <td>5</td>\n",
                            "      <td>03/15/2021</td>\n",
                            "      <td>NaN</td>\n",
                            "      <td>(34.0594, -118.3135)</td>\n",
                            "    </tr>\n",
                            "    <tr>\n",
                            "      <th>3</th>\n",
                            "      <td>0003240128-0001-1</td>\n",
                            "      <td>SANTOS ANTONIO RAMOS AJPACAJA</td>\n",
                            "      <td>NaN</td>\n",
                            "      <td>19948 SATICOY STREET</td>\n",
                            "      <td>WINNETKA</td>\n",
                            "      <td>91306-2648</td>\n",
                            "      <td>19948 Saticoy 91306-2648</td>\n",
                            "      <td>NaN</td>\n",
                            "      <td>NaN</td>\n",
                            "      <td>NaN</td>\n",
                            "      <td>561,790.00</td>\n",
                            "      <td>Other services to buildings &amp; dwellings</td>\n",
                            "      <td>3</td>\n",
                            "      <td>01/15/2019</td>\n",
                            "      <td>NaN</td>\n",
                            "      <td>(34.2081, -118.5684)</td>\n",
                            "    </tr>\n",
                            "    <tr>\n",
                            "      <th>4</th>\n",
                            "      <td>0003236037-0001-9</td>\n",
                            "      <td>ASHLEY-ANN FELIX</td>\n",
                            "      <td>NaN</td>\n",
                            "      <td>412 W 7TH STREET</td>\n",
                            "      <td>SAN PEDRO</td>\n",
                            "      <td>90731-3208</td>\n",
                            "      <td>412 7TH 90731</td>\n",
                            "      <td>465 N HANFORD AVENUE</td>\n",
                            "      <td>SAN PEDRO</td>\n",
                            "      <td>90732-2621</td>\n",
                            "      <td>NaN</td>\n",
                            "      <td>NaN</td>\n",
                            "      <td>15</td>\n",
                            "      <td>03/01/2021</td>\n",
                            "      <td>NaN</td>\n",
                            "      <td>(33.738, -118.2861)</td>\n",
                            "    </tr>\n",
                            "  </tbody>\n",
                            "</table>\n",
                            "</div>"
                        ],
                        "text/plain": [
                            "  LOCATION ACCOUNT #                  BUSINESS NAME             DBA NAME  \\\n",
                            "0  0003217523-0001-2             MARIA OFELIA NUNEZ  LA CAMPANA HARDWARE   \n",
                            "1  0003211603-0001-0   ONE STOP HOLISTIC HEALTH LLC                  NaN   \n",
                            "2  0003249387-0001-0                 CHOE SHOW, LLC                  NaN   \n",
                            "3  0003240128-0001-1  SANTOS ANTONIO RAMOS AJPACAJA                  NaN   \n",
                            "4  0003236037-0001-9               ASHLEY-ANN FELIX                  NaN   \n",
                            "\n",
                            "             STREET ADDRESS         CITY    ZIP CODE  \\\n",
                            "0        1017 W 88TH STREET  LOS ANGELES  90044-2119   \n",
                            "1  1506 W MANCHESTER AVENUE  LOS ANGELES  90047-5424   \n",
                            "2      711 S GRAMERCY PLACE  LOS ANGELES  90005-3166   \n",
                            "3      19948 SATICOY STREET     WINNETKA  91306-2648   \n",
                            "4          412 W 7TH STREET    SAN PEDRO  90731-3208   \n",
                            "\n",
                            "       LOCATION DESCRIPTION           MAILING ADDRESS MAILING CITY  \\\n",
                            "0           1017 88TH 90044        1017 W 88TH STREET  LOS ANGELES   \n",
                            "1     1506 MANCHESTER 90047  1506 W MANCHESTER AVENUE  LOS ANGELES   \n",
                            "2        711 GRAMERCY 90005      711 S GRAMERCY PLACE  LOS ANGELES   \n",
                            "3  19948 Saticoy 91306-2648                       NaN          NaN   \n",
                            "4             412 7TH 90731      465 N HANFORD AVENUE    SAN PEDRO   \n",
                            "\n",
                            "  MAILING ZIP CODE      NAICS                PRIMARY NAICS DESCRIPTION  \\\n",
                            "0       90044-2119 444,130.00                          Hardware stores   \n",
                            "1       90047-5424        NaN                                      NaN   \n",
                            "2       90005-3166        NaN                                      NaN   \n",
                            "3              NaN 561,790.00  Other services to buildings & dwellings   \n",
                            "4       90732-2621        NaN                                      NaN   \n",
                            "\n",
                            "   COUNCIL DISTRICT LOCATION START DATE LOCATION END DATE  \\\n",
                            "0                 0          10/01/2020               NaN   \n",
                            "1                 8          09/03/2020               NaN   \n",
                            "2                 5          03/15/2021               NaN   \n",
                            "3                 3          01/15/2019               NaN   \n",
                            "4                15          03/01/2021               NaN   \n",
                            "\n",
                            "               LOCATION  \n",
                            "0  (33.9581, -118.2926)  \n",
                            "1  (33.9597, -118.3028)  \n",
                            "2  (34.0594, -118.3135)  \n",
                            "3  (34.2081, -118.5684)  \n",
                            "4   (33.738, -118.2861)  "
                        ]
                    },
                    "execution_count": 7,
                    "metadata": {},
                    "output_type": "execute_result"
                }
            ],
            "source": [
                "business_df.head()"
            ]
        },
        {
            "cell_type": "code",
            "execution_count": null,
            "metadata": {},
            "outputs": [
                {
                    "data": {
                        "text/html": [
                            "<div>\n",
                            "<style scoped>\n",
                            "    .dataframe tbody tr th:only-of-type {\n",
                            "        vertical-align: middle;\n",
                            "    }\n",
                            "\n",
                            "    .dataframe tbody tr th {\n",
                            "        vertical-align: top;\n",
                            "    }\n",
                            "\n",
                            "    .dataframe thead th {\n",
                            "        text-align: right;\n",
                            "    }\n",
                            "</style>\n",
                            "<table border=\"1\" class=\"dataframe\">\n",
                            "  <thead>\n",
                            "    <tr style=\"text-align: right;\">\n",
                            "      <th></th>\n",
                            "      <th>LOCATION ACCOUNT #</th>\n",
                            "      <th>BUSINESS NAME</th>\n",
                            "      <th>DBA NAME</th>\n",
                            "      <th>STREET ADDRESS</th>\n",
                            "      <th>CITY</th>\n",
                            "      <th>ZIP CODE</th>\n",
                            "      <th>LOCATION DESCRIPTION</th>\n",
                            "      <th>MAILING ADDRESS</th>\n",
                            "      <th>MAILING CITY</th>\n",
                            "      <th>MAILING ZIP CODE</th>\n",
                            "      <th>NAICS</th>\n",
                            "      <th>PRIMARY NAICS DESCRIPTION</th>\n",
                            "      <th>COUNCIL DISTRICT</th>\n",
                            "      <th>LOCATION START DATE</th>\n",
                            "      <th>LOCATION END DATE</th>\n",
                            "      <th>LOCATION</th>\n",
                            "      <th>Latitude</th>\n",
                            "      <th>Longitude</th>\n",
                            "      <th>geometry</th>\n",
                            "    </tr>\n",
                            "  </thead>\n",
                            "  <tbody>\n",
                            "    <tr>\n",
                            "      <th>0</th>\n",
                            "      <td>0003217523-0001-2</td>\n",
                            "      <td>MARIA OFELIA NUNEZ</td>\n",
                            "      <td>LA CAMPANA HARDWARE</td>\n",
                            "      <td>1017 W 88TH STREET</td>\n",
                            "      <td>LOS ANGELES</td>\n",
                            "      <td>90044-2119</td>\n",
                            "      <td>1017 88TH 90044</td>\n",
                            "      <td>1017 W 88TH STREET</td>\n",
                            "      <td>LOS ANGELES</td>\n",
                            "      <td>90044-2119</td>\n",
                            "      <td>444,130.00</td>\n",
                            "      <td>Hardware stores</td>\n",
                            "      <td>0</td>\n",
                            "      <td>10/01/2020</td>\n",
                            "      <td>NaN</td>\n",
                            "      <td>(33.9581, -118.2926)</td>\n",
                            "      <td>33.96</td>\n",
                            "      <td>-118.29</td>\n",
                            "      <td>POINT (-118.2926 33.9581)</td>\n",
                            "    </tr>\n",
                            "    <tr>\n",
                            "      <th>1</th>\n",
                            "      <td>0003211603-0001-0</td>\n",
                            "      <td>ONE STOP HOLISTIC HEALTH LLC</td>\n",
                            "      <td>NaN</td>\n",
                            "      <td>1506 W MANCHESTER AVENUE</td>\n",
                            "      <td>LOS ANGELES</td>\n",
                            "      <td>90047-5424</td>\n",
                            "      <td>1506 MANCHESTER 90047</td>\n",
                            "      <td>1506 W MANCHESTER AVENUE</td>\n",
                            "      <td>LOS ANGELES</td>\n",
                            "      <td>90047-5424</td>\n",
                            "      <td>NaN</td>\n",
                            "      <td>NaN</td>\n",
                            "      <td>8</td>\n",
                            "      <td>09/03/2020</td>\n",
                            "      <td>NaN</td>\n",
                            "      <td>(33.9597, -118.3028)</td>\n",
                            "      <td>33.96</td>\n",
                            "      <td>-118.30</td>\n",
                            "      <td>POINT (-118.3028 33.9597)</td>\n",
                            "    </tr>\n",
                            "    <tr>\n",
                            "      <th>2</th>\n",
                            "      <td>0003249387-0001-0</td>\n",
                            "      <td>CHOE SHOW, LLC</td>\n",
                            "      <td>NaN</td>\n",
                            "      <td>711 S GRAMERCY PLACE</td>\n",
                            "      <td>LOS ANGELES</td>\n",
                            "      <td>90005-3166</td>\n",
                            "      <td>711 GRAMERCY 90005</td>\n",
                            "      <td>711 S GRAMERCY PLACE</td>\n",
                            "      <td>LOS ANGELES</td>\n",
                            "      <td>90005-3166</td>\n",
                            "      <td>NaN</td>\n",
                            "      <td>NaN</td>\n",
                            "      <td>5</td>\n",
                            "      <td>03/15/2021</td>\n",
                            "      <td>NaN</td>\n",
                            "      <td>(34.0594, -118.3135)</td>\n",
                            "      <td>34.06</td>\n",
                            "      <td>-118.31</td>\n",
                            "      <td>POINT (-118.3135 34.0594)</td>\n",
                            "    </tr>\n",
                            "    <tr>\n",
                            "      <th>3</th>\n",
                            "      <td>0003240128-0001-1</td>\n",
                            "      <td>SANTOS ANTONIO RAMOS AJPACAJA</td>\n",
                            "      <td>NaN</td>\n",
                            "      <td>19948 SATICOY STREET</td>\n",
                            "      <td>WINNETKA</td>\n",
                            "      <td>91306-2648</td>\n",
                            "      <td>19948 Saticoy 91306-2648</td>\n",
                            "      <td>NaN</td>\n",
                            "      <td>NaN</td>\n",
                            "      <td>NaN</td>\n",
                            "      <td>561,790.00</td>\n",
                            "      <td>Other services to buildings &amp; dwellings</td>\n",
                            "      <td>3</td>\n",
                            "      <td>01/15/2019</td>\n",
                            "      <td>NaN</td>\n",
                            "      <td>(34.2081, -118.5684)</td>\n",
                            "      <td>34.21</td>\n",
                            "      <td>-118.57</td>\n",
                            "      <td>POINT (-118.5684 34.2081)</td>\n",
                            "    </tr>\n",
                            "    <tr>\n",
                            "      <th>4</th>\n",
                            "      <td>0003236037-0001-9</td>\n",
                            "      <td>ASHLEY-ANN FELIX</td>\n",
                            "      <td>NaN</td>\n",
                            "      <td>412 W 7TH STREET</td>\n",
                            "      <td>SAN PEDRO</td>\n",
                            "      <td>90731-3208</td>\n",
                            "      <td>412 7TH 90731</td>\n",
                            "      <td>465 N HANFORD AVENUE</td>\n",
                            "      <td>SAN PEDRO</td>\n",
                            "      <td>90732-2621</td>\n",
                            "      <td>NaN</td>\n",
                            "      <td>NaN</td>\n",
                            "      <td>15</td>\n",
                            "      <td>03/01/2021</td>\n",
                            "      <td>NaN</td>\n",
                            "      <td>(33.738, -118.2861)</td>\n",
                            "      <td>33.74</td>\n",
                            "      <td>-118.29</td>\n",
                            "      <td>POINT (-118.2861 33.738)</td>\n",
                            "    </tr>\n",
                            "  </tbody>\n",
                            "</table>\n",
                            "</div>"
                        ],
                        "text/plain": [
                            "  LOCATION ACCOUNT #                  BUSINESS NAME             DBA NAME  \\\n",
                            "0  0003217523-0001-2             MARIA OFELIA NUNEZ  LA CAMPANA HARDWARE   \n",
                            "1  0003211603-0001-0   ONE STOP HOLISTIC HEALTH LLC                  NaN   \n",
                            "2  0003249387-0001-0                 CHOE SHOW, LLC                  NaN   \n",
                            "3  0003240128-0001-1  SANTOS ANTONIO RAMOS AJPACAJA                  NaN   \n",
                            "4  0003236037-0001-9               ASHLEY-ANN FELIX                  NaN   \n",
                            "\n",
                            "             STREET ADDRESS         CITY    ZIP CODE  \\\n",
                            "0        1017 W 88TH STREET  LOS ANGELES  90044-2119   \n",
                            "1  1506 W MANCHESTER AVENUE  LOS ANGELES  90047-5424   \n",
                            "2      711 S GRAMERCY PLACE  LOS ANGELES  90005-3166   \n",
                            "3      19948 SATICOY STREET     WINNETKA  91306-2648   \n",
                            "4          412 W 7TH STREET    SAN PEDRO  90731-3208   \n",
                            "\n",
                            "       LOCATION DESCRIPTION           MAILING ADDRESS MAILING CITY  \\\n",
                            "0           1017 88TH 90044        1017 W 88TH STREET  LOS ANGELES   \n",
                            "1     1506 MANCHESTER 90047  1506 W MANCHESTER AVENUE  LOS ANGELES   \n",
                            "2        711 GRAMERCY 90005      711 S GRAMERCY PLACE  LOS ANGELES   \n",
                            "3  19948 Saticoy 91306-2648                       NaN          NaN   \n",
                            "4             412 7TH 90731      465 N HANFORD AVENUE    SAN PEDRO   \n",
                            "\n",
                            "  MAILING ZIP CODE      NAICS                PRIMARY NAICS DESCRIPTION  \\\n",
                            "0       90044-2119 444,130.00                          Hardware stores   \n",
                            "1       90047-5424        NaN                                      NaN   \n",
                            "2       90005-3166        NaN                                      NaN   \n",
                            "3              NaN 561,790.00  Other services to buildings & dwellings   \n",
                            "4       90732-2621        NaN                                      NaN   \n",
                            "\n",
                            "   COUNCIL DISTRICT LOCATION START DATE LOCATION END DATE  \\\n",
                            "0                 0          10/01/2020               NaN   \n",
                            "1                 8          09/03/2020               NaN   \n",
                            "2                 5          03/15/2021               NaN   \n",
                            "3                 3          01/15/2019               NaN   \n",
                            "4                15          03/01/2021               NaN   \n",
                            "\n",
                            "               LOCATION  Latitude  Longitude                   geometry  \n",
                            "0  (33.9581, -118.2926)     33.96    -118.29  POINT (-118.2926 33.9581)  \n",
                            "1  (33.9597, -118.3028)     33.96    -118.30  POINT (-118.3028 33.9597)  \n",
                            "2  (34.0594, -118.3135)     34.06    -118.31  POINT (-118.3135 34.0594)  \n",
                            "3  (34.2081, -118.5684)     34.21    -118.57  POINT (-118.5684 34.2081)  \n",
                            "4   (33.738, -118.2861)     33.74    -118.29   POINT (-118.2861 33.738)  "
                        ]
                    },
                    "execution_count": 8,
                    "metadata": {},
                    "output_type": "execute_result"
                }
            ],
            "source": [
                "coord_col = 'LOCATION'\n",
                "\n",
                "df_clean = business_df.dropna(subset=[coord_col]).copy()\n",
                "\n",
                "# 2. Limpiar paréntesis y espacios sobrantes\n",
                "coords = df_clean[coord_col].astype(str).str.strip('()')\n",
                "\n",
                "# 3. Separar en dos columnas y convertir a tipo numérico\n",
                "df_clean[['Latitude', 'Longitude']] = (\n",
                "    coords\n",
                "    .str.split(',', expand=True)        # separa en dos columnas\n",
                "    .apply(lambda col: col.str.strip()) # quita espacios\n",
                "    .astype(float)                      # convierte a float\n",
                ")\n",
                "\n",
                "gdf_business = gpd.GeoDataFrame(\n",
                "    df_clean,\n",
                "    geometry=gpd.points_from_xy(df_clean['Longitude'], df_clean['Latitude']),\n",
                "    crs=\"EPSG:4326\"  # Coord. reference system GPS\n",
                ")\n",
                "\n",
                "gdf_business.head(5)"
            ]
        },
        {
            "cell_type": "code",
            "execution_count": 9,
            "metadata": {},
            "outputs": [
                {
                    "data": {
                        "text/html": [
                            "<div>\n",
                            "<style scoped>\n",
                            "    .dataframe tbody tr th:only-of-type {\n",
                            "        vertical-align: middle;\n",
                            "    }\n",
                            "\n",
                            "    .dataframe tbody tr th {\n",
                            "        vertical-align: top;\n",
                            "    }\n",
                            "\n",
                            "    .dataframe thead th {\n",
                            "        text-align: right;\n",
                            "    }\n",
                            "</style>\n",
                            "<table border=\"1\" class=\"dataframe\">\n",
                            "  <thead>\n",
                            "    <tr style=\"text-align: right;\">\n",
                            "      <th></th>\n",
                            "      <th>OBJECTID</th>\n",
                            "      <th>name</th>\n",
                            "      <th>geometry</th>\n",
                            "    </tr>\n",
                            "  </thead>\n",
                            "  <tbody>\n",
                            "    <tr>\n",
                            "      <th>0</th>\n",
                            "      <td>1</td>\n",
                            "      <td>Adams-Normandie</td>\n",
                            "      <td>POLYGON ((-118.30069 34.03731, -118.30388 34.0...</td>\n",
                            "    </tr>\n",
                            "    <tr>\n",
                            "      <th>1</th>\n",
                            "      <td>2</td>\n",
                            "      <td>Arleta</td>\n",
                            "      <td>POLYGON ((-118.44255 34.26412, -118.4424 34.26...</td>\n",
                            "    </tr>\n",
                            "    <tr>\n",
                            "      <th>2</th>\n",
                            "      <td>3</td>\n",
                            "      <td>Arlington Heights</td>\n",
                            "      <td>POLYGON ((-118.31862 34.05306, -118.31673 34.0...</td>\n",
                            "    </tr>\n",
                            "    <tr>\n",
                            "      <th>3</th>\n",
                            "      <td>4</td>\n",
                            "      <td>Atwater Village</td>\n",
                            "      <td>MULTIPOLYGON (((-118.27886 34.15321, -118.2788...</td>\n",
                            "    </tr>\n",
                            "    <tr>\n",
                            "      <th>4</th>\n",
                            "      <td>5</td>\n",
                            "      <td>Baldwin Hills/Crenshaw</td>\n",
                            "      <td>POLYGON ((-118.36102 34.02532, -118.36026 34.0...</td>\n",
                            "    </tr>\n",
                            "  </tbody>\n",
                            "</table>\n",
                            "</div>"
                        ],
                        "text/plain": [
                            "   OBJECTID                    name  \\\n",
                            "0         1         Adams-Normandie   \n",
                            "1         2                  Arleta   \n",
                            "2         3       Arlington Heights   \n",
                            "3         4         Atwater Village   \n",
                            "4         5  Baldwin Hills/Crenshaw   \n",
                            "\n",
                            "                                            geometry  \n",
                            "0  POLYGON ((-118.30069 34.03731, -118.30388 34.0...  \n",
                            "1  POLYGON ((-118.44255 34.26412, -118.4424 34.26...  \n",
                            "2  POLYGON ((-118.31862 34.05306, -118.31673 34.0...  \n",
                            "3  MULTIPOLYGON (((-118.27886 34.15321, -118.2788...  \n",
                            "4  POLYGON ((-118.36102 34.02532, -118.36026 34.0...  "
                        ]
                    },
                    "execution_count": 9,
                    "metadata": {},
                    "output_type": "execute_result"
                }
            ],
            "source": [
                "neighborhoods = gpd.read_file(\"https://services5.arcgis.com/7nsPwEMP38bSkCjy/arcgis/rest/services/LA_Times_Neighborhoods/FeatureServer/0/query?outFields=*&where=1%3D1&f=geojson\")\n",
                "\n",
                "neighborhoods.head(5)"
            ]
        },
        {
            "cell_type": "code",
            "execution_count": 10,
            "metadata": {},
            "outputs": [],
            "source": [
                "gdf_neigh = neighborhoods\n",
                "\n",
                "gdf_joined = gpd.sjoin(\n",
                "    gdf_business,\n",
                "    gdf_neigh[['name', 'geometry']],\n",
                "    how='left',\n",
                "    predicate='within'\n",
                ")"
            ]
        },
        {
            "cell_type": "code",
            "execution_count": 11,
            "metadata": {},
            "outputs": [
                {
                    "data": {
                        "text/html": [
                            "<div>\n",
                            "<style scoped>\n",
                            "    .dataframe tbody tr th:only-of-type {\n",
                            "        vertical-align: middle;\n",
                            "    }\n",
                            "\n",
                            "    .dataframe tbody tr th {\n",
                            "        vertical-align: top;\n",
                            "    }\n",
                            "\n",
                            "    .dataframe thead th {\n",
                            "        text-align: right;\n",
                            "    }\n",
                            "</style>\n",
                            "<table border=\"1\" class=\"dataframe\">\n",
                            "  <thead>\n",
                            "    <tr style=\"text-align: right;\">\n",
                            "      <th></th>\n",
                            "      <th>LOCATION ACCOUNT #</th>\n",
                            "      <th>BUSINESS NAME</th>\n",
                            "      <th>DBA NAME</th>\n",
                            "      <th>STREET ADDRESS</th>\n",
                            "      <th>CITY</th>\n",
                            "      <th>ZIP CODE</th>\n",
                            "      <th>LOCATION DESCRIPTION</th>\n",
                            "      <th>MAILING ADDRESS</th>\n",
                            "      <th>MAILING CITY</th>\n",
                            "      <th>MAILING ZIP CODE</th>\n",
                            "      <th>...</th>\n",
                            "      <th>PRIMARY NAICS DESCRIPTION</th>\n",
                            "      <th>COUNCIL DISTRICT</th>\n",
                            "      <th>LOCATION START DATE</th>\n",
                            "      <th>LOCATION END DATE</th>\n",
                            "      <th>LOCATION</th>\n",
                            "      <th>Latitude</th>\n",
                            "      <th>Longitude</th>\n",
                            "      <th>geometry</th>\n",
                            "      <th>index_right</th>\n",
                            "      <th>name</th>\n",
                            "    </tr>\n",
                            "  </thead>\n",
                            "  <tbody>\n",
                            "    <tr>\n",
                            "      <th>0</th>\n",
                            "      <td>0003217523-0001-2</td>\n",
                            "      <td>MARIA OFELIA NUNEZ</td>\n",
                            "      <td>LA CAMPANA HARDWARE</td>\n",
                            "      <td>1017 W 88TH STREET</td>\n",
                            "      <td>LOS ANGELES</td>\n",
                            "      <td>90044-2119</td>\n",
                            "      <td>1017 88TH 90044</td>\n",
                            "      <td>1017 W 88TH STREET</td>\n",
                            "      <td>LOS ANGELES</td>\n",
                            "      <td>90044-2119</td>\n",
                            "      <td>...</td>\n",
                            "      <td>Hardware stores</td>\n",
                            "      <td>0</td>\n",
                            "      <td>10/01/2020</td>\n",
                            "      <td>NaN</td>\n",
                            "      <td>(33.9581, -118.2926)</td>\n",
                            "      <td>33.96</td>\n",
                            "      <td>-118.29</td>\n",
                            "      <td>POINT (-118.2926 33.9581)</td>\n",
                            "      <td>NaN</td>\n",
                            "      <td>NaN</td>\n",
                            "    </tr>\n",
                            "    <tr>\n",
                            "      <th>1</th>\n",
                            "      <td>0003211603-0001-0</td>\n",
                            "      <td>ONE STOP HOLISTIC HEALTH LLC</td>\n",
                            "      <td>NaN</td>\n",
                            "      <td>1506 W MANCHESTER AVENUE</td>\n",
                            "      <td>LOS ANGELES</td>\n",
                            "      <td>90047-5424</td>\n",
                            "      <td>1506 MANCHESTER 90047</td>\n",
                            "      <td>1506 W MANCHESTER AVENUE</td>\n",
                            "      <td>LOS ANGELES</td>\n",
                            "      <td>90047-5424</td>\n",
                            "      <td>...</td>\n",
                            "      <td>NaN</td>\n",
                            "      <td>8</td>\n",
                            "      <td>09/03/2020</td>\n",
                            "      <td>NaN</td>\n",
                            "      <td>(33.9597, -118.3028)</td>\n",
                            "      <td>33.96</td>\n",
                            "      <td>-118.30</td>\n",
                            "      <td>POINT (-118.3028 33.9597)</td>\n",
                            "      <td>35.00</td>\n",
                            "      <td>Gramercy Park</td>\n",
                            "    </tr>\n",
                            "    <tr>\n",
                            "      <th>2</th>\n",
                            "      <td>0003249387-0001-0</td>\n",
                            "      <td>CHOE SHOW, LLC</td>\n",
                            "      <td>NaN</td>\n",
                            "      <td>711 S GRAMERCY PLACE</td>\n",
                            "      <td>LOS ANGELES</td>\n",
                            "      <td>90005-3166</td>\n",
                            "      <td>711 GRAMERCY 90005</td>\n",
                            "      <td>711 S GRAMERCY PLACE</td>\n",
                            "      <td>LOS ANGELES</td>\n",
                            "      <td>90005-3166</td>\n",
                            "      <td>...</td>\n",
                            "      <td>NaN</td>\n",
                            "      <td>5</td>\n",
                            "      <td>03/15/2021</td>\n",
                            "      <td>NaN</td>\n",
                            "      <td>(34.0594, -118.3135)</td>\n",
                            "      <td>34.06</td>\n",
                            "      <td>-118.31</td>\n",
                            "      <td>POINT (-118.3135 34.0594)</td>\n",
                            "      <td>52.00</td>\n",
                            "      <td>Koreatown</td>\n",
                            "    </tr>\n",
                            "  </tbody>\n",
                            "</table>\n",
                            "<p>3 rows × 21 columns</p>\n",
                            "</div>"
                        ],
                        "text/plain": [
                            "  LOCATION ACCOUNT #                 BUSINESS NAME             DBA NAME  \\\n",
                            "0  0003217523-0001-2            MARIA OFELIA NUNEZ  LA CAMPANA HARDWARE   \n",
                            "1  0003211603-0001-0  ONE STOP HOLISTIC HEALTH LLC                  NaN   \n",
                            "2  0003249387-0001-0                CHOE SHOW, LLC                  NaN   \n",
                            "\n",
                            "             STREET ADDRESS         CITY    ZIP CODE   LOCATION DESCRIPTION  \\\n",
                            "0        1017 W 88TH STREET  LOS ANGELES  90044-2119        1017 88TH 90044   \n",
                            "1  1506 W MANCHESTER AVENUE  LOS ANGELES  90047-5424  1506 MANCHESTER 90047   \n",
                            "2      711 S GRAMERCY PLACE  LOS ANGELES  90005-3166     711 GRAMERCY 90005   \n",
                            "\n",
                            "            MAILING ADDRESS MAILING CITY MAILING ZIP CODE  ...  \\\n",
                            "0        1017 W 88TH STREET  LOS ANGELES       90044-2119  ...   \n",
                            "1  1506 W MANCHESTER AVENUE  LOS ANGELES       90047-5424  ...   \n",
                            "2      711 S GRAMERCY PLACE  LOS ANGELES       90005-3166  ...   \n",
                            "\n",
                            "   PRIMARY NAICS DESCRIPTION COUNCIL DISTRICT  LOCATION START DATE  \\\n",
                            "0            Hardware stores                0           10/01/2020   \n",
                            "1                        NaN                8           09/03/2020   \n",
                            "2                        NaN                5           03/15/2021   \n",
                            "\n",
                            "  LOCATION END DATE              LOCATION Latitude  Longitude  \\\n",
                            "0               NaN  (33.9581, -118.2926)    33.96    -118.29   \n",
                            "1               NaN  (33.9597, -118.3028)    33.96    -118.30   \n",
                            "2               NaN  (34.0594, -118.3135)    34.06    -118.31   \n",
                            "\n",
                            "                    geometry index_right           name  \n",
                            "0  POINT (-118.2926 33.9581)         NaN            NaN  \n",
                            "1  POINT (-118.3028 33.9597)       35.00  Gramercy Park  \n",
                            "2  POINT (-118.3135 34.0594)       52.00      Koreatown  \n",
                            "\n",
                            "[3 rows x 21 columns]"
                        ]
                    },
                    "execution_count": 11,
                    "metadata": {},
                    "output_type": "execute_result"
                }
            ],
            "source": [
                "gdf_joined.head(3)"
            ]
        },
        {
            "cell_type": "code",
            "execution_count": 12,
            "metadata": {},
            "outputs": [
                {
                    "data": {
                        "text/html": [
                            "<div>\n",
                            "<style scoped>\n",
                            "    .dataframe tbody tr th:only-of-type {\n",
                            "        vertical-align: middle;\n",
                            "    }\n",
                            "\n",
                            "    .dataframe tbody tr th {\n",
                            "        vertical-align: top;\n",
                            "    }\n",
                            "\n",
                            "    .dataframe thead th {\n",
                            "        text-align: right;\n",
                            "    }\n",
                            "</style>\n",
                            "<table border=\"1\" class=\"dataframe\">\n",
                            "  <thead>\n",
                            "    <tr style=\"text-align: right;\">\n",
                            "      <th></th>\n",
                            "      <th>BUSINESS NAME</th>\n",
                            "      <th>Latitude</th>\n",
                            "      <th>Longitude</th>\n",
                            "      <th>name</th>\n",
                            "    </tr>\n",
                            "  </thead>\n",
                            "  <tbody>\n",
                            "    <tr>\n",
                            "      <th>0</th>\n",
                            "      <td>MARIA OFELIA NUNEZ</td>\n",
                            "      <td>33.96</td>\n",
                            "      <td>-118.29</td>\n",
                            "      <td>NaN</td>\n",
                            "    </tr>\n",
                            "    <tr>\n",
                            "      <th>1</th>\n",
                            "      <td>ONE STOP HOLISTIC HEALTH LLC</td>\n",
                            "      <td>33.96</td>\n",
                            "      <td>-118.30</td>\n",
                            "      <td>Gramercy Park</td>\n",
                            "    </tr>\n",
                            "    <tr>\n",
                            "      <th>2</th>\n",
                            "      <td>CHOE SHOW, LLC</td>\n",
                            "      <td>34.06</td>\n",
                            "      <td>-118.31</td>\n",
                            "      <td>Koreatown</td>\n",
                            "    </tr>\n",
                            "    <tr>\n",
                            "      <th>3</th>\n",
                            "      <td>SANTOS ANTONIO RAMOS AJPACAJA</td>\n",
                            "      <td>34.21</td>\n",
                            "      <td>-118.57</td>\n",
                            "      <td>Winnetka</td>\n",
                            "    </tr>\n",
                            "    <tr>\n",
                            "      <th>4</th>\n",
                            "      <td>ASHLEY-ANN FELIX</td>\n",
                            "      <td>33.74</td>\n",
                            "      <td>-118.29</td>\n",
                            "      <td>San Pedro</td>\n",
                            "    </tr>\n",
                            "  </tbody>\n",
                            "</table>\n",
                            "</div>"
                        ],
                        "text/plain": [
                            "                   BUSINESS NAME  Latitude  Longitude           name\n",
                            "0             MARIA OFELIA NUNEZ     33.96    -118.29            NaN\n",
                            "1   ONE STOP HOLISTIC HEALTH LLC     33.96    -118.30  Gramercy Park\n",
                            "2                 CHOE SHOW, LLC     34.06    -118.31      Koreatown\n",
                            "3  SANTOS ANTONIO RAMOS AJPACAJA     34.21    -118.57       Winnetka\n",
                            "4               ASHLEY-ANN FELIX     33.74    -118.29      San Pedro"
                        ]
                    },
                    "execution_count": 12,
                    "metadata": {},
                    "output_type": "execute_result"
                }
            ],
            "source": [
                "gdf_joined[['BUSINESS NAME', 'Latitude', 'Longitude', 'name']].head()"
            ]
        },
        {
            "cell_type": "code",
            "execution_count": 13,
            "metadata": {},
            "outputs": [
                {
                    "data": {
                        "text/plain": [
                            "115"
                        ]
                    },
                    "execution_count": 13,
                    "metadata": {},
                    "output_type": "execute_result"
                }
            ],
            "source": [
                "len(gdf_joined[\"name\"].unique())"
            ]
        },
        {
            "cell_type": "code",
            "execution_count": 14,
            "metadata": {},
            "outputs": [
                {
                    "data": {
                        "text/plain": [
                            "np.float64(0.21837311403070098)"
                        ]
                    },
                    "execution_count": 14,
                    "metadata": {},
                    "output_type": "execute_result"
                }
            ],
            "source": [
                "gdf_joined['name'].isnull().sum()/len(gdf_joined)"
            ]
        },
        {
            "cell_type": "code",
            "execution_count": 15,
            "metadata": {},
            "outputs": [],
            "source": [
                "# 1. Separa lo asignado y lo faltante\n",
                "gdf_missing  = gdf_joined[gdf_joined['name'].isna()].copy()\n",
                "gdf_assigned = gdf_joined[gdf_joined['name'].notna()].copy()"
            ]
        },
        {
            "cell_type": "code",
            "execution_count": 16,
            "metadata": {},
            "outputs": [
                {
                    "name": "stderr",
                    "output_type": "stream",
                    "text": [
                        "/tmp/ipykernel_13522/3111645069.py:3: UserWarning: Geometry is in a geographic CRS. Results from 'centroid' are likely incorrect. Use 'GeoSeries.to_crs()' to re-project geometries to a projected CRS before this operation.\n",
                        "\n",
                        "  neigh_cent['centroid'] = neigh_cent.geometry.centroid\n",
                        "/tmp/ipykernel_13522/3111645069.py:5: UserWarning: Geometry is in a geographic CRS. Results from 'centroid' are likely incorrect. Use 'GeoSeries.to_crs()' to re-project geometries to a projected CRS before this operation.\n",
                        "\n",
                        "  np.c_[neigh_cent.centroid.y.values, neigh_cent.centroid.x.values]\n"
                    ]
                }
            ],
            "source": [
                "# Centroides en radianes (Haversine)\n",
                "neigh_cent = gdf_neigh[['name', 'geometry']].copy()\n",
                "neigh_cent['centroid'] = neigh_cent.geometry.centroid\n",
                "centroids = np.deg2rad(\n",
                "    np.c_[neigh_cent.centroid.y.values, neigh_cent.centroid.x.values]\n",
                ")\n",
                "tree = BallTree(centroids, metric='haversine')\n",
                "\n",
                "# Puntos faltantes → radianes\n",
                "pts = np.deg2rad(np.c_[gdf_missing.geometry.y, gdf_missing.geometry.x])\n",
                "dist, idx = tree.query(pts, k=1)\n",
                "\n",
                "gdf_missing['name']   = neigh_cent.iloc[idx.flatten()].name.values\n",
                "gdf_missing['dist_k'] = dist.flatten()*6371   # km"
            ]
        },
        {
            "cell_type": "code",
            "execution_count": 18,
            "metadata": {},
            "outputs": [],
            "source": [
                "gdf_business = pd.concat([gdf_assigned, gdf_assigned], ignore_index=True)"
            ]
        },
        {
            "cell_type": "code",
            "execution_count": 19,
            "metadata": {},
            "outputs": [
                {
                    "data": {
                        "text/plain": [
                            "np.float64(0.0)"
                        ]
                    },
                    "execution_count": 19,
                    "metadata": {},
                    "output_type": "execute_result"
                }
            ],
            "source": [
                "gdf_business['name'].isnull().sum()/len(gdf_business)"
            ]
        },
        {
            "cell_type": "code",
            "execution_count": 20,
            "metadata": {
                "cell_id": "dd73362551994790b6f54d643eadfa1f",
                "deepnote_cell_type": "code",
                "execution_context_id": "9d19cb3c-9408-45b5-82e7-9cc88f556b14",
                "execution_millis": 612,
                "execution_start": 1746050411964,
                "source_hash": "2b086425"
            },
            "outputs": [
                {
                    "name": "stdout",
                    "output_type": "stream",
                    "text": [
                        "<class 'geopandas.geodataframe.GeoDataFrame'>\n",
                        "RangeIndex: 1047194 entries, 0 to 1047193\n",
                        "Data columns (total 21 columns):\n",
                        " #   Column                     Non-Null Count    Dtype   \n",
                        "---  ------                     --------------    -----   \n",
                        " 0   LOCATION ACCOUNT #         1047194 non-null  object  \n",
                        " 1   BUSINESS NAME              1047194 non-null  object  \n",
                        " 2   DBA NAME                   343266 non-null   object  \n",
                        " 3   STREET ADDRESS             1047194 non-null  object  \n",
                        " 4   CITY                       1047190 non-null  object  \n",
                        " 5   ZIP CODE                   1047194 non-null  object  \n",
                        " 6   LOCATION DESCRIPTION       1047158 non-null  object  \n",
                        " 7   MAILING ADDRESS            477538 non-null   object  \n",
                        " 8   MAILING CITY               477558 non-null   object  \n",
                        " 9   MAILING ZIP CODE           477430 non-null   object  \n",
                        " 10  NAICS                      919220 non-null   float64 \n",
                        " 11  PRIMARY NAICS DESCRIPTION  919220 non-null   object  \n",
                        " 12  COUNCIL DISTRICT           1047194 non-null  int64   \n",
                        " 13  LOCATION START DATE        1047184 non-null  object  \n",
                        " 14  LOCATION END DATE          208982 non-null   object  \n",
                        " 15  LOCATION                   1047194 non-null  object  \n",
                        " 16  Latitude                   1047194 non-null  float64 \n",
                        " 17  Longitude                  1047194 non-null  float64 \n",
                        " 18  geometry                   1047194 non-null  geometry\n",
                        " 19  index_right                1047194 non-null  float64 \n",
                        " 20  name                       1047194 non-null  object  \n",
                        "dtypes: float64(4), geometry(1), int64(1), object(15)\n",
                        "memory usage: 167.8+ MB\n"
                    ]
                }
            ],
            "source": [
                "gdf_business.columns = gdf_business.columns.str.strip()\n",
                "\n",
                "gdf_business.info()"
            ]
        },
        {
            "cell_type": "code",
            "execution_count": 22,
            "metadata": {},
            "outputs": [],
            "source": [
                "#Renonbrando las columna de name con neighborhood dado que esta tiene el nombre de los vecindarios\n",
                "gdf_business.rename(columns={'name': 'neighborhoods'}, inplace=True)\n",
                "\n",
                "#Eliminando las columnas innecesarias\n",
                "gdf_business.drop(columns=['index_right', 'geometry'], inplace=True)"
            ]
        },
        {
            "cell_type": "code",
            "execution_count": 23,
            "metadata": {
                "cell_id": "cbe6e7494dd848cea4aed27d47d289d1",
                "deepnote_cell_type": "code",
                "execution_context_id": "9d19cb3c-9408-45b5-82e7-9cc88f556b14",
                "execution_millis": 151,
                "execution_start": 1746050445943,
                "source_hash": "7359d10"
            },
            "outputs": [],
            "source": [
                "#Transformando las columnas de fechas a el tipo de dato datetime\n",
                "gdf_business[\"LOCATION START DATE\"] = pd.to_datetime(gdf_business[\"LOCATION START DATE\"], format=\"%m/%d/%Y\", errors='coerce')\n",
                "gdf_business[\"LOCATION END DATE\"] = pd.to_datetime(gdf_business[\"LOCATION END DATE\"], format=\"%m/%d/%Y\", errors='coerce')"
            ]
        },
        {
            "cell_type": "code",
            "execution_count": 24,
            "metadata": {},
            "outputs": [],
            "source": [
                "gdf_business[\"Year star\"] = gdf_business[\"LOCATION START DATE\"].dt.year\n",
                "gdf_business[\"Year end\"] = gdf_business[\"LOCATION END DATE\"].dt.year\n",
                "gdf_business[\"Month star\"] = gdf_business[\"LOCATION START DATE\"].dt.month\n",
                "gdf_business[\"Month end\"] = gdf_business[\"LOCATION END DATE\"].dt.month"
            ]
        },
        {
            "cell_type": "code",
            "execution_count": 28,
            "metadata": {},
            "outputs": [
                {
                    "data": {
                        "text/plain": [
                            "<Axes: xlabel='Year end'>"
                        ]
                    },
                    "execution_count": 28,
                    "metadata": {},
                    "output_type": "execute_result"
                },
                {
                    "data": {
                        "image/png": "[encoded data removed]",
                        "text/plain": [
                            "<Figure size 640x480 with 1 Axes>"
                        ]
                    },
                    "metadata": {},
                    "output_type": "display_data"
                }
            ],
            "source": [
                "gdf_business.groupby('Year star')['BUSINESS NAME'].count().plot()\n",
                "gdf_business.groupby('Year end')['BUSINESS NAME'].count().plot()"
            ]
        },
        {
            "cell_type": "code",
            "execution_count": 49,
            "metadata": {},
            "outputs": [
                {
                    "data": {
                        "text/plain": [
                            "np.float64(0.8765688660413989)"
                        ]
                    },
                    "execution_count": 49,
                    "metadata": {},
                    "output_type": "execute_result"
                }
            ],
            "source": [
                "gdf_missing[\"LOCATION END DATE\"].isnull().sum()/len(gdf_missing)"
            ]
        },
        {
            "cell_type": "code",
            "execution_count": 50,
            "metadata": {},
            "outputs": [
                {
                    "data": {
                        "text/plain": [
                            "np.float64(0.0004443411446227885)"
                        ]
                    },
                    "execution_count": 50,
                    "metadata": {},
                    "output_type": "execute_result"
                }
            ],
            "source": [
                "gdf_missing[\"LOCATION START DATE\"].isnull().sum()/len(gdf_missing)"
            ]
        },
        {
            "cell_type": "code",
            "execution_count": 48,
            "metadata": {
                "cell_id": "4d1341dfdcb64a5fb8404b6c259eff46",
                "deepnote_cell_type": "code",
                "execution_context_id": "9d19cb3c-9408-45b5-82e7-9cc88f556b14",
                "execution_millis": 16,
                "execution_start": 1746050446145,
                "source_hash": "bc3b6418"
            },
            "outputs": [
                {
                    "data": {
                        "text/plain": [
                            "count   146,219.00\n",
                            "mean         10.31\n",
                            "std          10.30\n",
                            "min         -38.00\n",
                            "25%           3.00\n",
                            "50%           7.00\n",
                            "75%          14.00\n",
                            "max         104.00\n",
                            "Name: AGE, dtype: float64"
                        ]
                    },
                    "execution_count": 48,
                    "metadata": {},
                    "output_type": "execute_result"
                }
            ],
            "source": [
                "#Obteniendo el dia actual\n",
                "hoy = pd.Timestamp.now()\n",
                "\n",
                "#Calculando la edad en días de los diferentes negocios. Aquellos que poseen la fecha LOCATION END DATE como null se asigna la fecha de hoy\n",
                "result = (gdf_missing[\"LOCATION END DATE\"].fillna(hoy) - gdf_missing[\"LOCATION START DATE\"]).dt.days\n",
                "\n",
                "#Obteniendo la medida de la edad en años\n",
                "result = round(result/365,0)\n",
                "\n",
                "# Asigncon la edad de la sociedad\n",
                "gdf_missing[\"AGE\"] = result\n",
                "\n",
                "#Resultados\n",
                "gdf_missing[\"AGE\"].describe()"
            ]
        },
        {
            "cell_type": "markdown",
            "metadata": {},
            "source": [
                "Parece que tememos un problema con el calculo de AGE pues tenemos resultados negativos, por lo que realizaremos una inspección más a fondo de su naturaleza."
            ]
        },
        {
            "cell_type": "code",
            "execution_count": 10,
            "metadata": {
                "cell_id": "e217f898fd1b4f2eb891f898bf97e7c2",
                "deepnote_cell_type": "code",
                "execution_context_id": "9d19cb3c-9408-45b5-82e7-9cc88f556b14",
                "execution_millis": 9,
                "execution_start": 1746050508904,
                "source_hash": "6404d2a6"
            },
            "outputs": [
                {
                    "data": {
                        "text/html": [
                            "<div>\n",
                            "<style scoped>\n",
                            "    .dataframe tbody tr th:only-of-type {\n",
                            "        vertical-align: middle;\n",
                            "    }\n",
                            "\n",
                            "    .dataframe tbody tr th {\n",
                            "        vertical-align: top;\n",
                            "    }\n",
                            "\n",
                            "    .dataframe thead th {\n",
                            "        text-align: right;\n",
                            "    }\n",
                            "</style>\n",
                            "<table border=\"1\" class=\"dataframe\">\n",
                            "  <thead>\n",
                            "    <tr style=\"text-align: right;\">\n",
                            "      <th></th>\n",
                            "      <th>NAICS</th>\n",
                            "      <th>COUNCIL DISTRICT</th>\n",
                            "      <th>LOCATION START DATE</th>\n",
                            "      <th>LOCATION END DATE</th>\n",
                            "      <th>AGE</th>\n",
                            "    </tr>\n",
                            "  </thead>\n",
                            "  <tbody>\n",
                            "    <tr>\n",
                            "      <th>count</th>\n",
                            "      <td>628,889.00</td>\n",
                            "      <td>1,607,924.00</td>\n",
                            "      <td>1606366</td>\n",
                            "      <td>1010608</td>\n",
                            "      <td>1,606,366.00</td>\n",
                            "    </tr>\n",
                            "    <tr>\n",
                            "      <th>mean</th>\n",
                            "      <td>546,537.56</td>\n",
                            "      <td>5.89</td>\n",
                            "      <td>2006-11-18 23:22:51.861206784</td>\n",
                            "      <td>2010-03-01 16:43:33.466745088</td>\n",
                            "      <td>8.91</td>\n",
                            "    </tr>\n",
                            "    <tr>\n",
                            "      <th>min</th>\n",
                            "      <td>111,110.00</td>\n",
                            "      <td>0.00</td>\n",
                            "      <td>1920-01-01 00:00:00</td>\n",
                            "      <td>1943-02-01 00:00:00</td>\n",
                            "      <td>-40.00</td>\n",
                            "    </tr>\n",
                            "    <tr>\n",
                            "      <th>25%</th>\n",
                            "      <td>451,110.00</td>\n",
                            "      <td>0.00</td>\n",
                            "      <td>2000-04-20 00:00:00</td>\n",
                            "      <td>2004-08-28 00:00:00</td>\n",
                            "      <td>2.00</td>\n",
                            "    </tr>\n",
                            "    <tr>\n",
                            "      <th>50%</th>\n",
                            "      <td>541,100.00</td>\n",
                            "      <td>5.00</td>\n",
                            "      <td>2007-09-30 00:00:00</td>\n",
                            "      <td>2010-01-25 00:00:00</td>\n",
                            "      <td>6.00</td>\n",
                            "    </tr>\n",
                            "    <tr>\n",
                            "      <th>75%</th>\n",
                            "      <td>624,410.00</td>\n",
                            "      <td>11.00</td>\n",
                            "      <td>2015-10-01 00:00:00</td>\n",
                            "      <td>2016-01-01 00:00:00</td>\n",
                            "      <td>12.00</td>\n",
                            "    </tr>\n",
                            "    <tr>\n",
                            "      <th>max</th>\n",
                            "      <td>999,999.00</td>\n",
                            "      <td>15.00</td>\n",
                            "      <td>2025-12-31 00:00:00</td>\n",
                            "      <td>2030-07-02 00:00:00</td>\n",
                            "      <td>104.00</td>\n",
                            "    </tr>\n",
                            "    <tr>\n",
                            "      <th>std</th>\n",
                            "      <td>166,037.71</td>\n",
                            "      <td>5.13</td>\n",
                            "      <td>NaN</td>\n",
                            "      <td>NaN</td>\n",
                            "      <td>9.70</td>\n",
                            "    </tr>\n",
                            "  </tbody>\n",
                            "</table>\n",
                            "</div>"
                        ],
                        "text/plain": [
                            "           NAICS  COUNCIL DISTRICT            LOCATION START DATE  \\\n",
                            "count 628,889.00      1,607,924.00                        1606366   \n",
                            "mean  546,537.56              5.89  2006-11-18 23:22:51.861206784   \n",
                            "min   111,110.00              0.00            1920-01-01 00:00:00   \n",
                            "25%   451,110.00              0.00            2000-04-20 00:00:00   \n",
                            "50%   541,100.00              5.00            2007-09-30 00:00:00   \n",
                            "75%   624,410.00             11.00            2015-10-01 00:00:00   \n",
                            "max   999,999.00             15.00            2025-12-31 00:00:00   \n",
                            "std   166,037.71              5.13                            NaN   \n",
                            "\n",
                            "                   LOCATION END DATE          AGE  \n",
                            "count                        1010608 1,606,366.00  \n",
                            "mean   2010-03-01 16:43:33.466745088         8.91  \n",
                            "min              1943-02-01 00:00:00       -40.00  \n",
                            "25%              2004-08-28 00:00:00         2.00  \n",
                            "50%              2010-01-25 00:00:00         6.00  \n",
                            "75%              2016-01-01 00:00:00        12.00  \n",
                            "max              2030-07-02 00:00:00       104.00  \n",
                            "std                              NaN         9.70  "
                        ]
                    },
                    "execution_count": 10,
                    "metadata": {},
                    "output_type": "execute_result"
                }
            ],
            "source": [
                "business_df.describe()"
            ]
        },
        {
            "cell_type": "markdown",
            "metadata": {},
            "source": [
                "Existe 1558 registros que cuentan con un valor nulo de la edad."
            ]
        },
        {
            "cell_type": "code",
            "execution_count": 23,
            "metadata": {
                "cell_id": "a673fab0cb7d4b64bfdbe5cc39985d87",
                "deepnote_cell_type": "code",
                "execution_context_id": "9d19cb3c-9408-45b5-82e7-9cc88f556b14",
                "execution_millis": 102,
                "execution_start": 1746050534075,
                "source_hash": "d8af75a6"
            },
            "outputs": [
                {
                    "data": {
                        "application/vnd.deepnote.dataframe.v3+json": {
                            "column_count": 17,
                            "columns": [
                                {
                                    "dtype": "object",
                                    "name": "LOCATION ACCOUNT #",
                                    "stats": {
                                        "categories": [
                                            {
                                                "count": 1,
                                                "name": "0000014535-0001-9"
                                            },
                                            {
                                                "count": 1,
                                                "name": "0000027257-0001-9"
                                            },
                                            {
                                                "count": 1556,
                                                "name": "1556 others"
                                            }
                                        ],
                                        "nan_count": 0,
                                        "unique_count": 1558
                                    }
                                },
                                {
                                    "dtype": "object",
                                    "name": "BUSINESS NAME",
                                    "stats": {
                                        "categories": [
                                            {
                                                "count": 7,
                                                "name": "NO LEGAL NAME GIVEN"
                                            },
                                            {
                                                "count": 3,
                                                "name": "WARNER CENTER SUMMIT LTD"
                                            },
                                            {
                                                "count": 1548,
                                                "name": "1537 others"
                                            }
                                        ],
                                        "nan_count": 0,
                                        "unique_count": 1539
                                    }
                                },
                                {
                                    "dtype": "object",
                                    "name": "DBA NAME",
                                    "stats": {
                                        "categories": [
                                            {
                                                "count": 1,
                                                "name": "MERCURY SECURITY"
                                            },
                                            {
                                                "count": 6,
                                                "name": "6 others"
                                            },
                                            {
                                                "count": 1551,
                                                "name": "Missing"
                                            }
                                        ],
                                        "nan_count": 1551,
                                        "unique_count": 7
                                    }
                                },
                                {
                                    "dtype": "object",
                                    "name": "STREET ADDRESS",
                                    "stats": {
                                        "categories": [
                                            {
                                                "count": 9,
                                                "name": "6345 BALBOA BLVD #211"
                                            },
                                            {
                                                "count": 8,
                                                "name": "18348 VENTURA BLVD"
                                            },
                                            {
                                                "count": 1541,
                                                "name": "1424 others"
                                            }
                                        ],
                                        "nan_count": 0,
                                        "unique_count": 1426
                                    }
                                },
                                {
                                    "dtype": "object",
                                    "name": "CITY",
                                    "stats": {
                                        "categories": [
                                            {
                                                "count": 571,
                                                "name": "LOS ANGELES"
                                            },
                                            {
                                                "count": 94,
                                                "name": "ENCINO"
                                            },
                                            {
                                                "count": 893,
                                                "name": "115 others"
                                            }
                                        ],
                                        "nan_count": 0,
                                        "unique_count": 117
                                    }
                                },
                                {
                                    "dtype": "object",
                                    "name": "ZIP CODE",
                                    "stats": {
                                        "categories": [
                                            {
                                                "count": 9,
                                                "name": "91316-1517"
                                            },
                                            {
                                                "count": 8,
                                                "name": "91356-4219"
                                            },
                                            {
                                                "count": 1541,
                                                "name": "1318 others"
                                            }
                                        ],
                                        "nan_count": 0,
                                        "unique_count": 1320
                                    }
                                },
                                {
                                    "dtype": "object",
                                    "name": "LOCATION DESCRIPTION",
                                    "stats": {
                                        "categories": [
                                            {
                                                "count": 9,
                                                "name": "6345 BALBOA 91316-1517"
                                            },
                                            {
                                                "count": 8,
                                                "name": "18348 VENTURA 91356-4219"
                                            },
                                            {
                                                "count": 1541,
                                                "name": "1351 others"
                                            }
                                        ],
                                        "nan_count": 0,
                                        "unique_count": 1353
                                    }
                                },
                                {
                                    "dtype": "object",
                                    "name": "MAILING ADDRESS",
                                    "stats": {
                                        "categories": [
                                            {
                                                "count": 1,
                                                "name": "10920 WILSHIRE BLVD FLOOR #5"
                                            },
                                            {
                                                "count": 1557,
                                                "name": "Missing"
                                            }
                                        ],
                                        "nan_count": 1557,
                                        "unique_count": 1
                                    }
                                },
                                {
                                    "dtype": "object",
                                    "name": "MAILING CITY",
                                    "stats": {
                                        "categories": [
                                            {
                                                "count": 1,
                                                "name": "LOS ANGELES"
                                            },
                                            {
                                                "count": 1557,
                                                "name": "Missing"
                                            }
                                        ],
                                        "nan_count": 1557,
                                        "unique_count": 1
                                    }
                                },
                                {
                                    "dtype": "object",
                                    "name": "MAILING ZIP CODE",
                                    "stats": {
                                        "categories": [
                                            {
                                                "count": 1,
                                                "name": "90024-6541"
                                            },
                                            {
                                                "count": 1557,
                                                "name": "Missing"
                                            }
                                        ],
                                        "nan_count": 1557,
                                        "unique_count": 1
                                    }
                                },
                                {
                                    "dtype": "float64",
                                    "name": "NAICS",
                                    "stats": {
                                        "histogram": [
                                            {
                                                "bin_end": 266049,
                                                "bin_start": 233210,
                                                "count": 58
                                            },
                                            {
                                                "bin_end": 298888,
                                                "bin_start": 266049,
                                                "count": 0
                                            },
                                            {
                                                "bin_end": 331727,
                                                "bin_start": 298888,
                                                "count": 0
                                            },
                                            {
                                                "bin_end": 364566,
                                                "bin_start": 331727,
                                                "count": 0
                                            },
                                            {
                                                "bin_end": 397405,
                                                "bin_start": 364566,
                                                "count": 0
                                            },
                                            {
                                                "bin_end": 430244,
                                                "bin_start": 397405,
                                                "count": 1
                                            },
                                            {
                                                "bin_end": 463083,
                                                "bin_start": 430244,
                                                "count": 3
                                            },
                                            {
                                                "bin_end": 495922,
                                                "bin_start": 463083,
                                                "count": 0
                                            },
                                            {
                                                "bin_end": 528761,
                                                "bin_start": 495922,
                                                "count": 0
                                            },
                                            {
                                                "bin_end": 561600,
                                                "bin_start": 528761,
                                                "count": 7
                                            }
                                        ],
                                        "max": "561600.0",
                                        "min": "233210.0",
                                        "nan_count": 1489,
                                        "unique_count": 20
                                    }
                                },
                                {
                                    "dtype": "object",
                                    "name": "PRIMARY NAICS DESCRIPTION",
                                    "stats": {
                                        "categories": [
                                            {
                                                "count": 17,
                                                "name": "Painting and Wall Covering Contractors (1997 NAICS)"
                                            },
                                            {
                                                "count": 52,
                                                "name": "19 others"
                                            },
                                            {
                                                "count": 1489,
                                                "name": "Missing"
                                            }
                                        ],
                                        "nan_count": 1489,
                                        "unique_count": 20
                                    }
                                },
                                {
                                    "dtype": "int64",
                                    "name": "COUNCIL DISTRICT",
                                    "stats": {
                                        "histogram": [
                                            {
                                                "bin_end": 1.5,
                                                "bin_start": 0,
                                                "count": 191
                                            },
                                            {
                                                "bin_end": 3,
                                                "bin_start": 1.5,
                                                "count": 105
                                            },
                                            {
                                                "bin_end": 4.5,
                                                "bin_start": 3,
                                                "count": 351
                                            },
                                            {
                                                "bin_end": 6,
                                                "bin_start": 4.5,
                                                "count": 243
                                            },
                                            {
                                                "bin_end": 7.5,
                                                "bin_start": 6,
                                                "count": 140
                                            },
                                            {
                                                "bin_end": 9,
                                                "bin_start": 7.5,
                                                "count": 31
                                            },
                                            {
                                                "bin_end": 10.5,
                                                "bin_start": 9,
                                                "count": 203
                                            },
                                            {
                                                "bin_end": 12,
                                                "bin_start": 10.5,
                                                "count": 72
                                            },
                                            {
                                                "bin_end": 13.5,
                                                "bin_start": 12,
                                                "count": 179
                                            },
                                            {
                                                "bin_end": 15,
                                                "bin_start": 13.5,
                                                "count": 43
                                            }
                                        ],
                                        "max": "15",
                                        "min": "0",
                                        "nan_count": 0,
                                        "unique_count": 16
                                    }
                                },
                                {
                                    "dtype": "datetime64[ns]",
                                    "name": "LOCATION START DATE",
                                    "stats": {
                                        "histogram": [
                                            {
                                                "bin_end": 0.1,
                                                "bin_start": 0,
                                                "count": 0
                                            },
                                            {
                                                "bin_end": 0.2,
                                                "bin_start": 0.1,
                                                "count": 0
                                            },
                                            {
                                                "bin_end": 0.30000000000000004,
                                                "bin_start": 0.2,
                                                "count": 0
                                            },
                                            {
                                                "bin_end": 0.4,
                                                "bin_start": 0.30000000000000004,
                                                "count": 0
                                            },
                                            {
                                                "bin_end": 0.5,
                                                "bin_start": 0.4,
                                                "count": 0
                                            },
                                            {
                                                "bin_end": 0.6000000000000001,
                                                "bin_start": 0.5,
                                                "count": 0
                                            },
                                            {
                                                "bin_end": 0.7000000000000001,
                                                "bin_start": 0.6000000000000001,
                                                "count": 0
                                            },
                                            {
                                                "bin_end": 0.8,
                                                "bin_start": 0.7000000000000001,
                                                "count": 0
                                            },
                                            {
                                                "bin_end": 0.9,
                                                "bin_start": 0.8,
                                                "count": 0
                                            },
                                            {
                                                "bin_end": 1,
                                                "bin_start": 0.9,
                                                "count": 0
                                            }
                                        ],
                                        "max": null,
                                        "min": null,
                                        "nan_count": 1558,
                                        "unique_count": 0
                                    }
                                },
                                {
                                    "dtype": "datetime64[ns]",
                                    "name": "LOCATION END DATE",
                                    "stats": {
                                        "histogram": [
                                            {
                                                "bin_end": 704350080000000000,
                                                "bin_start": 589766400000000000,
                                                "count": 4
                                            },
                                            {
                                                "bin_end": 818933760000000000,
                                                "bin_start": 704350080000000000,
                                                "count": 27
                                            },
                                            {
                                                "bin_end": 933517440000000000,
                                                "bin_start": 818933760000000000,
                                                "count": 277
                                            },
                                            {
                                                "bin_end": 1048101120000000000,
                                                "bin_start": 933517440000000000,
                                                "count": 258
                                            },
                                            {
                                                "bin_end": 1162684800000000000,
                                                "bin_start": 1048101120000000000,
                                                "count": 666
                                            },
                                            {
                                                "bin_end": 1277268480000000000,
                                                "bin_start": 1162684800000000000,
                                                "count": 131
                                            },
                                            {
                                                "bin_end": 1391852160000000000,
                                                "bin_start": 1277268480000000000,
                                                "count": 91
                                            },
                                            {
                                                "bin_end": 1506435840000000000,
                                                "bin_start": 1391852160000000000,
                                                "count": 61
                                            },
                                            {
                                                "bin_end": 1621019520000000000,
                                                "bin_start": 1506435840000000000,
                                                "count": 29
                                            },
                                            {
                                                "bin_end": 1735603200000000000,
                                                "bin_start": 1621019520000000000,
                                                "count": 14
                                            }
                                        ],
                                        "max": "2024-12-31 00:00:00",
                                        "min": "1988-09-09 00:00:00",
                                        "nan_count": 0,
                                        "unique_count": 671
                                    }
                                },
                                {
                                    "dtype": "object",
                                    "name": "LOCATION",
                                    "stats": {
                                        "categories": [
                                            {
                                                "count": 1,
                                                "name": "(34.2608, -119.2437)"
                                            },
                                            {
                                                "count": 69,
                                                "name": "69 others"
                                            },
                                            {
                                                "count": 1488,
                                                "name": "Missing"
                                            }
                                        ],
                                        "nan_count": 1488,
                                        "unique_count": 70
                                    }
                                },
                                {
                                    "dtype": "float64",
                                    "name": "AGE",
                                    "stats": {
                                        "histogram": [
                                            {
                                                "bin_end": 0.1,
                                                "bin_start": 0,
                                                "count": 0
                                            },
                                            {
                                                "bin_end": 0.2,
                                                "bin_start": 0.1,
                                                "count": 0
                                            },
                                            {
                                                "bin_end": 0.30000000000000004,
                                                "bin_start": 0.2,
                                                "count": 0
                                            },
                                            {
                                                "bin_end": 0.4,
                                                "bin_start": 0.30000000000000004,
                                                "count": 0
                                            },
                                            {
                                                "bin_end": 0.5,
                                                "bin_start": 0.4,
                                                "count": 0
                                            },
                                            {
                                                "bin_end": 0.6000000000000001,
                                                "bin_start": 0.5,
                                                "count": 0
                                            },
                                            {
                                                "bin_end": 0.7000000000000001,
                                                "bin_start": 0.6000000000000001,
                                                "count": 0
                                            },
                                            {
                                                "bin_end": 0.8,
                                                "bin_start": 0.7000000000000001,
                                                "count": 0
                                            },
                                            {
                                                "bin_end": 0.9,
                                                "bin_start": 0.8,
                                                "count": 0
                                            },
                                            {
                                                "bin_end": 1,
                                                "bin_start": 0.9,
                                                "count": 0
                                            }
                                        ],
                                        "max": null,
                                        "min": null,
                                        "nan_count": 1558,
                                        "unique_count": 0
                                    }
                                },
                                {
                                    "dtype": "int64",
                                    "name": "_deepnote_index_column"
                                }
                            ],
                            "row_count": 1558,
                            "rows": [
                                {
                                    "AGE": "nan",
                                    "BUSINESS NAME": "BENENSON DANSON",
                                    "CITY": "LOS ANGELES",
                                    "COUNCIL DISTRICT": 13,
                                    "DBA NAME": "nan",
                                    "LOCATION": "nan",
                                    "LOCATION ACCOUNT #": "0000014535-0001-9",
                                    "LOCATION DESCRIPTION": "6922 HOLLYWOOD 90028-6117",
                                    "LOCATION END DATE": "2014-08-15 00:00:00",
                                    "LOCATION START DATE": "NaT",
                                    "MAILING ADDRESS": "nan",
                                    "MAILING CITY": "nan",
                                    "MAILING ZIP CODE": "nan",
                                    "NAICS": "nan",
                                    "PRIMARY NAICS DESCRIPTION": "nan",
                                    "STREET ADDRESS": "6922 HOLLYWOOD BLVD #402",
                                    "ZIP CODE": "90028-6117",
                                    "_deepnote_index_column": 523
                                },
                                {
                                    "AGE": "nan",
                                    "BUSINESS NAME": "PAMELA RAE TRIPP",
                                    "CITY": "GRANADA HILLS",
                                    "COUNCIL DISTRICT": 12,
                                    "DBA NAME": "nan",
                                    "LOCATION": "nan",
                                    "LOCATION ACCOUNT #": "0000027257-0001-9",
                                    "LOCATION DESCRIPTION": "10727 WHITE OAK 91344-4636",
                                    "LOCATION END DATE": "2004-09-09 00:00:00",
                                    "LOCATION START DATE": "NaT",
                                    "MAILING ADDRESS": "nan",
                                    "MAILING CITY": "nan",
                                    "MAILING ZIP CODE": "nan",
                                    "NAICS": "nan",
                                    "PRIMARY NAICS DESCRIPTION": "nan",
                                    "STREET ADDRESS": "10727 WHITE OAK AVENUE #100",
                                    "ZIP CODE": "91344-4636",
                                    "_deepnote_index_column": 864
                                },
                                {
                                    "AGE": "nan",
                                    "BUSINESS NAME": "JERID R MAY BAUM",
                                    "CITY": "LOS ANGELES",
                                    "COUNCIL DISTRICT": 9,
                                    "DBA NAME": "nan",
                                    "LOCATION": "nan",
                                    "LOCATION ACCOUNT #": "0000125786-0001-7",
                                    "LOCATION DESCRIPTION": "523 6TH 90014-1218",
                                    "LOCATION END DATE": "2009-11-19 00:00:00",
                                    "LOCATION START DATE": "NaT",
                                    "MAILING ADDRESS": "nan",
                                    "MAILING CITY": "nan",
                                    "MAILING ZIP CODE": "nan",
                                    "NAICS": "nan",
                                    "PRIMARY NAICS DESCRIPTION": "nan",
                                    "STREET ADDRESS": "523 W 6TH STREET #1228",
                                    "ZIP CODE": "90014-1218",
                                    "_deepnote_index_column": 2376
                                },
                                {
                                    "AGE": "nan",
                                    "BUSINESS NAME": "LEO BURNETT",
                                    "CITY": "VENICE",
                                    "COUNCIL DISTRICT": 11,
                                    "DBA NAME": "nan",
                                    "LOCATION": "nan",
                                    "LOCATION ACCOUNT #": "0000204234-0001-4",
                                    "LOCATION DESCRIPTION": "2417 MCKINLEY 90291",
                                    "LOCATION END DATE": "2004-08-30 00:00:00",
                                    "LOCATION START DATE": "NaT",
                                    "MAILING ADDRESS": "nan",
                                    "MAILING CITY": "nan",
                                    "MAILING ZIP CODE": "nan",
                                    "NAICS": "nan",
                                    "PRIMARY NAICS DESCRIPTION": "nan",
                                    "STREET ADDRESS": "2417 MCKINLEY AVENUE",
                                    "ZIP CODE": "90291-4625",
                                    "_deepnote_index_column": 2837
                                },
                                {
                                    "AGE": "nan",
                                    "BUSINESS NAME": "JOE/MARY LOU TELLEZ",
                                    "CITY": "PACOIMA",
                                    "COUNCIL DISTRICT": 7,
                                    "DBA NAME": "nan",
                                    "LOCATION": "nan",
                                    "LOCATION ACCOUNT #": "0000245130-0001-1",
                                    "LOCATION DESCRIPTION": "10555 SAN FERNANDO 91331-2624",
                                    "LOCATION END DATE": "2015-12-31 00:00:00",
                                    "LOCATION START DATE": "NaT",
                                    "MAILING ADDRESS": "nan",
                                    "MAILING CITY": "nan",
                                    "MAILING ZIP CODE": "nan",
                                    "NAICS": "nan",
                                    "PRIMARY NAICS DESCRIPTION": "nan",
                                    "STREET ADDRESS": "10555 SAN FERNANDO ROAD #36 38",
                                    "ZIP CODE": "91331-2624",
                                    "_deepnote_index_column": 3038
                                },
                                {
                                    "AGE": "nan",
                                    "BUSINESS NAME": "CREATIVE TEAMWORK",
                                    "CITY": "STUDIO CITY",
                                    "COUNCIL DISTRICT": 2,
                                    "DBA NAME": "nan",
                                    "LOCATION": "nan",
                                    "LOCATION ACCOUNT #": "0000388990-0001-1",
                                    "LOCATION DESCRIPTION": "11684 VENTURA 91604-2699",
                                    "LOCATION END DATE": "1999-01-01 00:00:00",
                                    "LOCATION START DATE": "NaT",
                                    "MAILING ADDRESS": "nan",
                                    "MAILING CITY": "nan",
                                    "MAILING ZIP CODE": "nan",
                                    "NAICS": "nan",
                                    "PRIMARY NAICS DESCRIPTION": "nan",
                                    "STREET ADDRESS": "11684 VENTURA BLVD #887",
                                    "ZIP CODE": "91604-2699",
                                    "_deepnote_index_column": 3962
                                },
                                {
                                    "AGE": "nan",
                                    "BUSINESS NAME": "GWL PROPERTIES INC",
                                    "CITY": "ENCINO",
                                    "COUNCIL DISTRICT": 5,
                                    "DBA NAME": "nan",
                                    "LOCATION": "nan",
                                    "LOCATION ACCOUNT #": "0000415525-0001-4",
                                    "LOCATION DESCRIPTION": "16260 VENTURA 91436-2203",
                                    "LOCATION END DATE": "1996-10-18 00:00:00",
                                    "LOCATION START DATE": "NaT",
                                    "MAILING ADDRESS": "nan",
                                    "MAILING CITY": "nan",
                                    "MAILING ZIP CODE": "nan",
                                    "NAICS": "nan",
                                    "PRIMARY NAICS DESCRIPTION": "nan",
                                    "STREET ADDRESS": "16260 VENTURA BLVD",
                                    "ZIP CODE": "91436-2203",
                                    "_deepnote_index_column": 4124
                                },
                                {
                                    "AGE": "nan",
                                    "BUSINESS NAME": "DELARAM HANOUKAI DDS",
                                    "CITY": "LOS ANGELES",
                                    "COUNCIL DISTRICT": 5,
                                    "DBA NAME": "nan",
                                    "LOCATION": "nan",
                                    "LOCATION ACCOUNT #": "0000424729-0001-8",
                                    "LOCATION DESCRIPTION": "1964 WESTWOOD 90025-8417",
                                    "LOCATION END DATE": "2009-04-24 00:00:00",
                                    "LOCATION START DATE": "NaT",
                                    "MAILING ADDRESS": "nan",
                                    "MAILING CITY": "nan",
                                    "MAILING ZIP CODE": "nan",
                                    "NAICS": "nan",
                                    "PRIMARY NAICS DESCRIPTION": "nan",
                                    "STREET ADDRESS": "1964 WESTWOOD BLVD #140",
                                    "ZIP CODE": "90025-8417",
                                    "_deepnote_index_column": 4182
                                },
                                {
                                    "AGE": "nan",
                                    "BUSINESS NAME": "SHERRY KLEIN",
                                    "CITY": "LOS ANGELES",
                                    "COUNCIL DISTRICT": 13,
                                    "DBA NAME": "nan",
                                    "LOCATION": "nan",
                                    "LOCATION ACCOUNT #": "0000436220-0001-7",
                                    "LOCATION DESCRIPTION": "6464 SUNSET 90028",
                                    "LOCATION END DATE": "2001-12-31 00:00:00",
                                    "LOCATION START DATE": "NaT",
                                    "MAILING ADDRESS": "nan",
                                    "MAILING CITY": "nan",
                                    "MAILING ZIP CODE": "nan",
                                    "NAICS": "nan",
                                    "PRIMARY NAICS DESCRIPTION": "nan",
                                    "STREET ADDRESS": "6464 W SUNSET BLVD #829",
                                    "ZIP CODE": "90028-8025",
                                    "_deepnote_index_column": 4235
                                },
                                {
                                    "AGE": "nan",
                                    "BUSINESS NAME": "MIKE SEIF",
                                    "CITY": "NORTHRIDGE",
                                    "COUNCIL DISTRICT": 12,
                                    "DBA NAME": "nan",
                                    "LOCATION": "nan",
                                    "LOCATION ACCOUNT #": "0000441797-0001-5",
                                    "LOCATION DESCRIPTION": "18437 PRAIRIE 91325-2244",
                                    "LOCATION END DATE": "2001-03-30 00:00:00",
                                    "LOCATION START DATE": "NaT",
                                    "MAILING ADDRESS": "nan",
                                    "MAILING CITY": "nan",
                                    "MAILING ZIP CODE": "nan",
                                    "NAICS": "nan",
                                    "PRIMARY NAICS DESCRIPTION": "nan",
                                    "STREET ADDRESS": "18437 PRAIRIE STREET",
                                    "ZIP CODE": "91325-2244",
                                    "_deepnote_index_column": 4265
                                }
                            ],
                            "type": "dataframe"
                        },
                        "text/html": [
                            "<div>\n",
                            "<style scoped>\n",
                            "    .dataframe tbody tr th:only-of-type {\n",
                            "        vertical-align: middle;\n",
                            "    }\n",
                            "\n",
                            "    .dataframe tbody tr th {\n",
                            "        vertical-align: top;\n",
                            "    }\n",
                            "\n",
                            "    .dataframe thead th {\n",
                            "        text-align: right;\n",
                            "    }\n",
                            "</style>\n",
                            "<table border=\"1\" class=\"dataframe\">\n",
                            "  <thead>\n",
                            "    <tr style=\"text-align: right;\">\n",
                            "      <th></th>\n",
                            "      <th>LOCATION ACCOUNT #</th>\n",
                            "      <th>BUSINESS NAME</th>\n",
                            "      <th>DBA NAME</th>\n",
                            "      <th>STREET ADDRESS</th>\n",
                            "      <th>CITY</th>\n",
                            "      <th>ZIP CODE</th>\n",
                            "      <th>LOCATION DESCRIPTION</th>\n",
                            "      <th>MAILING ADDRESS</th>\n",
                            "      <th>MAILING CITY</th>\n",
                            "      <th>MAILING ZIP CODE</th>\n",
                            "      <th>NAICS</th>\n",
                            "      <th>PRIMARY NAICS DESCRIPTION</th>\n",
                            "      <th>COUNCIL DISTRICT</th>\n",
                            "      <th>LOCATION START DATE</th>\n",
                            "      <th>LOCATION END DATE</th>\n",
                            "      <th>LOCATION</th>\n",
                            "      <th>AGE</th>\n",
                            "    </tr>\n",
                            "  </thead>\n",
                            "  <tbody>\n",
                            "    <tr>\n",
                            "      <th>523</th>\n",
                            "      <td>0000014535-0001-9</td>\n",
                            "      <td>BENENSON DANSON</td>\n",
                            "      <td>NaN</td>\n",
                            "      <td>6922 HOLLYWOOD BLVD #402</td>\n",
                            "      <td>LOS ANGELES</td>\n",
                            "      <td>90028-6117</td>\n",
                            "      <td>6922 HOLLYWOOD 90028-6117</td>\n",
                            "      <td>NaN</td>\n",
                            "      <td>NaN</td>\n",
                            "      <td>NaN</td>\n",
                            "      <td>NaN</td>\n",
                            "      <td>NaN</td>\n",
                            "      <td>13</td>\n",
                            "      <td>NaT</td>\n",
                            "      <td>2014-08-15</td>\n",
                            "      <td>NaN</td>\n",
                            "      <td>NaN</td>\n",
                            "    </tr>\n",
                            "    <tr>\n",
                            "      <th>864</th>\n",
                            "      <td>0000027257-0001-9</td>\n",
                            "      <td>PAMELA RAE TRIPP</td>\n",
                            "      <td>NaN</td>\n",
                            "      <td>10727 WHITE OAK AVENUE #100</td>\n",
                            "      <td>GRANADA HILLS</td>\n",
                            "      <td>91344-4636</td>\n",
                            "      <td>10727 WHITE OAK 91344-4636</td>\n",
                            "      <td>NaN</td>\n",
                            "      <td>NaN</td>\n",
                            "      <td>NaN</td>\n",
                            "      <td>NaN</td>\n",
                            "      <td>NaN</td>\n",
                            "      <td>12</td>\n",
                            "      <td>NaT</td>\n",
                            "      <td>2004-09-09</td>\n",
                            "      <td>NaN</td>\n",
                            "      <td>NaN</td>\n",
                            "    </tr>\n",
                            "    <tr>\n",
                            "      <th>2376</th>\n",
                            "      <td>0000125786-0001-7</td>\n",
                            "      <td>JERID R MAY BAUM</td>\n",
                            "      <td>NaN</td>\n",
                            "      <td>523 W 6TH STREET #1228</td>\n",
                            "      <td>LOS ANGELES</td>\n",
                            "      <td>90014-1218</td>\n",
                            "      <td>523 6TH 90014-1218</td>\n",
                            "      <td>NaN</td>\n",
                            "      <td>NaN</td>\n",
                            "      <td>NaN</td>\n",
                            "      <td>NaN</td>\n",
                            "      <td>NaN</td>\n",
                            "      <td>9</td>\n",
                            "      <td>NaT</td>\n",
                            "      <td>2009-11-19</td>\n",
                            "      <td>NaN</td>\n",
                            "      <td>NaN</td>\n",
                            "    </tr>\n",
                            "    <tr>\n",
                            "      <th>2837</th>\n",
                            "      <td>0000204234-0001-4</td>\n",
                            "      <td>LEO BURNETT</td>\n",
                            "      <td>NaN</td>\n",
                            "      <td>2417 MCKINLEY AVENUE</td>\n",
                            "      <td>VENICE</td>\n",
                            "      <td>90291-4625</td>\n",
                            "      <td>2417 MCKINLEY 90291</td>\n",
                            "      <td>NaN</td>\n",
                            "      <td>NaN</td>\n",
                            "      <td>NaN</td>\n",
                            "      <td>NaN</td>\n",
                            "      <td>NaN</td>\n",
                            "      <td>11</td>\n",
                            "      <td>NaT</td>\n",
                            "      <td>2004-08-30</td>\n",
                            "      <td>NaN</td>\n",
                            "      <td>NaN</td>\n",
                            "    </tr>\n",
                            "    <tr>\n",
                            "      <th>3038</th>\n",
                            "      <td>0000245130-0001-1</td>\n",
                            "      <td>JOE/MARY LOU TELLEZ</td>\n",
                            "      <td>NaN</td>\n",
                            "      <td>10555 SAN FERNANDO ROAD #36 38</td>\n",
                            "      <td>PACOIMA</td>\n",
                            "      <td>91331-2624</td>\n",
                            "      <td>10555 SAN FERNANDO 91331-2624</td>\n",
                            "      <td>NaN</td>\n",
                            "      <td>NaN</td>\n",
                            "      <td>NaN</td>\n",
                            "      <td>NaN</td>\n",
                            "      <td>NaN</td>\n",
                            "      <td>7</td>\n",
                            "      <td>NaT</td>\n",
                            "      <td>2015-12-31</td>\n",
                            "      <td>NaN</td>\n",
                            "      <td>NaN</td>\n",
                            "    </tr>\n",
                            "    <tr>\n",
                            "      <th>...</th>\n",
                            "      <td>...</td>\n",
                            "      <td>...</td>\n",
                            "      <td>...</td>\n",
                            "      <td>...</td>\n",
                            "      <td>...</td>\n",
                            "      <td>...</td>\n",
                            "      <td>...</td>\n",
                            "      <td>...</td>\n",
                            "      <td>...</td>\n",
                            "      <td>...</td>\n",
                            "      <td>...</td>\n",
                            "      <td>...</td>\n",
                            "      <td>...</td>\n",
                            "      <td>...</td>\n",
                            "      <td>...</td>\n",
                            "      <td>...</td>\n",
                            "      <td>...</td>\n",
                            "    </tr>\n",
                            "    <tr>\n",
                            "      <th>1571442</th>\n",
                            "      <td>0000011648-0001-2</td>\n",
                            "      <td>S/S BURBANK PLAZA LLC</td>\n",
                            "      <td>NaN</td>\n",
                            "      <td>12410 BURBANK BLVD</td>\n",
                            "      <td>N HOLLYWOOD</td>\n",
                            "      <td>91607-1692</td>\n",
                            "      <td>12410 BURBANK 91607-1692</td>\n",
                            "      <td>NaN</td>\n",
                            "      <td>NaN</td>\n",
                            "      <td>NaN</td>\n",
                            "      <td>NaN</td>\n",
                            "      <td>NaN</td>\n",
                            "      <td>2</td>\n",
                            "      <td>NaT</td>\n",
                            "      <td>2024-12-31</td>\n",
                            "      <td>NaN</td>\n",
                            "      <td>NaN</td>\n",
                            "    </tr>\n",
                            "    <tr>\n",
                            "      <th>1584380</th>\n",
                            "      <td>0000014476-0001-0</td>\n",
                            "      <td>CINDY LEVIN</td>\n",
                            "      <td>NaN</td>\n",
                            "      <td>2029 CENTURY PARKS E #6FL</td>\n",
                            "      <td>LOS ANGELES</td>\n",
                            "      <td>90067-2901</td>\n",
                            "      <td>2029 CENTURY 90067-2901</td>\n",
                            "      <td>NaN</td>\n",
                            "      <td>NaN</td>\n",
                            "      <td>NaN</td>\n",
                            "      <td>NaN</td>\n",
                            "      <td>NaN</td>\n",
                            "      <td>5</td>\n",
                            "      <td>NaT</td>\n",
                            "      <td>2000-06-26</td>\n",
                            "      <td>NaN</td>\n",
                            "      <td>NaN</td>\n",
                            "    </tr>\n",
                            "    <tr>\n",
                            "      <th>1587308</th>\n",
                            "      <td>0000624491-0001-3</td>\n",
                            "      <td>HARVER DEUTSCH MD</td>\n",
                            "      <td>NaN</td>\n",
                            "      <td>2070 CENTURY PARKS E</td>\n",
                            "      <td>LOS ANGELES</td>\n",
                            "      <td>90067-1907</td>\n",
                            "      <td>2070 CENTURY 90067-1907</td>\n",
                            "      <td>NaN</td>\n",
                            "      <td>NaN</td>\n",
                            "      <td>NaN</td>\n",
                            "      <td>NaN</td>\n",
                            "      <td>NaN</td>\n",
                            "      <td>5</td>\n",
                            "      <td>NaT</td>\n",
                            "      <td>1997-10-21</td>\n",
                            "      <td>NaN</td>\n",
                            "      <td>NaN</td>\n",
                            "    </tr>\n",
                            "    <tr>\n",
                            "      <th>1588714</th>\n",
                            "      <td>0000995993-0001-1</td>\n",
                            "      <td>BARRY VOUGHAN</td>\n",
                            "      <td>NaN</td>\n",
                            "      <td>2029 CENTURY PARKS E</td>\n",
                            "      <td>LOS ANGELES</td>\n",
                            "      <td>90067-2901</td>\n",
                            "      <td>2029 CENTURY 90067-2901</td>\n",
                            "      <td>NaN</td>\n",
                            "      <td>NaN</td>\n",
                            "      <td>NaN</td>\n",
                            "      <td>NaN</td>\n",
                            "      <td>NaN</td>\n",
                            "      <td>5</td>\n",
                            "      <td>NaT</td>\n",
                            "      <td>2000-06-01</td>\n",
                            "      <td>NaN</td>\n",
                            "      <td>NaN</td>\n",
                            "    </tr>\n",
                            "    <tr>\n",
                            "      <th>1595340</th>\n",
                            "      <td>0000220756-0001-5</td>\n",
                            "      <td>TERA MC DANIEL</td>\n",
                            "      <td>NaN</td>\n",
                            "      <td>2049 CENTURY PARKS E #2250</td>\n",
                            "      <td>LOS ANGELES</td>\n",
                            "      <td>90067-3101</td>\n",
                            "      <td>2049 CENTURY 90067-3101</td>\n",
                            "      <td>NaN</td>\n",
                            "      <td>NaN</td>\n",
                            "      <td>NaN</td>\n",
                            "      <td>NaN</td>\n",
                            "      <td>NaN</td>\n",
                            "      <td>5</td>\n",
                            "      <td>NaT</td>\n",
                            "      <td>1995-06-19</td>\n",
                            "      <td>NaN</td>\n",
                            "      <td>NaN</td>\n",
                            "    </tr>\n",
                            "  </tbody>\n",
                            "</table>\n",
                            "<p>1558 rows × 17 columns</p>\n",
                            "</div>"
                        ],
                        "text/plain": [
                            "        LOCATION ACCOUNT #          BUSINESS NAME DBA NAME  \\\n",
                            "523      0000014535-0001-9        BENENSON DANSON      NaN   \n",
                            "864      0000027257-0001-9       PAMELA RAE TRIPP      NaN   \n",
                            "2376     0000125786-0001-7       JERID R MAY BAUM      NaN   \n",
                            "2837     0000204234-0001-4            LEO BURNETT      NaN   \n",
                            "3038     0000245130-0001-1    JOE/MARY LOU TELLEZ      NaN   \n",
                            "...                    ...                    ...      ...   \n",
                            "1571442  0000011648-0001-2  S/S BURBANK PLAZA LLC      NaN   \n",
                            "1584380  0000014476-0001-0            CINDY LEVIN      NaN   \n",
                            "1587308  0000624491-0001-3      HARVER DEUTSCH MD      NaN   \n",
                            "1588714  0000995993-0001-1          BARRY VOUGHAN      NaN   \n",
                            "1595340  0000220756-0001-5         TERA MC DANIEL      NaN   \n",
                            "\n",
                            "                         STREET ADDRESS           CITY    ZIP CODE  \\\n",
                            "523            6922 HOLLYWOOD BLVD #402    LOS ANGELES  90028-6117   \n",
                            "864         10727 WHITE OAK AVENUE #100  GRANADA HILLS  91344-4636   \n",
                            "2376             523 W 6TH STREET #1228    LOS ANGELES  90014-1218   \n",
                            "2837               2417 MCKINLEY AVENUE         VENICE  90291-4625   \n",
                            "3038     10555 SAN FERNANDO ROAD #36 38        PACOIMA  91331-2624   \n",
                            "...                                 ...            ...         ...   \n",
                            "1571442              12410 BURBANK BLVD    N HOLLYWOOD  91607-1692   \n",
                            "1584380       2029 CENTURY PARKS E #6FL    LOS ANGELES  90067-2901   \n",
                            "1587308            2070 CENTURY PARKS E    LOS ANGELES  90067-1907   \n",
                            "1588714            2029 CENTURY PARKS E    LOS ANGELES  90067-2901   \n",
                            "1595340      2049 CENTURY PARKS E #2250    LOS ANGELES  90067-3101   \n",
                            "\n",
                            "                  LOCATION DESCRIPTION MAILING ADDRESS MAILING CITY  \\\n",
                            "523          6922 HOLLYWOOD 90028-6117             NaN          NaN   \n",
                            "864         10727 WHITE OAK 91344-4636             NaN          NaN   \n",
                            "2376                523 6TH 90014-1218             NaN          NaN   \n",
                            "2837               2417 MCKINLEY 90291             NaN          NaN   \n",
                            "3038     10555 SAN FERNANDO 91331-2624             NaN          NaN   \n",
                            "...                                ...             ...          ...   \n",
                            "1571442       12410 BURBANK 91607-1692             NaN          NaN   \n",
                            "1584380        2029 CENTURY 90067-2901             NaN          NaN   \n",
                            "1587308        2070 CENTURY 90067-1907             NaN          NaN   \n",
                            "1588714        2029 CENTURY 90067-2901             NaN          NaN   \n",
                            "1595340        2049 CENTURY 90067-3101             NaN          NaN   \n",
                            "\n",
                            "        MAILING ZIP CODE  NAICS PRIMARY NAICS DESCRIPTION  COUNCIL DISTRICT  \\\n",
                            "523                  NaN    NaN                       NaN                13   \n",
                            "864                  NaN    NaN                       NaN                12   \n",
                            "2376                 NaN    NaN                       NaN                 9   \n",
                            "2837                 NaN    NaN                       NaN                11   \n",
                            "3038                 NaN    NaN                       NaN                 7   \n",
                            "...                  ...    ...                       ...               ...   \n",
                            "1571442              NaN    NaN                       NaN                 2   \n",
                            "1584380              NaN    NaN                       NaN                 5   \n",
                            "1587308              NaN    NaN                       NaN                 5   \n",
                            "1588714              NaN    NaN                       NaN                 5   \n",
                            "1595340              NaN    NaN                       NaN                 5   \n",
                            "\n",
                            "        LOCATION START DATE LOCATION END DATE LOCATION  AGE  \n",
                            "523                     NaT        2014-08-15      NaN  NaN  \n",
                            "864                     NaT        2004-09-09      NaN  NaN  \n",
                            "2376                    NaT        2009-11-19      NaN  NaN  \n",
                            "2837                    NaT        2004-08-30      NaN  NaN  \n",
                            "3038                    NaT        2015-12-31      NaN  NaN  \n",
                            "...                     ...               ...      ...  ...  \n",
                            "1571442                 NaT        2024-12-31      NaN  NaN  \n",
                            "1584380                 NaT        2000-06-26      NaN  NaN  \n",
                            "1587308                 NaT        1997-10-21      NaN  NaN  \n",
                            "1588714                 NaT        2000-06-01      NaN  NaN  \n",
                            "1595340                 NaT        1995-06-19      NaN  NaN  \n",
                            "\n",
                            "[1558 rows x 17 columns]"
                        ]
                    },
                    "execution_count": 23,
                    "metadata": {},
                    "output_type": "execute_result"
                }
            ],
            "source": [
                "mask = business_df[\"AGE\"].isnull()\n",
                "\n",
                "business_df.loc[mask, :]"
            ]
        },
        {
            "cell_type": "code",
            "execution_count": 11,
            "metadata": {
                "cell_id": "b55b7371ab754214ab4913dbc7f03c37",
                "deepnote_cell_type": "code",
                "execution_context_id": "9d19cb3c-9408-45b5-82e7-9cc88f556b14",
                "execution_millis": 327,
                "execution_start": 1746050541561,
                "source_hash": "83128ef8"
            },
            "outputs": [],
            "source": [
                "business_df[\"YEAR START\"] = business_df[\"LOCATION START DATE\"].dt.year\n",
                "business_df[\"YEAR END\"] = business_df[\"LOCATION END DATE\"].dt.year\n",
                "business_df[\"MONTH END\"] = business_df[\"LOCATION END DATE\"].dt.month\n",
                "business_df[\"MONTH START\"] = business_df[\"LOCATION START DATE\"].dt.month"
            ]
        },
        {
            "cell_type": "markdown",
            "metadata": {},
            "source": [
                "Identificando los registros con datos nulos"
            ]
        },
        {
            "cell_type": "code",
            "execution_count": 14,
            "metadata": {
                "cell_id": "3bed8022e063451a9ce86d2d35eaed89",
                "deepnote_cell_type": "code",
                "execution_context_id": "9d19cb3c-9408-45b5-82e7-9cc88f556b14",
                "execution_millis": 1112,
                "execution_start": 1746050546586,
                "source_hash": "25078e81"
            },
            "outputs": [
                {
                    "data": {
                        "text/plain": [
                            "LOCATION ACCOUNT #          0.00\n",
                            "BUSINESS NAME               0.00\n",
                            "DBA NAME                    0.85\n",
                            "STREET ADDRESS              0.00\n",
                            "CITY                        0.00\n",
                            "ZIP CODE                    0.00\n",
                            "LOCATION DESCRIPTION        0.00\n",
                            "MAILING ADDRESS             0.77\n",
                            "MAILING CITY                0.77\n",
                            "MAILING ZIP CODE            0.77\n",
                            "NAICS                       0.61\n",
                            "PRIMARY NAICS DESCRIPTION   0.61\n",
                            "COUNCIL DISTRICT            0.00\n",
                            "LOCATION START DATE         0.00\n",
                            "LOCATION END DATE           0.37\n",
                            "LOCATION                    0.58\n",
                            "AGE                         0.00\n",
                            "YEAR START                  0.00\n",
                            "YEAR END                    0.37\n",
                            "MONTH END                   0.37\n",
                            "MONTH START                 0.00\n",
                            "dtype: float64"
                        ]
                    },
                    "execution_count": 14,
                    "metadata": {},
                    "output_type": "execute_result"
                }
            ],
            "source": [
                "business_df.isnull().sum()/len(business_df)"
            ]
        },
        {
            "cell_type": "markdown",
            "metadata": {},
            "source": [
                "Acotando los registros del df a solo la ciudad de los angeles"
            ]
        },
        {
            "cell_type": "code",
            "execution_count": 12,
            "metadata": {
                "cell_id": "36a310ce72744a96879befa94a10dc67",
                "deepnote_cell_type": "code",
                "execution_context_id": "9d19cb3c-9408-45b5-82e7-9cc88f556b14",
                "execution_millis": 27,
                "execution_start": 1746050559014,
                "source_hash": "266cac3b"
            },
            "outputs": [
                {
                    "data": {
                        "text/plain": [
                            "CITY\n",
                            "LOS ANGELES                  0.49\n",
                            "VAN NUYS                     0.04\n",
                            "SHERMAN OAKS                 0.02\n",
                            "NORTH HOLLYWOOD              0.02\n",
                            "WOODLAND HILLS               0.02\n",
                            "                             ... \n",
                            "KITCHENER, ONTARIO N2G 4X8   0.00\n",
                            "LOS ANELES                   0.00\n",
                            "RANCHITA                     0.00\n",
                            "EDINBURGH EH1 3AN            0.00\n",
                            "YOKNEAU ISRAEL               0.00\n",
                            "Name: count, Length: 6418, dtype: float64"
                        ]
                    },
                    "execution_count": 12,
                    "metadata": {},
                    "output_type": "execute_result"
                }
            ],
            "source": [
                "business_df.loc[:, \"CITY\"].value_counts()/len(business_df)"
            ]
        },
        {
            "cell_type": "code",
            "execution_count": 13,
            "metadata": {
                "cell_id": "2c24b043dd0845559d558cbfa4ea3dce",
                "deepnote_cell_type": "code",
                "execution_context_id": "9d19cb3c-9408-45b5-82e7-9cc88f556b14",
                "execution_millis": 680,
                "execution_start": 1746050561013,
                "source_hash": "75f6a0bb"
            },
            "outputs": [
                {
                    "name": "stdout",
                    "output_type": "stream",
                    "text": [
                        "<class 'pandas.core.frame.DataFrame'>\n",
                        "Index: 785808 entries, 0 to 1607923\n",
                        "Data columns (total 21 columns):\n",
                        " #   Column                     Non-Null Count   Dtype         \n",
                        "---  ------                     --------------   -----         \n",
                        " 0   LOCATION ACCOUNT #         785808 non-null  object        \n",
                        " 1   BUSINESS NAME              785808 non-null  object        \n",
                        " 2   DBA NAME                   116121 non-null  object        \n",
                        " 3   STREET ADDRESS             785729 non-null  object        \n",
                        " 4   CITY                       785808 non-null  object        \n",
                        " 5   ZIP CODE                   785808 non-null  object        \n",
                        " 6   LOCATION DESCRIPTION       785707 non-null  object        \n",
                        " 7   MAILING ADDRESS            181549 non-null  object        \n",
                        " 8   MAILING CITY               181558 non-null  object        \n",
                        " 9   MAILING ZIP CODE           181510 non-null  object        \n",
                        " 10  NAICS                      305484 non-null  float64       \n",
                        " 11  PRIMARY NAICS DESCRIPTION  305484 non-null  object        \n",
                        " 12  COUNCIL DISTRICT           785808 non-null  int64         \n",
                        " 13  LOCATION START DATE        785237 non-null  datetime64[ns]\n",
                        " 14  LOCATION END DATE          503143 non-null  datetime64[ns]\n",
                        " 15  LOCATION                   328490 non-null  object        \n",
                        " 16  AGE                        785237 non-null  float64       \n",
                        " 17  YEAR START                 785237 non-null  float64       \n",
                        " 18  YEAR END                   503143 non-null  float64       \n",
                        " 19  MONTH END                  503143 non-null  float64       \n",
                        " 20  MONTH START                785237 non-null  float64       \n",
                        "dtypes: datetime64[ns](2), float64(6), int64(1), object(12)\n",
                        "memory usage: 131.9+ MB\n"
                    ]
                }
            ],
            "source": [
                "mask = business_df.loc[:, \"CITY\"] == \"LOS ANGELES\"\n",
                "\n",
                "angeles_bussines_df = business_df.loc[mask, :]\n",
                "\n",
                "angeles_bussines_df.info()"
            ]
        },
        {
            "cell_type": "code",
            "execution_count": 15,
            "metadata": {
                "cell_id": "8bbb7fc81d9644a8bdb6538e271cf6eb",
                "deepnote_cell_type": "code",
                "execution_context_id": "1bb16aca-6697-4b74-821e-6fbe5185d70e",
                "execution_millis": 313,
                "execution_start": 1746043721358,
                "source_hash": "fe275def"
            },
            "outputs": [
                {
                    "data": {
                        "text/plain": [
                            "LOCATION ACCOUNT #          0.00\n",
                            "BUSINESS NAME               0.00\n",
                            "DBA NAME                    0.85\n",
                            "STREET ADDRESS              0.00\n",
                            "CITY                        0.00\n",
                            "ZIP CODE                    0.00\n",
                            "LOCATION DESCRIPTION        0.00\n",
                            "MAILING ADDRESS             0.77\n",
                            "MAILING CITY                0.77\n",
                            "MAILING ZIP CODE            0.77\n",
                            "NAICS                       0.61\n",
                            "PRIMARY NAICS DESCRIPTION   0.61\n",
                            "COUNCIL DISTRICT            0.00\n",
                            "LOCATION START DATE         0.00\n",
                            "LOCATION END DATE           0.36\n",
                            "LOCATION                    0.58\n",
                            "AGE                         0.00\n",
                            "YEAR START                  0.00\n",
                            "YEAR END                    0.36\n",
                            "MONTH END                   0.36\n",
                            "MONTH START                 0.00\n",
                            "dtype: float64"
                        ]
                    },
                    "execution_count": 15,
                    "metadata": {},
                    "output_type": "execute_result"
                }
            ],
            "source": [
                "angeles_bussines_df.isnull().sum()/len(angeles_bussines_df)"
            ]
        },
        {
            "cell_type": "code",
            "execution_count": 16,
            "metadata": {},
            "outputs": [
                {
                    "data": {
                        "text/plain": [
                            "80040    -40.00\n",
                            "721437   -36.00\n",
                            "764148   -31.00\n",
                            "137507   -28.00\n",
                            "705254   -27.00\n",
                            "750013   -25.00\n",
                            "511963   -25.00\n",
                            "776403   -22.00\n",
                            "961278   -20.00\n",
                            "470859   -19.00\n",
                            "Name: AGE, dtype: float64"
                        ]
                    },
                    "execution_count": 16,
                    "metadata": {},
                    "output_type": "execute_result"
                }
            ],
            "source": [
                "angeles_bussines_df[\"AGE\"].sort_values(ascending=True).head(10)"
            ]
        },
        {
            "cell_type": "code",
            "execution_count": 73,
            "metadata": {
                "cell_id": "bdb3e9d5bcce4414b8f831492e0f69d6",
                "deepnote_cell_type": "code",
                "execution_context_id": "1bb16aca-6697-4b74-821e-6fbe5185d70e",
                "execution_millis": 35,
                "execution_start": 1746043721720,
                "source_hash": "838370e1"
            },
            "outputs": [
                {
                    "data": {
                        "text/plain": [
                            "131561"
                        ]
                    },
                    "execution_count": 73,
                    "metadata": {},
                    "output_type": "execute_result"
                }
            ],
            "source": [
                "len(angeles_bussines_df.loc[:, \"ZIP CODE\"].unique())"
            ]
        },
        {
            "cell_type": "code",
            "execution_count": 94,
            "metadata": {
                "cell_id": "63e38594086f4252a8821c30efffeb09",
                "deepnote_cell_type": "code",
                "execution_context_id": "1bb16aca-6697-4b74-821e-6fbe5185d70e",
                "execution_millis": 7,
                "execution_start": 1746044275011,
                "source_hash": "3a6fb24f"
            },
            "outputs": [
                {
                    "data": {
                        "text/plain": [
                            "751"
                        ]
                    },
                    "execution_count": 94,
                    "metadata": {},
                    "output_type": "execute_result"
                }
            ],
            "source": [
                "len(angeles_bussines_df.loc[:, \"NAICS\"].unique())"
            ]
        },
        {
            "cell_type": "code",
            "execution_count": null,
            "metadata": {
                "cell_id": "7b920f792d9947cd9224ca453e07b4ae",
                "deepnote_cell_type": "code",
                "execution_context_id": "1bb16aca-6697-4b74-821e-6fbe5185d70e",
                "execution_millis": 0,
                "execution_start": 1746044854049,
                "source_hash": "16066678"
            },
            "outputs": [],
            "source": []
        },
        {
            "cell_type": "code",
            "execution_count": 76,
            "metadata": {
                "cell_id": "84601b1f800749ffaafef142d434a291",
                "deepnote_cell_type": "code",
                "execution_context_id": "1bb16aca-6697-4b74-821e-6fbe5185d70e",
                "execution_millis": 31,
                "execution_start": 1746043725518,
                "source_hash": "4336ffeb"
            },
            "outputs": [
                {
                    "data": {
                        "application/vnd.deepnote.dataframe.v3+json": {
                            "column_count": 21,
                            "columns": [
                                {
                                    "dtype": "object",
                                    "name": "LOCATION ACCOUNT #",
                                    "stats": {
                                        "categories": [
                                            {
                                                "count": 1,
                                                "name": "0003217523-0001-2"
                                            },
                                            {
                                                "count": 1,
                                                "name": "0003211603-0001-0"
                                            },
                                            {
                                                "count": 3,
                                                "name": "3 others"
                                            }
                                        ],
                                        "nan_count": 0,
                                        "unique_count": 5
                                    }
                                },
                                {
                                    "dtype": "object",
                                    "name": "BUSINESS NAME",
                                    "stats": {
                                        "categories": [
                                            {
                                                "count": 1,
                                                "name": "MARIA OFELIA NUNEZ"
                                            },
                                            {
                                                "count": 1,
                                                "name": "ONE STOP HOLISTIC HEALTH LLC"
                                            },
                                            {
                                                "count": 3,
                                                "name": "3 others"
                                            }
                                        ],
                                        "nan_count": 0,
                                        "unique_count": 5
                                    }
                                },
                                {
                                    "dtype": "object",
                                    "name": "DBA NAME",
                                    "stats": {
                                        "categories": [
                                            {
                                                "count": 1,
                                                "name": "LA CAMPANA HARDWARE"
                                            },
                                            {
                                                "count": 4,
                                                "name": "Missing"
                                            }
                                        ],
                                        "nan_count": 4,
                                        "unique_count": 1
                                    }
                                },
                                {
                                    "dtype": "object",
                                    "name": "STREET ADDRESS",
                                    "stats": {
                                        "categories": [
                                            {
                                                "count": 1,
                                                "name": "1017 W 88TH STREET"
                                            },
                                            {
                                                "count": 1,
                                                "name": "1506 W MANCHESTER AVENUE"
                                            },
                                            {
                                                "count": 3,
                                                "name": "3 others"
                                            }
                                        ],
                                        "nan_count": 0,
                                        "unique_count": 5
                                    }
                                },
                                {
                                    "dtype": "object",
                                    "name": "CITY",
                                    "stats": {
                                        "categories": [
                                            {
                                                "count": 5,
                                                "name": "LOS ANGELES"
                                            }
                                        ],
                                        "nan_count": 0,
                                        "unique_count": 1
                                    }
                                },
                                {
                                    "dtype": "object",
                                    "name": "ZIP CODE",
                                    "stats": {
                                        "categories": [
                                            {
                                                "count": 1,
                                                "name": "90044-2119"
                                            },
                                            {
                                                "count": 1,
                                                "name": "90047-5424"
                                            },
                                            {
                                                "count": 3,
                                                "name": "3 others"
                                            }
                                        ],
                                        "nan_count": 0,
                                        "unique_count": 5
                                    }
                                },
                                {
                                    "dtype": "object",
                                    "name": "LOCATION DESCRIPTION",
                                    "stats": {
                                        "categories": [
                                            {
                                                "count": 1,
                                                "name": "1017 88TH 90044"
                                            },
                                            {
                                                "count": 1,
                                                "name": "1506 MANCHESTER 90047"
                                            },
                                            {
                                                "count": 3,
                                                "name": "3 others"
                                            }
                                        ],
                                        "nan_count": 0,
                                        "unique_count": 5
                                    }
                                },
                                {
                                    "dtype": "object",
                                    "name": "MAILING ADDRESS",
                                    "stats": {
                                        "categories": [
                                            {
                                                "count": 1,
                                                "name": "1017 W 88TH STREET"
                                            },
                                            {
                                                "count": 2,
                                                "name": "2 others"
                                            },
                                            {
                                                "count": 2,
                                                "name": "Missing"
                                            }
                                        ],
                                        "nan_count": 2,
                                        "unique_count": 3
                                    }
                                },
                                {
                                    "dtype": "object",
                                    "name": "MAILING CITY",
                                    "stats": {
                                        "categories": [
                                            {
                                                "count": 3,
                                                "name": "LOS ANGELES"
                                            },
                                            {
                                                "count": 2,
                                                "name": "Missing"
                                            }
                                        ],
                                        "nan_count": 2,
                                        "unique_count": 1
                                    }
                                },
                                {
                                    "dtype": "object",
                                    "name": "MAILING ZIP CODE",
                                    "stats": {
                                        "categories": [
                                            {
                                                "count": 1,
                                                "name": "90044-2119"
                                            },
                                            {
                                                "count": 2,
                                                "name": "2 others"
                                            },
                                            {
                                                "count": 2,
                                                "name": "Missing"
                                            }
                                        ],
                                        "nan_count": 2,
                                        "unique_count": 3
                                    }
                                },
                                {
                                    "dtype": "float64",
                                    "name": "NAICS",
                                    "stats": {
                                        "histogram": [
                                            {
                                                "bin_end": 256012,
                                                "bin_start": 235110,
                                                "count": 1
                                            },
                                            {
                                                "bin_end": 276914,
                                                "bin_start": 256012,
                                                "count": 0
                                            },
                                            {
                                                "bin_end": 297816,
                                                "bin_start": 276914,
                                                "count": 0
                                            },
                                            {
                                                "bin_end": 318718,
                                                "bin_start": 297816,
                                                "count": 0
                                            },
                                            {
                                                "bin_end": 339620,
                                                "bin_start": 318718,
                                                "count": 0
                                            },
                                            {
                                                "bin_end": 360522,
                                                "bin_start": 339620,
                                                "count": 0
                                            },
                                            {
                                                "bin_end": 381424,
                                                "bin_start": 360522,
                                                "count": 0
                                            },
                                            {
                                                "bin_end": 402326,
                                                "bin_start": 381424,
                                                "count": 0
                                            },
                                            {
                                                "bin_end": 423228,
                                                "bin_start": 402326,
                                                "count": 0
                                            },
                                            {
                                                "bin_end": 444130,
                                                "bin_start": 423228,
                                                "count": 2
                                            }
                                        ],
                                        "max": "444130.0",
                                        "min": "235110.0",
                                        "nan_count": 2,
                                        "unique_count": 3
                                    }
                                },
                                {
                                    "dtype": "object",
                                    "name": "PRIMARY NAICS DESCRIPTION",
                                    "stats": {
                                        "categories": [
                                            {
                                                "count": 1,
                                                "name": "Hardware stores"
                                            },
                                            {
                                                "count": 2,
                                                "name": "2 others"
                                            },
                                            {
                                                "count": 2,
                                                "name": "Missing"
                                            }
                                        ],
                                        "nan_count": 2,
                                        "unique_count": 3
                                    }
                                },
                                {
                                    "dtype": "int64",
                                    "name": "COUNCIL DISTRICT",
                                    "stats": {
                                        "histogram": [
                                            {
                                                "bin_end": 0.8,
                                                "bin_start": 0,
                                                "count": 2
                                            },
                                            {
                                                "bin_end": 1.6,
                                                "bin_start": 0.8,
                                                "count": 0
                                            },
                                            {
                                                "bin_end": 2.4000000000000004,
                                                "bin_start": 1.6,
                                                "count": 0
                                            },
                                            {
                                                "bin_end": 3.2,
                                                "bin_start": 2.4000000000000004,
                                                "count": 0
                                            },
                                            {
                                                "bin_end": 4,
                                                "bin_start": 3.2,
                                                "count": 0
                                            },
                                            {
                                                "bin_end": 4.800000000000001,
                                                "bin_start": 4,
                                                "count": 1
                                            },
                                            {
                                                "bin_end": 5.6000000000000005,
                                                "bin_start": 4.800000000000001,
                                                "count": 1
                                            },
                                            {
                                                "bin_end": 6.4,
                                                "bin_start": 5.6000000000000005,
                                                "count": 0
                                            },
                                            {
                                                "bin_end": 7.2,
                                                "bin_start": 6.4,
                                                "count": 0
                                            },
                                            {
                                                "bin_end": 8,
                                                "bin_start": 7.2,
                                                "count": 1
                                            }
                                        ],
                                        "max": "8",
                                        "min": "0",
                                        "nan_count": 0,
                                        "unique_count": 4
                                    }
                                },
                                {
                                    "dtype": "datetime64[ns]",
                                    "name": "LOCATION START DATE",
                                    "stats": {
                                        "histogram": [
                                            {
                                                "bin_end": 1598503680000000000,
                                                "bin_start": 1596585600000000000,
                                                "count": 1
                                            },
                                            {
                                                "bin_end": 1600421760000000000,
                                                "bin_start": 1598503680000000000,
                                                "count": 1
                                            },
                                            {
                                                "bin_end": 1602339840000000000,
                                                "bin_start": 1600421760000000000,
                                                "count": 1
                                            },
                                            {
                                                "bin_end": 1604257920000000000,
                                                "bin_start": 1602339840000000000,
                                                "count": 0
                                            },
                                            {
                                                "bin_end": 1606176000000000000,
                                                "bin_start": 1604257920000000000,
                                                "count": 0
                                            },
                                            {
                                                "bin_end": 1608094080000000000,
                                                "bin_start": 1606176000000000000,
                                                "count": 0
                                            },
                                            {
                                                "bin_end": 1610012160000000000,
                                                "bin_start": 1608094080000000000,
                                                "count": 1
                                            },
                                            {
                                                "bin_end": 1611930240000000000,
                                                "bin_start": 1610012160000000000,
                                                "count": 0
                                            },
                                            {
                                                "bin_end": 1613848320000000000,
                                                "bin_start": 1611930240000000000,
                                                "count": 0
                                            },
                                            {
                                                "bin_end": 1615766400000000000,
                                                "bin_start": 1613848320000000000,
                                                "count": 1
                                            }
                                        ],
                                        "max": "2021-03-15 00:00:00",
                                        "min": "2020-08-05 00:00:00",
                                        "nan_count": 0,
                                        "unique_count": 5
                                    }
                                },
                                {
                                    "dtype": "datetime64[ns]",
                                    "name": "LOCATION END DATE",
                                    "stats": {
                                        "histogram": [
                                            {
                                                "bin_end": 0.1,
                                                "bin_start": 0,
                                                "count": 0
                                            },
                                            {
                                                "bin_end": 0.2,
                                                "bin_start": 0.1,
                                                "count": 0
                                            },
                                            {
                                                "bin_end": 0.30000000000000004,
                                                "bin_start": 0.2,
                                                "count": 0
                                            },
                                            {
                                                "bin_end": 0.4,
                                                "bin_start": 0.30000000000000004,
                                                "count": 0
                                            },
                                            {
                                                "bin_end": 0.5,
                                                "bin_start": 0.4,
                                                "count": 0
                                            },
                                            {
                                                "bin_end": 0.6000000000000001,
                                                "bin_start": 0.5,
                                                "count": 0
                                            },
                                            {
                                                "bin_end": 0.7000000000000001,
                                                "bin_start": 0.6000000000000001,
                                                "count": 0
                                            },
                                            {
                                                "bin_end": 0.8,
                                                "bin_start": 0.7000000000000001,
                                                "count": 0
                                            },
                                            {
                                                "bin_end": 0.9,
                                                "bin_start": 0.8,
                                                "count": 0
                                            },
                                            {
                                                "bin_end": 1,
                                                "bin_start": 0.9,
                                                "count": 0
                                            }
                                        ],
                                        "max": null,
                                        "min": null,
                                        "nan_count": 5,
                                        "unique_count": 0
                                    }
                                },
                                {
                                    "dtype": "object",
                                    "name": "LOCATION",
                                    "stats": {
                                        "categories": [
                                            {
                                                "count": 1,
                                                "name": "(33.9581, -118.2926)"
                                            },
                                            {
                                                "count": 1,
                                                "name": "(33.9597, -118.3028)"
                                            },
                                            {
                                                "count": 3,
                                                "name": "3 others"
                                            }
                                        ],
                                        "nan_count": 0,
                                        "unique_count": 5
                                    }
                                },
                                {
                                    "dtype": "float64",
                                    "name": "AGE",
                                    "stats": {
                                        "histogram": [
                                            {
                                                "bin_end": 4.1,
                                                "bin_start": 4,
                                                "count": 2
                                            },
                                            {
                                                "bin_end": 4.2,
                                                "bin_start": 4.1,
                                                "count": 0
                                            },
                                            {
                                                "bin_end": 4.3,
                                                "bin_start": 4.2,
                                                "count": 0
                                            },
                                            {
                                                "bin_end": 4.4,
                                                "bin_start": 4.3,
                                                "count": 0
                                            },
                                            {
                                                "bin_end": 4.5,
                                                "bin_start": 4.4,
                                                "count": 0
                                            },
                                            {
                                                "bin_end": 4.6,
                                                "bin_start": 4.5,
                                                "count": 0
                                            },
                                            {
                                                "bin_end": 4.7,
                                                "bin_start": 4.6,
                                                "count": 0
                                            },
                                            {
                                                "bin_end": 4.8,
                                                "bin_start": 4.7,
                                                "count": 0
                                            },
                                            {
                                                "bin_end": 4.9,
                                                "bin_start": 4.8,
                                                "count": 0
                                            },
                                            {
                                                "bin_end": 5,
                                                "bin_start": 4.9,
                                                "count": 3
                                            }
                                        ],
                                        "max": "5.0",
                                        "min": "4.0",
                                        "nan_count": 0,
                                        "unique_count": 2
                                    }
                                },
                                {
                                    "dtype": "float64",
                                    "name": "YEAR START",
                                    "stats": {
                                        "histogram": [
                                            {
                                                "bin_end": 2020.1,
                                                "bin_start": 2020,
                                                "count": 3
                                            },
                                            {
                                                "bin_end": 2020.2,
                                                "bin_start": 2020.1,
                                                "count": 0
                                            },
                                            {
                                                "bin_end": 2020.3,
                                                "bin_start": 2020.2,
                                                "count": 0
                                            },
                                            {
                                                "bin_end": 2020.4,
                                                "bin_start": 2020.3,
                                                "count": 0
                                            },
                                            {
                                                "bin_end": 2020.5,
                                                "bin_start": 2020.4,
                                                "count": 0
                                            },
                                            {
                                                "bin_end": 2020.6,
                                                "bin_start": 2020.5,
                                                "count": 0
                                            },
                                            {
                                                "bin_end": 2020.7,
                                                "bin_start": 2020.6,
                                                "count": 0
                                            },
                                            {
                                                "bin_end": 2020.8,
                                                "bin_start": 2020.7,
                                                "count": 0
                                            },
                                            {
                                                "bin_end": 2020.9,
                                                "bin_start": 2020.8,
                                                "count": 0
                                            },
                                            {
                                                "bin_end": 2021,
                                                "bin_start": 2020.9,
                                                "count": 2
                                            }
                                        ],
                                        "max": "2021.0",
                                        "min": "2020.0",
                                        "nan_count": 0,
                                        "unique_count": 2
                                    }
                                },
                                {
                                    "dtype": "float64",
                                    "name": "YEAR END",
                                    "stats": {
                                        "histogram": [
                                            {
                                                "bin_end": 0.1,
                                                "bin_start": 0,
                                                "count": 0
                                            },
                                            {
                                                "bin_end": 0.2,
                                                "bin_start": 0.1,
                                                "count": 0
                                            },
                                            {
                                                "bin_end": 0.30000000000000004,
                                                "bin_start": 0.2,
                                                "count": 0
                                            },
                                            {
                                                "bin_end": 0.4,
                                                "bin_start": 0.30000000000000004,
                                                "count": 0
                                            },
                                            {
                                                "bin_end": 0.5,
                                                "bin_start": 0.4,
                                                "count": 0
                                            },
                                            {
                                                "bin_end": 0.6000000000000001,
                                                "bin_start": 0.5,
                                                "count": 0
                                            },
                                            {
                                                "bin_end": 0.7000000000000001,
                                                "bin_start": 0.6000000000000001,
                                                "count": 0
                                            },
                                            {
                                                "bin_end": 0.8,
                                                "bin_start": 0.7000000000000001,
                                                "count": 0
                                            },
                                            {
                                                "bin_end": 0.9,
                                                "bin_start": 0.8,
                                                "count": 0
                                            },
                                            {
                                                "bin_end": 1,
                                                "bin_start": 0.9,
                                                "count": 0
                                            }
                                        ],
                                        "max": null,
                                        "min": null,
                                        "nan_count": 5,
                                        "unique_count": 0
                                    }
                                },
                                {
                                    "dtype": "float64",
                                    "name": "MONTH END",
                                    "stats": {
                                        "histogram": [
                                            {
                                                "bin_end": 0.1,
                                                "bin_start": 0,
                                                "count": 0
                                            },
                                            {
                                                "bin_end": 0.2,
                                                "bin_start": 0.1,
                                                "count": 0
                                            },
                                            {
                                                "bin_end": 0.30000000000000004,
                                                "bin_start": 0.2,
                                                "count": 0
                                            },
                                            {
                                                "bin_end": 0.4,
                                                "bin_start": 0.30000000000000004,
                                                "count": 0
                                            },
                                            {
                                                "bin_end": 0.5,
                                                "bin_start": 0.4,
                                                "count": 0
                                            },
                                            {
                                                "bin_end": 0.6000000000000001,
                                                "bin_start": 0.5,
                                                "count": 0
                                            },
                                            {
                                                "bin_end": 0.7000000000000001,
                                                "bin_start": 0.6000000000000001,
                                                "count": 0
                                            },
                                            {
                                                "bin_end": 0.8,
                                                "bin_start": 0.7000000000000001,
                                                "count": 0
                                            },
                                            {
                                                "bin_end": 0.9,
                                                "bin_start": 0.8,
                                                "count": 0
                                            },
                                            {
                                                "bin_end": 1,
                                                "bin_start": 0.9,
                                                "count": 0
                                            }
                                        ],
                                        "max": null,
                                        "min": null,
                                        "nan_count": 5,
                                        "unique_count": 0
                                    }
                                },
                                {
                                    "dtype": "float64",
                                    "name": "MONTH START",
                                    "stats": {
                                        "histogram": [
                                            {
                                                "bin_end": 1.9,
                                                "bin_start": 1,
                                                "count": 1
                                            },
                                            {
                                                "bin_end": 2.8,
                                                "bin_start": 1.9,
                                                "count": 0
                                            },
                                            {
                                                "bin_end": 3.7,
                                                "bin_start": 2.8,
                                                "count": 1
                                            },
                                            {
                                                "bin_end": 4.6,
                                                "bin_start": 3.7,
                                                "count": 0
                                            },
                                            {
                                                "bin_end": 5.5,
                                                "bin_start": 4.6,
                                                "count": 0
                                            },
                                            {
                                                "bin_end": 6.4,
                                                "bin_start": 5.5,
                                                "count": 0
                                            },
                                            {
                                                "bin_end": 7.3,
                                                "bin_start": 6.4,
                                                "count": 0
                                            },
                                            {
                                                "bin_end": 8.2,
                                                "bin_start": 7.3,
                                                "count": 1
                                            },
                                            {
                                                "bin_end": 9.1,
                                                "bin_start": 8.2,
                                                "count": 1
                                            },
                                            {
                                                "bin_end": 10,
                                                "bin_start": 9.1,
                                                "count": 1
                                            }
                                        ],
                                        "max": "10.0",
                                        "min": "1.0",
                                        "nan_count": 0,
                                        "unique_count": 5
                                    }
                                },
                                {
                                    "dtype": "int64",
                                    "name": "_deepnote_index_column"
                                }
                            ],
                            "row_count": 5,
                            "rows": [
                                {
                                    "AGE": 5,
                                    "BUSINESS NAME": "MARIA OFELIA NUNEZ",
                                    "CITY": "LOS ANGELES",
                                    "COUNCIL DISTRICT": 0,
                                    "DBA NAME": "LA CAMPANA HARDWARE",
                                    "LOCATION": "(33.9581, -118.2926)",
                                    "LOCATION ACCOUNT #": "0003217523-0001-2",
                                    "LOCATION DESCRIPTION": "1017 88TH 90044",
                                    "LOCATION END DATE": "NaT",
                                    "LOCATION START DATE": "2020-10-01 00:00:00",
                                    "MAILING ADDRESS": "1017 W 88TH STREET",
                                    "MAILING CITY": "LOS ANGELES",
                                    "MAILING ZIP CODE": "90044-2119",
                                    "MONTH END": "nan",
                                    "MONTH START": 10,
                                    "NAICS": 444130,
                                    "PRIMARY NAICS DESCRIPTION": "Hardware stores",
                                    "STREET ADDRESS": "1017 W 88TH STREET",
                                    "YEAR END": "nan",
                                    "YEAR START": 2020,
                                    "ZIP CODE": "90044-2119",
                                    "_deepnote_index_column": 0
                                },
                                {
                                    "AGE": 5,
                                    "BUSINESS NAME": "ONE STOP HOLISTIC HEALTH LLC",
                                    "CITY": "LOS ANGELES",
                                    "COUNCIL DISTRICT": 8,
                                    "DBA NAME": "nan",
                                    "LOCATION": "(33.9597, -118.3028)",
                                    "LOCATION ACCOUNT #": "0003211603-0001-0",
                                    "LOCATION DESCRIPTION": "1506 MANCHESTER 90047",
                                    "LOCATION END DATE": "NaT",
                                    "LOCATION START DATE": "2020-09-03 00:00:00",
                                    "MAILING ADDRESS": "1506 W MANCHESTER AVENUE",
                                    "MAILING CITY": "LOS ANGELES",
                                    "MAILING ZIP CODE": "90047-5424",
                                    "MONTH END": "nan",
                                    "MONTH START": 9,
                                    "NAICS": "nan",
                                    "PRIMARY NAICS DESCRIPTION": "nan",
                                    "STREET ADDRESS": "1506 W MANCHESTER AVENUE",
                                    "YEAR END": "nan",
                                    "YEAR START": 2020,
                                    "ZIP CODE": "90047-5424",
                                    "_deepnote_index_column": 1
                                },
                                {
                                    "AGE": 4,
                                    "BUSINESS NAME": "CHOE SHOW, LLC",
                                    "CITY": "LOS ANGELES",
                                    "COUNCIL DISTRICT": 5,
                                    "DBA NAME": "nan",
                                    "LOCATION": "(34.0594, -118.3135)",
                                    "LOCATION ACCOUNT #": "0003249387-0001-0",
                                    "LOCATION DESCRIPTION": "711 GRAMERCY 90005",
                                    "LOCATION END DATE": "NaT",
                                    "LOCATION START DATE": "2021-03-15 00:00:00",
                                    "MAILING ADDRESS": "711 S GRAMERCY PLACE",
                                    "MAILING CITY": "LOS ANGELES",
                                    "MAILING ZIP CODE": "90005-3166",
                                    "MONTH END": "nan",
                                    "MONTH START": 3,
                                    "NAICS": "nan",
                                    "PRIMARY NAICS DESCRIPTION": "nan",
                                    "STREET ADDRESS": "711 S GRAMERCY PLACE",
                                    "YEAR END": "nan",
                                    "YEAR START": 2021,
                                    "ZIP CODE": "90005-3166",
                                    "_deepnote_index_column": 2
                                },
                                {
                                    "AGE": 5,
                                    "BUSINESS NAME": "FRESH AIR HVAC",
                                    "CITY": "LOS ANGELES",
                                    "COUNCIL DISTRICT": 4,
                                    "DBA NAME": "nan",
                                    "LOCATION": "(34.1031, -118.3485)",
                                    "LOCATION ACCOUNT #": "0003206130-0001-6",
                                    "LOCATION DESCRIPTION": "7270 Franklin 90046-3057",
                                    "LOCATION END DATE": "NaT",
                                    "LOCATION START DATE": "2020-08-05 00:00:00",
                                    "MAILING ADDRESS": "nan",
                                    "MAILING CITY": "nan",
                                    "MAILING ZIP CODE": "nan",
                                    "MONTH END": "nan",
                                    "MONTH START": 8,
                                    "NAICS": 235110,
                                    "PRIMARY NAICS DESCRIPTION": "Plumbing, Heating, and Air-Conditioning Contractors (1997 NAICS)",
                                    "STREET ADDRESS": "7270 FRANKLIN AVENUE APT #105",
                                    "YEAR END": "nan",
                                    "YEAR START": 2020,
                                    "ZIP CODE": "90046-3057",
                                    "_deepnote_index_column": 5
                                },
                                {
                                    "AGE": 4,
                                    "BUSINESS NAME": "H2ORGANICS PRODUCTS INC",
                                    "CITY": "LOS ANGELES",
                                    "COUNCIL DISTRICT": 0,
                                    "DBA NAME": "nan",
                                    "LOCATION": "(33.9562, -118.2963)",
                                    "LOCATION ACCOUNT #": "0003227519-0001-2",
                                    "LOCATION DESCRIPTION": "1205 90TH",
                                    "LOCATION END DATE": "NaT",
                                    "LOCATION START DATE": "2021-01-02 00:00:00",
                                    "MAILING ADDRESS": "nan",
                                    "MAILING CITY": "nan",
                                    "MAILING ZIP CODE": "nan",
                                    "MONTH END": "nan",
                                    "MONTH START": 1,
                                    "NAICS": 425120,
                                    "PRIMARY NAICS DESCRIPTION": "Wholesale trade agents & brokers",
                                    "STREET ADDRESS": "1205 W 90TH STREET",
                                    "YEAR END": "nan",
                                    "YEAR START": 2021,
                                    "ZIP CODE": "90044-2029",
                                    "_deepnote_index_column": 6
                                }
                            ],
                            "type": "dataframe"
                        },
                        "text/html": [
                            "<div>\n",
                            "<style scoped>\n",
                            "    .dataframe tbody tr th:only-of-type {\n",
                            "        vertical-align: middle;\n",
                            "    }\n",
                            "\n",
                            "    .dataframe tbody tr th {\n",
                            "        vertical-align: top;\n",
                            "    }\n",
                            "\n",
                            "    .dataframe thead th {\n",
                            "        text-align: right;\n",
                            "    }\n",
                            "</style>\n",
                            "<table border=\"1\" class=\"dataframe\">\n",
                            "  <thead>\n",
                            "    <tr style=\"text-align: right;\">\n",
                            "      <th></th>\n",
                            "      <th>LOCATION ACCOUNT #</th>\n",
                            "      <th>BUSINESS NAME</th>\n",
                            "      <th>DBA NAME</th>\n",
                            "      <th>STREET ADDRESS</th>\n",
                            "      <th>CITY</th>\n",
                            "      <th>ZIP CODE</th>\n",
                            "      <th>LOCATION DESCRIPTION</th>\n",
                            "      <th>MAILING ADDRESS</th>\n",
                            "      <th>MAILING CITY</th>\n",
                            "      <th>MAILING ZIP CODE</th>\n",
                            "      <th>...</th>\n",
                            "      <th>PRIMARY NAICS DESCRIPTION</th>\n",
                            "      <th>COUNCIL DISTRICT</th>\n",
                            "      <th>LOCATION START DATE</th>\n",
                            "      <th>LOCATION END DATE</th>\n",
                            "      <th>LOCATION</th>\n",
                            "      <th>AGE</th>\n",
                            "      <th>YEAR START</th>\n",
                            "      <th>YEAR END</th>\n",
                            "      <th>MONTH END</th>\n",
                            "      <th>MONTH START</th>\n",
                            "    </tr>\n",
                            "  </thead>\n",
                            "  <tbody>\n",
                            "    <tr>\n",
                            "      <th>0</th>\n",
                            "      <td>0003217523-0001-2</td>\n",
                            "      <td>MARIA OFELIA NUNEZ</td>\n",
                            "      <td>LA CAMPANA HARDWARE</td>\n",
                            "      <td>1017 W 88TH STREET</td>\n",
                            "      <td>LOS ANGELES</td>\n",
                            "      <td>90044-2119</td>\n",
                            "      <td>1017 88TH 90044</td>\n",
                            "      <td>1017 W 88TH STREET</td>\n",
                            "      <td>LOS ANGELES</td>\n",
                            "      <td>90044-2119</td>\n",
                            "      <td>...</td>\n",
                            "      <td>Hardware stores</td>\n",
                            "      <td>0</td>\n",
                            "      <td>2020-10-01</td>\n",
                            "      <td>NaT</td>\n",
                            "      <td>(33.9581, -118.2926)</td>\n",
                            "      <td>5.00</td>\n",
                            "      <td>2,020.00</td>\n",
                            "      <td>NaN</td>\n",
                            "      <td>NaN</td>\n",
                            "      <td>10.00</td>\n",
                            "    </tr>\n",
                            "    <tr>\n",
                            "      <th>1</th>\n",
                            "      <td>0003211603-0001-0</td>\n",
                            "      <td>ONE STOP HOLISTIC HEALTH LLC</td>\n",
                            "      <td>NaN</td>\n",
                            "      <td>1506 W MANCHESTER AVENUE</td>\n",
                            "      <td>LOS ANGELES</td>\n",
                            "      <td>90047-5424</td>\n",
                            "      <td>1506 MANCHESTER 90047</td>\n",
                            "      <td>1506 W MANCHESTER AVENUE</td>\n",
                            "      <td>LOS ANGELES</td>\n",
                            "      <td>90047-5424</td>\n",
                            "      <td>...</td>\n",
                            "      <td>NaN</td>\n",
                            "      <td>8</td>\n",
                            "      <td>2020-09-03</td>\n",
                            "      <td>NaT</td>\n",
                            "      <td>(33.9597, -118.3028)</td>\n",
                            "      <td>5.00</td>\n",
                            "      <td>2,020.00</td>\n",
                            "      <td>NaN</td>\n",
                            "      <td>NaN</td>\n",
                            "      <td>9.00</td>\n",
                            "    </tr>\n",
                            "    <tr>\n",
                            "      <th>2</th>\n",
                            "      <td>0003249387-0001-0</td>\n",
                            "      <td>CHOE SHOW, LLC</td>\n",
                            "      <td>NaN</td>\n",
                            "      <td>711 S GRAMERCY PLACE</td>\n",
                            "      <td>LOS ANGELES</td>\n",
                            "      <td>90005-3166</td>\n",
                            "      <td>711 GRAMERCY 90005</td>\n",
                            "      <td>711 S GRAMERCY PLACE</td>\n",
                            "      <td>LOS ANGELES</td>\n",
                            "      <td>90005-3166</td>\n",
                            "      <td>...</td>\n",
                            "      <td>NaN</td>\n",
                            "      <td>5</td>\n",
                            "      <td>2021-03-15</td>\n",
                            "      <td>NaT</td>\n",
                            "      <td>(34.0594, -118.3135)</td>\n",
                            "      <td>4.00</td>\n",
                            "      <td>2,021.00</td>\n",
                            "      <td>NaN</td>\n",
                            "      <td>NaN</td>\n",
                            "      <td>3.00</td>\n",
                            "    </tr>\n",
                            "    <tr>\n",
                            "      <th>5</th>\n",
                            "      <td>0003206130-0001-6</td>\n",
                            "      <td>FRESH AIR HVAC</td>\n",
                            "      <td>NaN</td>\n",
                            "      <td>7270 FRANKLIN AVENUE APT #105</td>\n",
                            "      <td>LOS ANGELES</td>\n",
                            "      <td>90046-3057</td>\n",
                            "      <td>7270 Franklin 90046-3057</td>\n",
                            "      <td>NaN</td>\n",
                            "      <td>NaN</td>\n",
                            "      <td>NaN</td>\n",
                            "      <td>...</td>\n",
                            "      <td>Plumbing, Heating, and Air-Conditioning Contra...</td>\n",
                            "      <td>4</td>\n",
                            "      <td>2020-08-05</td>\n",
                            "      <td>NaT</td>\n",
                            "      <td>(34.1031, -118.3485)</td>\n",
                            "      <td>5.00</td>\n",
                            "      <td>2,020.00</td>\n",
                            "      <td>NaN</td>\n",
                            "      <td>NaN</td>\n",
                            "      <td>8.00</td>\n",
                            "    </tr>\n",
                            "    <tr>\n",
                            "      <th>6</th>\n",
                            "      <td>0003227519-0001-2</td>\n",
                            "      <td>H2ORGANICS PRODUCTS INC</td>\n",
                            "      <td>NaN</td>\n",
                            "      <td>1205 W 90TH STREET</td>\n",
                            "      <td>LOS ANGELES</td>\n",
                            "      <td>90044-2029</td>\n",
                            "      <td>1205 90TH</td>\n",
                            "      <td>NaN</td>\n",
                            "      <td>NaN</td>\n",
                            "      <td>NaN</td>\n",
                            "      <td>...</td>\n",
                            "      <td>Wholesale trade agents &amp; brokers</td>\n",
                            "      <td>0</td>\n",
                            "      <td>2021-01-02</td>\n",
                            "      <td>NaT</td>\n",
                            "      <td>(33.9562, -118.2963)</td>\n",
                            "      <td>4.00</td>\n",
                            "      <td>2,021.00</td>\n",
                            "      <td>NaN</td>\n",
                            "      <td>NaN</td>\n",
                            "      <td>1.00</td>\n",
                            "    </tr>\n",
                            "  </tbody>\n",
                            "</table>\n",
                            "<p>5 rows × 21 columns</p>\n",
                            "</div>"
                        ],
                        "text/plain": [
                            "  LOCATION ACCOUNT #                 BUSINESS NAME             DBA NAME  \\\n",
                            "0  0003217523-0001-2            MARIA OFELIA NUNEZ  LA CAMPANA HARDWARE   \n",
                            "1  0003211603-0001-0  ONE STOP HOLISTIC HEALTH LLC                  NaN   \n",
                            "2  0003249387-0001-0                CHOE SHOW, LLC                  NaN   \n",
                            "5  0003206130-0001-6                FRESH AIR HVAC                  NaN   \n",
                            "6  0003227519-0001-2       H2ORGANICS PRODUCTS INC                  NaN   \n",
                            "\n",
                            "                  STREET ADDRESS         CITY    ZIP CODE  \\\n",
                            "0             1017 W 88TH STREET  LOS ANGELES  90044-2119   \n",
                            "1       1506 W MANCHESTER AVENUE  LOS ANGELES  90047-5424   \n",
                            "2           711 S GRAMERCY PLACE  LOS ANGELES  90005-3166   \n",
                            "5  7270 FRANKLIN AVENUE APT #105  LOS ANGELES  90046-3057   \n",
                            "6             1205 W 90TH STREET  LOS ANGELES  90044-2029   \n",
                            "\n",
                            "       LOCATION DESCRIPTION           MAILING ADDRESS MAILING CITY  \\\n",
                            "0           1017 88TH 90044        1017 W 88TH STREET  LOS ANGELES   \n",
                            "1     1506 MANCHESTER 90047  1506 W MANCHESTER AVENUE  LOS ANGELES   \n",
                            "2        711 GRAMERCY 90005      711 S GRAMERCY PLACE  LOS ANGELES   \n",
                            "5  7270 Franklin 90046-3057                       NaN          NaN   \n",
                            "6                 1205 90TH                       NaN          NaN   \n",
                            "\n",
                            "  MAILING ZIP CODE  ...                          PRIMARY NAICS DESCRIPTION  \\\n",
                            "0       90044-2119  ...                                    Hardware stores   \n",
                            "1       90047-5424  ...                                                NaN   \n",
                            "2       90005-3166  ...                                                NaN   \n",
                            "5              NaN  ...  Plumbing, Heating, and Air-Conditioning Contra...   \n",
                            "6              NaN  ...                   Wholesale trade agents & brokers   \n",
                            "\n",
                            "  COUNCIL DISTRICT  LOCATION START DATE LOCATION END DATE  \\\n",
                            "0                0           2020-10-01               NaT   \n",
                            "1                8           2020-09-03               NaT   \n",
                            "2                5           2021-03-15               NaT   \n",
                            "5                4           2020-08-05               NaT   \n",
                            "6                0           2021-01-02               NaT   \n",
                            "\n",
                            "               LOCATION  AGE  YEAR START  YEAR END  MONTH END  MONTH START  \n",
                            "0  (33.9581, -118.2926) 5.00    2,020.00       NaN        NaN        10.00  \n",
                            "1  (33.9597, -118.3028) 5.00    2,020.00       NaN        NaN         9.00  \n",
                            "2  (34.0594, -118.3135) 4.00    2,021.00       NaN        NaN         3.00  \n",
                            "5  (34.1031, -118.3485) 5.00    2,020.00       NaN        NaN         8.00  \n",
                            "6  (33.9562, -118.2963) 4.00    2,021.00       NaN        NaN         1.00  \n",
                            "\n",
                            "[5 rows x 21 columns]"
                        ]
                    },
                    "execution_count": 76,
                    "metadata": {},
                    "output_type": "execute_result"
                }
            ],
            "source": [
                "angeles_bussines_df.head()"
            ]
        },
        {
            "cell_type": "code",
            "execution_count": 88,
            "metadata": {
                "cell_id": "bb9882f9e5184412b7a24290a6f71749",
                "deepnote_cell_type": "code",
                "deepnote_table_loading": false,
                "deepnote_table_state": {
                    "cellFormattingRules": [],
                    "columnDisplayNames": [],
                    "columnOrder": [
                        "YEAR",
                        "YEAR START",
                        "NAICS"
                    ],
                    "conditionalFilters": [],
                    "filters": [],
                    "hiddenColumnIds": [],
                    "pageIndex": 7,
                    "pageSize": 10,
                    "sortBy": [],
                    "wrappedTextColumnIds": []
                },
                "execution_context_id": "1bb16aca-6697-4b74-821e-6fbe5185d70e",
                "execution_millis": 1,
                "execution_start": 1746044048862,
                "source_hash": "ad4977c7"
            },
            "outputs": [
                {
                    "data": {
                        "application/vnd.deepnote.dataframe.v3+json": {
                            "column_count": 3,
                            "columns": [
                                {
                                    "dtype": "float64",
                                    "name": "YEAR",
                                    "stats": {
                                        "histogram": [
                                            {
                                                "bin_end": 1930.5,
                                                "bin_start": 1920,
                                                "count": 4
                                            },
                                            {
                                                "bin_end": 1941,
                                                "bin_start": 1930.5,
                                                "count": 6
                                            },
                                            {
                                                "bin_end": 1951.5,
                                                "bin_start": 1941,
                                                "count": 11
                                            },
                                            {
                                                "bin_end": 1962,
                                                "bin_start": 1951.5,
                                                "count": 10
                                            },
                                            {
                                                "bin_end": 1972.5,
                                                "bin_start": 1962,
                                                "count": 11
                                            },
                                            {
                                                "bin_end": 1983,
                                                "bin_start": 1972.5,
                                                "count": 10
                                            },
                                            {
                                                "bin_end": 1993.5,
                                                "bin_start": 1983,
                                                "count": 11
                                            },
                                            {
                                                "bin_end": 2004,
                                                "bin_start": 1993.5,
                                                "count": 10
                                            },
                                            {
                                                "bin_end": 2014.5,
                                                "bin_start": 2004,
                                                "count": 11
                                            },
                                            {
                                                "bin_end": 2025,
                                                "bin_start": 2014.5,
                                                "count": 11
                                            }
                                        ],
                                        "max": "2025.0",
                                        "min": "1920.0",
                                        "nan_count": 0,
                                        "unique_count": 95
                                    }
                                },
                                {
                                    "dtype": "int64",
                                    "name": "YEAR START",
                                    "stats": {
                                        "histogram": [
                                            {
                                                "bin_end": 2967.1,
                                                "bin_start": 1,
                                                "count": 53
                                            },
                                            {
                                                "bin_end": 5933.2,
                                                "bin_start": 2967.1,
                                                "count": 8
                                            },
                                            {
                                                "bin_end": 8899.3,
                                                "bin_start": 5933.2,
                                                "count": 3
                                            },
                                            {
                                                "bin_end": 11865.4,
                                                "bin_start": 8899.3,
                                                "count": 1
                                            },
                                            {
                                                "bin_end": 14831.5,
                                                "bin_start": 11865.4,
                                                "count": 3
                                            },
                                            {
                                                "bin_end": 17797.6,
                                                "bin_start": 14831.5,
                                                "count": 3
                                            },
                                            {
                                                "bin_end": 20763.7,
                                                "bin_start": 17797.6,
                                                "count": 3
                                            },
                                            {
                                                "bin_end": 23729.8,
                                                "bin_start": 20763.7,
                                                "count": 3
                                            },
                                            {
                                                "bin_end": 26695.899999999998,
                                                "bin_start": 23729.8,
                                                "count": 11
                                            },
                                            {
                                                "bin_end": 29662,
                                                "bin_start": 26695.899999999998,
                                                "count": 7
                                            }
                                        ],
                                        "max": "29662",
                                        "min": "1",
                                        "nan_count": 0,
                                        "unique_count": 83
                                    }
                                },
                                {
                                    "dtype": "int64",
                                    "name": "NAICS",
                                    "stats": {
                                        "histogram": [
                                            {
                                                "bin_end": 1668.7,
                                                "bin_start": 0,
                                                "count": 62
                                            },
                                            {
                                                "bin_end": 3337.4,
                                                "bin_start": 1668.7,
                                                "count": 7
                                            },
                                            {
                                                "bin_end": 5006.1,
                                                "bin_start": 3337.4,
                                                "count": 3
                                            },
                                            {
                                                "bin_end": 6674.8,
                                                "bin_start": 5006.1,
                                                "count": 4
                                            },
                                            {
                                                "bin_end": 8343.5,
                                                "bin_start": 6674.8,
                                                "count": 1
                                            },
                                            {
                                                "bin_end": 10012.2,
                                                "bin_start": 8343.5,
                                                "count": 4
                                            },
                                            {
                                                "bin_end": 11680.9,
                                                "bin_start": 10012.2,
                                                "count": 2
                                            },
                                            {
                                                "bin_end": 13349.6,
                                                "bin_start": 11680.9,
                                                "count": 6
                                            },
                                            {
                                                "bin_end": 15018.300000000001,
                                                "bin_start": 13349.6,
                                                "count": 2
                                            },
                                            {
                                                "bin_end": 16687,
                                                "bin_start": 15018.300000000001,
                                                "count": 4
                                            }
                                        ],
                                        "max": "16687",
                                        "min": "0",
                                        "nan_count": 0,
                                        "unique_count": 81
                                    }
                                },
                                {
                                    "dtype": "int64",
                                    "name": "_deepnote_index_column"
                                }
                            ],
                            "row_count": 95,
                            "rows": [
                                {
                                    "NAICS": 4763,
                                    "YEAR": 2001,
                                    "YEAR START": 24949,
                                    "_deepnote_index_column": 70
                                },
                                {
                                    "NAICS": 5092,
                                    "YEAR": 2002,
                                    "YEAR START": 25840,
                                    "_deepnote_index_column": 71
                                },
                                {
                                    "NAICS": 5769,
                                    "YEAR": 2003,
                                    "YEAR START": 28251,
                                    "_deepnote_index_column": 72
                                },
                                {
                                    "NAICS": 6948,
                                    "YEAR": 2004,
                                    "YEAR START": 28868,
                                    "_deepnote_index_column": 73
                                },
                                {
                                    "NAICS": 5483,
                                    "YEAR": 2005,
                                    "YEAR START": 27486,
                                    "_deepnote_index_column": 74
                                },
                                {
                                    "NAICS": 6606,
                                    "YEAR": 2006,
                                    "YEAR START": 28033,
                                    "_deepnote_index_column": 75
                                },
                                {
                                    "NAICS": 8669,
                                    "YEAR": 2007,
                                    "YEAR START": 29576,
                                    "_deepnote_index_column": 76
                                },
                                {
                                    "NAICS": 8661,
                                    "YEAR": 2008,
                                    "YEAR START": 23782,
                                    "_deepnote_index_column": 77
                                },
                                {
                                    "NAICS": 8821,
                                    "YEAR": 2009,
                                    "YEAR START": 24393,
                                    "_deepnote_index_column": 78
                                },
                                {
                                    "NAICS": 9765,
                                    "YEAR": 2010,
                                    "YEAR START": 26063,
                                    "_deepnote_index_column": 79
                                }
                            ],
                            "type": "dataframe"
                        },
                        "text/html": [
                            "<div>\n",
                            "<style scoped>\n",
                            "    .dataframe tbody tr th:only-of-type {\n",
                            "        vertical-align: middle;\n",
                            "    }\n",
                            "\n",
                            "    .dataframe tbody tr th {\n",
                            "        vertical-align: top;\n",
                            "    }\n",
                            "\n",
                            "    .dataframe thead th {\n",
                            "        text-align: right;\n",
                            "    }\n",
                            "</style>\n",
                            "<table border=\"1\" class=\"dataframe\">\n",
                            "  <thead>\n",
                            "    <tr style=\"text-align: right;\">\n",
                            "      <th></th>\n",
                            "      <th>YEAR</th>\n",
                            "      <th>YEAR START</th>\n",
                            "      <th>NAICS</th>\n",
                            "    </tr>\n",
                            "  </thead>\n",
                            "  <tbody>\n",
                            "    <tr>\n",
                            "      <th>0</th>\n",
                            "      <td>1,920.00</td>\n",
                            "      <td>1</td>\n",
                            "      <td>0</td>\n",
                            "    </tr>\n",
                            "    <tr>\n",
                            "      <th>1</th>\n",
                            "      <td>1,926.00</td>\n",
                            "      <td>1</td>\n",
                            "      <td>0</td>\n",
                            "    </tr>\n",
                            "    <tr>\n",
                            "      <th>2</th>\n",
                            "      <td>1,929.00</td>\n",
                            "      <td>2</td>\n",
                            "      <td>1</td>\n",
                            "    </tr>\n",
                            "    <tr>\n",
                            "      <th>3</th>\n",
                            "      <td>1,930.00</td>\n",
                            "      <td>1</td>\n",
                            "      <td>1</td>\n",
                            "    </tr>\n",
                            "    <tr>\n",
                            "      <th>4</th>\n",
                            "      <td>1,934.00</td>\n",
                            "      <td>4</td>\n",
                            "      <td>3</td>\n",
                            "    </tr>\n",
                            "    <tr>\n",
                            "      <th>...</th>\n",
                            "      <td>...</td>\n",
                            "      <td>...</td>\n",
                            "      <td>...</td>\n",
                            "    </tr>\n",
                            "    <tr>\n",
                            "      <th>90</th>\n",
                            "      <td>2,021.00</td>\n",
                            "      <td>18387</td>\n",
                            "      <td>12981</td>\n",
                            "    </tr>\n",
                            "    <tr>\n",
                            "      <th>91</th>\n",
                            "      <td>2,022.00</td>\n",
                            "      <td>15729</td>\n",
                            "      <td>12647</td>\n",
                            "    </tr>\n",
                            "    <tr>\n",
                            "      <th>92</th>\n",
                            "      <td>2,023.00</td>\n",
                            "      <td>14438</td>\n",
                            "      <td>12080</td>\n",
                            "    </tr>\n",
                            "    <tr>\n",
                            "      <th>93</th>\n",
                            "      <td>2,024.00</td>\n",
                            "      <td>12958</td>\n",
                            "      <td>11924</td>\n",
                            "    </tr>\n",
                            "    <tr>\n",
                            "      <th>94</th>\n",
                            "      <td>2,025.00</td>\n",
                            "      <td>3543</td>\n",
                            "      <td>3316</td>\n",
                            "    </tr>\n",
                            "  </tbody>\n",
                            "</table>\n",
                            "<p>95 rows × 3 columns</p>\n",
                            "</div>"
                        ],
                        "text/plain": [
                            "       YEAR  YEAR START  NAICS\n",
                            "0  1,920.00           1      0\n",
                            "1  1,926.00           1      0\n",
                            "2  1,929.00           2      1\n",
                            "3  1,930.00           1      1\n",
                            "4  1,934.00           4      3\n",
                            "..      ...         ...    ...\n",
                            "90 2,021.00       18387  12981\n",
                            "91 2,022.00       15729  12647\n",
                            "92 2,023.00       14438  12080\n",
                            "93 2,024.00       12958  11924\n",
                            "94 2,025.00        3543   3316\n",
                            "\n",
                            "[95 rows x 3 columns]"
                        ]
                    },
                    "execution_count": 94,
                    "metadata": {},
                    "output_type": "execute_result"
                }
            ],
            "source": [
                "group_by_year_start = angeles_bussines_df.groupby(\"YEAR START\").agg({\"YEAR START\": \"count\", \"NAICS\": \"count\"})\n",
                "group_by_year_start.reset_index(inplace=True, names=\"YEAR\")\n",
                "\n",
                "group_by_year_start"
            ]
        },
        {
            "cell_type": "code",
            "execution_count": null,
            "metadata": {},
            "outputs": [],
            "source": []
        },
        {
            "cell_type": "code",
            "execution_count": 91,
            "metadata": {
                "cell_id": "205bf9204de24eaa922b9a4e9d2f24bf",
                "deepnote_cell_type": "code",
                "execution_context_id": "1bb16aca-6697-4b74-821e-6fbe5185d70e",
                "execution_millis": 206,
                "execution_start": 1746044131200,
                "source_hash": "85a695bb"
            },
            "outputs": [
                {
                    "data": {
                        "image/png": "[encoded data removed]",
                        "text/plain": [
                            "<Figure size 640x480 with 1 Axes>"
                        ]
                    },
                    "metadata": {
                        "image/png": {
                            "height": 432,
                            "width": 589
                        }
                    },
                    "output_type": "display_data"
                }
            ],
            "source": [
                "sns.lineplot(group_by_year_start, x=\"YEAR\", y=\"YEAR START\")\n",
                "sns.lineplot(group_by_year_start, x=\"YEAR\", y=\"NAICS\")\n",
                "\n",
                "plt.show()"
            ]
        },
        {
            "cell_type": "code",
            "execution_count": null,
            "metadata": {},
            "outputs": [],
            "source": [
                "mask = angeles_bussines_df.loc[:, \"NAICS\"].value_counts()/len(angeles_bussines_df)>.001"
            ]
        },
        {
            "cell_type": "markdown",
            "metadata": {
                "cell_id": "dd1126b163cd4b4a907920261752975b",
                "deepnote_cell_type": "markdown"
            },
            "source": [
                "## Limpieza y tratamiento de datos\n",
                "\n",
                "Para este primer proceso de limpieza y preprocesamiento de datos, se ajustaran algunos campos los cuales cuentan con caracteristicas o valores que no tiene sentido logico alguno en la base de datos."
            ]
        },
        {
            "cell_type": "code",
            "execution_count": 27,
            "metadata": {
                "cell_id": "52f8c2fbc0aa4fa0930c18b7ec56b999",
                "deepnote_cell_type": "code",
                "execution_context_id": "9d19cb3c-9408-45b5-82e7-9cc88f556b14",
                "execution_millis": 38,
                "execution_start": 1746051926345,
                "source_hash": "785b7bcb"
            },
            "outputs": [
                {
                    "data": {
                        "text/html": [
                            "<div>\n",
                            "<style scoped>\n",
                            "    .dataframe tbody tr th:only-of-type {\n",
                            "        vertical-align: middle;\n",
                            "    }\n",
                            "\n",
                            "    .dataframe tbody tr th {\n",
                            "        vertical-align: top;\n",
                            "    }\n",
                            "\n",
                            "    .dataframe thead th {\n",
                            "        text-align: right;\n",
                            "    }\n",
                            "</style>\n",
                            "<table border=\"1\" class=\"dataframe\">\n",
                            "  <thead>\n",
                            "    <tr style=\"text-align: right;\">\n",
                            "      <th></th>\n",
                            "      <th>AGE</th>\n",
                            "      <th>LOCATION START DATE</th>\n",
                            "      <th>LOCATION END DATE</th>\n",
                            "      <th>YEAR START</th>\n",
                            "      <th>YEAR END</th>\n",
                            "      <th>MONTH END</th>\n",
                            "      <th>MONTH START</th>\n",
                            "    </tr>\n",
                            "  </thead>\n",
                            "  <tbody>\n",
                            "    <tr>\n",
                            "      <th>4129</th>\n",
                            "      <td>-0.00</td>\n",
                            "      <td>2004-02-01</td>\n",
                            "      <td>2004-01-07</td>\n",
                            "      <td>2,004.00</td>\n",
                            "      <td>2,004.00</td>\n",
                            "      <td>1.00</td>\n",
                            "      <td>2.00</td>\n",
                            "    </tr>\n",
                            "    <tr>\n",
                            "      <th>6833</th>\n",
                            "      <td>-5.00</td>\n",
                            "      <td>2007-01-01</td>\n",
                            "      <td>2002-01-01</td>\n",
                            "      <td>2,007.00</td>\n",
                            "      <td>2,002.00</td>\n",
                            "      <td>1.00</td>\n",
                            "      <td>1.00</td>\n",
                            "    </tr>\n",
                            "    <tr>\n",
                            "      <th>6840</th>\n",
                            "      <td>-5.00</td>\n",
                            "      <td>2007-01-01</td>\n",
                            "      <td>2002-01-01</td>\n",
                            "      <td>2,007.00</td>\n",
                            "      <td>2,002.00</td>\n",
                            "      <td>1.00</td>\n",
                            "      <td>1.00</td>\n",
                            "    </tr>\n",
                            "    <tr>\n",
                            "      <th>6846</th>\n",
                            "      <td>-5.00</td>\n",
                            "      <td>2007-01-01</td>\n",
                            "      <td>2002-01-01</td>\n",
                            "      <td>2,007.00</td>\n",
                            "      <td>2,002.00</td>\n",
                            "      <td>1.00</td>\n",
                            "      <td>1.00</td>\n",
                            "    </tr>\n",
                            "    <tr>\n",
                            "      <th>7063</th>\n",
                            "      <td>-5.00</td>\n",
                            "      <td>2007-01-01</td>\n",
                            "      <td>2002-01-01</td>\n",
                            "      <td>2,007.00</td>\n",
                            "      <td>2,002.00</td>\n",
                            "      <td>1.00</td>\n",
                            "      <td>1.00</td>\n",
                            "    </tr>\n",
                            "    <tr>\n",
                            "      <th>...</th>\n",
                            "      <td>...</td>\n",
                            "      <td>...</td>\n",
                            "      <td>...</td>\n",
                            "      <td>...</td>\n",
                            "      <td>...</td>\n",
                            "      <td>...</td>\n",
                            "      <td>...</td>\n",
                            "    </tr>\n",
                            "    <tr>\n",
                            "      <th>1580766</th>\n",
                            "      <td>-12.00</td>\n",
                            "      <td>2002-01-01</td>\n",
                            "      <td>1990-06-07</td>\n",
                            "      <td>2,002.00</td>\n",
                            "      <td>1,990.00</td>\n",
                            "      <td>6.00</td>\n",
                            "      <td>1.00</td>\n",
                            "    </tr>\n",
                            "    <tr>\n",
                            "      <th>1596227</th>\n",
                            "      <td>-6.00</td>\n",
                            "      <td>2007-01-01</td>\n",
                            "      <td>2001-01-01</td>\n",
                            "      <td>2,007.00</td>\n",
                            "      <td>2,001.00</td>\n",
                            "      <td>1.00</td>\n",
                            "      <td>1.00</td>\n",
                            "    </tr>\n",
                            "    <tr>\n",
                            "      <th>1601063</th>\n",
                            "      <td>-1.00</td>\n",
                            "      <td>2015-10-01</td>\n",
                            "      <td>2015-01-01</td>\n",
                            "      <td>2,015.00</td>\n",
                            "      <td>2,015.00</td>\n",
                            "      <td>1.00</td>\n",
                            "      <td>10.00</td>\n",
                            "    </tr>\n",
                            "    <tr>\n",
                            "      <th>1605021</th>\n",
                            "      <td>-1.00</td>\n",
                            "      <td>2007-01-01</td>\n",
                            "      <td>2006-03-09</td>\n",
                            "      <td>2,007.00</td>\n",
                            "      <td>2,006.00</td>\n",
                            "      <td>3.00</td>\n",
                            "      <td>1.00</td>\n",
                            "    </tr>\n",
                            "    <tr>\n",
                            "      <th>1606604</th>\n",
                            "      <td>-6.00</td>\n",
                            "      <td>2015-01-01</td>\n",
                            "      <td>2009-01-01</td>\n",
                            "      <td>2,015.00</td>\n",
                            "      <td>2,009.00</td>\n",
                            "      <td>1.00</td>\n",
                            "      <td>1.00</td>\n",
                            "    </tr>\n",
                            "  </tbody>\n",
                            "</table>\n",
                            "<p>378 rows × 7 columns</p>\n",
                            "</div>"
                        ],
                        "text/plain": [
                            "           AGE LOCATION START DATE LOCATION END DATE  YEAR START  YEAR END  \\\n",
                            "4129     -0.00          2004-02-01        2004-01-07    2,004.00  2,004.00   \n",
                            "6833     -5.00          2007-01-01        2002-01-01    2,007.00  2,002.00   \n",
                            "6840     -5.00          2007-01-01        2002-01-01    2,007.00  2,002.00   \n",
                            "6846     -5.00          2007-01-01        2002-01-01    2,007.00  2,002.00   \n",
                            "7063     -5.00          2007-01-01        2002-01-01    2,007.00  2,002.00   \n",
                            "...        ...                 ...               ...         ...       ...   \n",
                            "1580766 -12.00          2002-01-01        1990-06-07    2,002.00  1,990.00   \n",
                            "1596227  -6.00          2007-01-01        2001-01-01    2,007.00  2,001.00   \n",
                            "1601063  -1.00          2015-10-01        2015-01-01    2,015.00  2,015.00   \n",
                            "1605021  -1.00          2007-01-01        2006-03-09    2,007.00  2,006.00   \n",
                            "1606604  -6.00          2015-01-01        2009-01-01    2,015.00  2,009.00   \n",
                            "\n",
                            "         MONTH END  MONTH START  \n",
                            "4129          1.00         2.00  \n",
                            "6833          1.00         1.00  \n",
                            "6840          1.00         1.00  \n",
                            "6846          1.00         1.00  \n",
                            "7063          1.00         1.00  \n",
                            "...            ...          ...  \n",
                            "1580766       6.00         1.00  \n",
                            "1596227       1.00         1.00  \n",
                            "1601063       1.00        10.00  \n",
                            "1605021       3.00         1.00  \n",
                            "1606604       1.00         1.00  \n",
                            "\n",
                            "[378 rows x 7 columns]"
                        ]
                    },
                    "execution_count": 27,
                    "metadata": {},
                    "output_type": "execute_result"
                }
            ],
            "source": [
                "mask = angeles_bussines_df[\"LOCATION END DATE\"] < angeles_bussines_df[\"LOCATION START DATE\"]\n",
                "\n",
                "angeles_bussines_df.loc[mask, [\"AGE\", \"LOCATION START DATE\", \"LOCATION END DATE\", \"YEAR START\", \"YEAR END\", \"MONTH END\", \"MONTH START\"]]\n"
            ]
        },
        {
            "cell_type": "code",
            "execution_count": null,
            "metadata": {},
            "outputs": [],
            "source": [
                "angeles_error_fecha = angeles_bussines_df.loc[mask, list(angeles_bussines_df.columns)]"
            ]
        },
        {
            "cell_type": "code",
            "execution_count": 29,
            "metadata": {},
            "outputs": [
                {
                    "data": {
                        "text/html": [
                            "<div>\n",
                            "<style scoped>\n",
                            "    .dataframe tbody tr th:only-of-type {\n",
                            "        vertical-align: middle;\n",
                            "    }\n",
                            "\n",
                            "    .dataframe tbody tr th {\n",
                            "        vertical-align: top;\n",
                            "    }\n",
                            "\n",
                            "    .dataframe thead th {\n",
                            "        text-align: right;\n",
                            "    }\n",
                            "</style>\n",
                            "<table border=\"1\" class=\"dataframe\">\n",
                            "  <thead>\n",
                            "    <tr style=\"text-align: right;\">\n",
                            "      <th></th>\n",
                            "      <th>YEAR</th>\n",
                            "      <th>AGE</th>\n",
                            "      <th>LOCATION START DATE</th>\n",
                            "      <th>LOCATION END DATE</th>\n",
                            "      <th>YEAR END</th>\n",
                            "      <th>MONTH END</th>\n",
                            "      <th>MONTH START</th>\n",
                            "    </tr>\n",
                            "  </thead>\n",
                            "  <tbody>\n",
                            "    <tr>\n",
                            "      <th>0</th>\n",
                            "      <td>1,984.00</td>\n",
                            "      <td>1</td>\n",
                            "      <td>1</td>\n",
                            "      <td>1</td>\n",
                            "      <td>1</td>\n",
                            "      <td>1</td>\n",
                            "      <td>1</td>\n",
                            "    </tr>\n",
                            "    <tr>\n",
                            "      <th>1</th>\n",
                            "      <td>1,994.00</td>\n",
                            "      <td>1</td>\n",
                            "      <td>1</td>\n",
                            "      <td>1</td>\n",
                            "      <td>1</td>\n",
                            "      <td>1</td>\n",
                            "      <td>1</td>\n",
                            "    </tr>\n",
                            "    <tr>\n",
                            "      <th>2</th>\n",
                            "      <td>1,997.00</td>\n",
                            "      <td>1</td>\n",
                            "      <td>1</td>\n",
                            "      <td>1</td>\n",
                            "      <td>1</td>\n",
                            "      <td>1</td>\n",
                            "      <td>1</td>\n",
                            "    </tr>\n",
                            "    <tr>\n",
                            "      <th>3</th>\n",
                            "      <td>1,999.00</td>\n",
                            "      <td>2</td>\n",
                            "      <td>2</td>\n",
                            "      <td>2</td>\n",
                            "      <td>2</td>\n",
                            "      <td>2</td>\n",
                            "      <td>2</td>\n",
                            "    </tr>\n",
                            "    <tr>\n",
                            "      <th>4</th>\n",
                            "      <td>2,000.00</td>\n",
                            "      <td>1</td>\n",
                            "      <td>1</td>\n",
                            "      <td>1</td>\n",
                            "      <td>1</td>\n",
                            "      <td>1</td>\n",
                            "      <td>1</td>\n",
                            "    </tr>\n",
                            "    <tr>\n",
                            "      <th>5</th>\n",
                            "      <td>2,001.00</td>\n",
                            "      <td>4</td>\n",
                            "      <td>4</td>\n",
                            "      <td>4</td>\n",
                            "      <td>4</td>\n",
                            "      <td>4</td>\n",
                            "      <td>4</td>\n",
                            "    </tr>\n",
                            "    <tr>\n",
                            "      <th>6</th>\n",
                            "      <td>2,002.00</td>\n",
                            "      <td>3</td>\n",
                            "      <td>3</td>\n",
                            "      <td>3</td>\n",
                            "      <td>3</td>\n",
                            "      <td>3</td>\n",
                            "      <td>3</td>\n",
                            "    </tr>\n",
                            "    <tr>\n",
                            "      <th>7</th>\n",
                            "      <td>2,003.00</td>\n",
                            "      <td>15</td>\n",
                            "      <td>15</td>\n",
                            "      <td>15</td>\n",
                            "      <td>15</td>\n",
                            "      <td>15</td>\n",
                            "      <td>15</td>\n",
                            "    </tr>\n",
                            "    <tr>\n",
                            "      <th>8</th>\n",
                            "      <td>2,004.00</td>\n",
                            "      <td>15</td>\n",
                            "      <td>15</td>\n",
                            "      <td>15</td>\n",
                            "      <td>15</td>\n",
                            "      <td>15</td>\n",
                            "      <td>15</td>\n",
                            "    </tr>\n",
                            "    <tr>\n",
                            "      <th>9</th>\n",
                            "      <td>2,005.00</td>\n",
                            "      <td>11</td>\n",
                            "      <td>11</td>\n",
                            "      <td>11</td>\n",
                            "      <td>11</td>\n",
                            "      <td>11</td>\n",
                            "      <td>11</td>\n",
                            "    </tr>\n",
                            "    <tr>\n",
                            "      <th>10</th>\n",
                            "      <td>2,006.00</td>\n",
                            "      <td>1</td>\n",
                            "      <td>1</td>\n",
                            "      <td>1</td>\n",
                            "      <td>1</td>\n",
                            "      <td>1</td>\n",
                            "      <td>1</td>\n",
                            "    </tr>\n",
                            "    <tr>\n",
                            "      <th>11</th>\n",
                            "      <td>2,007.00</td>\n",
                            "      <td>275</td>\n",
                            "      <td>275</td>\n",
                            "      <td>275</td>\n",
                            "      <td>275</td>\n",
                            "      <td>275</td>\n",
                            "      <td>275</td>\n",
                            "    </tr>\n",
                            "    <tr>\n",
                            "      <th>12</th>\n",
                            "      <td>2,008.00</td>\n",
                            "      <td>4</td>\n",
                            "      <td>4</td>\n",
                            "      <td>4</td>\n",
                            "      <td>4</td>\n",
                            "      <td>4</td>\n",
                            "      <td>4</td>\n",
                            "    </tr>\n",
                            "    <tr>\n",
                            "      <th>13</th>\n",
                            "      <td>2,009.00</td>\n",
                            "      <td>3</td>\n",
                            "      <td>3</td>\n",
                            "      <td>3</td>\n",
                            "      <td>3</td>\n",
                            "      <td>3</td>\n",
                            "      <td>3</td>\n",
                            "    </tr>\n",
                            "    <tr>\n",
                            "      <th>14</th>\n",
                            "      <td>2,010.00</td>\n",
                            "      <td>3</td>\n",
                            "      <td>3</td>\n",
                            "      <td>3</td>\n",
                            "      <td>3</td>\n",
                            "      <td>3</td>\n",
                            "      <td>3</td>\n",
                            "    </tr>\n",
                            "    <tr>\n",
                            "      <th>15</th>\n",
                            "      <td>2,011.00</td>\n",
                            "      <td>3</td>\n",
                            "      <td>3</td>\n",
                            "      <td>3</td>\n",
                            "      <td>3</td>\n",
                            "      <td>3</td>\n",
                            "      <td>3</td>\n",
                            "    </tr>\n",
                            "    <tr>\n",
                            "      <th>16</th>\n",
                            "      <td>2,013.00</td>\n",
                            "      <td>3</td>\n",
                            "      <td>3</td>\n",
                            "      <td>3</td>\n",
                            "      <td>3</td>\n",
                            "      <td>3</td>\n",
                            "      <td>3</td>\n",
                            "    </tr>\n",
                            "    <tr>\n",
                            "      <th>17</th>\n",
                            "      <td>2,014.00</td>\n",
                            "      <td>1</td>\n",
                            "      <td>1</td>\n",
                            "      <td>1</td>\n",
                            "      <td>1</td>\n",
                            "      <td>1</td>\n",
                            "      <td>1</td>\n",
                            "    </tr>\n",
                            "    <tr>\n",
                            "      <th>18</th>\n",
                            "      <td>2,015.00</td>\n",
                            "      <td>25</td>\n",
                            "      <td>25</td>\n",
                            "      <td>25</td>\n",
                            "      <td>25</td>\n",
                            "      <td>25</td>\n",
                            "      <td>25</td>\n",
                            "    </tr>\n",
                            "    <tr>\n",
                            "      <th>19</th>\n",
                            "      <td>2,016.00</td>\n",
                            "      <td>1</td>\n",
                            "      <td>1</td>\n",
                            "      <td>1</td>\n",
                            "      <td>1</td>\n",
                            "      <td>1</td>\n",
                            "      <td>1</td>\n",
                            "    </tr>\n",
                            "    <tr>\n",
                            "      <th>20</th>\n",
                            "      <td>2,017.00</td>\n",
                            "      <td>1</td>\n",
                            "      <td>1</td>\n",
                            "      <td>1</td>\n",
                            "      <td>1</td>\n",
                            "      <td>1</td>\n",
                            "      <td>1</td>\n",
                            "    </tr>\n",
                            "    <tr>\n",
                            "      <th>21</th>\n",
                            "      <td>2,018.00</td>\n",
                            "      <td>3</td>\n",
                            "      <td>3</td>\n",
                            "      <td>3</td>\n",
                            "      <td>3</td>\n",
                            "      <td>3</td>\n",
                            "      <td>3</td>\n",
                            "    </tr>\n",
                            "    <tr>\n",
                            "      <th>22</th>\n",
                            "      <td>2,023.00</td>\n",
                            "      <td>1</td>\n",
                            "      <td>1</td>\n",
                            "      <td>1</td>\n",
                            "      <td>1</td>\n",
                            "      <td>1</td>\n",
                            "      <td>1</td>\n",
                            "    </tr>\n",
                            "  </tbody>\n",
                            "</table>\n",
                            "</div>"
                        ],
                        "text/plain": [
                            "       YEAR  AGE  LOCATION START DATE  LOCATION END DATE  YEAR END  MONTH END  \\\n",
                            "0  1,984.00    1                    1                  1         1          1   \n",
                            "1  1,994.00    1                    1                  1         1          1   \n",
                            "2  1,997.00    1                    1                  1         1          1   \n",
                            "3  1,999.00    2                    2                  2         2          2   \n",
                            "4  2,000.00    1                    1                  1         1          1   \n",
                            "5  2,001.00    4                    4                  4         4          4   \n",
                            "6  2,002.00    3                    3                  3         3          3   \n",
                            "7  2,003.00   15                   15                 15        15         15   \n",
                            "8  2,004.00   15                   15                 15        15         15   \n",
                            "9  2,005.00   11                   11                 11        11         11   \n",
                            "10 2,006.00    1                    1                  1         1          1   \n",
                            "11 2,007.00  275                  275                275       275        275   \n",
                            "12 2,008.00    4                    4                  4         4          4   \n",
                            "13 2,009.00    3                    3                  3         3          3   \n",
                            "14 2,010.00    3                    3                  3         3          3   \n",
                            "15 2,011.00    3                    3                  3         3          3   \n",
                            "16 2,013.00    3                    3                  3         3          3   \n",
                            "17 2,014.00    1                    1                  1         1          1   \n",
                            "18 2,015.00   25                   25                 25        25         25   \n",
                            "19 2,016.00    1                    1                  1         1          1   \n",
                            "20 2,017.00    1                    1                  1         1          1   \n",
                            "21 2,018.00    3                    3                  3         3          3   \n",
                            "22 2,023.00    1                    1                  1         1          1   \n",
                            "\n",
                            "    MONTH START  \n",
                            "0             1  \n",
                            "1             1  \n",
                            "2             1  \n",
                            "3             2  \n",
                            "4             1  \n",
                            "5             4  \n",
                            "6             3  \n",
                            "7            15  \n",
                            "8            15  \n",
                            "9            11  \n",
                            "10            1  \n",
                            "11          275  \n",
                            "12            4  \n",
                            "13            3  \n",
                            "14            3  \n",
                            "15            3  \n",
                            "16            3  \n",
                            "17            1  \n",
                            "18           25  \n",
                            "19            1  \n",
                            "20            1  \n",
                            "21            3  \n",
                            "22            1  "
                        ]
                    },
                    "execution_count": 29,
                    "metadata": {},
                    "output_type": "execute_result"
                }
            ],
            "source": [
                "angeles_error_fecha.groupby(\"YEAR START\").agg({\"AGE\": \"count\", \"LOCATION START DATE\": \"count\", \"LOCATION END DATE\": \"count\", \"YEAR END\": \"count\", \"MONTH END\": \"count\", \"MONTH START\": \"count\"}).reset_index(names=\"YEAR\")"
            ]
        },
        {
            "cell_type": "code",
            "execution_count": 30,
            "metadata": {},
            "outputs": [
                {
                    "data": {
                        "text/html": [
                            "<div>\n",
                            "<style scoped>\n",
                            "    .dataframe tbody tr th:only-of-type {\n",
                            "        vertical-align: middle;\n",
                            "    }\n",
                            "\n",
                            "    .dataframe tbody tr th {\n",
                            "        vertical-align: top;\n",
                            "    }\n",
                            "\n",
                            "    .dataframe thead th {\n",
                            "        text-align: right;\n",
                            "    }\n",
                            "</style>\n",
                            "<table border=\"1\" class=\"dataframe\">\n",
                            "  <thead>\n",
                            "    <tr style=\"text-align: right;\">\n",
                            "      <th></th>\n",
                            "      <th>NAICS</th>\n",
                            "      <th>COUNCIL DISTRICT</th>\n",
                            "      <th>LOCATION START DATE</th>\n",
                            "      <th>LOCATION END DATE</th>\n",
                            "      <th>AGE</th>\n",
                            "      <th>YEAR START</th>\n",
                            "      <th>YEAR END</th>\n",
                            "      <th>MONTH END</th>\n",
                            "      <th>MONTH START</th>\n",
                            "    </tr>\n",
                            "  </thead>\n",
                            "  <tbody>\n",
                            "    <tr>\n",
                            "      <th>count</th>\n",
                            "      <td>7.00</td>\n",
                            "      <td>378.00</td>\n",
                            "      <td>378</td>\n",
                            "      <td>378</td>\n",
                            "      <td>378.00</td>\n",
                            "      <td>378.00</td>\n",
                            "      <td>378.00</td>\n",
                            "      <td>378.00</td>\n",
                            "      <td>378.00</td>\n",
                            "    </tr>\n",
                            "    <tr>\n",
                            "      <th>mean</th>\n",
                            "      <td>465,111.43</td>\n",
                            "      <td>7.46</td>\n",
                            "      <td>2007-04-24 09:27:37.142857216</td>\n",
                            "      <td>2003-07-21 10:36:11.428571392</td>\n",
                            "      <td>-3.76</td>\n",
                            "      <td>2,007.23</td>\n",
                            "      <td>2,003.28</td>\n",
                            "      <td>4.07</td>\n",
                            "      <td>1.88</td>\n",
                            "    </tr>\n",
                            "    <tr>\n",
                            "      <th>min</th>\n",
                            "      <td>238,990.00</td>\n",
                            "      <td>0.00</td>\n",
                            "      <td>1984-02-09 00:00:00</td>\n",
                            "      <td>1970-09-15 00:00:00</td>\n",
                            "      <td>-40.00</td>\n",
                            "      <td>1,984.00</td>\n",
                            "      <td>1,970.00</td>\n",
                            "      <td>1.00</td>\n",
                            "      <td>1.00</td>\n",
                            "    </tr>\n",
                            "    <tr>\n",
                            "      <th>25%</th>\n",
                            "      <td>453,990.00</td>\n",
                            "      <td>4.00</td>\n",
                            "      <td>2007-01-01 00:00:00</td>\n",
                            "      <td>2002-01-01 00:00:00</td>\n",
                            "      <td>-5.00</td>\n",
                            "      <td>2,007.00</td>\n",
                            "      <td>2,002.00</td>\n",
                            "      <td>1.00</td>\n",
                            "      <td>1.00</td>\n",
                            "    </tr>\n",
                            "    <tr>\n",
                            "      <th>50%</th>\n",
                            "      <td>522,100.00</td>\n",
                            "      <td>9.00</td>\n",
                            "      <td>2007-01-01 00:00:00</td>\n",
                            "      <td>2004-01-01 00:00:00</td>\n",
                            "      <td>-3.00</td>\n",
                            "      <td>2,007.00</td>\n",
                            "      <td>2,004.00</td>\n",
                            "      <td>1.00</td>\n",
                            "      <td>1.00</td>\n",
                            "    </tr>\n",
                            "    <tr>\n",
                            "      <th>75%</th>\n",
                            "      <td>527,210.00</td>\n",
                            "      <td>11.00</td>\n",
                            "      <td>2007-01-01 00:00:00</td>\n",
                            "      <td>2006-01-01 00:00:00</td>\n",
                            "      <td>-1.00</td>\n",
                            "      <td>2,007.00</td>\n",
                            "      <td>2,006.00</td>\n",
                            "      <td>7.00</td>\n",
                            "      <td>1.00</td>\n",
                            "    </tr>\n",
                            "    <tr>\n",
                            "      <th>max</th>\n",
                            "      <td>532,290.00</td>\n",
                            "      <td>15.00</td>\n",
                            "      <td>2023-03-30 00:00:00</td>\n",
                            "      <td>2018-11-05 00:00:00</td>\n",
                            "      <td>-0.00</td>\n",
                            "      <td>2,023.00</td>\n",
                            "      <td>2,018.00</td>\n",
                            "      <td>12.00</td>\n",
                            "      <td>12.00</td>\n",
                            "    </tr>\n",
                            "    <tr>\n",
                            "      <th>std</th>\n",
                            "      <td>105,581.73</td>\n",
                            "      <td>4.48</td>\n",
                            "      <td>NaN</td>\n",
                            "      <td>NaN</td>\n",
                            "      <td>5.05</td>\n",
                            "      <td>3.35</td>\n",
                            "      <td>5.92</td>\n",
                            "      <td>3.93</td>\n",
                            "      <td>2.33</td>\n",
                            "    </tr>\n",
                            "  </tbody>\n",
                            "</table>\n",
                            "</div>"
                        ],
                        "text/plain": [
                            "           NAICS  COUNCIL DISTRICT            LOCATION START DATE  \\\n",
                            "count       7.00            378.00                            378   \n",
                            "mean  465,111.43              7.46  2007-04-24 09:27:37.142857216   \n",
                            "min   238,990.00              0.00            1984-02-09 00:00:00   \n",
                            "25%   453,990.00              4.00            2007-01-01 00:00:00   \n",
                            "50%   522,100.00              9.00            2007-01-01 00:00:00   \n",
                            "75%   527,210.00             11.00            2007-01-01 00:00:00   \n",
                            "max   532,290.00             15.00            2023-03-30 00:00:00   \n",
                            "std   105,581.73              4.48                            NaN   \n",
                            "\n",
                            "                   LOCATION END DATE    AGE  YEAR START  YEAR END  MONTH END  \\\n",
                            "count                            378 378.00      378.00    378.00     378.00   \n",
                            "mean   2003-07-21 10:36:11.428571392  -3.76    2,007.23  2,003.28       4.07   \n",
                            "min              1970-09-15 00:00:00 -40.00    1,984.00  1,970.00       1.00   \n",
                            "25%              2002-01-01 00:00:00  -5.00    2,007.00  2,002.00       1.00   \n",
                            "50%              2004-01-01 00:00:00  -3.00    2,007.00  2,004.00       1.00   \n",
                            "75%              2006-01-01 00:00:00  -1.00    2,007.00  2,006.00       7.00   \n",
                            "max              2018-11-05 00:00:00  -0.00    2,023.00  2,018.00      12.00   \n",
                            "std                              NaN   5.05        3.35      5.92       3.93   \n",
                            "\n",
                            "       MONTH START  \n",
                            "count       378.00  \n",
                            "mean          1.88  \n",
                            "min           1.00  \n",
                            "25%           1.00  \n",
                            "50%           1.00  \n",
                            "75%           1.00  \n",
                            "max          12.00  \n",
                            "std           2.33  "
                        ]
                    },
                    "execution_count": 30,
                    "metadata": {},
                    "output_type": "execute_result"
                }
            ],
            "source": [
                "angeles_error_fecha.describe()"
            ]
        },
        {
            "cell_type": "code",
            "execution_count": 33,
            "metadata": {},
            "outputs": [
                {
                    "data": {
                        "text/html": [
                            "<div>\n",
                            "<style scoped>\n",
                            "    .dataframe tbody tr th:only-of-type {\n",
                            "        vertical-align: middle;\n",
                            "    }\n",
                            "\n",
                            "    .dataframe tbody tr th {\n",
                            "        vertical-align: top;\n",
                            "    }\n",
                            "\n",
                            "    .dataframe thead th {\n",
                            "        text-align: right;\n",
                            "    }\n",
                            "</style>\n",
                            "<table border=\"1\" class=\"dataframe\">\n",
                            "  <thead>\n",
                            "    <tr style=\"text-align: right;\">\n",
                            "      <th></th>\n",
                            "      <th>LOCATION ACCOUNT #</th>\n",
                            "      <th>BUSINESS NAME</th>\n",
                            "      <th>DBA NAME</th>\n",
                            "      <th>STREET ADDRESS</th>\n",
                            "      <th>CITY</th>\n",
                            "      <th>ZIP CODE</th>\n",
                            "      <th>LOCATION DESCRIPTION</th>\n",
                            "      <th>MAILING ADDRESS</th>\n",
                            "      <th>MAILING CITY</th>\n",
                            "      <th>MAILING ZIP CODE</th>\n",
                            "      <th>...</th>\n",
                            "      <th>PRIMARY NAICS DESCRIPTION</th>\n",
                            "      <th>COUNCIL DISTRICT</th>\n",
                            "      <th>LOCATION START DATE</th>\n",
                            "      <th>LOCATION END DATE</th>\n",
                            "      <th>LOCATION</th>\n",
                            "      <th>AGE</th>\n",
                            "      <th>YEAR START</th>\n",
                            "      <th>YEAR END</th>\n",
                            "      <th>MONTH END</th>\n",
                            "      <th>MONTH START</th>\n",
                            "    </tr>\n",
                            "  </thead>\n",
                            "  <tbody>\n",
                            "    <tr>\n",
                            "      <th>6833</th>\n",
                            "      <td>0002237554-0001-6</td>\n",
                            "      <td>JOSEPH TAKI EDEN</td>\n",
                            "      <td>NaN</td>\n",
                            "      <td>NaN</td>\n",
                            "      <td>LOS ANGELES</td>\n",
                            "      <td>-</td>\n",
                            "      <td>NaN</td>\n",
                            "      <td>NaN</td>\n",
                            "      <td>NaN</td>\n",
                            "      <td>NaN</td>\n",
                            "      <td>...</td>\n",
                            "      <td>NaN</td>\n",
                            "      <td>0</td>\n",
                            "      <td>2007-01-01</td>\n",
                            "      <td>2002-01-01</td>\n",
                            "      <td>NaN</td>\n",
                            "      <td>-5.00</td>\n",
                            "      <td>2,007.00</td>\n",
                            "      <td>2,002.00</td>\n",
                            "      <td>1.00</td>\n",
                            "      <td>1.00</td>\n",
                            "    </tr>\n",
                            "    <tr>\n",
                            "      <th>6840</th>\n",
                            "      <td>0002238391-0001-8</td>\n",
                            "      <td>KEVIN MAX HAUB</td>\n",
                            "      <td>NaN</td>\n",
                            "      <td>NaN</td>\n",
                            "      <td>LOS ANGELES</td>\n",
                            "      <td>-</td>\n",
                            "      <td>NaN</td>\n",
                            "      <td>NaN</td>\n",
                            "      <td>NaN</td>\n",
                            "      <td>NaN</td>\n",
                            "      <td>...</td>\n",
                            "      <td>NaN</td>\n",
                            "      <td>0</td>\n",
                            "      <td>2007-01-01</td>\n",
                            "      <td>2002-01-01</td>\n",
                            "      <td>NaN</td>\n",
                            "      <td>-5.00</td>\n",
                            "      <td>2,007.00</td>\n",
                            "      <td>2,002.00</td>\n",
                            "      <td>1.00</td>\n",
                            "      <td>1.00</td>\n",
                            "    </tr>\n",
                            "    <tr>\n",
                            "      <th>6846</th>\n",
                            "      <td>0002239287-0001-1</td>\n",
                            "      <td>MICHAEL ANTHONY MARTINEZ</td>\n",
                            "      <td>NaN</td>\n",
                            "      <td>902 15TH PLACE</td>\n",
                            "      <td>LOS ANGELES</td>\n",
                            "      <td>-</td>\n",
                            "      <td>902 15TH</td>\n",
                            "      <td>NaN</td>\n",
                            "      <td>NaN</td>\n",
                            "      <td>NaN</td>\n",
                            "      <td>...</td>\n",
                            "      <td>NaN</td>\n",
                            "      <td>0</td>\n",
                            "      <td>2007-01-01</td>\n",
                            "      <td>2002-01-01</td>\n",
                            "      <td>NaN</td>\n",
                            "      <td>-5.00</td>\n",
                            "      <td>2,007.00</td>\n",
                            "      <td>2,002.00</td>\n",
                            "      <td>1.00</td>\n",
                            "      <td>1.00</td>\n",
                            "    </tr>\n",
                            "    <tr>\n",
                            "      <th>7063</th>\n",
                            "      <td>0002281309-0001-2</td>\n",
                            "      <td>DEPORTES GUADALAJARA</td>\n",
                            "      <td>NaN</td>\n",
                            "      <td>1316 E FLORENCE AVENUE</td>\n",
                            "      <td>LOS ANGELES</td>\n",
                            "      <td>90001-1935</td>\n",
                            "      <td>1316 FLORENCE 90001-1935</td>\n",
                            "      <td>NaN</td>\n",
                            "      <td>NaN</td>\n",
                            "      <td>NaN</td>\n",
                            "      <td>...</td>\n",
                            "      <td>NaN</td>\n",
                            "      <td>0</td>\n",
                            "      <td>2007-01-01</td>\n",
                            "      <td>2002-01-01</td>\n",
                            "      <td>NaN</td>\n",
                            "      <td>-5.00</td>\n",
                            "      <td>2,007.00</td>\n",
                            "      <td>2,002.00</td>\n",
                            "      <td>1.00</td>\n",
                            "      <td>1.00</td>\n",
                            "    </tr>\n",
                            "    <tr>\n",
                            "      <th>7521</th>\n",
                            "      <td>0002375517-0001-1</td>\n",
                            "      <td>ROBERT RICHTER MD</td>\n",
                            "      <td>NaN</td>\n",
                            "      <td>6360 WILSHIRE BLVD SUITE #203</td>\n",
                            "      <td>LOS ANGELES</td>\n",
                            "      <td>90048-5606</td>\n",
                            "      <td>6360 WILSHIRE 90048-5606</td>\n",
                            "      <td>NaN</td>\n",
                            "      <td>NaN</td>\n",
                            "      <td>NaN</td>\n",
                            "      <td>...</td>\n",
                            "      <td>NaN</td>\n",
                            "      <td>5</td>\n",
                            "      <td>2007-01-01</td>\n",
                            "      <td>2005-01-01</td>\n",
                            "      <td>NaN</td>\n",
                            "      <td>-2.00</td>\n",
                            "      <td>2,007.00</td>\n",
                            "      <td>2,005.00</td>\n",
                            "      <td>1.00</td>\n",
                            "      <td>1.00</td>\n",
                            "    </tr>\n",
                            "    <tr>\n",
                            "      <th>...</th>\n",
                            "      <td>...</td>\n",
                            "      <td>...</td>\n",
                            "      <td>...</td>\n",
                            "      <td>...</td>\n",
                            "      <td>...</td>\n",
                            "      <td>...</td>\n",
                            "      <td>...</td>\n",
                            "      <td>...</td>\n",
                            "      <td>...</td>\n",
                            "      <td>...</td>\n",
                            "      <td>...</td>\n",
                            "      <td>...</td>\n",
                            "      <td>...</td>\n",
                            "      <td>...</td>\n",
                            "      <td>...</td>\n",
                            "      <td>...</td>\n",
                            "      <td>...</td>\n",
                            "      <td>...</td>\n",
                            "      <td>...</td>\n",
                            "      <td>...</td>\n",
                            "      <td>...</td>\n",
                            "    </tr>\n",
                            "    <tr>\n",
                            "      <th>1318142</th>\n",
                            "      <td>0002397502-0001-2</td>\n",
                            "      <td>TIERRA LOAN CENTER INC</td>\n",
                            "      <td>NaN</td>\n",
                            "      <td>6345 BALBOA BLVD UNIT #231</td>\n",
                            "      <td>LOS ANGELES</td>\n",
                            "      <td>-</td>\n",
                            "      <td>6345 BALBOA</td>\n",
                            "      <td>NaN</td>\n",
                            "      <td>NaN</td>\n",
                            "      <td>NaN</td>\n",
                            "      <td>...</td>\n",
                            "      <td>NaN</td>\n",
                            "      <td>0</td>\n",
                            "      <td>2007-01-01</td>\n",
                            "      <td>2006-06-26</td>\n",
                            "      <td>NaN</td>\n",
                            "      <td>-1.00</td>\n",
                            "      <td>2,007.00</td>\n",
                            "      <td>2,006.00</td>\n",
                            "      <td>6.00</td>\n",
                            "      <td>1.00</td>\n",
                            "    </tr>\n",
                            "    <tr>\n",
                            "      <th>1357343</th>\n",
                            "      <td>0002089482-0001-5</td>\n",
                            "      <td>MAM FINANCIAL</td>\n",
                            "      <td>NaN</td>\n",
                            "      <td>1801 CENTURY PARKS E #2400</td>\n",
                            "      <td>LOS ANGELES</td>\n",
                            "      <td>90067-2326</td>\n",
                            "      <td>1801 CENTURY 90067-2326</td>\n",
                            "      <td>NaN</td>\n",
                            "      <td>NaN</td>\n",
                            "      <td>NaN</td>\n",
                            "      <td>...</td>\n",
                            "      <td>NaN</td>\n",
                            "      <td>5</td>\n",
                            "      <td>2007-01-01</td>\n",
                            "      <td>2002-01-01</td>\n",
                            "      <td>NaN</td>\n",
                            "      <td>-5.00</td>\n",
                            "      <td>2,007.00</td>\n",
                            "      <td>2,002.00</td>\n",
                            "      <td>1.00</td>\n",
                            "      <td>1.00</td>\n",
                            "    </tr>\n",
                            "    <tr>\n",
                            "      <th>1382261</th>\n",
                            "      <td>0002164709-0001-9</td>\n",
                            "      <td>RENESANS DEVELOPMENT CORP</td>\n",
                            "      <td>NaN</td>\n",
                            "      <td>1855 INDUSTRIAL STREET UNIT #312</td>\n",
                            "      <td>LOS ANGELES</td>\n",
                            "      <td>90021-1256</td>\n",
                            "      <td>1855 INDUSTRIAL 90021-1256</td>\n",
                            "      <td>NaN</td>\n",
                            "      <td>NaN</td>\n",
                            "      <td>NaN</td>\n",
                            "      <td>...</td>\n",
                            "      <td>NaN</td>\n",
                            "      <td>14</td>\n",
                            "      <td>2007-01-01</td>\n",
                            "      <td>2005-01-10</td>\n",
                            "      <td>NaN</td>\n",
                            "      <td>-2.00</td>\n",
                            "      <td>2,007.00</td>\n",
                            "      <td>2,005.00</td>\n",
                            "      <td>1.00</td>\n",
                            "      <td>1.00</td>\n",
                            "    </tr>\n",
                            "    <tr>\n",
                            "      <th>1596227</th>\n",
                            "      <td>0002470968-0001-6</td>\n",
                            "      <td>ALDRICH LAW GROUP LLC</td>\n",
                            "      <td>NaN</td>\n",
                            "      <td>1800 CENTURY PARKS E #600</td>\n",
                            "      <td>LOS ANGELES</td>\n",
                            "      <td>90067-1508</td>\n",
                            "      <td>1800 CENTURY 90067-1508</td>\n",
                            "      <td>NaN</td>\n",
                            "      <td>NaN</td>\n",
                            "      <td>NaN</td>\n",
                            "      <td>...</td>\n",
                            "      <td>NaN</td>\n",
                            "      <td>5</td>\n",
                            "      <td>2007-01-01</td>\n",
                            "      <td>2001-01-01</td>\n",
                            "      <td>NaN</td>\n",
                            "      <td>-6.00</td>\n",
                            "      <td>2,007.00</td>\n",
                            "      <td>2,001.00</td>\n",
                            "      <td>1.00</td>\n",
                            "      <td>1.00</td>\n",
                            "    </tr>\n",
                            "    <tr>\n",
                            "      <th>1605021</th>\n",
                            "      <td>0002100146-0001-3</td>\n",
                            "      <td>BIG 5 CORP</td>\n",
                            "      <td>NaN</td>\n",
                            "      <td>3730 CRENSHAW BLVD</td>\n",
                            "      <td>LOS ANGELES</td>\n",
                            "      <td>90016-5804</td>\n",
                            "      <td>3730 CRENSHAW 90016-5804</td>\n",
                            "      <td>NaN</td>\n",
                            "      <td>NaN</td>\n",
                            "      <td>NaN</td>\n",
                            "      <td>...</td>\n",
                            "      <td>NaN</td>\n",
                            "      <td>10</td>\n",
                            "      <td>2007-01-01</td>\n",
                            "      <td>2006-03-09</td>\n",
                            "      <td>NaN</td>\n",
                            "      <td>-1.00</td>\n",
                            "      <td>2,007.00</td>\n",
                            "      <td>2,006.00</td>\n",
                            "      <td>3.00</td>\n",
                            "      <td>1.00</td>\n",
                            "    </tr>\n",
                            "  </tbody>\n",
                            "</table>\n",
                            "<p>275 rows × 21 columns</p>\n",
                            "</div>"
                        ],
                        "text/plain": [
                            "        LOCATION ACCOUNT #              BUSINESS NAME DBA NAME  \\\n",
                            "6833     0002237554-0001-6           JOSEPH TAKI EDEN      NaN   \n",
                            "6840     0002238391-0001-8             KEVIN MAX HAUB      NaN   \n",
                            "6846     0002239287-0001-1   MICHAEL ANTHONY MARTINEZ      NaN   \n",
                            "7063     0002281309-0001-2       DEPORTES GUADALAJARA      NaN   \n",
                            "7521     0002375517-0001-1          ROBERT RICHTER MD      NaN   \n",
                            "...                    ...                        ...      ...   \n",
                            "1318142  0002397502-0001-2     TIERRA LOAN CENTER INC      NaN   \n",
                            "1357343  0002089482-0001-5              MAM FINANCIAL      NaN   \n",
                            "1382261  0002164709-0001-9  RENESANS DEVELOPMENT CORP      NaN   \n",
                            "1596227  0002470968-0001-6      ALDRICH LAW GROUP LLC      NaN   \n",
                            "1605021  0002100146-0001-3                 BIG 5 CORP      NaN   \n",
                            "\n",
                            "                           STREET ADDRESS         CITY    ZIP CODE  \\\n",
                            "6833                                  NaN  LOS ANGELES           -   \n",
                            "6840                                  NaN  LOS ANGELES           -   \n",
                            "6846                       902 15TH PLACE  LOS ANGELES           -   \n",
                            "7063               1316 E FLORENCE AVENUE  LOS ANGELES  90001-1935   \n",
                            "7521        6360 WILSHIRE BLVD SUITE #203  LOS ANGELES  90048-5606   \n",
                            "...                                   ...          ...         ...   \n",
                            "1318142        6345 BALBOA BLVD UNIT #231  LOS ANGELES           -   \n",
                            "1357343        1801 CENTURY PARKS E #2400  LOS ANGELES  90067-2326   \n",
                            "1382261  1855 INDUSTRIAL STREET UNIT #312  LOS ANGELES  90021-1256   \n",
                            "1596227         1800 CENTURY PARKS E #600  LOS ANGELES  90067-1508   \n",
                            "1605021                3730 CRENSHAW BLVD  LOS ANGELES  90016-5804   \n",
                            "\n",
                            "               LOCATION DESCRIPTION MAILING ADDRESS MAILING CITY  \\\n",
                            "6833                            NaN             NaN          NaN   \n",
                            "6840                            NaN             NaN          NaN   \n",
                            "6846                       902 15TH             NaN          NaN   \n",
                            "7063       1316 FLORENCE 90001-1935             NaN          NaN   \n",
                            "7521       6360 WILSHIRE 90048-5606             NaN          NaN   \n",
                            "...                             ...             ...          ...   \n",
                            "1318142                 6345 BALBOA             NaN          NaN   \n",
                            "1357343     1801 CENTURY 90067-2326             NaN          NaN   \n",
                            "1382261  1855 INDUSTRIAL 90021-1256             NaN          NaN   \n",
                            "1596227     1800 CENTURY 90067-1508             NaN          NaN   \n",
                            "1605021    3730 CRENSHAW 90016-5804             NaN          NaN   \n",
                            "\n",
                            "        MAILING ZIP CODE  ...  PRIMARY NAICS DESCRIPTION COUNCIL DISTRICT  \\\n",
                            "6833                 NaN  ...                        NaN                0   \n",
                            "6840                 NaN  ...                        NaN                0   \n",
                            "6846                 NaN  ...                        NaN                0   \n",
                            "7063                 NaN  ...                        NaN                0   \n",
                            "7521                 NaN  ...                        NaN                5   \n",
                            "...                  ...  ...                        ...              ...   \n",
                            "1318142              NaN  ...                        NaN                0   \n",
                            "1357343              NaN  ...                        NaN                5   \n",
                            "1382261              NaN  ...                        NaN               14   \n",
                            "1596227              NaN  ...                        NaN                5   \n",
                            "1605021              NaN  ...                        NaN               10   \n",
                            "\n",
                            "         LOCATION START DATE LOCATION END DATE LOCATION   AGE  YEAR START  \\\n",
                            "6833              2007-01-01        2002-01-01      NaN -5.00    2,007.00   \n",
                            "6840              2007-01-01        2002-01-01      NaN -5.00    2,007.00   \n",
                            "6846              2007-01-01        2002-01-01      NaN -5.00    2,007.00   \n",
                            "7063              2007-01-01        2002-01-01      NaN -5.00    2,007.00   \n",
                            "7521              2007-01-01        2005-01-01      NaN -2.00    2,007.00   \n",
                            "...                      ...               ...      ...   ...         ...   \n",
                            "1318142           2007-01-01        2006-06-26      NaN -1.00    2,007.00   \n",
                            "1357343           2007-01-01        2002-01-01      NaN -5.00    2,007.00   \n",
                            "1382261           2007-01-01        2005-01-10      NaN -2.00    2,007.00   \n",
                            "1596227           2007-01-01        2001-01-01      NaN -6.00    2,007.00   \n",
                            "1605021           2007-01-01        2006-03-09      NaN -1.00    2,007.00   \n",
                            "\n",
                            "         YEAR END  MONTH END  MONTH START  \n",
                            "6833     2,002.00       1.00         1.00  \n",
                            "6840     2,002.00       1.00         1.00  \n",
                            "6846     2,002.00       1.00         1.00  \n",
                            "7063     2,002.00       1.00         1.00  \n",
                            "7521     2,005.00       1.00         1.00  \n",
                            "...           ...        ...          ...  \n",
                            "1318142  2,006.00       6.00         1.00  \n",
                            "1357343  2,002.00       1.00         1.00  \n",
                            "1382261  2,005.00       1.00         1.00  \n",
                            "1596227  2,001.00       1.00         1.00  \n",
                            "1605021  2,006.00       3.00         1.00  \n",
                            "\n",
                            "[275 rows x 21 columns]"
                        ]
                    },
                    "execution_count": 33,
                    "metadata": {},
                    "output_type": "execute_result"
                }
            ],
            "source": [
                "mask = angeles_error_fecha[\"YEAR START\"] == 2007\n",
                "\n",
                "angeles_error_fecha.loc[mask, :]"
            ]
        },
        {
            "cell_type": "code",
            "execution_count": null,
            "metadata": {},
            "outputs": [],
            "source": [
                "angeles_error_fecha.loc[mask, :]"
            ]
        }
    ],
    "metadata": {
        "deepnote_full_width": false,
        "deepnote_notebook_id": "bebc20fe2f1440b18ea3464ec7118e0d",
        "kernelspec": {
            "display_name": "env",
            "language": "python",
            "name": "python3"
        },
        "language_info": {
            "codemirror_mode": {
                "name": "ipython",
                "version": 3
            },
            "file_extension": ".py",
            "mimetype": "text/x-python",
            "name": "python",
            "nbconvert_exporter": "python",
            "pygments_lexer": "ipython3",
            "version": "3.12.0"
        }
    },
    "nbformat": 4,
    "nbformat_minor": 0
}
