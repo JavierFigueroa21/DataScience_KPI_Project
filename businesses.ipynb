{
 "cells": [
  {
   "cell_type": "code",
   "execution_count": 2,
   "metadata": {},
   "outputs": [],
   "source": [
    "import pandas as pd\n",
    "\n",
    "\n",
    "import matplotlib.pyplot as plt\n",
    "import seaborn as sns"
   ]
  },
  {
   "cell_type": "code",
   "execution_count": 4,
   "metadata": {},
   "outputs": [
    {
     "data": {
      "text/html": [
       "<div>\n",
       "<style scoped>\n",
       "    .dataframe tbody tr th:only-of-type {\n",
       "        vertical-align: middle;\n",
       "    }\n",
       "\n",
       "    .dataframe tbody tr th {\n",
       "        vertical-align: top;\n",
       "    }\n",
       "\n",
       "    .dataframe thead th {\n",
       "        text-align: right;\n",
       "    }\n",
       "</style>\n",
       "<table border=\"1\" class=\"dataframe\">\n",
       "  <thead>\n",
       "    <tr style=\"text-align: right;\">\n",
       "      <th></th>\n",
       "      <th>LOCATION ACCOUNT #</th>\n",
       "      <th>BUSINESS NAME</th>\n",
       "      <th>DBA NAME</th>\n",
       "      <th>STREET ADDRESS</th>\n",
       "      <th>CITY</th>\n",
       "      <th>ZIP CODE</th>\n",
       "      <th>LOCATION DESCRIPTION</th>\n",
       "      <th>MAILING ADDRESS</th>\n",
       "      <th>MAILING CITY</th>\n",
       "      <th>MAILING ZIP CODE</th>\n",
       "      <th>NAICS</th>\n",
       "      <th>PRIMARY NAICS DESCRIPTION</th>\n",
       "      <th>COUNCIL DISTRICT</th>\n",
       "      <th>LOCATION START DATE</th>\n",
       "      <th>LOCATION END DATE</th>\n",
       "      <th>LOCATION</th>\n",
       "    </tr>\n",
       "  </thead>\n",
       "  <tbody>\n",
       "    <tr>\n",
       "      <th>0</th>\n",
       "      <td>0003217523-0001-2</td>\n",
       "      <td>MARIA OFELIA NUNEZ</td>\n",
       "      <td>LA CAMPANA HARDWARE</td>\n",
       "      <td>1017 W 88TH STREET</td>\n",
       "      <td>LOS ANGELES</td>\n",
       "      <td>90044-2119</td>\n",
       "      <td>1017 88TH 90044</td>\n",
       "      <td>1017 W 88TH STREET</td>\n",
       "      <td>LOS ANGELES</td>\n",
       "      <td>90044-2119</td>\n",
       "      <td>444130.0</td>\n",
       "      <td>Hardware stores</td>\n",
       "      <td>0</td>\n",
       "      <td>10/01/2020</td>\n",
       "      <td>NaN</td>\n",
       "      <td>(33.9581, -118.2926)</td>\n",
       "    </tr>\n",
       "    <tr>\n",
       "      <th>1</th>\n",
       "      <td>0003211603-0001-0</td>\n",
       "      <td>ONE STOP HOLISTIC HEALTH LLC</td>\n",
       "      <td>NaN</td>\n",
       "      <td>1506 W MANCHESTER AVENUE</td>\n",
       "      <td>LOS ANGELES</td>\n",
       "      <td>90047-5424</td>\n",
       "      <td>1506 MANCHESTER 90047</td>\n",
       "      <td>1506 W MANCHESTER AVENUE</td>\n",
       "      <td>LOS ANGELES</td>\n",
       "      <td>90047-5424</td>\n",
       "      <td>NaN</td>\n",
       "      <td>NaN</td>\n",
       "      <td>8</td>\n",
       "      <td>09/03/2020</td>\n",
       "      <td>NaN</td>\n",
       "      <td>(33.9597, -118.3028)</td>\n",
       "    </tr>\n",
       "    <tr>\n",
       "      <th>2</th>\n",
       "      <td>0003109317-0001-3</td>\n",
       "      <td>GINA BRADFORD</td>\n",
       "      <td>NaN</td>\n",
       "      <td>7847 CANBY AVENUE</td>\n",
       "      <td>RESEDA</td>\n",
       "      <td>91335-2096</td>\n",
       "      <td>7847 CANBY 91335</td>\n",
       "      <td>7847 CANBY AVENUE</td>\n",
       "      <td>RESEDA</td>\n",
       "      <td>91335-2096</td>\n",
       "      <td>NaN</td>\n",
       "      <td>NaN</td>\n",
       "      <td>4</td>\n",
       "      <td>01/01/2018</td>\n",
       "      <td>NaN</td>\n",
       "      <td>(34.2133, -118.535)</td>\n",
       "    </tr>\n",
       "  </tbody>\n",
       "</table>\n",
       "</div>"
      ],
      "text/plain": [
       "  LOCATION ACCOUNT #                 BUSINESS NAME             DBA NAME  \\\n",
       "0  0003217523-0001-2            MARIA OFELIA NUNEZ  LA CAMPANA HARDWARE   \n",
       "1  0003211603-0001-0  ONE STOP HOLISTIC HEALTH LLC                  NaN   \n",
       "2  0003109317-0001-3                 GINA BRADFORD                  NaN   \n",
       "\n",
       "             STREET ADDRESS         CITY    ZIP CODE   LOCATION DESCRIPTION  \\\n",
       "0        1017 W 88TH STREET  LOS ANGELES  90044-2119        1017 88TH 90044   \n",
       "1  1506 W MANCHESTER AVENUE  LOS ANGELES  90047-5424  1506 MANCHESTER 90047   \n",
       "2         7847 CANBY AVENUE       RESEDA  91335-2096       7847 CANBY 91335   \n",
       "\n",
       "            MAILING ADDRESS MAILING CITY MAILING ZIP CODE     NAICS  \\\n",
       "0        1017 W 88TH STREET  LOS ANGELES       90044-2119  444130.0   \n",
       "1  1506 W MANCHESTER AVENUE  LOS ANGELES       90047-5424       NaN   \n",
       "2         7847 CANBY AVENUE       RESEDA       91335-2096       NaN   \n",
       "\n",
       "  PRIMARY NAICS DESCRIPTION  COUNCIL DISTRICT LOCATION START DATE  \\\n",
       "0           Hardware stores                 0          10/01/2020   \n",
       "1                       NaN                 8          09/03/2020   \n",
       "2                       NaN                 4          01/01/2018   \n",
       "\n",
       "  LOCATION END DATE              LOCATION  \n",
       "0               NaN  (33.9581, -118.2926)  \n",
       "1               NaN  (33.9597, -118.3028)  \n",
       "2               NaN   (34.2133, -118.535)  "
      ]
     },
     "execution_count": 4,
     "metadata": {},
     "output_type": "execute_result"
    }
   ],
   "source": [
    "data = pd.read_csv('./Listing_of_All_Businesses_20250310.csv')\n",
    "data.head(3)"
   ]
  },
  {
   "cell_type": "markdown",
   "metadata": {},
   "source": [
    "# Descripcción "
   ]
  },
  {
   "cell_type": "code",
   "execution_count": 5,
   "metadata": {},
   "outputs": [
    {
     "name": "stdout",
     "output_type": "stream",
     "text": [
      "<class 'pandas.core.frame.DataFrame'>\n",
      "RangeIndex: 1597184 entries, 0 to 1597183\n",
      "Data columns (total 16 columns):\n",
      " #   Column                     Non-Null Count    Dtype  \n",
      "---  ------                     --------------    -----  \n",
      " 0   LOCATION ACCOUNT #         1597184 non-null  object \n",
      " 1   BUSINESS NAME              1597184 non-null  object \n",
      " 2   DBA NAME                   245458 non-null   object \n",
      " 3   STREET ADDRESS             1597082 non-null  object \n",
      " 4   CITY                       1597073 non-null  object \n",
      " 5   ZIP CODE                   1597184 non-null  object \n",
      " 6   LOCATION DESCRIPTION       1597061 non-null  object \n",
      " 7   MAILING ADDRESS            360762 non-null   object \n",
      " 8   MAILING CITY               360772 non-null   object \n",
      " 9   MAILING ZIP CODE           360637 non-null   object \n",
      " 10  NAICS                      624714 non-null   float64\n",
      " 11  PRIMARY NAICS DESCRIPTION  624714 non-null   object \n",
      " 12  COUNCIL DISTRICT           1597184 non-null  int64  \n",
      " 13  LOCATION START DATE        1595627 non-null  object \n",
      " 14  LOCATION END DATE          1003720 non-null  object \n",
      " 15  LOCATION                   668694 non-null   object \n",
      "dtypes: float64(1), int64(1), object(14)\n",
      "memory usage: 195.0+ MB\n"
     ]
    }
   ],
   "source": [
    "data.info()"
   ]
  },
  {
   "cell_type": "code",
   "execution_count": null,
   "metadata": {},
   "outputs": [
    {
     "data": {
      "text/plain": [
       "23957760"
      ]
     },
     "execution_count": 7,
     "metadata": {},
     "output_type": "execute_result"
    }
   ],
   "source": [
    "len(data)"
   ]
  },
  {
   "cell_type": "code",
   "execution_count": null,
   "metadata": {},
   "outputs": [],
   "source": []
  }
 ],
 "metadata": {
  "kernelspec": {
   "display_name": "Python 3",
   "language": "python",
   "name": "python3"
  },
  "language_info": {
   "codemirror_mode": {
    "name": "ipython",
    "version": 3
   },
   "file_extension": ".py",
   "mimetype": "text/x-python",
   "name": "python",
   "nbconvert_exporter": "python",
   "pygments_lexer": "ipython3",
   "version": "3.12.0"
  }
 },
 "nbformat": 4,
 "nbformat_minor": 2
}
