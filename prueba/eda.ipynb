{
 "cells": [
  {
   "cell_type": "markdown",
   "id": "1517338d",
   "metadata": {},
   "source": [
    "# este es un cambio sencillo a la rama"
   ]
  },
  {
   "cell_type": "markdown",
   "id": "5ef800da",
   "metadata": {},
   "source": []
  }
 ],
 "metadata": {
  "language_info": {
   "name": "python"
  }
 },
 "nbformat": 4,
 "nbformat_minor": 5
}
