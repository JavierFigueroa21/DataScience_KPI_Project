{
    "cells": [
        {
            "cell_type": "markdown",
            "metadata": {
                "cell_id": "351c9442c8d546488a459b596ee6a340",
                "deepnote_cell_type": "text-cell-h1",
                "formattedRanges": []
            },
            "source": [
                "# Definición del proyecto de datos"
            ]
        },
        {
            "cell_type": "markdown",
            "metadata": {
                "cell_id": "449a038bf5f842ae8aee64ce029a4fc8",
                "deepnote_cell_type": "text-cell-p",
                "formattedRanges": []
            },
            "source": [
                "Todo este proyecto tiene su base en la obtención de ciertos insights a partir de 3 bases de datos, las cuales tiene como cobertura geográfica el estado de los ángeles de estados unidos, es decir, es un proyecto donde en particular se estudiara las relaciones entre las diferentes bases de datos donde la región a estudiar son los ángeles."
            ]
        },
        {
            "cell_type": "markdown",
            "metadata": {
                "cell_id": "dbf5b5230cea4a899841d7c8301a4713",
                "deepnote_cell_type": "text-cell-bullet",
                "formattedRanges": []
            },
            "source": [
                "- Crimen"
            ]
        },
        {
            "cell_type": "markdown",
            "metadata": {
                "cell_id": "2efd7289248a42ea9d8431d27e8649a9",
                "deepnote_cell_type": "text-cell-bullet",
                "formattedRanges": []
            },
            "source": [
                "- Negocios"
            ]
        },
        {
            "cell_type": "markdown",
            "metadata": {
                "cell_id": "d7fc8b4b480349849150d063f6c707c7",
                "deepnote_cell_type": "text-cell-bullet",
                "formattedRanges": []
            },
            "source": [
                "- Vivienda"
            ]
        },
        {
            "cell_type": "markdown",
            "metadata": {
                "cell_id": "63e5740b8d6344b3a9ca0ede8acde09e",
                "deepnote_cell_type": "text-cell-p",
                "formattedRanges": []
            },
            "source": [
                "El contexto, es simple, trabajamos para el gobierno como alcalde de la ciudad y por tanto, las decisiones que se tomen, deberán de ser tomadas con una perspectiva meramente política, por ello es que los objetivos de este análisis deben de centrarse en la obtención de accionables claros a partir de las relaciones e interacciones encontradas en las bases de datos."
            ]
        },
        {
            "cell_type": "markdown",
            "metadata": {
                "cell_id": "3c954262f8294c88911903c9738af373",
                "deepnote_cell_type": "text-cell-p",
                "formattedRanges": []
            },
            "source": [
                "Los ángeles se dividen en 114 vecindarios, sobre los cuales se deberán de realizar el análisis, es decir, la investigación es a nivel de vecindarios. Por tanto, un punto relevante es evaluar la granularidad de la información en las bases de datos así como preguntas de la siguiente naturaleza"
            ]
        },
        {
            "cell_type": "markdown",
            "metadata": {
                "cell_id": "95676171f31b4bdb912616ed18f2ffb5",
                "deepnote_cell_type": "text-cell-p",
                "formattedRanges": []
            },
            "source": [
                "¿Qué vecindarios tienen una mayor tasa de muerte de negocios?, ¿se relaciona con la tasa de crimen?\n",
                "¿Qué vecindarios tienen la mayor tasa de crimen?, ¿necesitan mayor atención policial?\n",
                "¿Está esto afectando a los precios de las propiedades?  "
            ]
        },
        {
            "cell_type": "code",
            "execution_count": 1,
            "metadata": {
                "cell_id": "55df2bb6d1704451b136b19664296b70",
                "deepnote_cell_type": "code",
                "execution_context_id": "9d19cb3c-9408-45b5-82e7-9cc88f556b14",
                "execution_millis": 1908,
                "execution_start": 1746049888467,
                "source_hash": "e071f5ed"
            },
            "outputs": [],
            "source": [
                "import pandas as pd \n",
                "import numpy as np\n",
                "import json\n",
                "\n",
                "import matplotlib.pyplot as plt\n",
                "import seaborn as sns\n",
                "\n",
                "import geopandas as gpd                # Manejo de datos geoespaciales :contentReference[oaicite:8]{index=8}\n",
                "from shapely.geometry import Point     # Construcción de geometrías puntuales :contentReference[oaicite:9]{index=9}\n",
                "\n",
                "import requests\n",
                "import io\n",
                "from http.client import IncompleteRead\n",
                "\n",
                "from sklearn.neighbors import BallTree\n",
                "\n",
                "import statsmodels.api as sm\n",
                "from statsmodels.stats.weightstats import ttest_ind\n",
                "from statsmodels.stats.oneway import test_scale_oneway\n",
                "from statsmodels.stats.stattools import jarque_bera\n",
                "from statsmodels.stats.nonparametric import rank_compare_2indep"
            ]
        },
        {
            "cell_type": "code",
            "execution_count": 2,
            "metadata": {
                "cell_id": "3f0036e2f2764aab90f140205d9a4084",
                "deepnote_cell_type": "code",
                "execution_context_id": "9d19cb3c-9408-45b5-82e7-9cc88f556b14",
                "execution_millis": 1,
                "execution_start": 1746049890574,
                "source_hash": "a3803a3e"
            },
            "outputs": [],
            "source": [
                "sns.set_style(\"darkgrid\")\n",
                "pd.options.display.float_format = \"{:,.2f}\".format"
            ]
        },
        {
            "cell_type": "code",
            "execution_count": 3,
            "metadata": {
                "cell_id": "7ec8a4a6cb104b8da0907f6a20a94a78",
                "deepnote_cell_type": "code",
                "execution_context_id": "9d19cb3c-9408-45b5-82e7-9cc88f556b14",
                "execution_millis": 1,
                "execution_start": 1746049890644,
                "source_hash": "967d165c"
            },
            "outputs": [],
            "source": [
                "# URLs de descarga\n",
                "crime_url    = \"https://data.lacity.org/api/views/2nrs-mtv8/rows.csv?accessType=DOWNLOAD\"      # Crimen 2020–Presente :contentReference[oaicite:10]{index=10}\n",
                "business_url = \"https://data.lacity.org/api/views/r4uk-afju/rows.csv?accessType=DOWNLOAD\"     # Listado de negocios :contentReference[oaicite:11]{index=11}\n",
                "neighborhoods_url = \"https://data.lacity.org/api/views/2nrs-mtv8/rows.csv?accessType=DOWNLOAD\" # Vecindarios :contentReference[oaicite:12]{index=12} #https://geohub.lacity.org/datasets/d6c55385a0e749519f238b77135eafac_0.geojson\n",
                "# zhvi_url     = \"~/work/Neighborhood_zhvi.csv\"\n",
                "zhvi_url     = \"./resources/Neighborhood_zhvi.csv\"# ZHVI mensual por vecindario :contentReference[oaicite:12]{index=12}\n",
                "areas_url    = \"https://geohub.lacity.org/datasets/691805703915458da4b35d8088f29501_0.geojson\" # Área por vecindario :contentReference[oaicite:13]{index=13}\n",
                "bounds_url   = \"https://geohub.lacity.org/datasets/d6c55385a0e749519f238b77135eafac_0.geojson\" # Límites de vecindario :contentReference[oaicite:14]{index=14}\n",
                "census_url   = \"https://data.lacity.org/api/views/nwj3-ufba/rows.csv?accessType=DOWNLOAD\"      # Censo 2010 por consejo :contentReference[oaicite:15]{index=15}\n"
            ]
        },
        {
            "cell_type": "code",
            "execution_count": 4,
            "metadata": {
                "cell_id": "e644b9efe3bd4a40982cd2710c6786c0",
                "deepnote_cell_type": "code",
                "execution_context_id": "9d19cb3c-9408-45b5-82e7-9cc88f556b14",
                "execution_millis": 1,
                "execution_start": 1746049890704,
                "source_hash": "cc0cccfc"
            },
            "outputs": [],
            "source": [
                "def fetch_csv_stream(url: str, timeout: int = 60) -> io.StringIO:\n",
                "    \"\"\"\n",
                "    Descarga un CSV por streaming.  \n",
                "    En caso de IncompleteRead, reutiliza los bytes parciales descargados.\n",
                "    \"\"\"\n",
                "    try:\n",
                "        resp = requests.get(url, stream=True, timeout=timeout)\n",
                "        resp.raise_for_status()\n",
                "        # Leer todo el texto (posible IncompleteRead aquí)\n",
                "        text = resp.text\n",
                "    except IncompleteRead as e:\n",
                "        # e.partial es un bytes con lo descargado antes de la excepción\n",
                "        print('Incompleto:', e.partial)\n",
                "        text = e.partial.decode('utf-8', errors='replace')\n",
                "    return io.StringIO(text)"
            ]
        },
        {
            "cell_type": "markdown",
            "metadata": {
                "cell_id": "7f2688880bef4abb9104c751e639266a",
                "deepnote_cell_type": "text-cell-h1",
                "formattedRanges": []
            },
            "source": [
                "# Crimen"
            ]
        },
        {
            "cell_type": "markdown",
            "metadata": {
                "cell_id": "24784c4ca12645d18c46ce9c0875f96e",
                "deepnote_cell_type": "text-cell-h2",
                "formattedRanges": []
            },
            "source": [
                "## Definición de requerimientos de datos"
            ]
        },
        {
            "cell_type": "markdown",
            "metadata": {
                "cell_id": "b8bee3b350cc49209493fe69be0642e3",
                "deepnote_cell_type": "markdown"
            },
            "source": [
                "En este primer paso se abordar el tratamiento de los datos que corresponden al crimen."
            ]
        },
        {
            "cell_type": "markdown",
            "metadata": {
                "cell_id": "204c26a5c1e841a4a0b5db0ecaaaa9fe",
                "deepnote_cell_type": "text-cell-p",
                "formattedRanges": []
            },
            "source": [
                "El primer paso para abordar el tratamiento de los datos que corresponden al crimen es comenzar por la definición de los requerimientos de datos. Este paso, se abordarán los temas relacionados con las fuentes, variables y objetivos de negocio para el análisis, estableciendo criterios de calidad y formatos esperados "
            ]
        },
        {
            "cell_type": "markdown",
            "metadata": {
                "cell_id": "cc13abcc914f4d6c8e8d3497d7eb642c",
                "deepnote_cell_type": "markdown"
            },
            "source": [
                "| Campo             | Descripción                                                                                                 |\n",
                "|-------------------|-------------------------------------------------------------------------------------------------------------|\n",
                "| **DR_NO**         | Número de expediente, formado por 2 dígitos de año + código de área + dígitos secuenciales                  |\n",
                "| **Date Rptd**     | Fecha en la que se reportó el incidente al LAPD (MM/DD/YYYY)                                                |\n",
                "| **DATE OCC**      | Fecha en que ocurrió el incidente (MM/DD/YYYY)                                                              |\n",
                "| **TIME OCC**      | Hora de ocurrencia, en formato militar (24 h)                                                               |\n",
                "| **AREA**          | Código de área (1–21) que identifica la estación comunitaria                                                |\n",
                "| **AREA NAME**     | Nombre de la estación (“77th Street”, “Central”, etc.)                                                      |\n",
                "| **Rpt Dist No**   | Número de distrito, subdivisión numérica dentro de cada área para análisis estadístico                       |\n",
                "| **Part 1‑2**      | Indica si el delito es UCR Part I (crímenes más graves) o Part II                                            |\n",
                "| **Crm Cd**        | Código de delito, código numérico principal asignado al incidente                                             |\n",
                "| **Crm Cd Desc**   | Descripción textual del delito (`Crm Cd`)                                                                    |\n",
                "| **MOCodes**       | Modus operandi: lista de códigos que describen comportamientos del sospechoso                                 |\n",
                "| **Vict Age**      | Edad de la víctima, en años                                                                                  |\n",
                "| **Vict Sex**      | Sexo de la víctima: M=Masculino, F=Femenino, X=Desconocido                                                   |\n",
                "| **Vict Descent**  | Ascendencia/etnicidad de la víctima (H=Hispano, B=Negro, W=Blanco, A=Asiático, etc.)                         |\n",
                "| **Premis Cd**     | Código de la ubicación (tipo de inmueble, vehículo o lugar)                                                  |\n",
                "| **Premise Desc**  | Descripción de la ubicación (`Premis Cd`)                                                                    |\n",
                "| **Weapon Used Cd**| Código del arma o instrumento utilizado                                                                       |\n",
                "| **Weapon Desc**   | Descripción del arma (`Weapon Used Cd`)                                                                      |\n",
                "| **Status**        | Estado del caso (p. ej. IC=In Commission, CA=Cleared by Arrest, etc.)                                         |\n",
                "| **Status Desc**   | Descripción del código de estado (`Status`)                                                                  |\n",
                "| **Crm Cd 1**      | Delito principal (más grave) del incidente                                                                   |\n",
                "| **Crm Cd 2**      | Delito secundario 1 (si aplica)                                                                              |\n",
                "| **Crm Cd 3**      | Delito secundario 2 (si aplica)                                                                              |\n",
                "| **Crm Cd 4**      | Delito secundario 3 (si aplica)                                                                              |\n",
                "| **LOCATION**      | Ubicación aproximada (número de manzana redondeado al centenar más cercano)                                  |\n",
                "| **Cross Street**  | Calle transversal más cercana al punto de `LOCATION`                                                         |\n",
                "| **LAT**           | Latitud en coordenadas geográficas (WGS 84) del punto del incidente                                           |\n",
                "| **LON**           | Longitud en coordenadas geográficas (WGS 84) del punto del incidente                                          |\n"
            ]
        },
        {
            "cell_type": "code",
            "execution_count": 19,
            "metadata": {
                "cell_id": "f71ee604762c4cc68afc9c778ae5e47e",
                "deepnote_cell_type": "code",
                "execution_context_id": "422a9cce-12a0-4da5-8c62-a2687148193d",
                "execution_millis": 53378,
                "execution_start": 1745532620039,
                "source_hash": "686fc350"
            },
            "outputs": [],
            "source": [
                "crime_buffer = fetch_csv_stream(crime_url)\n",
                "\n",
                "raw_df = pd.read_csv(crime_buffer, low_memory=False) \n",
                "\n",
                "del crime_buffer"
            ]
        },
        {
            "cell_type": "code",
            "execution_count": 22,
            "metadata": {
                "cell_id": "b60931674c2e44ad907967f8e0abc581",
                "deepnote_cell_type": "code",
                "execution_context_id": "422a9cce-12a0-4da5-8c62-a2687148193d",
                "execution_millis": 145,
                "execution_start": 1745532678041,
                "source_hash": "11a0bfa6"
            },
            "outputs": [],
            "source": [
                "raw_df[\"Date Rptd\"] = pd.to_datetime(raw_df[\"Date Rptd\"], format=\"%m/%d/%Y %I:%M:%S %p\", errors=\"raise\")\n",
                "raw_df[\"DATE OCC\"] = pd.to_datetime(raw_df[\"DATE OCC\"], format=\"%m/%d/%Y %I:%M:%S %p\", errors=\"raise\")"
            ]
        },
        {
            "cell_type": "code",
            "execution_count": 25,
            "metadata": {
                "cell_id": "9ee8bc4f740b4a58a97e3ec4c42238ba",
                "deepnote_cell_type": "code",
                "execution_context_id": "422a9cce-12a0-4da5-8c62-a2687148193d",
                "execution_millis": 1,
                "execution_start": 1745532678634,
                "source_hash": "7185e462"
            },
            "outputs": [
                {
                    "name": "stdout",
                    "output_type": "stream",
                    "text": [
                        "['DR_NO', 'Date Rptd', 'DATE OCC', 'TIME OCC', 'AREA', 'AREA NAME', 'Rpt Dist No', 'Part 1-2', 'Crm Cd', 'Crm Cd Desc', 'Mocodes', 'Vict Age', 'Vict Sex', 'Vict Descent', 'Premis Cd', 'Premis Desc', 'Weapon Used Cd', 'Weapon Desc', 'Status', 'Status Desc', 'Crm Cd 1', 'Crm Cd 2', 'Crm Cd 3', 'Crm Cd 4', 'LOCATION', 'Cross Street', 'LAT', 'LON']\n"
                    ]
                }
            ],
            "source": [
                "raw_df.columns = raw_df.columns.str.strip()\n",
                "\n",
                "# Mostrar las primeras columnas para verificar nombres exactos\n",
                "print(raw_df.columns.tolist())"
            ]
        },
        {
            "cell_type": "code",
            "execution_count": 19,
            "metadata": {
                "cell_id": "3ada0cdb70444698a345dc99a77ed7fb",
                "deepnote_cell_type": "code",
                "execution_context_id": "77f15c8a-e8e1-47fa-9409-61faacd12b0a",
                "execution_millis": 229,
                "execution_start": 1745530857730,
                "source_hash": "ace2ab84"
            },
            "outputs": [
                {
                    "name": "stdout",
                    "output_type": "stream",
                    "text": [
                        "<class 'pandas.core.frame.DataFrame'>\n",
                        "RangeIndex: 1005199 entries, 0 to 1005198\n",
                        "Data columns (total 28 columns):\n",
                        " #   Column          Non-Null Count    Dtype         \n",
                        "---  ------          --------------    -----         \n",
                        " 0   DR_NO           1005199 non-null  int64         \n",
                        " 1   Date Rptd       1005199 non-null  datetime64[ns]\n",
                        " 2   DATE OCC        1005199 non-null  datetime64[ns]\n",
                        " 3   TIME OCC        1005199 non-null  int64         \n",
                        " 4   AREA            1005199 non-null  int64         \n",
                        " 5   AREA NAME       1005199 non-null  object        \n",
                        " 6   Rpt Dist No     1005199 non-null  int64         \n",
                        " 7   Part 1-2        1005199 non-null  int64         \n",
                        " 8   Crm Cd          1005199 non-null  int64         \n",
                        " 9   Crm Cd Desc     1005199 non-null  object        \n",
                        " 10  Mocodes         853440 non-null   object        \n",
                        " 11  Vict Age        1005199 non-null  int64         \n",
                        " 12  Vict Sex        860418 non-null   object        \n",
                        " 13  Vict Descent    860406 non-null   object        \n",
                        " 14  Premis Cd       1005183 non-null  float64       \n",
                        " 15  Premis Desc     1004611 non-null  object        \n",
                        " 16  Weapon Used Cd  327282 non-null   float64       \n",
                        " 17  Weapon Desc     327282 non-null   object        \n",
                        " 18  Status          1005198 non-null  object        \n",
                        " 19  Status Desc     1005199 non-null  object        \n",
                        " 20  Crm Cd 1        1005188 non-null  float64       \n",
                        " 21  Crm Cd 2        69159 non-null    float64       \n",
                        " 22  Crm Cd 3        2314 non-null     float64       \n",
                        " 23  Crm Cd 4        64 non-null       float64       \n",
                        " 24  LOCATION        1005199 non-null  object        \n",
                        " 25  Cross Street    154244 non-null   object        \n",
                        " 26  LAT             1005199 non-null  float64       \n",
                        " 27  LON             1005199 non-null  float64       \n",
                        "dtypes: datetime64[ns](2), float64(8), int64(7), object(11)\n",
                        "memory usage: 214.7+ MB\n"
                    ]
                }
            ],
            "source": [
                "raw_df.info()"
            ]
        },
        {
            "cell_type": "code",
            "execution_count": 22,
            "metadata": {
                "cell_id": "b73d9f76b5b3488099a31b08b5ffecf7",
                "deepnote_cell_type": "code",
                "execution_context_id": "77f15c8a-e8e1-47fa-9409-61faacd12b0a",
                "execution_millis": 243,
                "execution_start": 1745530862600,
                "source_hash": "b6b693e6"
            },
            "outputs": [
                {
                    "data": {
                        "text/plain": [
                            "DR_NO            0.00\n",
                            "Date Rptd        0.00\n",
                            "DATE OCC         0.00\n",
                            "TIME OCC         0.00\n",
                            "AREA             0.00\n",
                            "AREA NAME        0.00\n",
                            "Rpt Dist No      0.00\n",
                            "Part 1-2         0.00\n",
                            "Crm Cd           0.00\n",
                            "Crm Cd Desc      0.00\n",
                            "Mocodes          0.15\n",
                            "Vict Age         0.00\n",
                            "Vict Sex         0.14\n",
                            "Vict Descent     0.14\n",
                            "Premis Cd        0.00\n",
                            "Premis Desc      0.00\n",
                            "Weapon Used Cd   0.67\n",
                            "Weapon Desc      0.67\n",
                            "Status           0.00\n",
                            "Status Desc      0.00\n",
                            "Crm Cd 1         0.00\n",
                            "Crm Cd 2         0.93\n",
                            "Crm Cd 3         1.00\n",
                            "Crm Cd 4         1.00\n",
                            "LOCATION         0.00\n",
                            "Cross Street     0.85\n",
                            "LAT              0.00\n",
                            "LON              0.00\n",
                            "dtype: float64"
                        ]
                    },
                    "execution_count": 22,
                    "metadata": {},
                    "output_type": "execute_result"
                }
            ],
            "source": [
                "raw_df.isnull().sum()/len(raw_df)"
            ]
        },
        {
            "cell_type": "markdown",
            "metadata": {
                "cell_id": "847b9238effe4e95bffb8b5a9673015a",
                "deepnote_cell_type": "text-cell-h2",
                "formattedRanges": []
            },
            "source": [
                "## Perfilado de los datos"
            ]
        },
        {
            "cell_type": "code",
            "execution_count": 28,
            "metadata": {
                "cell_id": "efbbba2c277d4220857a4ea09661b3d9",
                "deepnote_cell_type": "code",
                "execution_context_id": "422a9cce-12a0-4da5-8c62-a2687148193d",
                "execution_millis": 1,
                "execution_start": 1745532693644,
                "source_hash": "331df152"
            },
            "outputs": [
                {
                    "data": {
                        "text/plain": [
                            "(Timestamp('2020-01-01 00:00:00'), Timestamp('2025-04-01 00:00:00'))"
                        ]
                    },
                    "execution_count": 28,
                    "metadata": {},
                    "output_type": "execute_result"
                }
            ],
            "source": [
                "raw_df[\"DATE OCC\"].min(), raw_df[\"DATE OCC\"].max()"
            ]
        },
        {
            "cell_type": "code",
            "execution_count": 31,
            "metadata": {
                "cell_id": "32fdcb52b09c4fa787a579f88fe6b6aa",
                "deepnote_cell_type": "code",
                "execution_context_id": "422a9cce-12a0-4da5-8c62-a2687148193d",
                "execution_millis": 1,
                "execution_start": 1745532694492,
                "source_hash": "52c0bfd2"
            },
            "outputs": [
                {
                    "data": {
                        "text/plain": [
                            "21"
                        ]
                    },
                    "execution_count": 31,
                    "metadata": {},
                    "output_type": "execute_result"
                }
            ],
            "source": [
                "raw_df[\"AREA\"].value_counts().index.max()"
            ]
        },
        {
            "cell_type": "code",
            "execution_count": 34,
            "metadata": {
                "cell_id": "9631c931fee94619b0c0af9f50ec35d0",
                "deepnote_cell_type": "code",
                "execution_context_id": "422a9cce-12a0-4da5-8c62-a2687148193d",
                "execution_millis": 42,
                "execution_start": 1745532698095,
                "source_hash": "f13be7b8"
            },
            "outputs": [
                {
                    "data": {
                        "text/plain": [
                            "AREA\n",
                            "1     69673\n",
                            "2     46826\n",
                            "3     57512\n",
                            "4     37097\n",
                            "5     41462\n",
                            "6     52430\n",
                            "7     48240\n",
                            "8     45731\n",
                            "9     42883\n",
                            "10    42157\n",
                            "11    42962\n",
                            "12    61762\n",
                            "13    49181\n",
                            "14    59521\n",
                            "15    51107\n",
                            "16    33136\n",
                            "17    41766\n",
                            "18    49941\n",
                            "19    40365\n",
                            "20    50071\n",
                            "21    41376\n",
                            "Name: AREA NAME, dtype: int64"
                        ]
                    },
                    "execution_count": 34,
                    "metadata": {},
                    "output_type": "execute_result"
                }
            ],
            "source": [
                "group_by_area = raw_df.groupby(\"AREA\")[\"AREA NAME\"].count()\n",
                "group_by_area"
            ]
        }
    ],
    "metadata": {
        "deepnote_full_width": false,
        "deepnote_notebook_id": "bebc20fe2f1440b18ea3464ec7118e0d",
        "kernelspec": {
            "display_name": "Python 3",
            "language": "python",
            "name": "python3"
        },
        "language_info": {
            "codemirror_mode": {
                "name": "ipython",
                "version": 3
            },
            "file_extension": ".py",
            "mimetype": "text/x-python",
            "name": "python",
            "nbconvert_exporter": "python",
            "pygments_lexer": "ipython3",
            "version": "3.12.0"
        }
    },
    "nbformat": 4,
    "nbformat_minor": 0
}
