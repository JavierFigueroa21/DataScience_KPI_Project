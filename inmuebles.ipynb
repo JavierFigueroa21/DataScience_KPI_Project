{
 "cells": [
  {
   "cell_type": "code",
   "execution_count": 1,
   "id": "df80d78f-140c-4154-8b8d-396d56ebf21e",
   "metadata": {},
   "outputs": [
    {
     "name": "stdout",
     "output_type": "stream",
     "text": [
      "idhocn\n"
     ]
    }
   ],
   "source": [
    "print('idhocn')"
   ]
  },
  {
   "cell_type": "code",
   "execution_count": null,
   "id": "d44131a2-26b6-4f47-ae14-38bbf8edc864",
   "metadata": {},
   "outputs": [],
   "source": []
  }
 ],
 "metadata": {
  "kernelspec": {
   "display_name": "Python 3 (ipykernel)",
   "language": "python",
   "name": "python3"
  },
  "language_info": {
   "codemirror_mode": {
    "name": "ipython",
    "version": 3
   },
   "file_extension": ".py",
   "mimetype": "text/x-python",
   "name": "python",
   "nbconvert_exporter": "python",
   "pygments_lexer": "ipython3",
   "version": "3.12.7"
  }
 },
 "nbformat": 4,
 "nbformat_minor": 5
}
